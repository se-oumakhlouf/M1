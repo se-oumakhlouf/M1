{
 "cells": [
  {
   "cell_type": "markdown",
   "id": "civil-realtor",
   "metadata": {},
   "source": [
    "# M1 - Python TD 2\n",
    "## Chaînes de caractères, listes, dictionnaires ..."
   ]
  },
  {
   "cell_type": "markdown",
   "id": "outer-cream",
   "metadata": {},
   "source": [
    "### Exercice 1"
   ]
  },
  {
   "cell_type": "code",
   "execution_count": 65,
   "id": "excellent-unknown",
   "metadata": {},
   "outputs": [],
   "source": [
    "def is_palindrome(word : str) :\n",
    "    return word == word[::-1]"
   ]
  },
  {
   "cell_type": "code",
   "execution_count": 68,
   "id": "emotional-cabinet",
   "metadata": {},
   "outputs": [
    {
     "name": "stdout",
     "output_type": "stream",
     "text": [
      "False True\n"
     ]
    }
   ],
   "source": [
    "print(is_palindrome(\"chaine\"), is_palindrome(\"kayak\"))\n"
   ]
  },
  {
   "cell_type": "code",
   "execution_count": 220,
   "id": "korean-insight",
   "metadata": {},
   "outputs": [],
   "source": [
    "def is_pangram(word : str) :\n",
    "    return 26 == len(set([letter.lower() for letter in word if letter.isalpha()]))\n"
   ]
  },
  {
   "cell_type": "code",
   "execution_count": 221,
   "id": "collect-swaziland",
   "metadata": {},
   "outputs": [],
   "source": [
    "alphabet = \"abcdefghijklmnopqrstuvwxyz\""
   ]
  },
  {
   "cell_type": "code",
   "execution_count": 229,
   "id": "unlikely-notification",
   "metadata": {},
   "outputs": [
    {
     "name": "stdout",
     "output_type": "stream",
     "text": [
      "True\n",
      "False\n"
     ]
    }
   ],
   "source": [
    "print(is_pangram(alphabet))\n",
    "print(is_pangram(\"cfo\"))"
   ]
  },
  {
   "cell_type": "code",
   "execution_count": 230,
   "id": "unexpected-street",
   "metadata": {},
   "outputs": [
    {
     "data": {
      "text/plain": [
       "True"
      ]
     },
     "execution_count": 230,
     "metadata": {},
     "output_type": "execute_result"
    }
   ],
   "source": [
    "pangram = \"The quick brown fox jumps over the lazy dog, ou encore Portez ce vieux whisky au juge blond qui fume.\"\n",
    "is_pangram(pangram)"
   ]
  },
  {
   "cell_type": "code",
   "execution_count": 245,
   "id": "driving-native",
   "metadata": {},
   "outputs": [],
   "source": [
    "def remove_adjacent(liste : list) :\n",
    "    return [liste[i] for i in range (len(liste) - 1) if liste[i+1] != liste[i]] + liste[-1:]"
   ]
  },
  {
   "cell_type": "code",
   "execution_count": 246,
   "id": "affected-hearing",
   "metadata": {},
   "outputs": [
    {
     "data": {
      "text/plain": [
       "[1, 2, 3, 1]"
      ]
     },
     "execution_count": 246,
     "metadata": {},
     "output_type": "execute_result"
    }
   ],
   "source": [
    "remove_adjacent([1,2,2,3,3,1])"
   ]
  },
  {
   "cell_type": "code",
   "execution_count": 255,
   "id": "hydraulic-accommodation",
   "metadata": {},
   "outputs": [],
   "source": [
    "def digits_sum(nombre : int) :\n",
    "    return sum([int(digit) for digit in str(nombre)])"
   ]
  },
  {
   "cell_type": "code",
   "execution_count": 257,
   "id": "criminal-writer",
   "metadata": {},
   "outputs": [
    {
     "data": {
      "text/plain": [
       "14"
      ]
     },
     "execution_count": 257,
     "metadata": {},
     "output_type": "execute_result"
    }
   ],
   "source": [
    "digits_sum(950)"
   ]
  },
  {
   "cell_type": "code",
   "execution_count": 258,
   "id": "radio-barrel",
   "metadata": {},
   "outputs": [
    {
     "data": {
      "text/plain": [
       "7"
      ]
     },
     "execution_count": 258,
     "metadata": {},
     "output_type": "execute_result"
    }
   ],
   "source": [
    "digits_sum(133)"
   ]
  },
  {
   "cell_type": "markdown",
   "id": "hungarian-andrews",
   "metadata": {},
   "source": [
    "### Exercice 2"
   ]
  },
  {
   "cell_type": "code",
   "execution_count": 315,
   "id": "initial-cornell",
   "metadata": {},
   "outputs": [],
   "source": [
    "def isLegal(word : str) :\n",
    "    legal = \"izehsglbdo\"\n",
    "    for letter in word :\n",
    "        if letter not in legal :\n",
    "            return False\n",
    "    return True"
   ]
  },
  {
   "cell_type": "code",
   "execution_count": 319,
   "id": "enclosed-surgeon",
   "metadata": {},
   "outputs": [],
   "source": [
    "def mot_chiffre(dico):\n",
    "    f=open(dico,encoding=\"ISO-8859-1\")\n",
    "    data = f.read().split()\n",
    "    res = [word for word in data if isLegal(word)]\n",
    "    f.close()\n",
    "    return res"
   ]
  },
  {
   "cell_type": "code",
   "execution_count": 320,
   "id": "concerned-vacation",
   "metadata": {},
   "outputs": [
    {
     "data": {
      "text/plain": [
       "['beige',\n",
       " 'beiges',\n",
       " 'bel',\n",
       " 'belge',\n",
       " 'belges',\n",
       " 'belle',\n",
       " 'belles',\n",
       " 'bibi',\n",
       " 'bibis',\n",
       " 'bible',\n",
       " 'bibles',\n",
       " 'bide',\n",
       " 'bides',\n",
       " 'bielle',\n",
       " 'bielles',\n",
       " 'bigle',\n",
       " 'bigles',\n",
       " 'biglez',\n",
       " 'bigliez',\n",
       " 'bile',\n",
       " 'biles',\n",
       " 'bilez',\n",
       " 'biliez',\n",
       " 'bill',\n",
       " 'bille',\n",
       " 'billes',\n",
       " 'bills',\n",
       " 'biologie',\n",
       " 'biologies',\n",
       " 'bis',\n",
       " 'bisbille',\n",
       " 'bisbilles',\n",
       " 'bise',\n",
       " 'bises',\n",
       " 'bisez',\n",
       " 'bisiez',\n",
       " 'bisse',\n",
       " 'bisses',\n",
       " 'bissez',\n",
       " 'bissiez',\n",
       " 'bled',\n",
       " 'bleds',\n",
       " 'blesse',\n",
       " 'blesses',\n",
       " 'blessez',\n",
       " 'blessiez',\n",
       " 'bob',\n",
       " 'bobo',\n",
       " 'bobos',\n",
       " 'bobs',\n",
       " 'bobsleigh',\n",
       " 'bobsleighs',\n",
       " 'boghei',\n",
       " 'bogheis',\n",
       " 'bogie',\n",
       " 'bogies',\n",
       " 'boille',\n",
       " 'boilles',\n",
       " 'bois',\n",
       " 'boise',\n",
       " 'boises',\n",
       " 'boisez',\n",
       " 'boisiez',\n",
       " 'bol',\n",
       " 'boldo',\n",
       " 'boldos',\n",
       " 'bolide',\n",
       " 'bolides',\n",
       " 'bols',\n",
       " 'boss',\n",
       " 'bosse',\n",
       " 'bosselez',\n",
       " 'bosseliez',\n",
       " 'bosselle',\n",
       " 'bosselles',\n",
       " 'bosses',\n",
       " 'bossez',\n",
       " 'bossiez',\n",
       " 'de',\n",
       " 'des',\n",
       " 'desselle',\n",
       " 'desselles',\n",
       " 'dessellez',\n",
       " 'desselliez',\n",
       " 'dessille',\n",
       " 'dessilles',\n",
       " 'dessillez',\n",
       " 'dessilliez',\n",
       " 'dessole',\n",
       " 'dessoles',\n",
       " 'dessolez',\n",
       " 'dessoliez',\n",
       " 'dg',\n",
       " 'diesel',\n",
       " 'diesels',\n",
       " 'diode',\n",
       " 'diodes',\n",
       " 'dis',\n",
       " 'dise',\n",
       " 'dises',\n",
       " 'disiez',\n",
       " 'disse',\n",
       " 'disses',\n",
       " 'dissiez',\n",
       " 'dl',\n",
       " 'do',\n",
       " 'dodo',\n",
       " 'dodos',\n",
       " 'doge',\n",
       " 'doges',\n",
       " 'dois',\n",
       " 'dol',\n",
       " 'dole',\n",
       " 'doles',\n",
       " 'dolez',\n",
       " 'doliez',\n",
       " 'dols',\n",
       " 'dos',\n",
       " 'dose',\n",
       " 'doses',\n",
       " 'dosez',\n",
       " 'dosiez',\n",
       " 'dosse',\n",
       " 'dosses',\n",
       " 'ego',\n",
       " 'eh',\n",
       " 'elle',\n",
       " 'elles',\n",
       " 'es',\n",
       " 'esse',\n",
       " 'esses',\n",
       " 'gel',\n",
       " 'gelez',\n",
       " 'geliez',\n",
       " 'gels',\n",
       " 'gesse',\n",
       " 'gesses',\n",
       " 'ghilde',\n",
       " 'ghildes',\n",
       " 'giboie',\n",
       " 'giboies',\n",
       " 'gigolo',\n",
       " 'gigolos',\n",
       " 'gilde',\n",
       " 'gildes',\n",
       " 'gille',\n",
       " 'gilles',\n",
       " 'gis',\n",
       " 'gisez',\n",
       " 'gisiez',\n",
       " 'glisse',\n",
       " 'glisses',\n",
       " 'glissez',\n",
       " 'glissiez',\n",
       " 'globe',\n",
       " 'globes',\n",
       " 'glose',\n",
       " 'gloses',\n",
       " 'glosez',\n",
       " 'glosiez',\n",
       " 'go',\n",
       " 'gobe',\n",
       " 'gobes',\n",
       " 'gobez',\n",
       " 'gobie',\n",
       " 'gobies',\n",
       " 'gobiez',\n",
       " 'gode',\n",
       " 'godes',\n",
       " 'godez',\n",
       " 'godiez',\n",
       " 'godille',\n",
       " 'godilles',\n",
       " 'godillez',\n",
       " 'godilliez',\n",
       " 'gogo',\n",
       " 'gogos',\n",
       " 'gosse',\n",
       " 'gosses',\n",
       " 'hello',\n",
       " 'hi',\n",
       " 'hie',\n",
       " 'hies',\n",
       " 'hisse',\n",
       " 'hisses',\n",
       " 'hissez',\n",
       " 'hissiez',\n",
       " 'ho',\n",
       " 'hobbies',\n",
       " 'holoside',\n",
       " 'holosides',\n",
       " 'ibis',\n",
       " 'ide',\n",
       " 'ides',\n",
       " 'idole',\n",
       " 'idoles',\n",
       " 'igloo',\n",
       " 'igloos',\n",
       " 'il',\n",
       " 'illisible',\n",
       " 'illisibles',\n",
       " 'ils',\n",
       " 'iode',\n",
       " 'iodes',\n",
       " 'iodez',\n",
       " 'iodiez',\n",
       " 'iodle',\n",
       " 'iodles',\n",
       " 'iodlez',\n",
       " 'iodliez',\n",
       " 'isoglosse',\n",
       " 'isoglosses',\n",
       " 'isole',\n",
       " 'isoles',\n",
       " 'isolez',\n",
       " 'isoliez',\n",
       " 'le',\n",
       " 'lebel',\n",
       " 'lebels',\n",
       " 'legs',\n",
       " 'lei',\n",
       " 'les',\n",
       " 'li',\n",
       " 'libelle',\n",
       " 'libelles',\n",
       " 'libellez',\n",
       " 'libelliez',\n",
       " 'libido',\n",
       " 'libidos',\n",
       " 'lido',\n",
       " 'lidos',\n",
       " 'lie',\n",
       " 'lied',\n",
       " 'lieds',\n",
       " 'lies',\n",
       " 'liesse',\n",
       " 'liesses',\n",
       " 'liez',\n",
       " 'lige',\n",
       " 'liges',\n",
       " 'ligie',\n",
       " 'ligies',\n",
       " 'liiez',\n",
       " 'lis',\n",
       " 'lise',\n",
       " 'lises',\n",
       " 'lisez',\n",
       " 'lisible',\n",
       " 'lisibles',\n",
       " 'lisiez',\n",
       " 'lisse',\n",
       " 'lisses',\n",
       " 'lissez',\n",
       " 'lissiez',\n",
       " 'lob',\n",
       " 'lobbies',\n",
       " 'lobe',\n",
       " 'lobes',\n",
       " 'lobez',\n",
       " 'lobiez',\n",
       " 'lobs',\n",
       " 'lods',\n",
       " 'loess',\n",
       " 'loge',\n",
       " 'loges',\n",
       " 'logez',\n",
       " 'logiez',\n",
       " 'logis',\n",
       " 'logo',\n",
       " 'logos',\n",
       " 'loi',\n",
       " 'lois',\n",
       " 'loisible',\n",
       " 'loisibles',\n",
       " 'lolo',\n",
       " 'lolos',\n",
       " 'obel',\n",
       " 'obels',\n",
       " 'oblige',\n",
       " 'obliges',\n",
       " 'obligez',\n",
       " 'obligiez',\n",
       " 'obole',\n",
       " 'oboles',\n",
       " 'ode',\n",
       " 'odes',\n",
       " 'oeil',\n",
       " 'oh',\n",
       " 'oie',\n",
       " 'oies',\n",
       " 'oille',\n",
       " 'oilles',\n",
       " 'ois',\n",
       " 'oiselez',\n",
       " 'oiseliez',\n",
       " 'oiselle',\n",
       " 'oiselles',\n",
       " 'os',\n",
       " 'ose',\n",
       " 'oseille',\n",
       " 'oseilles',\n",
       " 'oses',\n",
       " 'osez',\n",
       " 'oside',\n",
       " 'osides',\n",
       " 'osiez',\n",
       " 'se',\n",
       " 'seigle',\n",
       " 'seigles',\n",
       " 'seille',\n",
       " 'seilles',\n",
       " 'seize',\n",
       " 'sel',\n",
       " 'selle',\n",
       " 'selles',\n",
       " 'sellez',\n",
       " 'selliez',\n",
       " 'sels',\n",
       " 'ses',\n",
       " 'sessile',\n",
       " 'sessiles',\n",
       " 'si',\n",
       " 'sied',\n",
       " 'sigle',\n",
       " 'sigles',\n",
       " 'sil',\n",
       " 'silo',\n",
       " 'silos',\n",
       " 'sils',\n",
       " 'sis',\n",
       " 'sise',\n",
       " 'sises',\n",
       " 'soi',\n",
       " 'soie',\n",
       " 'soies',\n",
       " 'sois',\n",
       " 'sol',\n",
       " 'solde',\n",
       " 'soldes',\n",
       " 'soldez',\n",
       " 'soldiez',\n",
       " 'sole',\n",
       " 'soleil',\n",
       " 'soleils',\n",
       " 'soles',\n",
       " 'solide',\n",
       " 'solides',\n",
       " 'solo',\n",
       " 'solos',\n",
       " 'sols',\n",
       " 'sosie',\n",
       " 'sosies',\n",
       " 'zellige',\n",
       " 'zelliges',\n",
       " 'zibe',\n",
       " 'zibes',\n",
       " 'zibez',\n",
       " 'zibiez',\n",
       " 'zig',\n",
       " 'zigs',\n",
       " 'zizi',\n",
       " 'zizis',\n",
       " 'zoo',\n",
       " 'zoologie',\n",
       " 'zoologies',\n",
       " 'zoos',\n",
       " 'zozo',\n",
       " 'zozos']"
      ]
     },
     "execution_count": 320,
     "metadata": {},
     "output_type": "execute_result"
    }
   ],
   "source": [
    "dico = \"liste.de.mots.francais.frgut.txt\"\n",
    "mot_chiffre(dico)"
   ]
  },
  {
   "cell_type": "code",
   "execution_count": 372,
   "id": "disciplinary-penetration",
   "metadata": {},
   "outputs": [],
   "source": [
    "def inChain(chain : str, word : str) :\n",
    "    temp = list(chain)\n",
    "    for letter in word :\n",
    "        if letter not in temp :\n",
    "            return False\n",
    "        temp.remove(letter)\n",
    "    return True\n",
    "\n",
    "\n",
    "def lookup(chain : str) :\n",
    "    f=open(\"liste.de.mots.francais.frgut.txt\", encoding=\"ISO-8859-1\")\n",
    "    data = f.read().split()\n",
    "    allWords = [word for word in data if inChain(chain, word.upper())]\n",
    "    f.close()\n",
    "    allWords.sort(key=len, reverse=True)\n",
    "    lenMax = len(allWords[0])\n",
    "    res = [word for word in allWords if len(word) == lenMax]\n",
    "    return res"
   ]
  },
  {
   "cell_type": "code",
   "execution_count": 373,
   "id": "robust-switzerland",
   "metadata": {},
   "outputs": [
    {
     "data": {
      "text/plain": [
       "['dartres', 'retards', 'steward']"
      ]
     },
     "execution_count": 373,
     "metadata": {},
     "output_type": "execute_result"
    }
   ],
   "source": [
    "lookup('XWRDYTRERASZ')"
   ]
  },
  {
   "cell_type": "code",
   "execution_count": null,
   "id": "manual-glucose",
   "metadata": {},
   "outputs": [],
   "source": []
  },
  {
   "cell_type": "code",
   "execution_count": null,
   "id": "driving-muslim",
   "metadata": {},
   "outputs": [],
   "source": []
  }
 ],
 "metadata": {
  "kernelspec": {
   "display_name": "Python 3",
   "language": "python",
   "name": "python3"
  },
  "language_info": {
   "codemirror_mode": {
    "name": "ipython",
    "version": 3
   },
   "file_extension": ".py",
   "mimetype": "text/x-python",
   "name": "python",
   "nbconvert_exporter": "python",
   "pygments_lexer": "ipython3",
   "version": "3.9.2"
  }
 },
 "nbformat": 4,
 "nbformat_minor": 5
}
