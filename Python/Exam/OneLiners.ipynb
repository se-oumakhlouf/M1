{
 "cells": [
  {
   "cell_type": "code",
   "execution_count": 51,
   "id": "94c45cdf",
   "metadata": {},
   "outputs": [],
   "source": [
    "def bitsum(n):\n",
    "    return len([i for i in bin(n) if i == \"1\"])\n",
    "    # return bin(n).count(\"1\") # correction"
   ]
  },
  {
   "cell_type": "code",
   "execution_count": 53,
   "id": "02979bde",
   "metadata": {},
   "outputs": [
    {
     "data": {
      "text/plain": [
       "5"
      ]
     },
     "execution_count": 53,
     "metadata": {},
     "output_type": "execute_result"
    }
   ],
   "source": [
    "bitsum(666)"
   ]
  },
  {
   "cell_type": "code",
   "execution_count": 94,
   "id": "6a7199b4",
   "metadata": {},
   "outputs": [],
   "source": [
    "def hamming(x: str, y: str):\n",
    "    return sum(bitsum(ord(a)) ^ bitsum(ord(b)) for a, b in zip(x, y))"
   ]
  },
  {
   "cell_type": "code",
   "execution_count": 95,
   "id": "901aef61",
   "metadata": {},
   "outputs": [
    {
     "data": {
      "text/plain": [
       "7"
      ]
     },
     "execution_count": 95,
     "metadata": {},
     "output_type": "execute_result"
    }
   ],
   "source": [
    "hamming('abc', 'def')"
   ]
  },
  {
   "cell_type": "code",
   "execution_count": null,
   "id": "bfa4c347",
   "metadata": {},
   "outputs": [],
   "source": []
  },
  {
   "cell_type": "code",
   "execution_count": 131,
   "id": "74bfd95f",
   "metadata": {},
   "outputs": [],
   "source": [
    "def lexlen(ll):\n",
    "    return sorted(ll, key=lambda x: (len(x), x))"
   ]
  },
  {
   "cell_type": "code",
   "execution_count": 133,
   "id": "76dfb9c4",
   "metadata": {},
   "outputs": [
    {
     "data": {
      "text/plain": [
       "['a', 'b', 'bu', 'ga', 'zo', 'bla', 'blu', 'meu', 'titi', 'toto']"
      ]
     },
     "execution_count": 133,
     "metadata": {},
     "output_type": "execute_result"
    }
   ],
   "source": [
    "ll = ['bla', 'a', 'b', 'toto', 'blu', 'ga', 'bu', 'zo', 'meu', 'titi']\n",
    "\n",
    "lexlen(ll)"
   ]
  },
  {
   "cell_type": "code",
   "execution_count": null,
   "id": "7709a845",
   "metadata": {},
   "outputs": [],
   "source": []
  },
  {
   "cell_type": "code",
   "execution_count": 143,
   "id": "e14b9ca6",
   "metadata": {},
   "outputs": [],
   "source": [
    "def count_letters_numbers(string):\n",
    "    return len([l for l in string if l.isalpha()]), len([n for n in string if n.isdigit()])"
   ]
  },
  {
   "cell_type": "code",
   "execution_count": 191,
   "id": "e84bd0b8",
   "metadata": {},
   "outputs": [
    {
     "data": {
      "text/plain": [
       "(73, 15)"
      ]
     },
     "execution_count": 191,
     "metadata": {},
     "output_type": "execute_result"
    }
   ],
   "source": [
    "f = \"1 2 3 j'irai dans les bois 4 5 6 cueillir des cerises 7 8 9 dans un panier neuf 10 11 12 elles seront toutes rouges\"\n",
    "count_letters_numbers(f)"
   ]
  },
  {
   "cell_type": "code",
   "execution_count": null,
   "id": "f1c0e396",
   "metadata": {},
   "outputs": [],
   "source": []
  },
  {
   "cell_type": "code",
   "execution_count": 186,
   "id": "190d18d3",
   "metadata": {},
   "outputs": [],
   "source": [
    "def distinct(lst):\n",
    "    return [lst[i] for i in range (len(lst)) if i == lst.index(lst[i])]"
   ]
  },
  {
   "cell_type": "code",
   "execution_count": 187,
   "id": "3ac7e151",
   "metadata": {},
   "outputs": [
    {
     "data": {
      "text/plain": [
       "[1, 2, 3, 'toto', 5, 6, 'bla', 8, 9]"
      ]
     },
     "execution_count": 187,
     "metadata": {},
     "output_type": "execute_result"
    }
   ],
   "source": [
    "ll = [1, 2, 1, 1, 3, 2, 'toto', 3, 5, 6, 5, 'toto', 6, 6, 'bla', 8, 8, 6, 'bla', 8, 9, 9, 1, 1, 2]\n",
    "distinct(ll)"
   ]
  }
 ],
 "metadata": {
  "kernelspec": {
   "display_name": "Python 3 (ipykernel)",
   "language": "python",
   "name": "python3"
  },
  "language_info": {
   "codemirror_mode": {
    "name": "ipython",
    "version": 3
   },
   "file_extension": ".py",
   "mimetype": "text/x-python",
   "name": "python",
   "nbconvert_exporter": "python",
   "pygments_lexer": "ipython3",
   "version": "3.11.2"
  }
 },
 "nbformat": 4,
 "nbformat_minor": 5
}
