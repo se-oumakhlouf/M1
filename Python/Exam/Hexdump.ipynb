{
 "cells": [
  {
   "cell_type": "code",
   "execution_count": 1,
   "id": "170724b0",
   "metadata": {},
   "outputs": [
    {
     "name": "stdout",
     "output_type": "stream",
     "text": [
      "Usage: pyhexdump <filename>\n"
     ]
    },
    {
     "ename": "SystemExit",
     "evalue": "1",
     "output_type": "error",
     "traceback": [
      "An exception has occurred, use %tb to see the full traceback.\n",
      "\u001b[0;31mSystemExit\u001b[0m\u001b[0;31m:\u001b[0m 1\n"
     ]
    },
    {
     "name": "stderr",
     "output_type": "stream",
     "text": [
      "/usr/lib/python3/dist-packages/IPython/core/interactiveshell.py:3386: UserWarning: To exit: use 'exit', 'quit', or Ctrl-D.\n",
      "  warn(\"To exit: use 'exit', 'quit', or Ctrl-D.\", stacklevel=1)\n"
     ]
    }
   ],
   "source": [
    "#!/usr/bin/env python3\n",
    "import sys\n",
    "import string\n",
    "\n",
    "def pyhexdump(filename):\n",
    "    with open(filename, \"rb\") as f:\n",
    "        addr = 0\n",
    "        while True:\n",
    "            chunk = f.read(16)\n",
    "            if not chunk:\n",
    "                break\n",
    "\n",
    "            # Hex part : deux caractères hexadécimaux par octet\n",
    "            hex_part = ' '.join(f'{b:02x}' for b in chunk)\n",
    "            hex_part = hex_part.ljust(47)  # 16 bytes * 3 (2 digits + space) - 1 space\n",
    "\n",
    "            # ASCII part : printable ou '.'\n",
    "            ascii_part = ''.join(\n",
    "                chr(b) if chr(b) in string.printable and chr(b) not in string.whitespace else '.'\n",
    "                for b in chunk\n",
    "            )\n",
    "\n",
    "            print(f'{addr:08x}  {hex_part}  |{ascii_part}|')\n",
    "            addr += 16\n",
    "\n",
    "# Point d'entrée\n",
    "if __name__ == \"__main__\":\n",
    "    if len(sys.argv) != 2:\n",
    "        print(\"Usage: pyhexdump <filename>\")\n",
    "        sys.exit(1)\n",
    "    pyhexdump(sys.argv[1])\n"
   ]
  },
  {
   "cell_type": "code",
   "execution_count": null,
   "id": "faf30be8",
   "metadata": {},
   "outputs": [],
   "source": []
  },
  {
   "cell_type": "code",
   "execution_count": null,
   "id": "bb8ec9fb",
   "metadata": {},
   "outputs": [],
   "source": []
  }
 ],
 "metadata": {
  "kernelspec": {
   "display_name": "Python 3 (ipykernel)",
   "language": "python",
   "name": "python3"
  },
  "language_info": {
   "codemirror_mode": {
    "name": "ipython",
    "version": 3
   },
   "file_extension": ".py",
   "mimetype": "text/x-python",
   "name": "python",
   "nbconvert_exporter": "python",
   "pygments_lexer": "ipython3",
   "version": "3.11.2"
  }
 },
 "nbformat": 4,
 "nbformat_minor": 5
}
