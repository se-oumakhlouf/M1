{
 "cells": [
  {
   "cell_type": "code",
   "execution_count": 1,
   "id": "3b43ebd4",
   "metadata": {},
   "outputs": [],
   "source": [
    "import os"
   ]
  },
  {
   "cell_type": "code",
   "execution_count": 16,
   "id": "f91b655c",
   "metadata": {},
   "outputs": [],
   "source": [
    "def rename(path):\n",
    "    for root, dirs, files in os.walk(path):\n",
    "        for f in files:\n",
    "            if f.lower().endswith(('.jpg', '.jpeg')):\n",
    "                new_name = f.rsplit('.', 1)[0] + '.jpg'\n",
    "                src = os.path.join(root, f)\n",
    "                dst = os.path.join(root, new_name)\n",
    "                if src != dst:\n",
    "                    if os.path.exists(dst):\n",
    "                        print(f\"Attention: le fichier {dst} existe déjà, renommage ignoré.\")\n",
    "                    else:\n",
    "                        os.rename(src, dst)\n",
    "        for d in dirs :\n",
    "            rename(os.path.join(root, d))\n",
    "        "
   ]
  },
  {
   "cell_type": "code",
   "execution_count": 17,
   "id": "79c4b303",
   "metadata": {},
   "outputs": [
    {
     "name": "stdout",
     "output_type": "stream",
     "text": [
      "Attention: le fichier Sandbox/C.jpg existe déjà, renommage ignoré.\n"
     ]
    }
   ],
   "source": [
    "rename(\"Sandbox\")"
   ]
  },
  {
   "cell_type": "code",
   "execution_count": null,
   "id": "8743435a",
   "metadata": {},
   "outputs": [],
   "source": []
  }
 ],
 "metadata": {
  "kernelspec": {
   "display_name": "Python 3 (ipykernel)",
   "language": "python",
   "name": "python3"
  },
  "language_info": {
   "codemirror_mode": {
    "name": "ipython",
    "version": 3
   },
   "file_extension": ".py",
   "mimetype": "text/x-python",
   "name": "python",
   "nbconvert_exporter": "python",
   "pygments_lexer": "ipython3",
   "version": "3.11.2"
  }
 },
 "nbformat": 4,
 "nbformat_minor": 5
}
