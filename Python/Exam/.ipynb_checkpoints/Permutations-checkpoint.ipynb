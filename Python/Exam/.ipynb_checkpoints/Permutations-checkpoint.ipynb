{
 "cells": [
  {
   "cell_type": "code",
   "execution_count": 1,
   "id": "ba3b2bd2",
   "metadata": {},
   "outputs": [],
   "source": [
    "from itertools import permutations"
   ]
  },
  {
   "cell_type": "code",
   "execution_count": 6,
   "id": "ab9ba6f6",
   "metadata": {},
   "outputs": [],
   "source": [
    "dictionnaire = open('liste.de.mots.francais.frgut.txt', encoding='latin1').readlines()"
   ]
  },
  {
   "cell_type": "code",
   "execution_count": 47,
   "id": "ec016b14",
   "metadata": {},
   "outputs": [],
   "source": [
    "def anagramme(string):\n",
    "    res = []\n",
    "    perm = []\n",
    "    for p in permutations(string):\n",
    "        perm.append(\"\".join(p))\n",
    "    for mot in dictionnaire:\n",
    "        if mot.strip() in perm:\n",
    "            res.append(mot.strip())\n",
    "    return res"
   ]
  },
  {
   "cell_type": "code",
   "execution_count": 48,
   "id": "42ec2c9b",
   "metadata": {},
   "outputs": [
    {
     "name": "stdout",
     "output_type": "stream",
     "text": [
      "ratisse restais retissa satires staries starise tarisse tersais tirasse tiseras tissera tressai triasse "
     ]
    }
   ],
   "source": [
    "for w in anagramme(\"ratisse\"): print(w, end=' ')"
   ]
  },
  {
   "cell_type": "code",
   "execution_count": null,
   "id": "0c9f1872",
   "metadata": {},
   "outputs": [],
   "source": []
  },
  {
   "cell_type": "code",
   "execution_count": null,
   "id": "38cb2a3c",
   "metadata": {},
   "outputs": [],
   "source": []
  }
 ],
 "metadata": {
  "kernelspec": {
   "display_name": "Python 3 (ipykernel)",
   "language": "python",
   "name": "python3"
  },
  "language_info": {
   "codemirror_mode": {
    "name": "ipython",
    "version": 3
   },
   "file_extension": ".py",
   "mimetype": "text/x-python",
   "name": "python",
   "nbconvert_exporter": "python",
   "pygments_lexer": "ipython3",
   "version": "3.11.2"
  }
 },
 "nbformat": 4,
 "nbformat_minor": 5
}
