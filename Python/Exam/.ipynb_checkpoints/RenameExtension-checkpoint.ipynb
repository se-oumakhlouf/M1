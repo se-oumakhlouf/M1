{
 "cells": [
  {
   "cell_type": "code",
   "execution_count": 1,
   "id": "d02c66c5",
   "metadata": {},
   "outputs": [],
   "source": [
    "import os"
   ]
  },
  {
   "cell_type": "code",
   "execution_count": 15,
   "id": "a46f931c",
   "metadata": {},
   "outputs": [],
   "source": [
    "def rename(path):\n",
    "    for root, dirs, files in os.walk(path):\n",
    "        for f in files:\n",
    "            if f.lower().endswith(('.jpg', '.jpeg')):\n",
    "                new_name = f.rsplit('.', 1)[0] + '.jpg'\n",
    "                src = os.path.join(root, f)\n",
    "                dst = os.path.join(root, new_name)\n",
    "                if src != dst:\n",
    "                    if os.path.exists(dst):\n",
    "                        print(f\"Attention: le fichier {dst} existe déjà, renommage ignoré.\")\n",
    "                    else:\n",
    "                        os.rename(src, dst)\n",
    "        for d in dirs :\n",
    "            rename(os.path.join(root, d))\n",
    "        "
   ]
  },
  {
   "cell_type": "code",
   "execution_count": 14,
   "id": "2610443d",
   "metadata": {},
   "outputs": [
    {
     "name": "stdout",
     "output_type": "stream",
     "text": [
      "Sandbox\n",
      "Sandbox/recur1\n",
      "Sandbox/recur2\n",
      "Sandbox\n",
      "Sandbox\n"
     ]
    }
   ],
   "source": [
    "rename(\"Sandbox\")"
   ]
  },
  {
   "cell_type": "code",
   "execution_count": null,
   "id": "08b46b18",
   "metadata": {},
   "outputs": [],
   "source": []
  }
 ],
 "metadata": {
  "kernelspec": {
   "display_name": "Python 3 (ipykernel)",
   "language": "python",
   "name": "python3"
  },
  "language_info": {
   "codemirror_mode": {
    "name": "ipython",
    "version": 3
   },
   "file_extension": ".py",
   "mimetype": "text/x-python",
   "name": "python",
   "nbconvert_exporter": "python",
   "pygments_lexer": "ipython3",
   "version": "3.11.2"
  }
 },
 "nbformat": 4,
 "nbformat_minor": 5
}
