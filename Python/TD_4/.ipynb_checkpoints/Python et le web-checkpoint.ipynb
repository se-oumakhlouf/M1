{
 "cells": [
  {
   "cell_type": "markdown",
   "id": "organizational-pendant",
   "metadata": {},
   "source": [
    "# Python TD 4"
   ]
  },
  {
   "cell_type": "markdown",
   "id": "behind-pattern",
   "metadata": {},
   "source": [
    "## Python et le web"
   ]
  },
  {
   "cell_type": "markdown",
   "id": "expired-repository",
   "metadata": {},
   "source": [
    "<br></br>\n",
    "## Exercice 1\n",
    "\n",
    "Écrire un script qui prend comme paramètre une url et télécharge dans le répertoire courant toutes les images contenues dans la page.\n",
    "\n",
    "On utilisera urllib.request pour récupérer le code html, une classe dérivée de html.parser pour récupérer les attributs src de toutes les balises img, et le module urllib.parse pour construire l'url de téléchargement de chaque image.\n",
    "\n",
    "Comme des images provenant de sites différents peuvent avoir le même nom, on utilisera le module time pour préfixer au nom du fichier la date et l'heure du téléchargement. Le résultat pourra ressembler à ceci :\n",
    "\n",
    "```bash\n",
    "$ dlimgs http://www-igm.univ-mlv.fr/~jyt/\n",
    "$ ls -l\n",
    "-rw-r--r-- 1 jyt adm    130 janv.  5 16:10 2014-01-05_16-10-14_barre.gif\n",
    "-rw-r--r-- 1 jyt adm   1587 janv.  5 16:10 2014-01-05_16-10-14_iuf.gif\n",
    "-rw-r--r-- 1 jyt adm   2344 janv.  5 16:10 2014-01-05_16-10-14_logoCNRS.jpg\n",
    "-rw-r--r-- 1 jyt adm   4153 janv.  5 16:10 2014-01-05_16-10-14_logoigm.gif\n",
    "-rw-r--r-- 1 jyt adm    553 janv.  5 16:10 2014-01-05_16-10-14_mail.gif\n",
    "-rw-r--r-- 1 jyt adm  13462 janv.  5 16:10 2014-01-05_16-10-14_thibon.gif\n",
    "-rw-r--r-- 1 jyt adm   4554 janv.  5 16:10 2014-01-05_16-10-14_titre-petit.jpg\n",
    "-rw-r--r-- 1 jyt adm   3196 janv.  5 16:10 2014-01-05_16-10-15_scholar_sm.gif\n",
    "```\n",
    "On pourra ensuite ajouter des options ad libitum, par exemple un répertoire de téléchargement, un préfixe autre que la date et l'heure, etc."
   ]
  },
  {
   "cell_type": "code",
   "execution_count": 70,
   "id": "daily-skirt",
   "metadata": {},
   "outputs": [
    {
     "name": "stdout",
     "output_type": "stream",
     "text": [
      "Téléchargé : 2024-10-25_15-31-11_logoigm.gif\n",
      "Téléchargé : 2024-10-25_15-31-11_titre-petit.jpg\n",
      "Téléchargé : 2024-10-25_15-31-11_barre.gif\n",
      "Téléchargé : 2024-10-25_15-31-11_logoCNRS.jpg\n",
      "Téléchargé : 2024-10-25_15-31-11_thibon.gif\n",
      "Téléchargé : 2024-10-25_15-31-11_mail.gif\n",
      "Téléchargé : 2024-10-25_15-31-11_iuf.gif\n",
      "Téléchargé : 2024-10-25_15-31-11_scholar_sm.gif\n"
     ]
    }
   ],
   "source": [
    "import os\n",
    "import time\n",
    "from html.parser import HTMLParser\n",
    "from urllib.request import urlopen, urlretrieve\n",
    "from urllib.parse import urljoin\n",
    "\n",
    "class URLLister(HTMLParser):\n",
    "    def reset(self):\n",
    "        HTMLParser.reset(self)\n",
    "        self.urls = []\n",
    "\n",
    "    def handle_starttag(self, tag, attrs):\n",
    "        src = [v for k, v in attrs if k == 'src']\n",
    "        if src:\n",
    "            self.urls.extend(src)\n",
    "\n",
    "def download_images(url):\n",
    "    try:\n",
    "        f = urlopen(url).read().decode('utf8')\n",
    "    except Exception as e:\n",
    "        print(f\"Erreur lors de l'ouverture de l'URL : {e}\")\n",
    "        return\n",
    "\n",
    "    parser = URLLister()\n",
    "    parser.feed(f)\n",
    "    parser.close()\n",
    "\n",
    "    for img_url in parser.urls:\n",
    "        \n",
    "        full_url = urljoin(url, img_url)\n",
    "\n",
    "        img_name = os.path.basename(full_url)\n",
    "        timestamp = time.strftime(\"%Y-%m-%d_%H-%M-%S\")\n",
    "        download_name = f\"{timestamp}_{img_name}\"\n",
    "\n",
    "        try:\n",
    "            urlretrieve(full_url, download_name)\n",
    "            print(f\"Téléchargé : {download_name}\")\n",
    "        except Exception as e:\n",
    "            print(f\"Erreur lors du téléchargement de {full_url} : {e}\")\n",
    "\n",
    "# Exemple d'utilisation\n",
    "url = 'http://www-igm.univ-mlv.fr/~jyt/'\n",
    "download_images(url)\n"
   ]
  },
  {
   "cell_type": "code",
   "execution_count": null,
   "id": "attached-hardwood",
   "metadata": {},
   "outputs": [],
   "source": []
  },
  {
   "cell_type": "markdown",
   "id": "dimensional-fleet",
   "metadata": {},
   "source": [
    "<br></br>\n",
    "\n",
    "## Exercice 2\n",
    "\n",
    "Lorsque les services web ont été introduits, il existait quelque part en Suède un serveur permettant aux développeurs de tester leurs clients (pour le protocole SOAP). Il renvoyait des injures aléatoires puisées dans le répertoire du capitaine Haddock (en anglais). Cette institution ayant disparu, nous avons installé (provisoirement) un service similaire sur le serveur de l'IGM, http://monge.univ-mlv.fr:8888.\n",
    "\n",
    "Pour n'utiliser que les ressources natives de Python, nous avons employé le protocole xmlrpc (qui est l'ancêtre de SOAP) de sorte que l'accès au serveur ne nécéssitera que deux ou trois lignes de Python, l'une d'entre elles consistant à importer une classe du module xmlrp.client.\n",
    "\n",
    "0) Parcourir rapidement la documentation du module xmlrpc.client.\n",
    "\n",
    "1) Le serveur accepte l'introspection. Découvrir ses méthodes, et les essayer.\n",
    "\n",
    "2) En utilisant le module xmlrpc.server, écrire un serveur identique et le tester sur \"localhost\".\n",
    "\n",
    "La documentation est ici pour le client, et là pour le serveur."
   ]
  },
  {
   "cell_type": "code",
   "execution_count": 83,
   "id": "vocational-graphics",
   "metadata": {},
   "outputs": [
    {
     "name": "stdout",
     "output_type": "stream",
     "text": [
      "ROltb24K\n",
      "['__', 'help', 'jure', 'system.listMethods', 'system.methodHelp', 'system.methodSignature', 'tous_les_jurons']\n"
     ]
    }
   ],
   "source": [
    "import xmlrpc.client\n",
    "\n",
    "proxy = xmlrpc.client.ServerProxy(\"http://monge.univ-mlv.fr:8888/\")\n",
    "methods = proxy.system.listMethods()\n",
    "dir(proxy)\n",
    "print(proxy.jure())\n",
    "print(methods)"
   ]
  },
  {
   "cell_type": "code",
   "execution_count": 99,
   "id": "global-victory",
   "metadata": {},
   "outputs": [
    {
     "ename": "gaierror",
     "evalue": "[Errno -2] Name or service not known",
     "output_type": "error",
     "traceback": [
      "\u001b[0;31m---------------------------------------------------------------------------\u001b[0m",
      "\u001b[0;31mgaierror\u001b[0m                                  Traceback (most recent call last)",
      "\u001b[0;32m<ipython-input-99-643db35665e1>\u001b[0m in \u001b[0;36m<module>\u001b[0;34m\u001b[0m\n\u001b[1;32m      1\u001b[0m \u001b[0;32mfrom\u001b[0m \u001b[0mxmlrpc\u001b[0m\u001b[0;34m.\u001b[0m\u001b[0mserver\u001b[0m \u001b[0;32mimport\u001b[0m \u001b[0mSimpleXMLRPCServer\u001b[0m\u001b[0;34m\u001b[0m\u001b[0;34m\u001b[0m\u001b[0m\n\u001b[1;32m      2\u001b[0m \u001b[0;34m\u001b[0m\u001b[0m\n\u001b[0;32m----> 3\u001b[0;31m \u001b[0;32mwith\u001b[0m \u001b[0mSimpleXMLRPCServer\u001b[0m\u001b[0;34m(\u001b[0m\u001b[0;34m(\u001b[0m\u001b[0;34m'http://monge.univ-mlv.fr:8888'\u001b[0m\u001b[0;34m,\u001b[0m \u001b[0;36m8888\u001b[0m\u001b[0;34m)\u001b[0m\u001b[0;34m)\u001b[0m \u001b[0;32mas\u001b[0m \u001b[0mserver\u001b[0m\u001b[0;34m:\u001b[0m\u001b[0;34m\u001b[0m\u001b[0;34m\u001b[0m\u001b[0m\n\u001b[0m\u001b[1;32m      4\u001b[0m \u001b[0;34m\u001b[0m\u001b[0m\n\u001b[1;32m      5\u001b[0m     \u001b[0;31m# Register a function under a different name\u001b[0m\u001b[0;34m\u001b[0m\u001b[0;34m\u001b[0m\u001b[0;34m\u001b[0m\u001b[0m\n",
      "\u001b[0;32m/usr/lib/python3.9/xmlrpc/server.py\u001b[0m in \u001b[0;36m__init__\u001b[0;34m(self, addr, requestHandler, logRequests, allow_none, encoding, bind_and_activate, use_builtin_types)\u001b[0m\n\u001b[1;32m    603\u001b[0m \u001b[0;34m\u001b[0m\u001b[0m\n\u001b[1;32m    604\u001b[0m         \u001b[0mSimpleXMLRPCDispatcher\u001b[0m\u001b[0;34m.\u001b[0m\u001b[0m__init__\u001b[0m\u001b[0;34m(\u001b[0m\u001b[0mself\u001b[0m\u001b[0;34m,\u001b[0m \u001b[0mallow_none\u001b[0m\u001b[0;34m,\u001b[0m \u001b[0mencoding\u001b[0m\u001b[0;34m,\u001b[0m \u001b[0muse_builtin_types\u001b[0m\u001b[0;34m)\u001b[0m\u001b[0;34m\u001b[0m\u001b[0;34m\u001b[0m\u001b[0m\n\u001b[0;32m--> 605\u001b[0;31m         \u001b[0msocketserver\u001b[0m\u001b[0;34m.\u001b[0m\u001b[0mTCPServer\u001b[0m\u001b[0;34m.\u001b[0m\u001b[0m__init__\u001b[0m\u001b[0;34m(\u001b[0m\u001b[0mself\u001b[0m\u001b[0;34m,\u001b[0m \u001b[0maddr\u001b[0m\u001b[0;34m,\u001b[0m \u001b[0mrequestHandler\u001b[0m\u001b[0;34m,\u001b[0m \u001b[0mbind_and_activate\u001b[0m\u001b[0;34m)\u001b[0m\u001b[0;34m\u001b[0m\u001b[0;34m\u001b[0m\u001b[0m\n\u001b[0m\u001b[1;32m    606\u001b[0m \u001b[0;34m\u001b[0m\u001b[0m\n\u001b[1;32m    607\u001b[0m \u001b[0;34m\u001b[0m\u001b[0m\n",
      "\u001b[0;32m/usr/lib/python3.9/socketserver.py\u001b[0m in \u001b[0;36m__init__\u001b[0;34m(self, server_address, RequestHandlerClass, bind_and_activate)\u001b[0m\n\u001b[1;32m    450\u001b[0m         \u001b[0;32mif\u001b[0m \u001b[0mbind_and_activate\u001b[0m\u001b[0;34m:\u001b[0m\u001b[0;34m\u001b[0m\u001b[0;34m\u001b[0m\u001b[0m\n\u001b[1;32m    451\u001b[0m             \u001b[0;32mtry\u001b[0m\u001b[0;34m:\u001b[0m\u001b[0;34m\u001b[0m\u001b[0;34m\u001b[0m\u001b[0m\n\u001b[0;32m--> 452\u001b[0;31m                 \u001b[0mself\u001b[0m\u001b[0;34m.\u001b[0m\u001b[0mserver_bind\u001b[0m\u001b[0;34m(\u001b[0m\u001b[0;34m)\u001b[0m\u001b[0;34m\u001b[0m\u001b[0;34m\u001b[0m\u001b[0m\n\u001b[0m\u001b[1;32m    453\u001b[0m                 \u001b[0mself\u001b[0m\u001b[0;34m.\u001b[0m\u001b[0mserver_activate\u001b[0m\u001b[0;34m(\u001b[0m\u001b[0;34m)\u001b[0m\u001b[0;34m\u001b[0m\u001b[0;34m\u001b[0m\u001b[0m\n\u001b[1;32m    454\u001b[0m             \u001b[0;32mexcept\u001b[0m\u001b[0;34m:\u001b[0m\u001b[0;34m\u001b[0m\u001b[0;34m\u001b[0m\u001b[0m\n",
      "\u001b[0;32m/usr/lib/python3.9/socketserver.py\u001b[0m in \u001b[0;36mserver_bind\u001b[0;34m(self)\u001b[0m\n\u001b[1;32m    464\u001b[0m         \u001b[0;32mif\u001b[0m \u001b[0mself\u001b[0m\u001b[0;34m.\u001b[0m\u001b[0mallow_reuse_address\u001b[0m\u001b[0;34m:\u001b[0m\u001b[0;34m\u001b[0m\u001b[0;34m\u001b[0m\u001b[0m\n\u001b[1;32m    465\u001b[0m             \u001b[0mself\u001b[0m\u001b[0;34m.\u001b[0m\u001b[0msocket\u001b[0m\u001b[0;34m.\u001b[0m\u001b[0msetsockopt\u001b[0m\u001b[0;34m(\u001b[0m\u001b[0msocket\u001b[0m\u001b[0;34m.\u001b[0m\u001b[0mSOL_SOCKET\u001b[0m\u001b[0;34m,\u001b[0m \u001b[0msocket\u001b[0m\u001b[0;34m.\u001b[0m\u001b[0mSO_REUSEADDR\u001b[0m\u001b[0;34m,\u001b[0m \u001b[0;36m1\u001b[0m\u001b[0;34m)\u001b[0m\u001b[0;34m\u001b[0m\u001b[0;34m\u001b[0m\u001b[0m\n\u001b[0;32m--> 466\u001b[0;31m         \u001b[0mself\u001b[0m\u001b[0;34m.\u001b[0m\u001b[0msocket\u001b[0m\u001b[0;34m.\u001b[0m\u001b[0mbind\u001b[0m\u001b[0;34m(\u001b[0m\u001b[0mself\u001b[0m\u001b[0;34m.\u001b[0m\u001b[0mserver_address\u001b[0m\u001b[0;34m)\u001b[0m\u001b[0;34m\u001b[0m\u001b[0;34m\u001b[0m\u001b[0m\n\u001b[0m\u001b[1;32m    467\u001b[0m         \u001b[0mself\u001b[0m\u001b[0;34m.\u001b[0m\u001b[0mserver_address\u001b[0m \u001b[0;34m=\u001b[0m \u001b[0mself\u001b[0m\u001b[0;34m.\u001b[0m\u001b[0msocket\u001b[0m\u001b[0;34m.\u001b[0m\u001b[0mgetsockname\u001b[0m\u001b[0;34m(\u001b[0m\u001b[0;34m)\u001b[0m\u001b[0;34m\u001b[0m\u001b[0;34m\u001b[0m\u001b[0m\n\u001b[1;32m    468\u001b[0m \u001b[0;34m\u001b[0m\u001b[0m\n",
      "\u001b[0;31mgaierror\u001b[0m: [Errno -2] Name or service not known"
     ]
    }
   ],
   "source": [
    "from xmlrpc.server import SimpleXMLRPCServer\n",
    "\n",
    "\n",
    "with SimpleXMLRPCServer(('localhost', 8001)) as server:\n",
    "\n",
    "    # Register a function under a different name\n",
    "    def jure():\n",
    "        return \"Ugly\"\n",
    "    server.register_instance(jure())\n",
    "\n",
    "    print(\"Server is running on port 8000...\")\n",
    "\n",
    "    # Run the server's main loop\n",
    "    server.serve_forever()"
   ]
  },
  {
   "cell_type": "code",
   "execution_count": null,
   "id": "stunning-service",
   "metadata": {},
   "outputs": [],
   "source": [
    "import xmlrpc.client\n",
    "\n",
    "server = xmlrpc.client.ServerProxy('http://localhost:8001/')\n",
    "\n",
    "result = server.jure()\n",
    "print(result)\n"
   ]
  },
  {
   "cell_type": "code",
   "execution_count": null,
   "id": "acting-swiss",
   "metadata": {},
   "outputs": [],
   "source": []
  }
 ],
 "metadata": {
  "kernelspec": {
   "display_name": "Python 3",
   "language": "python",
   "name": "python3"
  },
  "language_info": {
   "codemirror_mode": {
    "name": "ipython",
    "version": 3
   },
   "file_extension": ".py",
   "mimetype": "text/x-python",
   "name": "python",
   "nbconvert_exporter": "python",
   "pygments_lexer": "ipython3",
   "version": "3.9.2"
  }
 },
 "nbformat": 4,
 "nbformat_minor": 5
}
