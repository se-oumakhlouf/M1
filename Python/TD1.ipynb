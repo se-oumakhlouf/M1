{
 "cells": [
  {
   "cell_type": "markdown",
   "id": "engaged-identification",
   "metadata": {},
   "source": [
    "\n",
    "# TD1 - version Python 3\n"
   ]
  },
  {
   "cell_type": "markdown",
   "id": "expensive-migration",
   "metadata": {},
   "source": [
    "### Exercice 1"
   ]
  },
  {
   "cell_type": "code",
   "execution_count": 17,
   "id": "headed-determination",
   "metadata": {},
   "outputs": [],
   "source": [
    "def cadre(message : str) :\n",
    "    size = len(message) + 4\n",
    "    if (size - 4 >= 75) : return # trop long\n",
    "    print(\"*\" *  size)\n",
    "    print(\"* \" + message + \" *\")\n",
    "    print(\"*\" * size)\n",
    "        \n"
   ]
  },
  {
   "cell_type": "code",
   "execution_count": 26,
   "id": "transsexual-rubber",
   "metadata": {},
   "outputs": [
    {
     "name": "stdout",
     "output_type": "stream",
     "text": [
      "*************\n",
      "* coin coin *\n",
      "*************\n"
     ]
    }
   ],
   "source": [
    "cadre(\"coin coin\")"
   ]
  },
  {
   "cell_type": "markdown",
   "id": "important-baghdad",
   "metadata": {},
   "source": [
    "### Exercice 2"
   ]
  },
  {
   "cell_type": "code",
   "execution_count": 99,
   "id": "understood-radius",
   "metadata": {},
   "outputs": [],
   "source": [
    "def cadre_center(message : str) :\n",
    "    size = len(message)\n",
    "    if (size >= 75) : return # trop long\n",
    "    print(\"*\" * 79)\n",
    "    print(\"*\" + message.center(77) + \"*\")\n",
    "    print(\"*\" * 79)"
   ]
  },
  {
   "cell_type": "code",
   "execution_count": 100,
   "id": "emerging-preservation",
   "metadata": {},
   "outputs": [
    {
     "name": "stdout",
     "output_type": "stream",
     "text": [
      "*******************************************************************************\n",
      "*                                  coin coin                                  *\n",
      "*******************************************************************************\n"
     ]
    }
   ],
   "source": [
    "cadre_center(\"coin coin\")"
   ]
  },
  {
   "cell_type": "markdown",
   "id": "german-brother",
   "metadata": {},
   "source": [
    "### Exercice 3"
   ]
  },
  {
   "cell_type": "code",
   "execution_count": 74,
   "id": "incomplete-playlist",
   "metadata": {},
   "outputs": [],
   "source": [
    "def inverse(message : str) :\n",
    "    message = message.replace(\"*\", \"\").replace(\"\\n\", \"\")\n",
    "    print(message)\n",
    "    "
   ]
  },
  {
   "cell_type": "code",
   "execution_count": 75,
   "id": "several-civilization",
   "metadata": {},
   "outputs": [
    {
     "name": "stdout",
     "output_type": "stream",
     "text": [
      "*************\n",
      "* coin coin *\n",
      "*************\n"
     ]
    }
   ],
   "source": [
    "message=\"*\"*13+\"\\n* coin coin *\\n\"+\"*\"*13\n",
    "print(message)"
   ]
  },
  {
   "cell_type": "code",
   "execution_count": 76,
   "id": "executive-contrary",
   "metadata": {},
   "outputs": [
    {
     "name": "stdout",
     "output_type": "stream",
     "text": [
      " coin coin \n"
     ]
    }
   ],
   "source": [
    "inverse(message)"
   ]
  },
  {
   "cell_type": "markdown",
   "id": "altered-debate",
   "metadata": {},
   "source": [
    "### Exercice 4"
   ]
  },
  {
   "cell_type": "code",
   "execution_count": 225,
   "id": "offensive-technique",
   "metadata": {},
   "outputs": [],
   "source": [
    "def twist(chain1 : str, chain2 : str) :\n",
    "    [print(a+b, end=\"\") for (a,b) in zip(chain1, chain2)]\n",
    "    print(chain1[len(chain2):] + chain2[len(chain1):])"
   ]
  },
  {
   "cell_type": "code",
   "execution_count": 226,
   "id": "anticipated-right",
   "metadata": {},
   "outputs": [
    {
     "name": "stdout",
     "output_type": "stream",
     "text": [
      "a0b1c2d3e4f56789\n"
     ]
    }
   ],
   "source": [
    "s1=\"abcdef\"\n",
    "s2=\"0123456789\"\n",
    "twist(s1, s2)"
   ]
  },
  {
   "cell_type": "markdown",
   "id": "distinguished-object",
   "metadata": {},
   "source": [
    "### Exercice 5"
   ]
  },
  {
   "cell_type": "code",
   "execution_count": 227,
   "id": "entire-nudist",
   "metadata": {},
   "outputs": [],
   "source": [
    "def untwist(chain : str) :\n",
    "    print(\"\".join([chain[i] for i in range (0, len(chain), 2)]))\n",
    "    print(\"\".join([chain[i] for i in range (1, len(chain), 2)]))\n",
    "        "
   ]
  },
  {
   "cell_type": "code",
   "execution_count": 228,
   "id": "solar-madness",
   "metadata": {},
   "outputs": [
    {
     "name": "stdout",
     "output_type": "stream",
     "text": [
      "abcdef68\n",
      "01234579\n"
     ]
    }
   ],
   "source": [
    "untwist(\"a0b1c2d3e4f56789\")"
   ]
  },
  {
   "cell_type": "markdown",
   "id": "modern-costs",
   "metadata": {},
   "source": [
    "### Exercice 6"
   ]
  },
  {
   "cell_type": "code",
   "execution_count": 190,
   "id": "professional-orientation",
   "metadata": {},
   "outputs": [],
   "source": [
    "daltons=[\n",
    "{\"nom\":\"joe\",\"taille\":140,\"caractere\":\"teigneux\"},\n",
    "{\"nom\":\"jack\",\"taille\":155,\"caractere\":\"idiot\"},\n",
    "{\"nom\":\"william\",\"taille\":170,\"caractere\":\"stupide\"},\n",
    "{\"nom\":\"averell\",\"taille\":185,\"caractere\":\"abruti\"}\n",
    "]"
   ]
  },
  {
   "cell_type": "code",
   "execution_count": 191,
   "id": "closing-window",
   "metadata": {},
   "outputs": [
    {
     "name": "stdout",
     "output_type": "stream",
     "text": [
      "[{'nom': 'joe', 'taille': 140, 'caractere': 'teigneux'}, {'nom': 'jack', 'taille': 155, 'caractere': 'idiot'}, {'nom': 'william', 'taille': 170, 'caractere': 'stupide'}, {'nom': 'averell', 'taille': 185, 'caractere': 'abruti'}]\n"
     ]
    }
   ],
   "source": [
    "print (daltons)"
   ]
  },
  {
   "cell_type": "code",
   "execution_count": 192,
   "id": "valuable-boston",
   "metadata": {},
   "outputs": [
    {
     "name": "stdout",
     "output_type": "stream",
     "text": [
      "[{'nom': 'averell', 'taille': 185, 'caractere': 'abruti'}, {'nom': 'jack', 'taille': 155, 'caractere': 'idiot'}, {'nom': 'joe', 'taille': 140, 'caractere': 'teigneux'}, {'nom': 'william', 'taille': 170, 'caractere': 'stupide'}]\n"
     ]
    }
   ],
   "source": [
    "daltons.sort(key=lambda x:x['nom'])\n",
    "print (daltons)"
   ]
  },
  {
   "cell_type": "code",
   "execution_count": 193,
   "id": "desperate-worth",
   "metadata": {},
   "outputs": [
    {
     "name": "stdout",
     "output_type": "stream",
     "text": [
      "[{'nom': 'joe', 'taille': 140, 'caractere': 'teigneux'}, {'nom': 'jack', 'taille': 155, 'caractere': 'idiot'}, {'nom': 'william', 'taille': 170, 'caractere': 'stupide'}, {'nom': 'averell', 'taille': 185, 'caractere': 'abruti'}]\n"
     ]
    }
   ],
   "source": [
    "daltons.sort(key=lambda x:x['taille'])\n",
    "print (daltons)"
   ]
  },
  {
   "cell_type": "code",
   "execution_count": 196,
   "id": "interracial-throw",
   "metadata": {},
   "outputs": [
    {
     "data": {
      "text/plain": [
       "994024"
      ]
     },
     "execution_count": 196,
     "metadata": {},
     "output_type": "execute_result"
    }
   ],
   "source": [
    "int('f2ae8',16) # base 16"
   ]
  },
  {
   "cell_type": "code",
   "execution_count": 234,
   "id": "happy-playing",
   "metadata": {},
   "outputs": [
    {
     "data": {
      "text/plain": [
       "2466"
      ]
     },
     "execution_count": 234,
     "metadata": {},
     "output_type": "execute_result"
    }
   ],
   "source": [
    "int('100110100010',2) # base 2"
   ]
  },
  {
   "cell_type": "code",
   "execution_count": 254,
   "id": "pleased-scale",
   "metadata": {},
   "outputs": [],
   "source": [
    "def manip() : \n",
    "    f=open(\"toto\") # ouverture en lecture\n",
    "    donnees=f.read(10) # lit 10 octets\n",
    "    encore_des_donnees=f.read() # lit autant d'octets que possible (tout le fichier)\n",
    "    print(\"données :\\n\" + donnees)\n",
    "    print(\"\\nencore des données :\\n\" + encore_des_donnees)\n",
    "    f.close() # referme\n",
    "\n",
    "    ff=open(\"titi\",\"w+\") # le 2è argument est le mode, exactement comme pour la fonction C fopen\n",
    "    ff.write(\"bonjour, monde!\\n\")\n",
    "    ff.close()"
   ]
  },
  {
   "cell_type": "code",
   "execution_count": 255,
   "id": "natural-rwanda",
   "metadata": {
    "scrolled": true
   },
   "outputs": [
    {
     "name": "stdout",
     "output_type": "stream",
     "text": [
      "données :\n",
      "un \n",
      "mot\n",
      "ic\n",
      "\n",
      "encore des données :\n",
      "i\n",
      "test\n",
      "la\n",
      "\n",
      "\n"
     ]
    }
   ],
   "source": [
    "manip()"
   ]
  },
  {
   "cell_type": "code",
   "execution_count": 282,
   "id": "sustained-machine",
   "metadata": {},
   "outputs": [],
   "source": [
    "def dico(nom, *words) :\n",
    "    f=open(nom,encoding=\"ISO-8859-1\")\n",
    "    donnees=f.read()\n",
    "    [print(w in donnees) for w in words]"
   ]
  },
  {
   "cell_type": "code",
   "execution_count": 284,
   "id": "standard-richmond",
   "metadata": {},
   "outputs": [
    {
     "name": "stdout",
     "output_type": "stream",
     "text": [
      "True\n",
      "True\n",
      "True\n",
      "False\n"
     ]
    }
   ],
   "source": [
    "dico(\"liste.de.mots.francais.frgut.txt\", \"luke\", \"ton\", \"père\", \"blablalbalablabalba\")"
   ]
  },
  {
   "cell_type": "code",
   "execution_count": null,
   "id": "weekly-arlington",
   "metadata": {},
   "outputs": [],
   "source": []
  },
  {
   "cell_type": "code",
   "execution_count": null,
   "id": "improved-delaware",
   "metadata": {},
   "outputs": [],
   "source": []
  }
 ],
 "metadata": {
  "kernelspec": {
   "display_name": "Python 3",
   "language": "python",
   "name": "python3"
  },
  "language_info": {
   "codemirror_mode": {
    "name": "ipython",
    "version": 3
   },
   "file_extension": ".py",
   "mimetype": "text/x-python",
   "name": "python",
   "nbconvert_exporter": "python",
   "pygments_lexer": "ipython3",
   "version": "3.9.2"
  }
 },
 "nbformat": 4,
 "nbformat_minor": 5
}
