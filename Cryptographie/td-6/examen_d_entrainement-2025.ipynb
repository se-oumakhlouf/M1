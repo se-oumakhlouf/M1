{
 "cells": [
  {
   "cell_type": "markdown",
   "id": "1cf45cc3",
   "metadata": {},
   "source": [
    "# M1 Cryptographie - TD6 2025 : un sujet d'examen"
   ]
  },
  {
   "cell_type": "markdown",
   "id": "f443c6a6",
   "metadata": {},
   "source": [
    "## Exercice 1 - RSA\n",
    "\n",
    "1) Alice veut envoyer à Bob une clé AES $k$ de 256 bits. Pour cela, elle utilise la clé publique RSA de Bob $(n,e)$,\n",
    "où l'exposant public  $e=3$ et $n=pq$ est un entier de 1024 bits. Elle interprète $k$ comme un entier $m<2^{256}$ et envoie à Bob $c=m^e\\mod n$. Que fait Bob pour déchiffrer le message ?\n",
    "\n",
    "- Il calcule `$c^{d}$ mod n` où `d` est l'inverse de `e modulo $\\varphi(n)$`\n",
    "\n",
    "2) Eve a intercepté $c$, et elle sait qu'il chiffre une clé de 256 bits. Comment peut-elle déchiffrer le message sans connaître la clé secrète de Bob ?\n",
    "\n",
    "- m est un entier de moins de $2^{256}$ car, `k` est une clé AES de 256 bits\n",
    "- $c$ = $m^{e}$ $mod$ $n$, avec e = 3, donc le message `m` est chiffré comme la racine cubique de c\n",
    "- Puisque m est petit, lorsque Alice chiffre m en utilisant `$e = 3$`, cela produit $m^{3}$ qui est un nombre inférieur à n. Cependant, le cube de $m$ reste inférieur à $n$.\n",
    "- Eve sait que $c = m^{3} mod$ $n$, et comme $m$ est relativement petit, elle peut calculer la racine cubique de $c$ $modulo$ $n$ sans trop de difficultés\n",
    "\n",
    "3) Application numérique. On donne $p,q,n=pq, e=3$ ci dessous. Calculer $\\varphi(n)$ et l'exposant secret $d$."
   ]
  },
  {
   "cell_type": "code",
   "execution_count": 1,
   "id": "e5b07957",
   "metadata": {},
   "outputs": [
    {
     "data": {
      "text/plain": [
       "(6703903964971298549832439919371398494399015648289196972258883306903839393804366625849727104590539084052902869762853248274424599006364921094067135151341857,\n",
       " 6703903964971298549787012499102923063739759867339549021828992204361077608032486534766699776908975050355571096518577980916352359894752357074082207354585851,\n",
       " 44942328371557897693537170832581868311710983585806826126164546831514171458051454070584191780779095857043039092372484309469284320580843807657241062017943630695833916879757124993169042047914449020611288981714263675299032886538642927645525128131944922915297478949081020831028946326349204373278946808965156265307,\n",
       " 3)"
      ]
     },
     "execution_count": 1,
     "metadata": {},
     "output_type": "execute_result"
    }
   ],
   "source": [
    "p = 6703903964971298549832439919371398494399015648289196972258883306903839393804366625849727104590539084052902869762853248274424599006364921094067135151341857\n",
    "q = 6703903964971298549787012499102923063739759867339549021828992204361077608032486534766699776908975050355571096518577980916352359894752357074082207354585851\n",
    "n = p*q\n",
    "e = 3\n",
    "p,q,n,e"
   ]
  },
  {
   "cell_type": "code",
   "execution_count": 9,
   "id": "a575ee7a",
   "metadata": {},
   "outputs": [
    {
     "name": "stdout",
     "output_type": "stream",
     "text": [
      "29961552247705265129024780555054578874473989057204550750776364554342780972034302713722794520519397238028692728248322872979522880387229205104827374678629078192017324624773350249144415715728593921223848901978846391615681081081094060528243007803375615600775380316743159599866503699593535504000519106415100225067\n"
     ]
    }
   ],
   "source": [
    "from ent3 import *\n",
    "phi = (p-1)*(q-1)\n",
    "d = inversemod(e, phi)\n",
    "print(d)"
   ]
  },
  {
   "cell_type": "markdown",
   "id": "361dba38",
   "metadata": {},
   "source": [
    "4) Alice a envoyé à Bob la valeur $c$ suivante \n",
    "```\n",
    "0xa2f94378b16e47963dbd3dd29f88f66239dea4d05c6f846753777046ed8861bfec9dfd8f50ed9638e6d29b6b5ae9f06e51a1ddf40f8cc2f701e5e6431dc96e3ec38f05958174fe15eebba6bdf23b9acd946be0c61186eb756eed3cd02548000\n",
    "```\n",
    "Appliquer la méthode proposée en 2) pour retrouver $k$. \n",
    "*Indications* Le module `decimal` contient les fonctions nécessaires pour faire le calcul, cf. TD 5. La clé représente une phrase en ascii. \n",
    "\n",
    "5) Proposer une meilleure méthode pour transmettre $k$ à Bob.\n",
    "\n",
    "-  Bourrage aléatoire"
   ]
  },
  {
   "cell_type": "code",
   "execution_count": 13,
   "id": "bee67710",
   "metadata": {},
   "outputs": [],
   "source": [
    "c = 0xa2f94378b16e47963dbd3dd29f88f66239dea4d05c6f846753777046ed8861bfec9dfd8f50ed9638e6d29b6b5ae9f06e51a1ddf40f8cc2f701e5e6431dc96e3ec38f05958174fe15eebba6bdf23b9acd946be0c61186eb756eed3cd02548000\n",
    "from decimal import *\n",
    "getcontext().prec=100\n",
    "a = Decimal(c).ln()/3\n",
    "b = a.exp()\n",
    "res = b.to_integral_exact()"
   ]
  },
  {
   "cell_type": "code",
   "execution_count": 15,
   "id": "0ba299e6",
   "metadata": {},
   "outputs": [
    {
     "data": {
      "text/plain": [
       "b'Well done! How did you find it? '"
      ]
     },
     "execution_count": 15,
     "metadata": {},
     "output_type": "execute_result"
    }
   ],
   "source": [
    "import codecs\n",
    "codecs.decode(hex(int(res))[2:], 'hex')"
   ]
  },
  {
   "cell_type": "markdown",
   "id": "5ab21d53",
   "metadata": {},
   "source": [
    "## Exercice 2 - Vigenère sur des octets\n",
    "\n",
    "\n",
    "1) Écrire une fonction `rxor(a,k)` qui effecture le ou exclusif d'un objet de type `bytes` avec une clé $k$ de $m$ octets répétée périodiquement. Par exemple\n",
    "```\n",
    ">>> rxor(b'\\x00\\x20'*30, b'abracadabra')\n",
    "b'aBrAcAdAbRaAbRaCaDaBrAaBrAcAdAbRaAbRaCaDaBrAaBrAcAdAbRaAbRaC'\n",
    "```\n",
    "2) Écrire une fonction `ic(w)` qui calcule l'indice de coincidence d'une chaîne de caractères ou d'octets $w$.\n",
    "On rappelle que $i_c(w)=\\sum_x\\frac{n_x(n_x-1)}{n(n-1)}$ est la probabilité pour que deux caractères de $w$ pris au hasard à des positions différentes soient identiques.\n",
    "\n",
    "3) Testez la (plusieurs fois) sur 1024 octets aléatoires lus dans le pseudo-périphérique `/dev/urandom`. Quelles valeurs obtenez vous ? Quelle est sa valeur théorique sur une longue suite d'octets aléatoires ?\n",
    "\n",
    "4) Le cryptogramme suivant (encodé en base64) a été chiffré par un Vigenère sur les octets. Décodez le base 64, et utilisez l'indice de coincidence pour déterminer la longueur probable de la clé.\n",
    "```\n",
    "b'Ay4gIWkzJD8iOic7KiojMnlyiuNlIaPVyywtMSI0J3ItJjZtAzQnMW4hKGwFICY1ICMiMH5pLyBt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\\nODc6YyYoYSc3OSIsPyR1NixjJiw1PTM7JjZj\\n'\n",
    "```\n",
    "5) Sachant que dans un texte assez long, en français  et codé en utf8, le caractère le plus fréquent est l'espace, de code 32, retrouvez la clé et déchiffrez le message. \n"
   ]
  },
  {
   "cell_type": "code",
   "execution_count": 19,
   "id": "3f0e8f12",
   "metadata": {},
   "outputs": [],
   "source": [
    "def rxor(buf, k):\n",
    "    return bytes([buf[i]^k[i%len(k)] for i in range(len(buf))])"
   ]
  },
  {
   "cell_type": "code",
   "execution_count": 20,
   "id": "dac9d3f1",
   "metadata": {},
   "outputs": [
    {
     "data": {
      "text/plain": [
       "b'#- #- #- #- #- #- #- #-'"
      ]
     },
     "execution_count": 20,
     "metadata": {},
     "output_type": "execute_result"
    }
   ],
   "source": [
    "rxor(b'AAAAAAAAAAAAAAAAAAAAAAA', b'bla')"
   ]
  },
  {
   "cell_type": "code",
   "execution_count": 24,
   "id": "1360eede",
   "metadata": {},
   "outputs": [],
   "source": [
    "def stats(w):\n",
    "    return {x:w.count(x) for x in set(w)}\n",
    "\n",
    "def ic(w):\n",
    "    d = stats(w)\n",
    "    n = float(sum([d[x] for x in d]))\n",
    "    return sum(d[x] * (d[x]-1) for x in d) / (n*(n-1))"
   ]
  },
  {
   "cell_type": "code",
   "execution_count": 25,
   "id": "dfc817b2",
   "metadata": {},
   "outputs": [
    {
     "data": {
      "text/plain": [
       "0.07857142857142857"
      ]
     },
     "execution_count": 25,
     "metadata": {},
     "output_type": "execute_result"
    }
   ],
   "source": [
    "ic('Le cheval de mon cousin ne mange du foin que le dimanche')"
   ]
  },
  {
   "cell_type": "code",
   "execution_count": 27,
   "id": "ffc320b6",
   "metadata": {},
   "outputs": [
    {
     "name": "stdout",
     "output_type": "stream",
     "text": [
      "0.003803152492668622 0.00395588954056696 0.0037687866568914957 0.0037573313782991204 0.003953980327468231 0.003938706622678397 0.003787878787878788 0.003864247311827957 0.0040036198680351905 0.0037649682306940373 0.003915796065493646 0.00395588954056696 0.003803152492668622 0.0039444342619745845 0.00417735826001955 \n",
      "Valeur théorique si tous les caractères sont équiprobables : 0.00390625\n"
     ]
    }
   ],
   "source": [
    "for i in range(15):\n",
    "    s = open('/dev/urandom', 'rb').read(1024)\n",
    "    print(ic(s), end=' ')\n",
    "print()\n",
    "print(f\"Valeur théorique si tous les caractères sont équiprobables : {1/256}\")"
   ]
  },
  {
   "cell_type": "code",
   "execution_count": 30,
   "id": "d9e87c22",
   "metadata": {},
   "outputs": [
    {
     "name": "stdout",
     "output_type": "stream",
     "text": [
      "1   0.022846441947565542\n",
      "2   0.023182713267272517\n",
      "3   0.02265759572686041\n",
      "4   0.02353999339474812\n",
      "5   0.023758453894810568\n",
      "6   0.023516379173919924\n",
      "7   0.06908818172077574\n",
      "8   0.02376728337698178\n",
      "9   0.020600645321419708\n",
      "10   0.026764951077179588\n",
      "11   0.02416071900607983\n",
      "12   0.02304322986097886\n",
      "13   0.02246858832224686\n",
      "14   0.06793945648434813\n",
      "15   0.02560819462227913\n",
      "16   0.02670856245090338\n",
      "17   0.022222222222222223\n",
      "18   0.022503916820965673\n",
      "19   0.02307206068268015\n",
      "20   0.027332040204549463\n",
      "21   0.056105610561056105\n",
      "22   0.020618556701030927\n",
      "23   0.022674146797568958\n",
      "24   0.020684371807967315\n",
      "25   0.026265389876880985\n",
      "26   0.022039377020276227\n",
      "27   0.023734177215189875\n",
      "28   0.07074504442925496\n",
      "29   0.023694927804516847\n"
     ]
    }
   ],
   "source": [
    "x = b'Ay4gIWkzJD8iOic7KiojMnlyiuNlIaPVyywtMSI0J3ItJjZtAzQnMW4hKGwFICY1ICMiMH5pLyBt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\\nODc6YyYoYSc3OSIsPyR1NixjJiw1PTM7JjZj\\n'\n",
    "\n",
    "y = codecs.decode(x, 'base64)')\n",
    "for k in range(1, 30):\n",
    "    print(k, ' ', ic(y[::k]))\n",
    "    \n",
    "# très probablement 7 ou 28"
   ]
  },
  {
   "cell_type": "code",
   "execution_count": 36,
   "id": "d8628efd",
   "metadata": {},
   "outputs": [
    {
     "data": {
      "text/plain": [
       "['M', 'A', 'U', 'R', 'I', 'C', 'E']"
      ]
     },
     "execution_count": 36,
     "metadata": {},
     "output_type": "execute_result"
    }
   ],
   "source": [
    "def most_freq(d):\n",
    "    dd = list(d.items())\n",
    "    dd.sort(reverse=True,key=lambda x: x[1])\n",
    "    return dd[0][0]\n",
    "\n",
    "[chr(32^most_freq(stats(y[i::7]))) for i in range(7)] # clé de taille 7"
   ]
  },
  {
   "cell_type": "code",
   "execution_count": 37,
   "id": "8dcd4f00",
   "metadata": {},
   "outputs": [
    {
     "name": "stdout",
     "output_type": "stream",
     "text": [
      "Nous parcourions, à l’entour des Baux-de-Provence, le pays baussenc où de tout temps se sont succédé les poètes occitans. En quête d’un mas, tombât-il en ruine, qui convînt à nos ressources pécuniaires, nous nous étions assuré l’aide d’un autochtone fringant, excellant, selon les ouï-dire et autres on-dit, aux affaires extravagantes, tels le drainage des résurgences dans les zones aquifères et l’asepsie des entreprises séricicoles. Nous croyions en l’effet convaincant de son esbroufe et de son bagou pour le cas où nous louerions un gîte et conclurions un bail emphytéotique.\n",
      "Le quidam nous mena, de cimes en thalwegs, jusque dans un vallonnement, au diable vauvert, où naguère il avait chassé à vau-vent, et où croissaient yeuses, myrtes, cytises, et des cistes agrippés au roc schisteux, et même un marronnier d’Inde aux thyrses violacés ou amarante.\n",
      "Un bâtiment décrépi s’élevait sur un terre-plein jonché de tuileaux rose pâle et de faîtières ébréchées. Une vieille catarrheuse, sans appas mais non sans acné, portant besicles, sarrau dégrafé et socques cloutés, entrebâilla l’huis et nous invita, d’un sourire auquel manquaient trois dents, à pénétrer dans une salle tout abîmée communiquant de plain-pied avec des absidioles décorées d’haltères noirs, pendus là comme des ex-voto.\n",
      "Dans l'office contiguë, la malpeignée nourrissait une chèvre bréhaigne, deux agneaux nouveau-nés couchés sur des bat-flanc, un jars, un verrat et quelques canards d'Inde.\n",
      "\n",
      "- Cette métairie, nous expliqua-t-elle d'une voix tout heureuse, date des époques mêmes des schismes ariens.  Je la tiens de feu ma trisaïeule la diaconesse,  qui s'en était arrogé les droits en avance d'hoirie.  Je me suis constitué une retraite par la cession sous seing privé de la nue-propriété: un bailleur de fonds, ancien quincaillier du bailliage, est depuis quelque temps mon débirentier.\n",
      "- Au temps pour moi, dit notre gardian, les yeux dessillés sur-le-champ.\n",
      "\n",
      "Contrecarrés par le plus de contretemps et contrordres possible, nous quittâmes ce repaire de cathares.\n"
     ]
    }
   ],
   "source": [
    "k = bytes(''.join(_), encoding='utf8')\n",
    "print(rxor(y,k).decode('utf8'))"
   ]
  },
  {
   "cell_type": "markdown",
   "id": "559b0ab5",
   "metadata": {},
   "source": [
    "## Exercice 3\n",
    "\n",
    "\n",
    "On se propose d'utiliser le nombre premier $p = 10007$ et l'élément primitif $g = 10$ pour\n",
    "appliquer le protocole de Diffie-Hellman.\n",
    "\n",
    "1. Vérifier que $p$ est un nombre premier sûr et que $g$ est bien un générateur de $(\\mathbb{Z}/p\\mathbb{Z})^\\times$. \n",
    "\n",
    "2. Quelles sont les étapes du protocole entre Alice et Bob si ils ont respectivement tiré les entiers aléatoires \n",
    "$a = 4096$ et $b = 8192$ ?\n",
    "Quelle sera la clef de session ?\n",
    "\n",
    "3. Un espion capture la valeur $y=2024$ pour $10^x\\mod p$ avec $x$ inconnu. Combien existe-t-il de tels $x$ ?\n",
    "Pourquoi ? Combien de valeurs devez vous essayer pour trouver $x$ ? Trouvez le.\n",
    "\n",
    "4. Même question, mais cette fois on cherche $x$ tel que $2^x \\mod p = 2024$.       \n",
    "\n",
    "On utilise maintenant les paramètres $(g, p) = (10, 10007)$ pour un système ElGamal, avec la clef privée\n",
    "$x = 666$.\n",
    "\n",
    "5. Calculer la clef publique correspondante.\n",
    "\n",
    "6. Chiffrer $m=1000$ avec l'entier aléatoire $k=997$. On note $c=(c_1,c_2)$ le cryptogramme obtenu. \n",
    "\n",
    "7. Effectuer le déchiffrement de $c$ et vérifier qu'il coincide bien avec $m$.\n"
   ]
  },
  {
   "cell_type": "markdown",
   "id": "a07a4b83",
   "metadata": {},
   "source": [
    "1. Un nombre premier sûr est un nombre premier $p$ tel que $p = 2q + 1$ où $q$ est aussi un nombre premier\n",
    "\n",
    "    - $p = 10 007$, donc $p = 2q + 1$ -> $10 007 = 2 * 5003 + 1$\n",
    "    - donc $q = 5003$\n",
    "    - $p$ et $q$ sont premiers donc $p$ est sûr.\n",
    "    - pour vérifier que $g$ est générateur, il vérifier que :\n",
    "        - $g^{2}$ $mod$ $p$ $!= 1$\n",
    "        - $g^{q}$ $mod$ $p$ $!= 1$\n",
    "    - $g$ est bien générateur"
   ]
  },
  {
   "cell_type": "code",
   "execution_count": 45,
   "id": "4bceeb60",
   "metadata": {},
   "outputs": [
    {
     "data": {
      "text/plain": [
       "100"
      ]
     },
     "execution_count": 45,
     "metadata": {},
     "output_type": "execute_result"
    }
   ],
   "source": [
    "pow(10, 2, 10007)"
   ]
  },
  {
   "cell_type": "code",
   "execution_count": 46,
   "id": "5c36f0db",
   "metadata": {},
   "outputs": [
    {
     "data": {
      "text/plain": [
       "10006"
      ]
     },
     "execution_count": 46,
     "metadata": {},
     "output_type": "execute_result"
    }
   ],
   "source": [
    "pow(10, 5003, 10007)"
   ]
  },
  {
   "cell_type": "code",
   "execution_count": 52,
   "id": "7ece2d33",
   "metadata": {},
   "outputs": [
    {
     "name": "stdout",
     "output_type": "stream",
     "text": [
      "5173 1211\n",
      "9254 9254\n"
     ]
    }
   ],
   "source": [
    "# question 2\n",
    "p = 10007\n",
    "g = 10\n",
    "A = pow(g, 4096, p) # alice envoie sa clé publique\n",
    "B = pow(g, 8192, p) # bob envoie sa clé publique\n",
    "KA = pow(A, 8192, p) # alice calcul la clé de session K\n",
    "KB = pow(B, 4096, p) # bob calcul la clé de session K\n",
    "print(A, B)\n",
    "print(KA, KB)"
   ]
  },
  {
   "cell_type": "code",
   "execution_count": 63,
   "id": "a60623a9",
   "metadata": {},
   "outputs": [
    {
     "name": "stdout",
     "output_type": "stream",
     "text": [
      "Solution trouvée : x = 7039\n"
     ]
    }
   ],
   "source": [
    "# question 3\n",
    "# il faut résoudre 10^x mod 10007 = 2024\n",
    "# logarithme discret, consiste à trouver un x tel que g^x = y mod p, où g est la base (ici 10) et y le résultat (ici 2024)\n",
    "\n",
    "# il y a une seule solution dans l'intervalle [0, p -1]\n",
    "# on pourrait essayer toutes les valeurs entre [0, p-1], donc 10007 (force brute)\n",
    "\n",
    "\n",
    "# trouver x\n",
    "p = 10007\n",
    "y = 2024\n",
    "g = 10\n",
    "for x in range (p):\n",
    "    if pow(g, x, p) == y :\n",
    "        print(f\"Solution trouvée : x = {x}\")\n",
    "        break"
   ]
  },
  {
   "cell_type": "code",
   "execution_count": 67,
   "id": "36182215",
   "metadata": {},
   "outputs": [
    {
     "name": "stdout",
     "output_type": "stream",
     "text": [
      "Pas de solution\n"
     ]
    }
   ],
   "source": [
    "# question 4\n",
    "p = 10007\n",
    "y = 2024\n",
    "g = 2\n",
    "for x in range(p):\n",
    "    if pow(g, x, p) == y:\n",
    "        print(f\"Solution trouvée : x = {x}\")\n",
    "        break\n",
    "print(\"Pas de solution\")\n"
   ]
  },
  {
   "cell_type": "code",
   "execution_count": 70,
   "id": "9e56e304",
   "metadata": {},
   "outputs": [
    {
     "name": "stdout",
     "output_type": "stream",
     "text": [
      "Clé publique correspondante : y = 1461\n"
     ]
    }
   ],
   "source": [
    "# Question 5\n",
    "g = 10\n",
    "p = 10007\n",
    "x = 666\n",
    "y = pow(g, x, p)\n",
    "print(f\"Clé publique correspondante : y = {y}\")"
   ]
  },
  {
   "cell_type": "code",
   "execution_count": 73,
   "id": "4e40b68f",
   "metadata": {},
   "outputs": [
    {
     "name": "stdout",
     "output_type": "stream",
     "text": [
      "(6149, 6199)\n"
     ]
    }
   ],
   "source": [
    "# Question 6 \n",
    "m = 1000\n",
    "k = 997\n",
    "c1 = pow(g, k, p)\n",
    "c2 = m * pow(y, k, p) % p\n",
    "c = (c1, c2)\n",
    "print(c)"
   ]
  },
  {
   "cell_type": "code",
   "execution_count": 74,
   "id": "6ec0ecef",
   "metadata": {},
   "outputs": [
    {
     "data": {
      "text/plain": [
       "1000"
      ]
     },
     "execution_count": 74,
     "metadata": {},
     "output_type": "execute_result"
    }
   ],
   "source": [
    "# Question 7\n",
    "\n",
    "c2 * pow(c1, -x, p) % p"
   ]
  },
  {
   "cell_type": "code",
   "execution_count": null,
   "id": "4b794943",
   "metadata": {},
   "outputs": [],
   "source": []
  }
 ],
 "metadata": {
  "kernelspec": {
   "display_name": "Python 3 (ipykernel)",
   "language": "python",
   "name": "python3"
  },
  "language_info": {
   "codemirror_mode": {
    "name": "ipython",
    "version": 3
   },
   "file_extension": ".py",
   "mimetype": "text/x-python",
   "name": "python",
   "nbconvert_exporter": "python",
   "pygments_lexer": "ipython3",
   "version": "3.11.2"
  }
 },
 "nbformat": 4,
 "nbformat_minor": 5
}
