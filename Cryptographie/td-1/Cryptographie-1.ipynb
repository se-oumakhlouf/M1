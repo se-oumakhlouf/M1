{
 "cells": [
  {
   "cell_type": "markdown",
   "id": "younger-findings",
   "metadata": {},
   "source": [
    "# TD 1 Cryptographie"
   ]
  },
  {
   "cell_type": "code",
   "execution_count": 3,
   "id": "australian-yukon",
   "metadata": {},
   "outputs": [],
   "source": [
    "from string import ascii_uppercase as AA\n",
    "from string import ascii_lowercase as aa"
   ]
  },
  {
   "cell_type": "code",
   "execution_count": 4,
   "id": "vietnamese-utilization",
   "metadata": {},
   "outputs": [],
   "source": [
    "texte = \"OQFFQ CGQEFUAZ QEF FDQE RMOUXQ, XM CGQEFUAZ EGUHMZFQ QEF BXGE PURRUOUXQ\""
   ]
  },
  {
   "cell_type": "markdown",
   "id": "inside-hamilton",
   "metadata": {},
   "source": [
    "par force brute, il y a 26 possibilitées pour chaque lettre"
   ]
  },
  {
   "cell_type": "code",
   "execution_count": 6,
   "id": "satellite-gasoline",
   "metadata": {},
   "outputs": [
    {
     "name": "stdout",
     "output_type": "stream",
     "text": [
      " 0 : oqffq cgqefuaz qef fdqe rmouxq, xm cgqefuaz eguhmzfq qef bxge purruouxq\n",
      " 1 : npeep bfpdetzy pde ecpd qlntwp, wl bfpdetzy dftglyep pde awfd otqqtntwp\n",
      " 2 : moddo aeocdsyx ocd dboc pkmsvo, vk aeocdsyx cesfkxdo ocd zvec nsppsmsvo\n",
      " 3 : lnccn zdnbcrxw nbc canb ojlrun, uj zdnbcrxw bdrejwcn nbc yudb mroorlrun\n",
      " 4 : kmbbm ycmabqwv mab bzma nikqtm, ti ycmabqwv acqdivbm mab xtca lqnnqkqtm\n",
      " 5 : jlaal xblzapvu lza aylz mhjpsl, sh xblzapvu zbpchual lza wsbz kpmmpjpsl\n",
      " 6 : ikzzk wakyzout kyz zxky lgiork, rg wakyzout yaobgtzk kyz vray jolloiork\n",
      " 7 : hjyyj vzjxynts jxy ywjx kfhnqj, qf vzjxynts xznafsyj jxy uqzx inkknhnqj\n",
      " 8 : gixxi uyiwxmsr iwx xviw jegmpi, pe uyiwxmsr wymzerxi iwx tpyw hmjjmgmpi\n",
      " 9 : fhwwh txhvwlrq hvw wuhv idfloh, od txhvwlrq vxlydqwh hvw soxv gliilfloh\n",
      "10 : egvvg swguvkqp guv vtgu hcekng, nc swguvkqp uwkxcpvg guv rnwu fkhhkekng\n",
      "11 : dfuuf rvftujpo ftu usft gbdjmf, mb rvftujpo tvjwbouf ftu qmvt ejggjdjmf\n",
      "12 : cette question est tres facile, la question suivante est plus difficile\n",
      "13 : bdssd ptdrshnm drs sqdr ezbhkd, kz ptdrshnm rthuzmsd drs oktr cheehbhkd\n",
      "14 : acrrc oscqrgml cqr rpcq dyagjc, jy oscqrgml qsgtylrc cqr njsq bgddgagjc\n",
      "15 : zbqqb nrbpqflk bpq qobp cxzfib, ix nrbpqflk prfsxkqb bpq mirp afccfzfib\n",
      "16 : yappa mqaopekj aop pnao bwyeha, hw mqaopekj oqerwjpa aop lhqo zebbeyeha\n",
      "17 : xzooz lpznodji zno omzn avxdgz, gv lpznodji npdqvioz zno kgpn ydaadxdgz\n",
      "18 : wynny koymncih ymn nlym zuwcfy, fu koymncih mocpuhny ymn jfom xczzcwcfy\n",
      "19 : vxmmx jnxlmbhg xlm mkxl ytvbex, et jnxlmbhg lnbotgmx xlm ienl wbyybvbex\n",
      "20 : uwllw imwklagf wkl ljwk xsuadw, ds imwklagf kmansflw wkl hdmk vaxxauadw\n",
      "21 : tvkkv hlvjkzfe vjk kivj wrtzcv, cr hlvjkzfe jlzmrekv vjk gclj uzwwztzcv\n",
      "22 : sujju gkuijyed uij jhui vqsybu, bq gkuijyed ikylqdju uij fbki tyvvysybu\n",
      "23 : rtiit fjthixdc thi igth uprxat, ap fjthixdc hjxkpcit thi eajh sxuuxrxat\n",
      "24 : qshhs eisghwcb sgh hfsg toqwzs, zo eisghwcb giwjobhs sgh dzig rwttwqwzs\n",
      "25 : prggr dhrfgvba rfg gerf snpvyr, yn dhrfgvba fhvinagr rfg cyhf qvssvpvyr\n"
     ]
    }
   ],
   "source": [
    "for i in range(26):\n",
    "    BB = AA[i:]+AA[:i]\n",
    "    tt = str.maketrans(BB,aa)\n",
    "    print('%2d : %s' % (i,texte.translate(tt)))"
   ]
  },
  {
   "cell_type": "code",
   "execution_count": 10,
   "id": "excited-gauge",
   "metadata": {},
   "outputs": [],
   "source": [
    "def histogramme(y):\n",
    "    stats = {c:y.count(c) for c in set(y) if c.isalpha()}\n",
    "    ll = list(stats.items())\n",
    "    ll.sort(key=lambda x:x[1],reverse=True)\n",
    "    return ll"
   ]
  },
  {
   "cell_type": "code",
   "execution_count": 11,
   "id": "imperial-prison",
   "metadata": {},
   "outputs": [
    {
     "data": {
      "text/plain": [
       "[('Q', 10),\n",
       " ('F', 8),\n",
       " ('E', 7),\n",
       " ('U', 7),\n",
       " ('X', 4),\n",
       " ('G', 4),\n",
       " ('O', 3),\n",
       " ('M', 3),\n",
       " ('R', 3),\n",
       " ('Z', 3),\n",
       " ('C', 2),\n",
       " ('A', 2),\n",
       " ('H', 1),\n",
       " ('B', 1),\n",
       " ('D', 1),\n",
       " ('P', 1)]"
      ]
     },
     "execution_count": 11,
     "metadata": {},
     "output_type": "execute_result"
    }
   ],
   "source": [
    "histogramme(texte)"
   ]
  },
  {
   "cell_type": "code",
   "execution_count": 12,
   "id": "smoking-timber",
   "metadata": {},
   "outputs": [],
   "source": [
    "def trad(msg):\n",
    "    # Si Q chiffre le e ...\n",
    "    i = AA.index(histogramme(msg)[0][0]) - aa.index('e')\n",
    "    CC = AA[i:]+AA[:i]\n",
    "    uu = str.maketrans(CC,aa)\n",
    "    return msg.translate(uu)"
   ]
  },
  {
   "cell_type": "code",
   "execution_count": 13,
   "id": "foreign-breeding",
   "metadata": {},
   "outputs": [
    {
     "data": {
      "text/plain": [
       "'cette question est tres facile, la question suivante est plus difficile'"
      ]
     },
     "execution_count": 13,
     "metadata": {},
     "output_type": "execute_result"
    }
   ],
   "source": [
    "trad(texte)"
   ]
  },
  {
   "cell_type": "markdown",
   "id": "underlying-slope",
   "metadata": {},
   "source": [
    "## Cryptage mono-alphabétique"
   ]
  },
  {
   "cell_type": "code",
   "execution_count": 251,
   "id": "generous-finish",
   "metadata": {},
   "outputs": [],
   "source": [
    "def transition(fichier):\n",
    "    xx='esaurinotlpcyzvdmhjbgqfxkw'\n",
    "    yy='YLPWKZFGMSHIBNXUDEAORJTVQC'\n",
    "    ww=str.maketrans(yy,xx)\n",
    "    res = []\n",
    "    with open(fichier, 'r') as f:\n",
    "        msg = f.read()\n",
    "        for line in msg.split('\\n'):\n",
    "            res.append(line.translate(ww))\n",
    "    return ' '.join(res)"
   ]
  },
  {
   "cell_type": "code",
   "execution_count": 252,
   "id": "willing-smile",
   "metadata": {},
   "outputs": [
    {
     "data": {
      "text/plain": [
       "\"  mere ubu bonjour, messieurs, nous vous attendons avec  impatience. asseyez-vous.  capitaine bordure bonjour, madame. mais ou est donc le pere ubu?  pere ubu me voila! me voila! sapristi, de par ma chandelle verte, je suis  pourtant assez gros.  capitaine bordure bonjour, pere ubu. asseyez-vous, mes hommes.  ils s'asseyent tous.  pere ubu ouf, un peu plus, j'enfoncais ma chaise.  capitaine bordure eh! mere ubu! que nous donnez-vous de bon aujourd'hui?  mere ubu voici le menu.  pere ubu oh! ceci m'interesse.  mere ubu soupe polonaise, cotes de rastron, veau, poulet, pate de chien,  croupion de dinde, charlotte russe...  pere ubu eh! en voila assez, je suppose. y en a-t-il encore?  mere ubu, continuant. bombe, salade, fruits, dessert, bouilli, topinambours,  choux-fleurs a la merdre.  pere ubu eh! me crois-tu empereur d'orient pour faire de telles depenses?  mere ubu ne l'ecoutez pas, il est imbecile.  pere ubu ah! je vais aiguiser mes dents contre vos mollets.  mere ubu dine plutot, pere ubu. voila de la polonaise.  pere ubu bougre, que c'est mauvais.  capitaine bordure ce n'est pas bon, en effet.  mere ubu tas d'arabes, que vous faut-il?  pere ubu, se frappant le front. oh! j'ai une idee. je vais revenir tout a  l'heure.  il s'en va.  mere ubu messieurs, nous allons gouter du veau.  capitaine bordure il est tres bon, j'ai fini.  mere ubu aux croupions, maintenant.  capitaine bordure exquis, exquis! vive la mere ubu!  tous vive la mere ubu!  pere ubu, rentrant. et vous allez bientot crier vive le pere ubu.  il tient un balai innommable a la main et le lance sur le festin.  mere ubu miserable, que fais-tu?  pere ubu goutez un peu.  plusieurs goutent et tombent empoisonnes.  pere ubu mere ubu, passe-moi les cotelettes de rastron, que je serve.  mere ubu les voici.  pere ubu a la porte tout le monde! capitaine bordure, j'ai a vous parler.  les autres eh! nous n'avons pas dine!  pere ubu comment, vous n'avez pas dine! a la porte, tout le monde! restez,  bordure.  personne ne bouge.  pere ubu vous n'etes pas partis? de par ma chandelle verte, je vais vous  assommer de cotes de rastron.  il commence a en jeter.  tous oh! aie! au secours! defendons-nous! malheur! je suis mort!  pere ubu merdre, merdre, merdre. a la porte! je fais mon effet.  tous sauve qui peut! miserable pere ubu! traitre et gueux voyou!  pere ubu ah! les voila partis. je respire, mais j'ai fort mal dine. venez,  bordure.  ils sortent avec la mere ubu.   acte i, scene iv   pere ubu, mere ubu, capitaine bordure   pere ubu eh bien, capitaine, avez-vous bien dine?  capitaine bordure fort bien, monsieur, sauf la merdre.  pere ubu eh! la merdre n'etait pas mauvaise.  mere ubu chacun son gout.  pere ubu capitaine bordure, je suis decide a vous faire duc de lithuanie.  capitaine bordure comment, je vous croyais fort gueux, pere ubu.  pere ubu dans quelques jours, si vous voulez, je regne en pologne.  capitaine bordure vous allez tuer venceslas?  pere ubu il n'est pas bete, ce bougre, il a devine.  capitaine bordure s'il s'agit de tuer venceslas, j'en suis. je suis son  mortel ennemi et je reponds de mes hommes.  pere ubu, se jetant sur lui pour l'embrasser. oh! oh! je vous aime beaucoup,  bordure.  capitaine bordure eh! vous empestez, pere ubu. vous ne vous lavez donc  jamais?  pere ubu rarement.  mere ubu jamais!  pere ubu je vais te marcher sur les pieds.  mere ubu grosse merdre!  pere ubu allez, bordure, j'en ai fini avec vous. mais par ma chandelle verte,  je jure sur la mere ubu de vous faire duc de lithuanie.  mere ubu mais...  pere ubu tais-toi, ma douce enfant...  ils sortent.   acte i, scene v   pere ubu, mere ubu, un messager   pere ubu monsieur, que voulez-vous? fichez le camp, vous me fatiguez.  le messager monsieur, vous etes appele de par le roi.  il sort.  pere ubu oh! merdre, jarnicotonbleu, de par ma chandelle verte, je suis  decouvert, je vais etre decapite! helas! helas!  mere ubu quel homme mou! et le temps presse.  pere ubu oh! j'ai une idee: je dirai que c'est la mere ubu et bordure.  mere ubu ah! gros p.u., si tu fais ca...  pere ubu eh! j'y vais de ce pas.  il sort.  mere ubu, courant apres lui. oh! pere ubu, pere ubu, je te donnerai de  l'andouille.  elle sort.  pere ubu, dans la coulisse. oh! merdre! tu en es une fiere, d'andouille.   acte i, scene vi   le palais du roi.   le roi venceslas, entoure de ses officiers; bordure; les fils du roi,  boleslas, ladislas et bougrelas; puis ubu.   pere ubu, entrant. oh! vous savez, ce n'est pas moi, c'est la mere ubu et  bordure.  le roi qu'as-tu, pere ubu?  bordure il a trop bu.  le roi comme moi ce matin.  pere ubu oui, je suis saoul, c'est parce que j'ai bu trop de vin de france.  le roi pere ubu, je tiens a recompenser tes nombreux services comme capitaine  de dragons, et je te fais aujourd'hui comte de sandomir.  pere ubu o monsieur venceslas, je ne sais comment vous remercier.  le roi ne me remercie pas, pere ubu, et trouve-toi demain matin a la grande  revue.  pere ubu j'y serai, mais acceptez, de grace, ce petit mirliton.  il presente au roi un mirliton.  le roi que veux-tu a mon age que je fasse d'un mirliton? je le donnerai a  bougrelas.  le jeune bougrelas est-il bete, ce pere ubu.  pere ubu et maintenant, je vais foutre le camp. (il tombe en se retournant.)  oh! aie! au secours! de par ma chandelle verte, je me suis rompu l'intestin  et creve la bouzine!  le roi, le relevant. pere ubu, vous estes-vous fait mal?  pere ubu oui certes, et je vais surement crever. que deviendra la mere ubu?  le roi nous pourvoirons a son entretien.  pere ubu vous avez bien de la bonte de reste.  il sort.  oui, mais, roi venceslas, tu n'en seras pas moins massacre.   acte i, scene vii   la maison d'ubu.   giron, pile, cotice, pere ubu, mere ubu, conjures et soldats, capitaine  bordure   pere ubu eh! mes bons amis, il est grand temps d'arreter le plan de la  conspiration. que chacun donne son avis. je vais d'abord donner le mien, si  vous le permettez.  capitaine bordure parlez, pere ubu.  pere ubu eh bien, mes amis, je suis d'avis d'empoisonner simplement le roi en  lui fourrant de l'arsenic dans son dejeuner. quand il voudra le brouter il  tombera mort, et ainsi je serai roi.  tous fi, le sagouin!  pere ubu eh quoi, cela ne vous plait pas? alors, que bordure donne son avis.  capitaine bordure moi, je suis d'avis de lui ficher un grand coup d'epee qui  le fendra de la tete a la ceinture.  tous oui! voila qui est noble et vaillant.  pere ubu et s'il vous donne des coups de pied? je me rappelle maintenant  qu'il a pour les revues des souliers de fer qui font tres mal. si je savais,  je filerais vous denoncer pour me tirer de cette sale affaire, et je pense  qu'il me donnerait aussi de la monnaie.  mere ubu oh! le traitre, le lache, le vilain et plat ladre.  tous conspuez le pere ub!  pere ubu he! messieurs, tenez-vous tranquilles si vous ne voulez visiter mes  poches. enfin je consens a m'exposer pour vous. de la sorte, bordure, tu te  charges de pourfendre le roi.  capitaine bordure ne vaudrait-il pas mieux nous jeter tous a la fois sur lui  en braillant et gueulant? nous aurions chance ainsi d'entrainer les troupes.  pere ubu alors, voila. je tacherai de lui marcher sur les pieds, il  regimbera, alors je lui dirai: merdre, et a ce signal vous vous jetterez sur  lui.  mere ubu oui, et des qu'il sera mort tu prendras son sceptre et sa couronne.  capitaine bordure et je courrai avec mes hommes a la poursuite de la famille  royale.  pere ubu oui, et je te recommande specialement le jeune bougrelas.  ils sortent.  pere ubu, courant apres et les faisant revenir. messieurs, nous avons oublie  une ceremonie indispensable, il faut jurer de nous escrimer vaillamment.  capitaine bordure et comment faire? nous n'avons pas de pretre.  pere ubu la mere ubu va en tenir lieu.  tous eh bien, soit.  pere ubu ainsi, vous jurez de bien tuer le roi?  tous oui, nous le jurons. vive le pere ubu!   acte ii   scene premiere   le palais du roi.   venceslas, la reine rosemonde, boleslas, ladislas et bougrelas   le roi monsieur bougrelas, vous avez ete ce matin fort impertinent avec  m. ubu, chevalier de mes ordres et comte de sandomir. c'est pourquoi je vous  defends de paraitre a ma revue.  la reine cependant, venceslas, vous n'auriez pas trop de toute votre famille  pour vous defendre.  le roi madame, je ne reviens jamais sur ce que j'ai dit. vous me fatiguez  avec vos sornettes.  le jeune bougrelas je me soumets, monsieur mon pere.  la reine enfin, sire, etes-vous toujours decide a aller a cette revue?  le roi pourquoi non, madame?  la reine mais, encore une fois, ne l'ai-je pas vu en songe vous frappant de  sa masse d'armes et vous jetant dans la vistule, et un aigle comme celui qui  figure dans les armes de pologne lui placant la couronne sur la tete?  le roi a qui?  la reine au pere ubu.  le roi quelle folie. monsieur de ubu est un fort bon gentilhomme, qui se  ferait tirer a quatre chevaux pour mon service.  la reine et bougrelas quelle erreur.  le roi taisez-vous, jeune sagouin. et vous, madame, pour vous prouver combien  je crains peu monsieur ubu, je vais aller a la revue comme je suis, sans arme  et sans epee.  la reine fatale imprudence, je ne vous reverrai pas vivant.  le roi venez, ladislas, venez, boleslas.  ils sortent. la reine et bougrelas vont a la fenetre.  la reine et bougrelas que dieu et le grand saint nicolas vous gardent.  la reine bougrelas, venez dans la chapelle avec moi prier pour votre pere et  vos freres.   acte ii, scene ii   le champ des revues.   l'armee polonaise, le roi, boleslas, ladislas, pere ubu, capitaine bordure et  ses hommes, giron, pile, cotice.   le roi noble pere ubu, venez pres de moi avec votre suite pour inspecter les  troupes.  pere ubu, aux siens. attention, vous autres. (au roi.) on y va, monsieur, on  y va.  les hommes d'ubu entourent le roi.  le roi ah! voici le regiment des gardes a cheval de dantzick. ils sont fort  beaux, ma foi.  pere ubu vous trouvez? ils me paraissent miserables. regardez celui-ci. (au  soldat.) depuis combien de temps ne t'es-tu debarbouille, ignoble drole?  le roi mais ce soldat est fort propre. qu'avez-vous donc, pere ubu?  pere ubu voila!  il lui ecrase le pied.  le roi miserable!  pere ubu merdre. a moi, mes hommes!  bordure hurrah! en avant!  tous frappent le roi, un palotin explose.  le roi oh! au secours! sainte vierge, je suis mort.  boleslas, a ladislas. qu'est cela! degainons.  pere ubu ah! j'ai la couronne! aux autres, maintenant.  capitaine bordure sus aux traitres!!!  les fils du roi s'enfuient, tous les poursuivent.   acte ii, scene iii   la reine et bougrelas   la reine enfin, je commence a me rassurer.  bougrelas vous n'avez aucun sujet de crainte.  une effroyable clameur se fait entendre au-dehors.  bougrelas ah! que vois-je? mes deux freres poursuivis par le pere ubu et ses  hommes.  la reine o mon dieu! sainte vierge, ils perdent, ils perdent du terrain!  bougrelas toute l'armee suit le pere ubu. le roi n'est plus la. horreur! au  secours!  la reine voila boleslas mort! il a recu une balle.  bougrelas eh! (ladislas se retourne.) defends-toi! hurrah, ladislas.  la reine oh! il est entoure.  bougrelas c'en est fait de lui. bordure vient de le couper en deux comme une  saucisse.  la reine ah! helas! ces furieux penetrent dans le palais, ils montent  l'escalier.  la clameur augmente.  la reine et bougrelas, a genoux. mon dieu, defendez-nous.  bougrelas oh! ce pere ubu! le coquin, le miserable, si je le tenais...   acte ii, scene iv   les memes. la porte est defoncee. le pere ubu et les forcenes penetrent.   pere ubu eh! bougrelas, que me veux-tu faire?  bougrelas vive dieu! je defendrai ma mere jusqu'a la mort! le premier qui  fait un pas est mort.  pere ubu oh! bordure, j'ai peur! laissez-moi m'en aller.  un soldat avance. rends-toi, bougrelas!  le jeune bougrelas tiens, voyou! voila ton compte!  il lui fend le crane.  la reine tiens bon, bougrelas, tiens bon!  plusieurs avancent. bougrelas, nous te promettons la vie sauve.  bougrelas chenapans, sacs a vin, sagouins payes!  il fait le moulinet avec son epee et en fait un massacre.  pere ubu oh! je vais bien en venir a bout tout de meme!  bougrelas mere, sauve-toi par l'escalier secret.  la reine et toi, mon fils, et toi?  bougrelas je te suis.  pere ubu tachez d'attraper la reine. ah! la voila partie. quant a toi,  miserable!...  il s'avance vers bougrelas.  bougrelas ah! vive dieu! voila ma vengeance!  il lui decoud la boudouille d'un terrible coup d'epee.  mere, je te suis!  il disparait par l'escalier secret.   acte ii, scene v   une caverne dans les montagnes.   le jeune bougrelas entre, suivi de rosemonde   bougrelas ici, nous serons en surete.  la reine oui, je le crois! bougrelas, soutiens-moi!  elle tombe sur la neige.  bougrelas ha! qu'as-tu, ma mere?  la reine je suis bien malade, crois-moi, bougrelas. je n'en ai plus que pour  deux heures a vivre.  bougrelas quoi! le froid t'aurait-il saisie?  la reine comment veux-tu que je resiste a tant de coups? le roi massacre,  notre famille detruite, et toi, representant de la plus noble race qui ait  jamais porte l'epee, force de t'enfuir dans les montagnes comme un  contrebandier.  bougrelas et par qui, grand dieu! par qui? un vulgaire pere ubu, aventurier  sorti on ne sait d'ou, vile crapule, vagabond honteux! et quand je pense que  mon pere l'a decore et fait comte et que le lendemain ce vilain n'a pas eu  honte de porter la main sur lui.  la reine o bougrelas! quand je me rappelle combien nous etions heureux avant  l'arrivee de ce pere ubu! mais maintenant, helas! tout est change!  bougrelas que veux-tu? attendons avec esperance et ne renoncons jamais a nos  droits.  la reine je te le souhaite, mon cher enfant, mais pour moi, je ne verrai pas  cet heureux jour.  bougrelas eh! qu'as-tu? elle palit, elle tombe, au secours! mais je suis dans  un desert! o mon dieu! son coeur ne bat plus. elle est morte! est-ce  possible? encore une victime du pere ubu! (il se cache la figure dans les  mains et pleure.) o mon dieu! qu'il est triste de se voir seul a quatorze ans  avec une vengeance terrible a poursuivre!  il tombe en proie au plus violent desespoir. pendant ce temps, les ames de  venceslas, de boleslas, de ladislas, de rosemonde entrent dans la grotte,  leurs ancetres les accompagnent et remplissent la grotte. le plus vieux  s'approche de bougrelas et le reveille doucement.  bougrelas eh! que vois-je? toute ma famille, mes ancetres... par quel  prodige?  l'ombre apprends, bougrelas, que j'ai ete pendant ma vie le seigneur mathias  de konigsberg, le premier roi et le fondateur de la maison. je te remets le  soin de notre vengeance. (il lui donne une grande epee.) et que cette epee  que je te donne n'ait de repos que quand elle aura frappe de mort  l'usurpateur.  tous disparaissent, et bougrelas reste seul dans l'attitude de l'extase.   acte ii, scene vi   le palais du roi.   pere ubu, mere ubu, capitaine bordure   pere ubu non, je ne veux pas, moi! voulez-vous me ruiner pour ces bouffres?  capitaine bordure mais enfin, pere ubu, ne voyez-vous pas que le peuple  attend le don de joyeux avenement?  mere ubu si tu ne fait pas distribuer des viandes et de l'or, tu seras  renverse d'ici deux heures.  pere ubu des viandes, oui! de l'or, non! abattez trois vieux chevaux, c'est  bien bon pour de tels sagouins.  mere ubu sagouin toi meme! qui m'a bati un animal de cette sorte?  pere ubu encore une fois, je veux m'enrichir, je ne lacherai pas un sou.  mere ubu quand on a entre les mains tous les tresors de la pologne.  capitaine bordure oui, je sais qu'il y a dans la chapelle un immense tresor,  nous le distribuerons.  pere ubu miserable, si tu fais ca!  capitaine bordure mais, pere ubu, si tu ne fais pas de distributions le  peuple ne voudra pas payer les impots.  pere ubu est-ce bien vrai?  mere ubu oui, oui!  pere ubu oh, alors je consens a tout. reunissez trois millions, cuisez cent  cinquante boeufs et moutons, d'autant plus que j'en aurai aussi!  ils sortent.   acte ii, scene vii   la cour du palais pleine de peuple.   pere ubu couronne, mere ubu, capitaine bordure, larbins charges de viande.   peuple voila le roi! vive le roi! hurrah!  pere ubu, jetant de l'or. tenez, voila pour vous. ca ne m'amusait guere de  vous donner de l'argent, mais vous savez, c'est la mere ubu qui a voulu. au  moins, promettez-moi de bien payer les impots.  tous oui, oui!  capitaine bordure  voyez, mere ubu, s'ils se disputent cet or. quelle bataille.  mere ubu il est vrai que c'est horrible. pouah! en voila un qui a le crane  fendu.  pere ubu quel beau spectacle! amenez d'autres caisses d'or.  capitaine bordure  si nous faisions une course.  pere ubu oui, c'est une idee.  au peuple.  mes amis, vous voyez cette caisse d'or, elle contient trois cent mille nobles  a la rose en or, en monnaie polonaise et de bon aloi. que ceux qui veulent  courir se mettent au bout de la cour. vous partirez quand j'agiterai mon  mouchoir et le premier arrive aura la caisse. quant a ceux qui ne gagneront  pas, ils auront comme consolation cette autre caisse qu'on leur partagera.  tous oui! vive le pere ubu! quel bon roi! on n'en voyait pas tant du temps de  venceslas.  pere ubu, a la mere ubu, avec joie. ecoute-les!  tout le peuple va se ranger au bout de la cour.  pere ubu une, deux, trois! y etes-vous?  tous oui! oui!  pere ubu: partez!  ils partent en se culbutant. cris et tumulte.  capitaine bordure: ils approchent! ils approchent!  pere ubu: eh! le premier perd du terrain.  mere ubu: non, il regagne maintenant.  capitaine bordure: oh! il perd, il perd! fini! c'est l'autre!  celui qui etait deuxieme arrive le premier.  tous: vive michel federovitch! vive michel federovitch!  michel federovitch: sire, je ne sais vraiment comment remercier votre  majeste...  pere ubu: oh! mon cher ami, ce n'est rien. emporte ta caisse chez toi,  michel; et vous, partagez-vous cette autre, prenez une piece chacun jusqu'a  ce qu'il n'y en ait plus.  tous: vive michel federovitch! vive le pere ubu!  pere ubu: et vous, mes amis, venez diner! je vous ouvre aujourd'hui les  portes du palais, veuillez faire honneur a ma table!  peuple: entrons! entrons! vive le pere ubu! c'est le plus noble des  souverains!  ils entrent dans le palais. on entend le bruit de l'orgie qui se prolonge  jusqu'au lendemain. la toile tombe.   acte iii  scene premiere   le palais.   pere ubu, mere ubu  pere ubu: de par ma chandelle verte, me voici roi dans ce pays. je me suis  deja flanque une indigestion et on va m'apporter ma grande capeline.  mere ubu: en quoi est-elle, pere ubu? car nous avons beau etre rois il faut  etre economes.  pere ubu: madame ma femelle, elle est en peau de mouton avec une agrafe et  des brides en peau de chien.  mere ubu: voila qui est beau, mais il est encore plus beau d'etre rois.  pere ubu: oui, tu as eu raison, mere ubu.  mere ubu: nous avons une grande reconnaissance au duc de lithuanie.  pere ubu: qui donc?  mere ubu: eh! le capitaine bordure.  pere ubu: de grace, mere ubu, ne me parle pas de ce bouffre. maintenant que  je n'ai plus besoin de lui, il peut bien se brosser le ventre, il n'aura  point son duche.  mere ubu: tu as grand tort, pere ubu, il va se tourner contre toi.  pere ubu: oh! je le plains bien, ce petit homme, je m'en soucie autant que de  bougrelas.  mere ubu: eh! crois-tu en avoir fini avec bougrelas?  pere ubu: sabre a finances, evidemment! que veux-tu qu'il me fasse, ce petit  sagouin de quatorze ans?  mere ubu: pere ubu, fais attention a ce que je te dis. crois-moi, tache de  t'attacher bougrelas par tes bienfaits.  pere ubu: encore de l'argent a donner? ah! non, du coup! vous m'avez fait  gacher bien vingt-deux millions.  mere ubu: fais a ta tete, pere ubu, il t'en cuira.  pere ubu: eh bien, tu seras avec moi dans la marmite.  mere ubu: ecoute, encore une fois, je suis sure que le jeune bougrelas  l'emportera, car il a pour lui le bon droit.  pere ubu: ah! salete! le mauvais droit ne vaut-il pas le bon? ah! tu  m'injuries, mere ubu, je vais te mettre en morceaux.  la mere ubu se sauve, poursuivie par ubu.   acte iii, scene ii   la grande salle du palais.   pere ubu, mere ubu, officiers et soldats; giron, pile, cotice, nobles  enchaines, financiers, magistrats, greffiers.   pere ubu apportez la caisse a nobles et le crochet a nobles et le couteau a  nobles et le bouquin a nobles! ensuite, faites avancer les nobles.  on pousse brutalement les nobles.  mere ubu de grace, modere-toi, pere ubu.  pere ubu j'ai l'honneur de vous annoncer que pour enrichir le royaume je vais  faire perir tous les nobles et prendre leurs biens.  nobles horreur! a nous, peuple et soldats!  pere ubu amenez le premier noble et passez-moi le crochet a nobles. ceux qui  seront condamnes a mort, je les passerai dans la trappe, ils tomberont dans  les sous-sols du pince-porc et de la chambre-a-sous, ou on les  decervelera. (au noble.) qui es-tu, bouffre?  le noble comte de vitepsk.  pere ubu de combien sont tes revenus?  le noble trois millions de rixdales.  pere ubu condamne!  il le prend avec le crochet et le passe dans le trou.  mere ubu quelle basse ferocite!  pere ubu second noble, qui es-tu? (le noble ne repond rien.) repondras-tu,  bouffre?  le noble grand-duc de posen.  pere ubu excellent! excellent! je n'en demande pas plus long. dans la  trappe. troisieme noble, qui es-tu? tu as une sale tete.  le noble duc de courlande, des villes de riga, de revel et de mitau.  pere ubu tres bien! tres bien! tu n'as rien autre chose?  le noble rien.  pere ubu dans la trappe, alors. quatrieme noble, qui es-tu?  le noble prince de podolie.  pere ubu quels sont tes revenus?  le noble je suis ruine.  pere ubu pour cette mauvaise parole, passe dans la trappe. cinquieme noble,  qui es-tu?  le noble margrave de thorn, palatin de polock.  pere ubu ca n'est pas lourd. tu n'as rien autre chose?  le noble cela me suffisait.  pere ubu eh bien! mieux vaut peu que rien. dans la trappe. qu'as-tu a pigner,  mere ubu?  mere ubu tu es trop feroce, pere ubu.  pere ubu eh! je m'enrichis. je vais faire lire ma liste de mes  biens. greffier, lisez ma liste de mes biens.  le greffier comte de sandomir.  pere ubu commence par les principautes, stupide bougre!  le greffier principaute de podolie, grand-duche de posen, duche de courlande,  comte de sandomir, comte de vitepsk, palatinat de polock, margraviat de  thorn.  pere ubu et puis apres?  le greffier c'est tout.  pere ubu comment, c'est tout! oh bien alors, en avant les nobles, et comme je  ne finirai pas de m'enrichir, je vais faire executer tous les nobles, et  ainsi j'aurai tous les biens vacants. allez, passez les nobles dans la  trappe.  on empile les nobles dans la trappe.  depechez-vous plus vite, je veux faire des lois maintenant.  plusieurs on va voir ca.  pere ubu je vais d'abord reformer la justice, apres quoi nous procederons aux  finances.  plusieurs magistrats nous nous opposons a tout changement.  pere ubu merdre. d'abord les magistrats ne seront plus payes.  magistrats et de quoi vivrons-nous? nous sommes pauvres.  pere ubu vous aurez les amendes que vous prononcerez et les biens des  condamnes a mort.  un magistrat horreur.  deuxieme infamie.  troisieme scandale.  quatrieme indignite.  tous nous nous refusons a juger dans des conditions pareilles.  pere ubu a la trappe les magistrats!  ils se debattent en vain.  mere ubu eh! que fais-tu, pere ubu? qui rendra maintenant la justice?  pere ubu tiens! moi. tu verras comme ca marchera bien.  mere ubu oui, ce sera du propre.  pere ubu allons, tais-toi, bouffresque. nous allons maintenant, messieurs,  proceder aux finances.  financiers il n'y a rien a changer.  pere ubu comment, je veux tout changer, moi. d'abord je veux garder pour moi  la moitie des impots.  financiers pas gene.  pere ubu messieurs, nous etablirons un impot de dix pour cent sur la  propriete, un autre sur le commerce et l'industrie, et un troisieme sur les  mariages et un quatrieme sur les deces, de quinze francs chacun.  premier financier mais c'est idiot, pere ubu.  deuxieme financier c'est absurde.  troisieme financier ca n'a ni queue ni tete.  pere ubu vous vous fichez de moi! dans la trappe, les financiers!  on enfourne les financiers.  mere ubu mais enfin, pere ubu, quel roi tu fais, tu massacres tout le monde.  pere ubu eh merdre!  mere ubu plus de justice, plus de finances.  pere ubu ne crains rien, ma douce enfant, j'irai moi-meme de village en  village recueillir les impots.   acte iii, scene iii   une maison de paysans dans les environs de varsovie. plusieurs paysans sont  des assembles.   un paysan, entrant. apprenez la grande nouvelle. le roi est mort, les ducs  aussi et le jeune bougrelas s'est sauve avec sa mere dans les montagnes. de  plus, le pere ubu s'est empare du trone.  un autre j'en sais bien d'autres. je viens de cracovie, ou j'ai vu emporter  les corps de plus de trois cents nobles et de cinq cents magistrats qu'on a  tues, et il parait qu'on va doubler les impots et que le pere ubu viendra les  ramasser lui-meme.  tous grand dieu! qu'allons-nous devenir? le pere ubu est un affreux sagouin  et sa famille est, dit-on, abominable.  un paysan mais, ecoutez: ne dirait-on pas qu'on frappe a la porte?  une voix, au-dehors. cornegidouille! ouvrez, de par ma merdre, par saint  jean, saint pierre et saint nicolas! ouvrez, sabre a finances, corne  finances, je viens chercher les impots!  la porte est defoncee, ubu penetre suivi d'une legion de grippe-sous.   acte iii, scene iv   pere ubu qui de vous est le plus vieux? (un paysan s'avance.) comment te  nommes-tu?  le paysan stanislas leczinski.  pere ubu eh bien, cornegidouille, ecoute-moi bien, sinon ces messieurs te  couperont les oneilles. mais, vas-tu m'ecouter enfin?  stanislas mais votre excellence n'a encore rien dit.  pere ubu comment, je parle depuis une heure. crois-tu que je vienne ici pour  precher dans le desert?  stanislas loin de moi cette pensee.  pere ubu je viens donc te dire, t'ordonner et te signifier que tu aies a  produire et exhiber promptement ta finance, sinon tu seras massacre. allons,  messeigneurs les salopins de finance, voiturez ici le voiturin a phynances.  on apporte le voiturin.  stanislas sire, nous ne sommes inscrits sur le registre que pour cent  cinquante-deux rixdales que nous avons deja payees, il y aura tantot six  semaines a la saint-mathieu.  pere ubu c'est fort possible, mais j'ai change le gouvernement et j'ai fait  mettre dans le journal qu'on paierait deux fois tous les impots et trois fois  ceux qui pourront etre designes ulterieurement. avec ce systeme, j'aurai vite  fait fortune, alors je tuerai tout le monde et je m'en irai.  paysans monsieur ubu, de grace, ayez pitie de nous. nous sommes de pauvres  citoyens.  pere ubu je m'en fiche. payez.  paysans nous ne pouvons, nous avons paye.  pere ubu payez! ou ji vous mets dans ma poche avec supplice et decollation du  cou et de la tete! cornegidouille, je suis le roi peut-etre!  tous ah, c'est ainsi! aux armes! vive bougrelas, par la grace de dieu, roi de  pologne et de lithuanie!  pere ubu en avant, messieurs des finances, faites votre devoir.  une lutte s'engage, la maison est detruite et le vieux stanislas s'enfuit  seul a travers la plaine. ubu reste a ramasser la finance.   acte iii, scene v   une casemate des fortifications de thorn.   bordure enchaine, pere ubu   pere ubu ah! citoyen, voila ce que c'est, tu as voulu que je te paye ce que  je te devais, alors tu t'es revolte parce que je n'ai pas voulu, tu as  conspire et te voila coffre. cornefinance, c'est bien fait et le tour est si  bien joue que tu dois toi-meme le trouver fort a ton gout.  bordure prenez garde, pere ubu. depuis cinq jours que vous etes roi, vous  avez commis plus de meurtres qu'il n'en faudrait pour damner tous les saints  du paradis. le sang du roi et des nobles crie vengeance et ses cris seront  entendus.  pere ubu eh! mon bel ami, vous avez la langue fort bien pendue. je ne doute  pas que si vous vous echappiez il en pourrait resulter des complications,  mais je ne crois pas que les casemates de thorn aient jamais lache quelqu'un  des honnetes garcons qu'on leur avait confies. c'est pourquoi, bonne nuit, et  je vous invite a dormir sur les deux oneilles, bien que les rats dansent ici  une assez belle sarabande.  il sort. les larbins viennent verrouiller toutes les portes.   acte iii, scene vi   le palais de moscou.   l'empereur alexis et sa cour, bordure   le czar alexis c'est vous, infame aventurier, qui avez coopere a la mort de  notre cousin venceslas?  bordure sire, pardonnez-moi, j'ai ete entraine malgre moi par le pere ubu.  alexis oh! l'affreux menteur. enfin, que desirez-vous?  bordure le pere ubu m'a fait emprisonner sous pretexte de conspiration, je  suis parvenu a m'echapper et j'ai couru cinq jours et cinq nuits a cheval a  travers les steppes pour venir implorer votre gracieuse misericorde.  alexis que m'apportes-tu comme gage de ta soumission?  bordure mon epee d'aventurier et un plan detaille de la ville de thorn.  alexis je prends l'epee, mais par saint georges, brulez ce plan, je ne veux  pas devoir ma victoire a une trahison.  bordure un des fils de venceslas, le jeune bougrelas, est encore vivant, je  ferai tout pour le retablir.  alexis quel grade avais-tu dans l'armee polonaise?  bordure je commandais le 5e regiment des dragons de zilna et une compagnie  franche au service du pere ubu.  alexis c'est bien, je te nomme sous-lieutenant au 10e regiment de cosaques,  et gare a toi si tu trahis. si tu te bats bien, tu seras recompense.  bordure ce n'est pas le courage qui me manque, sire.  alexis c'est bien, disparais de ma presence.  il sort.   acte iii, scene vii   la salle du conseil d'ubu.   pere ubu, mere ubu, conseillers des phynances   pere ubu messieurs, la seance est ouverte et tachez de bien ecouter et de  vous tenir tranquilles. d'abord, nous allons faire le chapitre des finances,  ensuite nous parlerons d'un petit systeme que j'ai imagine pour faire venir  le beau temps et conjurer la pluie.  un conseiller fort bien, monsieur ubu.  mere ubu quel sot homme.  pere ubu madame de ma merdre, garde a vous, car je ne souffrirai pas vos  sottises. je vous disais donc, messieurs, que les finances vont  passablement. un nombre considerable de chiens a bas de laine se repand  chaque matin dans les rues et les salopins font merveille. de tout cotes on  ne voit que des maisons brulees et des gens pliant sous le poids de nos  phynances.  le conseiller et les nouveaux impots, monsieur ubu, vont-ils bien?  mere ubu point du tout. l'impot sur les mariages n'a encore produit que 11  sous, et encore le pere ubu poursuit les gens partout pour les forcer a se  marier.  pere ubu sabre a finances, corne de ma gidouille, madame la financiere, j'ai  des oneilles pour parler et vous une bouche pour m'entendre. (eclats de  rire.) ou plutot non! vous me faites tromper et vous etes cause que je suis  bete! mais, corne d'ubu! (un messager entre.) allons, bon, qu'a-t-il encore  celui-la? va-t'en, sagouin, ou je te poche avec decollation et torsion des  jambes.  mere ubu ah! le voila dehors, mais il y a une lettre.  pere ubu lis-la. je crois que je perds l'esprit ou que je ne sais pas  lire. depeche-toi, bouffresque, ce doit etre de bordure.  mere ubu tout justement. il dit que le czar l'a accueilli tres bien, qu'il va  envahir tes etats pour retablir bougrelas et que toi tu seras tue.  pere ubu ho! ho! j'ai peur! j'ai peur! ha! je pense mourir. o pauvre homme  que je suis. que devenir, grand dieu? ce mechant homme va me tuer. saint  antoine et tout les saints, protegez-moi, je vous donnerai de la phynance et  je brulerai des cierges pour vous. seigneur, que devenir?  il pleure et sanglote.  mere ubu il n'y a qu'un parti a prendre, pere ubu.  pere ubu lequel, mon amour?  mere ubu la guerre!!  tous vive dieu! voila qui est noble!  pere ubu oui, et je recevrai encore des coups.  premier conseiller courons, courons organiser l'armee.  deuxieme et reunir les vivres.  troisieme et preparer l'artillerie et les forteresses.  quatrieme et prendre l'argent pour les troupes.  pere ubu ah! non, par exemple! je vais te tuer, toi, je ne veux pas donner  d'argent. en voila d'une autre! j'etais paye pour faire la guerre et  maintenant il faut la faire a mes depens. non, de par ma chandelle verte,  faisons la guerre, puisque vous en etes enrages, mais ne deboursons pas un  sou.  tous vive la guerre!   acte iii, scene viii   le camp sous varsovie.   soldats et palotins vive la pologne! vive le pere ubu!  pere ubu ah! mere ubu, donne-moi ma cuirasse et mon petit bout de bois. je  vais etre bientot tellement charge que je ne saurais marcher si j'etais  poursuivi.  mere ubu fi, le lache.  pere ubu ah! voila le sabre a merdre qui se sauve et le croc a finances qui  ne tient pas!!! je n'en finirai jamais, et les russes avancent et vont me  tuer.  un soldat seigneur ubu, voila le ciseau a oneilles qui tombe.  pere ubu ji tou tue au moyen du croc a merdre et du couteau a figure.  mere ubu comme il est beau avec son casque et sa cuirasse, on dirait une  citrouille armee.  pere ubu ah! maintenant, je vais monter a cheval. amenez, messieurs, le  cheval a phynances.  mere ubu pere ubu, ton cheval ne saurait plus te porter, il n'a rien mange  depuis cinq jours et est presque mort.  pere ubu elle est bonne celle-la! on me fait payer 12 sous par jour pour  cette rosse et elle ne me peut porter. vous vous fichez, corne d'ubu, ou bien  si vous me volez? (la mere ubu rougit et baisse les yeux.) alors, que l'on  m'apporte une autre bete, mais je n'irai pas a pied, cornegidouille!  on amene un enorme cheval.  pere ubu je vais monter dessus. oh! assis plutot! car je vais tomber. (le  cheval part.) ah! arretez ma bete, grand dieu, je vais tomber et etre mort!!!  mere ubu il est vraiment imbecile. ah! le voila releve. mais il est tombe par  terre.  pere ubu corne physique, je suis a moitie mort! mais c'est egal, je pars en  guerre et je tuerai tout le monde. gare a qui ne marchera pas droit. ji lon  mets dans ma poche avec torsion du nez et des dents et extraction de la  langue.  mere ubu bonne chance, monsieur ubu.  pere ubu j'oubliais de te dire que je te confie la regence. mais j'ai sur moi  le livre des finances, tant pis pour toi si tu me voles. je te laisse pour  t'aider le palotin giron. adieu, mere ubu.  mere ubu adieu, pere ubu. tue bien le czar.  pere ubu pour sur. torsion du nez et des dents, extraction de la langue et  enfoncement du petit bout de bois dans les oneilles.  l'armee s'eloigne au bruit des fanfares.  mere ubu, seule. maintenant que ce gros pantin est parti, tachons de faire  nos affaires, tuer bougrelas et nous emparer du tresor.   acte iv   scene premiere   la crypte des anciens rois de pologne dans la cathedrale de varsovie.   mere ubu ou donc est ce tresor? aucune dalle ne sonne creux. j'ai pourtant  bien compte treize pierres apres le tombeau de ladislas le grand en allant le  long du mur, et il n'y a rien. il faut qu'on m'ait trompee. voila cependant:  ici la pierre sonne creux. a l'oeuvre, mere ubu. courage, descellons cette  pierre. elle tient bon. prenons ce bout de croc a finances qui fera encore  son office. voila! voila l'or au milieu des ossements des rois. dans notre  sac, alors, tout! eh! quel est ce bruit? dans ces vieilles voutes y aurait-il  encore des vivants? non, ce n'est rien, hatons-nous. prenons tout. cet argent  sera mieux a la face du jour qu'au milieu des tombeaux des anciens  princes. remettons la pierre. eh quoi! toujours ce bruit. ma presence en ces  lieux me cause une etrange frayeur. je prendrai le reste de cet or une autre  fois, je reviendrai demain.  une voix, sortant du tombeau de jean sigismond. jamais, mere ubu!   acte iv, scene ii   la place de varsovie   bougrelas et ses partisans, peuple et soldats   bougrelas en avant, mes amis! vive venceslas et la pologne! le vieux gredin  de pere ubu est parti, il ne reste plus que la sorciere de mere ubu avec son  palotin. je m'offre a marcher a votre tete et a retablir la race de mes  peres.  tous vive bougrelas!  bougrelas et nous supprimerons tous les impots etablis par l'affreux pere ub.  tous hurrah! en avant! courons au palais et massacrons cette engeance.  bougrelas eh! voila la mere ubu qui sort avec ses gardes sur le perron!  mere ubu que voulez-vous, messieurs? ah! c'est bougrelas.  la foule lance des pierres.  premier garde tous les carreaux sont casses.  deuxieme garde saint georges, me voila assomme.  troisieme garde cornebleu, je meurs.  bougrelas lancez des pierres, mes amis.  le palotin giron hon! c'est ainsi!  il degaine et se precipite, faisant un carnage epouvantable.  bougrelas a nous deux! defends-toi, lache pistolet.  ils se battent.  giron je suis mort!  bougrelas victoire, mes amis! sus a la mere ubu!  on entend des trompettes.  bougrelas ah! voila les nobles qui arrivent. courons, attrapons la mauvaise  harpie!  tous en attendant que nous etranglions le vieux bandit!  la mere ubu se sauve poursuivie par tous les polonais. coups de fusil et  grele de pierres.   acte iv, scene iii   l'armee polonaise en marche dans l'ukraine.   pere ubu cornebleu, jambedieu, tete de vache! nous allons perir, car nous  mourons de soif et sommes fatigue. sire soldat, ayez l'obligeance de porter  notre casque a finances, et vous, sire lancier, chargez-vous du ciseau a  merdre et du baton-a-physique pour soulager notre personne, car, je le  repete, nous sommes fatigue.  les soldats obeissent.  pile hon! monsieuye! il est etonnant que les russes n'apparaissent point.  pere ubu il est regrettable que l'etat de nos finances ne nous permette pas  d'avoir une voiture a notre taille; car, par crainte de demolir notre  monture, nous avons fait tout le chemin a pied, trainant notre cheval par la  bride. mais quand nous serons de retour en pologne, nous imaginerons, au  moyen de notre science en physique et aide des lumieres de nos conseillers,  une voiture a vent pour transporter toute l'armee.  cotice voila nicolas rensky qui se precipite.  pere ubu et qu'a-t-il, ce garcon?  rensky tout est perdu, sire, les polonais sont revoltes, giron est tue et la  mere ubu est en fuite dans les montagnes.  pere ubu oiseau de nuit, bete de malheur, hibou a guetres! ou as-tu peche ces  sornettes? en voila d'une autre! et qui a fait ca? bougrelas, je parie. d'ou  viens-tu?  rensky de varsovie, noble seigneur.  pere ubu garcon de ma merdre, si je t'en croyais je ferais rebrousser chemin  a toute l'armee. mais, seigneur garcon, il y a sur tes epaules plus de plumes  que de cervelle et tu as reve des sottises. va aux avant-postes, mon garcon,  les russes ne sont pas loin et nous aurons bientot a estocader de nos armes,  tant a merdre qu'a phynances et a physique.  le general lascy pere ubu, ne voyez-vous pas dans la plaine les russes?  pere ubu c'est vrai, les russes! me voila joli. si encore il y avait moyen de  s'en aller, mais pas du tout, nous sommes sur une hauteur et nous serons en  butte a tous les coups.  l'armee les russes! l'ennemi!  pere ubu allons, messieurs, prenons nos dispositions pour la bataille. nous  allons rester sur la colline et ne commettrons point la sottise de descendre  en bas. je me tiendrai au milieu comme une citadelle vivante et vous autres  graviterez autour de moi. j'ai a vous recommander de mettre dans les fusils  autant de balles qu'ils en pourront tenir, car huit balles peuvent tuer huit  russes et c'est autant que je n'aurai pas sur le dos. nous mettrons les  fantassins a pied au bas de la colline pour recevoir les russes et les tuer  un peu, les cavaliers derriere pour se jeter dans la confusion, et  l'artillerie autour du moulin a vent ici present pour tirer dans le  tas. quant a nous, nous nous tiendrons dans le moulin a vent et tirerons avec  le pistolet a phynances par la fenetre, en travers de la porte nous placerons  le baton-a-physique, et si quelqu'un essaye d'entrer, gare au croc a  merdre!!!  officiers vos ordres, sire ubu, seront executes.  pere ubu eh! cela va bien, nous serons vainqueurs. quelle heure est-il?  le general lascy onze heures du matin.  pere ubu alors, nous allons diner, car les russes n'attaqueront pas avant  midi. dites aux soldats, seigneur general, de faire leurs besoins et  d'entonner la chanson a finances.  lascy s'en va.  soldats et palotins  vive le pere ubu, notre grand financier! ting, ting, ting; ting, ting, ting;  ting, ting, tating!  pere ubu o les braves gens, je les adore. (un boulet russe arrive et casse  l'aile du moulin.) ah! j'ai peur, sire dieu, je suis mort! et cependant non,  je n'ai rien.   acte iv, scene iv   les memes, un capitaine puis l'armee russe   un capitaine, arrivant. sire ubu, les russes attaquent.  pere ubu eh bien, apres, que veux-tu que j'y fasse? ce n'est pas moi qui le  leur ai dit. cependant, messieurs des finances, preparons-nous au combat.  le general lascy un second boulet!  pere ubu ah! je n'y tiens plus. ici il pleut du plomb et du fer, et nous  pourrions endommager notre precieuse personne. descendons.  tous descendent au pas de course. la bataille vient de s'engager. ils  disparaissent dans des torrents de fumee au pied de la colline.  un russe, frappant. pour dieu et le czar!  rensky ah! je suis mort.  pere ubu en avant! ah, toi, monsieur, que je t'attrape, car tu m'as fait mal,  entends-tu? sac a vin! avec ton flingot qui ne part pas.  le russe ah! voyez-vous ca!  il lui tire un coup de revolver.  pere ubu ah! oh! je suis blesse, je suis troue, je suis perfore, je suis  administre, je suis enterre. oh, mais tout de meme! ah! je le tiens. (il le  dechire.) tiens! recommenceras-tu, maintenant!  le general lascy en avant, poussons vigoureusement, passons le fosse. la  victoire est a nous.  pere ubu tu crois? jusqu'ici je sens sur mon front plus de bosses que de  lauriers.  cavaliers russes hurrah! place au czar!  le czar arrive, accompagne de bordure, deguise.  un polonais ah! seigneur! sauve qui peut, voila le czar!  un autre ah! mon dieu! il passe le fosse.  un autre pif! paf! en voila quatre d'assommes par ce grand bougre de  lieutenant.  bordure ah! vous n'avez pas fini, vous autres! tiens jean sobiesky, voila ton  compte! (il l'assomme.) a d'autres, maintenant!  il fait un massacre de polonais.  pere ubu en avant, mes amis. attrapez ce belitre! en compote les moscovites!  la victoire est a nous. vive l'aigle rouge!  tous en avant! hurrah! jambedieu! attrapez le grand bougre.  bordure par saint georges, je suis tombe.  pere ubu, le reconnaissant. ah! c'est toi, bordure! ah! mon ami. nous sommes  bien heureux ainsi que toute la compagnie de te retrouver. je vais te faire  cuire a petit feu. messieurs des finances, allumez du feu. oh! ah! oh! je  suis mort. c'est au moins un coup de canon que j'ai recu. ah! mon dieu,  pardonnez-moi mes peches. oui, c'est bien un coup de canon.  bordure c'est un coup de pistolet charge a poudre.  pere ubu ah! tu te moques de moi! encore! a la poche!  il se rue sur lui et le dechire.  le general lascy pere ubu, nous avancons partout.  pere ubu je le vois bien, je n'en peux plus, je suis crible de coups de pied,  je voudrais m'asseoir par terre. oh! ma bouteille.  le general lascy allez prendre celle du czar, pere ubu.  pere ubu eh! j'y vais de ce pas. allons! sabre a merdre, fais ton office, et  toi, croc a finances, ne reste pas en arriere. que le baton-a-physique  travaille d'une genereuse emulation et partage avec le petit bout de bois  l'honneur de massacrer, creuser et exploiter l'empereur moscovite. en avant,  monsieur notre cheval a finances!  il se rue sur le czar.  un officier russe en garde, majeste!  pere ubu tiens, toi! oh! aie! ah! mais tout de meme. ah! monsieur, pardon,  laissez-moi tranquille. oh! mais, je n'ai pas fait expres!  il se sauve, le czar le poursuit.  pere ubu sainte vierge, cet enrage me poursuit! qu'ai-je fait, grand dieu!  ah! bon, il y a encore le fosse a repasser. ah! je le sens derriere moi et le  fosse devant! courage, fermons les yeux!  il saute le fosse. le czar y tombe.  le czar bon, je suis dedans!  polonais hurrah! le czar est a bas!  pere ubu ah! j'ose a peine me retourner! il est dedans. ah! c'est bien fait  et on tape dessus. allons, polonais, allez-y a tour de bras, il a bon dos, le  miserable! moi, je n'ose pas le regarder! et cependant notre prediction s'est  completement realisee, le baton-a-physique a fait merveilles et nul doute que  je ne l'eusse completement tue si une inexplicable terreur n'etait venue  combattre et annuler en nous les effets de notre courage. mais nous avons du  soudainement tourner casaque, et nous n'avons du notre salut qu'a notre  habilete comme cavalier ainsi qu'a la solidite des jarrets de notre cheval a  finances, dont la rapidite n'a d'egale que la solidite et dont la legerete  fait la celebrite, ainsi qu'a la profondeur du fosse qui s'est trouve fort a  propos sous les pas de l'ennemi de nous l'ici present maitre des  phynances. tout ceci est fort beau, mais personne ne m'ecoute. allons! bon,  ca recommence!  les dragons russes font une charge et delivrent le czar.  le general lascy cette fois, c'est la debandade.  pere ubu ah! voici l'occasion de se tirer des pieds. or donc, messieurs les  polonais, en avant! ou plutot en arriere!  polonais sauve qui peut!  pere ubu allons! en route. quel tas de gens, quelle fuite, quelle multitude,  comment me tirer de ce gachis? (il est bouscule.) ah! mais toi! fais  attention, ou tu vas experimenter la bouillante valeur du maitre des  finances. ah! il est parti, sauvons-nous et vivement pendant que lascy ne  nous voit pas.  il sort, ensuite on voit passer le czar et l'armee russe poursuivant les  polonais.   acte iv, scene v   une caverne en lituanie. il neige.   pere ubu, pile, cotice   pere ubu ah! le chien de temps, il gele a pierre a fendre et la personne du  maitre des finances s'en trouve fort endommagee.  pile hon! monsieuye ubu, etes-vous remis de votre terreur et de votre fuite?  pere ubu oui! je n'ai plus peur, mais j'ai encore la fuite.  cotice, a part. quel pourceau.  pere ubu eh! sire cotice, votre oneille, comment va-t-elle?  cotice aussi bien, monsieuye, qu'elle peut aller tout en allant tres mal. par  conseiquent de quoye, le plomb la penche vers la terre et je n'ai pu extraire  la balle.  pere ubu tiens, c'est bien fait! toi, aussi, tu voulais toujours taper les  autres. moi j'ai deploye la plus grande valeur, et sans m'exposer j'ai  massacre quatre ennemis de ma propre main, sans compter tous ceux qui etaient  deja morts et que nous avons acheves.  cotice savez-vous, pile, ce qu'est devenue le petit rensky?  pile il a recu une balle dans la tete.  pere ubu ainsi que le coquelicot et le pissenlit a la fleur de leur age sont  fauches par l'impitoyable faux de l'impitoyable faucheur qui fauche  impitoyablement leur pitoyable binette, - ainsi le petit rensky a fait le  coquelicot, il s'est fort bien battu cependant, mais aussi il y avait trop de  russes  pile et cotice hon! monsieuye!  un echo hhrron!  pile qu'est-ce? armons-nous de nos lumelles.  pere ubu ah! non! par exemple, encore des russes, je parie! j'en ai assez! et  puis c'est bien simple, s'ils m'attrapent ji lon fous a la poche.   acte iv, scene vi   les memes   entre un ours.   cotice hon, monsieuye des finances!  pere ubu oh! tiens, regardez donc le petit toutou. il est gentil, ma foi.  pile prenez garde! ah! quel enorme ours: mes cartouches!  pere ubu un ours! ah! l'atroce bete. oh! pauvre homme, me voila mange. que  dieu me protege. et il vient sur moi. non, c'est cotice qu'il attrape. ah! je  respire.  l'ours se jette sur cotice. pile l'attaque a coups de couteau. ubu se refugie  sur un rocher.  cotice a moi, pile! a moi! au secours, monsieuye ubu!  pere ubu bernique! debrouille-toi, mon ami; pour le moment, nous faisons  notre pater noster. chacun son tour d'etre mange.  pile je l'ai, je le tiens.  cotice ferme, ami, il commence a me lacher.  pere ubu sanctificetur nomen tuum.  cotice lache bougre!  pile ah! il me mord! o seigneur, sauvez-nous, je suis mort.  pere ubu fiat voluntas tua!  cotice ah! j'ai reussi a le blesser  pile hurrah! il perd son sang.  au milieu des cris des palotins, l'ours beugle de douleur et ubu continue a  marmotter.  cotice tiens-le ferme, que j'attrape mon coup-de-poing explosif.  pere ubu panem nostrum quotidianum da nobis hodie.  pile l'as-tu enfin, je n'en peux plus.  pere ubu sicut et nos dimittimus debitoribus nostris.  cotice ah! je l'ai.  une explosion retentit et l'ours tombe mort.  pile et cotice victoire!  pere ubu sed libera nos a malo. amen. enfin, est-il bien mort? puis-je  descendre de mon rocher?  pile, avec mepris. tant que vous voudrez.  pere ubu, descendant. vous pouvez vous flatter que si vous etes encore  vivants et si vous foulez encore la neige de lithuanie, vous le devez a la  vertu magnanime du maitre des finances, qui s'est evertue, echine et egosille  a debiter des patenotres pour votre salut, et qui a manie avec autant de  courage le glaive spirituel de la priere que vous avez manie avec adresse le  temporel de l'ici present palotin cotice coup-de-poing explosif. nous avons  meme pousse plus loin notre devouement, car nous n'avons pas hesite a monter  sur un rocher fort haut pour que nos prieres aient moins loin a arriver au  ciel.  pile revoltante bourrique.  pere ubu voici une grosse bete. grace a moi, vous avez de quoi souper. quel  ventre, messieurs! les grecs y auraient ete plus a l'aise que dans le cheval  de bois, et peu s'en est fallu, chers amis, que nous n'ayons pu aller  verifier de nos propres yeux sa capacite interieure.  pile je meurs de faim. que manger?  cotice l'ours!  pere ubu eh! pauvres gens, allez-vous le manger tout cru? nous n'avons rien  pour faire du feu.  pile n'avons-nous pas nos pierres a fusil?  pere ubu tiens, c'est vrai. et puis, il me semble que voila non loin d'ici un  petit bois ou il doit y avoir des branches seches. va en chercher, sire  cotice.  cotice s'eloigne a travers la neige.  pile et maintenant, sire ubu, allez depecer l'ours.  pere ubu oh non! il n'est peut-etre pas mort. tandis que toi, qui es deja a  moitie mange et mordu de toutes parts, c'est tout a fait dans ton role. je  vais allumer du feu en attendant qu'il apporte du bois.  pile commence a depecer l'ours.  pere ubu oh! prends garde! il a bouge.  pile mais, sire ubu, il est deja tout froid.  pere ubu c'est dommage, il aurait mieux valu le manger chaud. ceci va  procurer une indigestion au maitre des finances.  pile, a part c'est revoltant. (haut.) aidez-nous un peu, monsieur ubu, je ne  puis faire toute la besogne.  pere ubu non, je ne veux rien faire, moi! je suis fatigue, bien sur!  cotice, rentrant. quelle neige, mes amis, on se dirait en castille ou au pole  nord. la nuit commence a tomber. dans une heure il fera noir. hatons-nous  pour voir encore clair.  pere ubu oui, entends-tu, pile? hate-toi. hatez-vous tous les deux! embrochez  la bete, cuisez la bete, j'ai faim, moi!  pile ah! c'est trop fort, a la fin! il faudra travailler ou bien tu n'auras  rien, entends-tu, goinfre!  pere ubu oh! ca m'est egal, j'aime autant le manger tout cru, c'est vous qui  serez bien attrapes. et puis, j'ai sommeil, moi!  cotice que voulez-vous, pile? faisons le diner tout seuls. il n'en aura  pas. voila tout. ou bien on pourra lui donner les os.  pile c'est bien. ah, voila le feu qui flambe.  pere ubu oh! c'est bon ca, il fait chaud maintenant. mais je vois des russes  partout. quelle fuite, grand dieu! ah!  il tombe endormi.  cotice je voudrais savoir si ce que disait rensky est vrai, si la mere ubu  est vraiment detronee. ca n'aurait rien d'impossible.  pile finissons de faire le souper.  cotice non, nous avons a parler de choses plus importantes. je pense qu'il  serait bon de nous enquerir de la veracite de ces nouvelles.  pile c'est vrai, faut-il abandonner le pere ubu ou rester avec lui?  cotice la nuit porte conseil. dormons, nous verrons demain ce qu'il faut  faire.  pile non, il vaut mieux profiter de la nuit pour nous en aller.  cotice partons, alors.  ils partent.   acte iv, scene vii   ubu parle en dormant. ah! sire dragon russe, faites attention, ne tirez pas  par ici, il y a du monde. ah! voila bordure, qu'il est mauvais, on dirait un  ours. et bougrelas qui vient sur moi! l'ours, l'ours! ah! le voila a bas!  qu'il est dur, grand dieu! je ne veux rien faire, moi! va-t'en, bougrelas!  entends-tu, drole? voila rensky maintenant, et le czar! oh! ils vont me  battre. et la rbue! ou as-tu pris tout cet or? tu m'as pris mon or,  miserable, tu as ete farfouiller dans mon tombeau qui est dans la cathedrale  de varsovie, pres de la lune. je suis mort depuis longtemps, moi, c'est  bougrelas qui m'a tue et je suis enterre a varsovie pres de vladislas le  grand, et aussi a cracovie pres de jean sigismond, et aussi a thorn dans la  casemate avec bordure! le voila encore. mais va-t'en, maudit ours. tu  ressemble a bordure. entends-tu, bete de satan? non, il n'entend pas, les  salopins lui ont coupe les oneilles. decervelez, tudez, coupez les oneilles,  arrachez la finance et buvez jusqu'a la mort, c'est la vie des salopins,  c'est le bonheur du maitre des finances.  il se tait et dort. \""
      ]
     },
     "execution_count": 252,
     "metadata": {},
     "output_type": "execute_result"
    }
   ],
   "source": [
    "transition('mono.txt')"
   ]
  },
  {
   "cell_type": "code",
   "execution_count": null,
   "id": "psychological-kinase",
   "metadata": {},
   "outputs": [],
   "source": []
  },
  {
   "cell_type": "markdown",
   "id": "exempt-australian",
   "metadata": {},
   "source": [
    "## Cryptage poly-alphabétique(Vigenère 1586)"
   ]
  },
  {
   "cell_type": "code",
   "execution_count": 14,
   "id": "pressed-meeting",
   "metadata": {},
   "outputs": [],
   "source": [
    "poly = open('poly.txt').read()"
   ]
  },
  {
   "cell_type": "code",
   "execution_count": 20,
   "id": "frank-privacy",
   "metadata": {},
   "outputs": [
    {
     "name": "stdout",
     "output_type": "stream",
     "text": [
      "AEILBGASNNDUGRJZEKRLHGWPINTUQRKMVZJZFRVMSEGPPHWDCPUPQUAIRWXJSAKIAMJCSEKMOYPVIGUS\n"
     ]
    }
   ],
   "source": [
    "# élimine les caractères non alphabétique\n",
    "t = ''.join([x for x in poly if x.isalpha()])\n",
    "print(t[:80])"
   ]
  },
  {
   "cell_type": "code",
   "execution_count": 21,
   "id": "unnecessary-temple",
   "metadata": {},
   "outputs": [],
   "source": [
    "def stats(w): \n",
    "    return {x:w.count(x) for x in set(w)}\n",
    "\n",
    "\n",
    "def ic(w):\n",
    "    d = stats(w)\n",
    "    n = float(sum([d[x] for x in d]))\n",
    "    return sum(d[x]*(d[x]-1) for x in d)/(n*(n-1))"
   ]
  },
  {
   "cell_type": "code",
   "execution_count": 25,
   "id": "hired-resolution",
   "metadata": {},
   "outputs": [
    {
     "name": "stdout",
     "output_type": "stream",
     "text": [
      "2 0.049505740542203185\n",
      "3 0.04285887749459861\n",
      "4 0.0590089836994862\n",
      "5 0.04218317713286392\n",
      "6 0.04918345198906321\n",
      "7 0.04227468983986446\n",
      "8 0.0774008838879647\n",
      "9 0.04322066427329585\n",
      "10 0.04825264329437952\n",
      "11 0.04328116567728009\n",
      "12 0.05307414829659319\n",
      "13 0.0441478826747147\n",
      "14 0.047013504344590604\n",
      "15 0.04100250626566416\n",
      "16 0.07944385026737968\n",
      "17 0.04539016224568632\n",
      "18 0.04774051159593328\n",
      "19 0.04333936106088005\n",
      "20 0.059308807134894094\n",
      "21 0.04232609495767391\n",
      "22 0.050581771170006465\n",
      "23 0.04155614500442087\n",
      "24 0.06660240963855421\n"
     ]
    }
   ],
   "source": [
    "for i in range(2,25): print (i, ic(t[::i]))\n",
    "\n",
    "# valeurs plus élevées -> 8 / 16/ 24\n",
    "# on suppose que dans chaque sous chaine t[i::8], la lettre la plus fréquente est le 'E' \n",
    "# (si ça ne fonctionne pas on essaye la suivate)"
   ]
  },
  {
   "cell_type": "code",
   "execution_count": 26,
   "id": "general-gateway",
   "metadata": {},
   "outputs": [
    {
     "name": "stdout",
     "output_type": "stream",
     "text": [
      "['E', 'P', 'T', 'L', 'S', 'R', 'W', 'I']\n"
     ]
    }
   ],
   "source": [
    "def most_freq(d):\n",
    "    dd = list(d.items())\n",
    "    dd.sort(key=lambda x: x[1], reverse=True)\n",
    "    return dd[0][0]\n",
    "\n",
    "K = [most_freq(stats(t[i::8])) for i in range(8)]\n",
    "print (K)"
   ]
  },
  {
   "cell_type": "code",
   "execution_count": 27,
   "id": "abd2c47b",
   "metadata": {},
   "outputs": [
    {
     "data": {
      "text/plain": [
       "'ALPHONSE'"
      ]
     },
     "execution_count": 27,
     "metadata": {},
     "output_type": "execute_result"
    }
   ],
   "source": [
    "K = ''.join([chr(ord(x)-ord('E')+ord('A')) for x in K])\n",
    "K"
   ]
  },
  {
   "cell_type": "code",
   "execution_count": 28,
   "id": "65129c65",
   "metadata": {},
   "outputs": [],
   "source": [
    "class Vigenere:\n",
    "    def __init__(self,key):\n",
    "        self.K = [ord(k) for k in key]\n",
    "        self.m = len(self.K)\n",
    "        \n",
    "    def crypt(self, w):\n",
    "        return(\"\".join(\n",
    "            [chr( ((ord(w[i])-65 +self.K[i%self.m]-65) % 26) +65)\n",
    "                       for i in range(0,len(w))]))\n",
    "    def uncrypt(self, w):\n",
    "        return(\"\".join(\n",
    "            [chr( ((ord(w[i])-65 -self.K[i%self.m]-65) % 26) +65)\n",
    "                       for i in range(0,len(w))]))"
   ]
  },
  {
   "cell_type": "code",
   "execution_count": 29,
   "id": "eabf6b3e",
   "metadata": {},
   "outputs": [],
   "source": [
    "v = Vigenere(K)"
   ]
  },
  {
   "cell_type": "code",
   "execution_count": 31,
   "id": "e659ab5e",
   "metadata": {},
   "outputs": [
    {
     "name": "stdout",
     "output_type": "stream",
     "text": [
      "--- attention : conservez cette licence si vous redistribuez ce fichier ---\n",
      "license abu\n",
      "-=-=-=-=-=-\n",
      "version 1.1, aout 1999\n",
      "\n",
      "copyright (c) 1999 association de bibliophiles universels\n",
      "   http://abu.cnam.fr/\n",
      "   abu@cnam.fr\n",
      "\n",
      "la base de textes de l'association des bibliophiles universels (abu)\n",
      "est une oeuvre de compilation, elle peut etre copiee, diffusee et\n",
      "modifiee dans les conditions suivantes :\n",
      "\n",
      "1.  toute copie a des fins privees, a des fins d'illustration de l'enseignement\n",
      "    ou de recherche scientifique est autorisee.\n",
      "\n",
      "2.  toute diffusion ou inclusion dans une autre oeuvre doit\n",
      "\n",
      "     a) soit inclure la presente licence s'appliquant a l'ensemble de la\n",
      "        diffusion ou de l'oeuvre derivee.\n",
      "\n",
      "     b) soit permettre aux beneficiaires de cette diffusion ou de cette\n",
      "        oeuvre derivee d'en extraire facilement et gratuitement une version\n",
      "        numerisee de chaque texte inclu, muni de la presente licence.  cette\n",
      "        possibilite doit etre mentionnee explicitement et de facon claire,\n",
      "        ainsi que le fait que la presente notice s'applique aux documents\n",
      "        extraits.\n",
      "\n",
      "     c) permettre aux beneficiaires de cette diffusion ou de cette\n",
      "        oeuvre derivee d'en extraire facilement et gratuitement la version\n",
      "        numerisee originale, munie le cas echeant des ameliorations visees au\n",
      "        paragraphe 6, si elles sont presentent dans la diffusion ou la nouvelle\n",
      "        oeuvre. cette possibilite doit etre mentionnee explicitement et de\n",
      "        facon claire, ainsi que le fait que la presente notice s'applique aux\n",
      "        documents extraits.\n",
      "\n",
      "   dans tous les autres cas, la presente licence sera reputee s'appliquer\n",
      "   a l'ensemble de la diffusion ou de l'oeuvre derivee.\n",
      "\n",
      "\n",
      "3. l'en-tete qui accompagne chaque fichier doit etre integralement \n",
      "   conservee au sein de la copie.\n",
      "\n",
      "4. la mention du producteur original doit etre conservee, ainsi\n",
      "   que celle des contributeurs ulterieurs.\n",
      "\n",
      "5. toute modification ulterieure, par correction d'erreurs,\n",
      "   additions de variantes, mise en forme dans un autre format, ou autre,\n",
      "   doit etre indiquee.  l'indication des diverses contributions devra etre\n",
      "   aussi precise que possible, et datee.\n",
      "\n",
      "6. ce copyright s'applique obligatoirement a toute amelioration\n",
      "   par simple correction d'erreurs ou d'oublis mineurs (orthographe,\n",
      "   phrase manquante, ...), c'est-a-dire ne correspondant pas a\n",
      "   l'adjonction d'une autre variante connue du texte, qui devra donc\n",
      "   comporter la presente notice.\n",
      "\n",
      "----------------------- fin de la licence abu --------------------------------\n",
      "\n",
      "--- attention : conservez cet en-tete si vous redistribuez ce fichier ---\n",
      "<ident tordre>\n",
      "<ident_auteurs allaisa>\n",
      "<ident_copistes thiriets>\n",
      "<archive http://abu.cnam.fr/>\n",
      "<version 1>\n",
      "<droits 0>\n",
      "<titre a se tordre>\n",
      "<genre prose>\n",
      "<auteur allais, alphonse>\n",
      "<copiste serge thiriet>\n",
      "<notesprod>\n",
      "</notesprod>\n",
      "----------------------- fin de l'en-tete --------------------------------\n",
      "\n",
      "------------------------- debut du fichier tordre1 --------------------------------\n",
      "\n",
      "a se tordre\n",
      "histoires chatnoiresques\n",
      "aphonse allais\n",
      "(1891)\n",
      "\n",
      "un philosophe\n",
      "\n",
      "je m'etais pris d'une profonde sympathie pour ce grand flemmard de gabelou que me semblait l'image meme de la douane, non pas de la douane tracassiere des frontieres terriennes, mais de la bonne douane flaneuse et contemplative des falaises et des greves.\n",
      "son nom etait pascal ; or, il aurait du s'appeler baptiste, tant il apportait de douce quietude a accomplir tous les actes de sa vie.\n",
      "et c'etait plaisir de le voir, les mains derriere le dos, trainer lentement ses trois heures de faction sur les quais, de preference ceux ou ne s'amarraient que des barques hors d'usage et des yachts desarmes.\n",
      "aussitot son service termine, vite pascal abandonnait son pantalon bleu et sa tunique verte pour enfiler une cotte de toile et une longue blouse a laquelle des coups de soleil sans nombre et des averses diluviennes (peut-etre meme antediluviennes) avaient donne ce ton special qu'on ne trouve que sur le dos des pecheurs a la ligne. car pascal pechait a la ligne, comme feu monseigneur le prince de ligne lui-meme.\n",
      "pas un homme comme lui pour connaitre les bons coins dans les bassins et appater judicieusement, avec du ver de terre, de la crevette cuite, de la crevette crue ou toute autre nourriture traitresse.\n",
      "obligeant, avec cela, et ne refusant jamais ses conseils aux debutants. aussi avions-nous lie rapidement connaissance tous deux.\n",
      "une chose m'intriguait chez lui c'etait l'espece de petite classe qu'il trainait chaque jour a ses cotes trois garcons et deux filles, tous differents de visage et d'age.\n",
      "ses enfants ? non, car le plus petit air de famille ne se remarquait sur leur physionomie. alors, sans doute, des petits voisins.\n",
      "pascal installait les cinq momes avec une grande sollicitude, le plus jeune tout pres de lui, l'aine a l'autre bout.\n",
      "et tout ce petit monde se mettait a pecher comme des hommes, avec un serieux si comique que je ne pouvais les regarder sans rire.\n",
      "ce qui m'amusait beaucoup aussi, c'est la facon dont pascal designait chacun des gosses.\n",
      "au lieu de leur donner leur nom de bapteme, comme cela se pratique generalement, eugene, victor ou emile, il leur attribuait une profession ou une nationalite.\n",
      "il y avait le sous-inspecteur, la norvegienne, le courtier, l'assureur, et monsieur l'abbe.\n",
      "le sous-inspecteur etait l'aine, et monsieur l'abbe le plus petit.\n",
      "les enfants, d'ailleurs, semblaient habitues a ces designations, et quand pascal disait : \" sous-inspecteur, va me chercher quatre sous de tabac \", le sous-inspecteur se levait gravement et accomplissait sa mission sans le moindre etonnement.\n",
      "un jour, me promenant sur la greve, je rencontrai mon ami pascal en faction, les bras croises, la carabine en bandouliere, et contemplant melancoliquement le soleil tout pret a se coucher, la-bas, dans la mer.\n",
      "- un joli spectacle, pascal !\n",
      "- superbe ! on ne s'en lasserait jamais.\n",
      "- seriez-vous poete ?\n",
      "- ma foi ! non ; je ne suis qu'un simple gabelou, mais ca n'empeche pas d'admirer la nature.\n",
      "brave pascal ! nous causames longuement et j'appris enfin l'origine des appellations bizarres dont il affublait ses jeunes camarades de peche.\n",
      "- quand j'ai epouse ma femme, elle etait bonne chez le sous-inspecteur des douanes. c'est meme lui qui m'a engage a l'epouser. il savait bien ce qu'il faisait, le bougre, car six mois apres elle accouchait de notre aine, celui que j'appelle le sous-inspecteur, comme de juste. l'annee suivante, ma femme avait une petite fille qui ressemblait tellement a un grand jeune homme norvegien dont elle faisait le menage, que je n'eus pas une minute de doute. celle-la, c'est la norvegienne. et puis, tous les ans, ca a continue. non pas que ma femme soit plus devergondee qu'une autre, mais elle a trop bon coeur. des natures comme ca, ca ne sait pas refuser. bref, j'ai sept enfants, et il n'y a que le dernier qui soit de moi.\n",
      "- et celui-la, vous l'appelez le douanier, je suppose ?\n",
      "- non, je l'appelle le cocu, c'est plus gentil.\n",
      "l'hiver arrivait ; je dus quitter houlbec, non sans faire de touchants adieux a mon ami pascal et a tous ses petits fonctionnaires. je leur offris meme de menus cadeaux qui les comblerent de joie.\n",
      "l'annee suivante, je revins a houlbec pour y passer l'ete.\n",
      "le jour meme de mon arrivee, je rencontrais la norvegienne, en train de faire des commissions.\n",
      "ce qu'elle etait devenue jolie, cette petite norvegienne !\n",
      "avec ses grands yeux verts de mer et ses cheveux d'or pale, elle semblait une de ces fees blondes des legendes scandinaves. elle me reconnut et courut a moi. \n",
      "je l'embrassai : \n",
      "- bonjour, norvegienne, comment vas-tu ? \n",
      "- ca va bien, monsieur, je vous remercie. \n",
      "- et ton papa ? \n",
      "- il va bien, monsieur, je vous remercie. \n",
      "- et ta maman, ta petite soeur, tes petits freres ? \n",
      "- tout le monde va bien, monsieur, je vous remercie. le cocu a eu la rougeole cet hiver, mais il est tout a fait gueri maintenant... et puis, la semaine derniere, maman a accouche d'un petit juge de paix.\n",
      "\n",
      "\n"
     ]
    }
   ],
   "source": [
    "u = v.uncrypt(t)\n",
    "texte=[]\n",
    "i=0\n",
    "for x in poly:\n",
    "    if x.isalpha():\n",
    "        texte.append(u[i])\n",
    "        i+=1\n",
    "    else: texte.append(x)\n",
    "texte = ''.join(texte)\n",
    "print (texte.lower())"
   ]
  },
  {
   "cell_type": "markdown",
   "id": "4d277a38",
   "metadata": {},
   "source": [
    "## Exercice 4"
   ]
  },
  {
   "cell_type": "code",
   "execution_count": 32,
   "id": "cabb5694",
   "metadata": {},
   "outputs": [],
   "source": [
    "u=['99', 'f0', '11', '31', '3f', 'f6', '9d', '52']\n",
    "v=['89', 'fa', '1f', '34', '38', 'eb', '8c', '59']"
   ]
  },
  {
   "cell_type": "code",
   "execution_count": 33,
   "id": "49826e04",
   "metadata": {},
   "outputs": [],
   "source": [
    "u = [int(x,16) for x in u]\n",
    "v = [int(x,16) for x in v]"
   ]
  },
  {
   "cell_type": "code",
   "execution_count": 34,
   "id": "c57a47a2",
   "metadata": {},
   "outputs": [],
   "source": [
    "xx = [u[i]^v[i] for i in range(len(u))]"
   ]
  },
  {
   "cell_type": "code",
   "execution_count": null,
   "id": "fc92654f",
   "metadata": {},
   "outputs": [],
   "source": [
    "with open('/usr/share/dict/words','r') as dico:\n",
    "    dd = [w.rstrip().lower() for w in dico]\n",
    "dd8=[list(map(ord,w)) for w in dd if len(w)==8]"
   ]
  },
  {
   "cell_type": "code",
   "execution_count": 36,
   "id": "63a7534d",
   "metadata": {},
   "outputs": [],
   "source": [
    "def f(w):\n",
    "    return [w[i]^xx[i] for i in range(8)]"
   ]
  },
  {
   "cell_type": "code",
   "execution_count": null,
   "id": "7b112d32",
   "metadata": {},
   "outputs": [],
   "source": [
    "res = [w for w in dd8 if f(w) in dd8]"
   ]
  },
  {
   "cell_type": "code",
   "execution_count": null,
   "id": "889dbbeb",
   "metadata": {},
   "outputs": [],
   "source": [
    "print (len(res))\n",
    "print (''.join(map(chr,res[0])))\n",
    "print (''.join(map(chr,res[1])))"
   ]
  },
  {
   "cell_type": "code",
   "execution_count": null,
   "id": "6d73f160",
   "metadata": {},
   "outputs": [],
   "source": []
  }
 ],
 "metadata": {
  "kernelspec": {
   "display_name": "Python 3 (ipykernel)",
   "language": "python",
   "name": "python3"
  },
  "language_info": {
   "codemirror_mode": {
    "name": "ipython",
    "version": 3
   },
   "file_extension": ".py",
   "mimetype": "text/x-python",
   "name": "python",
   "nbconvert_exporter": "python",
   "pygments_lexer": "ipython3",
   "version": "3.11.2"
  }
 },
 "nbformat": 4,
 "nbformat_minor": 5
}
