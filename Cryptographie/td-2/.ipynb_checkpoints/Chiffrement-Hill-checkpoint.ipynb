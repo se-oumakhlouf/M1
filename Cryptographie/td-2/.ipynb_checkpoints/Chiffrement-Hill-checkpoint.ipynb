{
 "cells": [
  {
   "cell_type": "markdown",
   "id": "dfd6694f",
   "metadata": {},
   "source": [
    "# Cryptographie 2\n",
    "\n",
    "## Le chiffrement de Hill"
   ]
  },
  {
   "cell_type": "markdown",
   "id": "16b9e004",
   "metadata": {},
   "source": [
    "### Déchiffrement"
   ]
  },
  {
   "cell_type": "code",
   "execution_count": 84,
   "id": "f3b53a65",
   "metadata": {},
   "outputs": [],
   "source": [
    "from IPython.display import display, Math\n",
    "from sympy import Matrix"
   ]
  },
  {
   "cell_type": "code",
   "execution_count": 85,
   "id": "562d8d0e",
   "metadata": {},
   "outputs": [
    {
     "data": {
      "text/latex": [
       "$\\displaystyle L\\ \\text{application de matrice}\\ A = \\begin{bmatrix} 1 & 3 \\\\ 5 & 12 \\end{bmatrix}\\ \\text{est-elle utilisable pour un cryptage de Hill ?}$"
      ],
      "text/plain": [
       "<IPython.core.display.Math object>"
      ]
     },
     "metadata": {},
     "output_type": "display_data"
    }
   ],
   "source": [
    "display(Math(r'L\\ \\text{application de matrice}\\ A = \\begin{bmatrix} 1 & 3 \\\\ 5 & 12 \\end{bmatrix}\\ \\text{est-elle utilisable pour un cryptage de Hill ?}'))"
   ]
  },
  {
   "cell_type": "code",
   "execution_count": 86,
   "id": "bb081784",
   "metadata": {},
   "outputs": [
    {
     "name": "stdout",
     "output_type": "stream",
     "text": [
      "Déterminant : (1x12 - 3x5) ->  -3\n"
     ]
    }
   ],
   "source": [
    "print(\"Déterminant : (1x12 - 3x5) -> \", 1 * 12 - 3 * 5)"
   ]
  },
  {
   "cell_type": "code",
   "execution_count": 87,
   "id": "d95b87aa",
   "metadata": {},
   "outputs": [
    {
     "name": "stdout",
     "output_type": "stream",
     "text": [
      "Le déterminant est inversible si pgcd( det(A), 26 ) = 1, or 23 est premier avec 26 donc pgcd( det(A), 26 ) = 1\n"
     ]
    }
   ],
   "source": [
    "print(\"Le déterminant est inversible si pgcd( det(A), 26 ) = 1, or 23 est premier avec 26 donc pgcd( det(A), 26 ) = 1\")"
   ]
  },
  {
   "cell_type": "code",
   "execution_count": 139,
   "id": "161073de",
   "metadata": {},
   "outputs": [],
   "source": [
    "def letter_to_number(letter):\n",
    "    return ord(letter.lower()) - ord('a')\n",
    "\n",
    "def texte_to_number(texte):\n",
    "    return [letter_to_number(letter) for letter in texte if letter.isalpha()]\n",
    "\n",
    "def number_to_letter(numbers):\n",
    "    return ''.join(chr(number + ord('a')) for number in numbers)"
   ]
  },
  {
   "cell_type": "code",
   "execution_count": 150,
   "id": "433febc0",
   "metadata": {},
   "outputs": [],
   "source": [
    "def encrypt(texte, A, k=2):\n",
    "    numbers = texte_to_number(texte)\n",
    "    k_blocs = [numbers[i:i+k] for i in range(0, len(numbers), k)]\n",
    "    \n",
    "    blocs_chiffres = []\n",
    "    for bloc in k_blocs:\n",
    "        if len(bloc) == k:\n",
    "            M = Matrix(bloc).reshape(k, 1)\n",
    "            C = (A * M) % 26\n",
    "            blocs_chiffres.extend([C[i] for i in range(k)])  # Ajouter les éléments du vecteur C\n",
    "    \n",
    "    chiffres = [int(C) for C in blocs_chiffres]  # Convertir en entiers\n",
    "    return number_to_texte(chiffres)\n"
   ]
  },
  {
   "cell_type": "code",
   "execution_count": 151,
   "id": "5f45ea54",
   "metadata": {},
   "outputs": [],
   "source": [
    "def decrypt(texte, A_inv, k=2):\n",
    "    numbers = texte_to_number(texte)\n",
    "    k_blocs = [numbers[i:i+k] for i in range(0, len(numbers), k)]\n",
    "    \n",
    "    blocs_dechiffres = []\n",
    "    for bloc in k_blocs:\n",
    "        if len(bloc) == k:\n",
    "            M = Matrix(bloc).reshape(k, 1)\n",
    "            C_inv = (A_inv * M) % 26\n",
    "            blocs_dechiffres.extend([C_inv[i] for i in range(k)])  # Ajouter les éléments du vecteur C_inv\n",
    "    \n",
    "    chiffres = [int(C_inv) for C_inv in blocs_dechiffres]  # Convertir en entiers\n",
    "    return number_to_texte(chiffres)\n"
   ]
  },
  {
   "cell_type": "code",
   "execution_count": 152,
   "id": "53e28449",
   "metadata": {},
   "outputs": [
    {
     "name": "stdout",
     "output_type": "stream",
     "text": [
      "exemple\n"
     ]
    },
    {
     "ename": "TypeError",
     "evalue": "'int' object is not iterable",
     "output_type": "error",
     "traceback": [
      "\u001b[0;31m---------------------------------------------------------------------------\u001b[0m",
      "\u001b[0;31mTypeError\u001b[0m                                 Traceback (most recent call last)",
      "Cell \u001b[0;32mIn [152], line 5\u001b[0m\n\u001b[1;32m      2\u001b[0m \u001b[38;5;28mprint\u001b[39m(text)\n\u001b[1;32m      4\u001b[0m A \u001b[38;5;241m=\u001b[39m Matrix([[\u001b[38;5;241m1\u001b[39m, \u001b[38;5;241m3\u001b[39m], [\u001b[38;5;241m5\u001b[39m ,\u001b[38;5;241m12\u001b[39m]])\n\u001b[0;32m----> 5\u001b[0m texte_encrypt \u001b[38;5;241m=\u001b[39m \u001b[43mencrypt\u001b[49m\u001b[43m(\u001b[49m\u001b[43mtext\u001b[49m\u001b[43m,\u001b[49m\u001b[43m \u001b[49m\u001b[43mA\u001b[49m\u001b[43m,\u001b[49m\u001b[43m \u001b[49m\u001b[43mk\u001b[49m\u001b[38;5;241;43m=\u001b[39;49m\u001b[38;5;241;43m2\u001b[39;49m\u001b[43m)\u001b[49m\n\u001b[1;32m      6\u001b[0m \u001b[38;5;28mprint\u001b[39m(\u001b[38;5;124m\"\u001b[39m\u001b[38;5;124m** Texte chiffré:\u001b[39m\u001b[38;5;124m\"\u001b[39m, texte_encrypt)\n\u001b[1;32m      8\u001b[0m \u001b[38;5;28mprint\u001b[39m()\n",
      "Cell \u001b[0;32mIn [150], line 13\u001b[0m, in \u001b[0;36mencrypt\u001b[0;34m(texte, A, k)\u001b[0m\n\u001b[1;32m     10\u001b[0m         blocs_chiffres\u001b[38;5;241m.\u001b[39mextend([C[i] \u001b[38;5;28;01mfor\u001b[39;00m i \u001b[38;5;129;01min\u001b[39;00m \u001b[38;5;28mrange\u001b[39m(k)])  \u001b[38;5;66;03m# Ajouter les éléments du vecteur C\u001b[39;00m\n\u001b[1;32m     12\u001b[0m chiffres \u001b[38;5;241m=\u001b[39m [\u001b[38;5;28mint\u001b[39m(C) \u001b[38;5;28;01mfor\u001b[39;00m C \u001b[38;5;129;01min\u001b[39;00m blocs_chiffres]  \u001b[38;5;66;03m# Convertir en entiers\u001b[39;00m\n\u001b[0;32m---> 13\u001b[0m \u001b[38;5;28;01mreturn\u001b[39;00m \u001b[43mnumber_to_texte\u001b[49m\u001b[43m(\u001b[49m\u001b[43mchiffres\u001b[49m\u001b[43m)\u001b[49m\n",
      "Cell \u001b[0;32mIn [128], line 17\u001b[0m, in \u001b[0;36mnumber_to_texte\u001b[0;34m(numbers)\u001b[0m\n\u001b[1;32m     16\u001b[0m \u001b[38;5;28;01mdef\u001b[39;00m \u001b[38;5;21mnumber_to_texte\u001b[39m(numbers):\n\u001b[0;32m---> 17\u001b[0m     \u001b[38;5;28;01mreturn\u001b[39;00m \u001b[38;5;124m'\u001b[39m\u001b[38;5;124m'\u001b[39m\u001b[38;5;241m.\u001b[39mjoin(\u001b[43m[\u001b[49m\u001b[43mnumber_to_letter\u001b[49m\u001b[43m(\u001b[49m\u001b[43mnum\u001b[49m\u001b[43m)\u001b[49m\u001b[43m \u001b[49m\u001b[38;5;28;43;01mfor\u001b[39;49;00m\u001b[43m \u001b[49m\u001b[43mnum\u001b[49m\u001b[43m \u001b[49m\u001b[38;5;129;43;01min\u001b[39;49;00m\u001b[43m \u001b[49m\u001b[43mnumbers\u001b[49m\u001b[43m]\u001b[49m)\n",
      "Cell \u001b[0;32mIn [128], line 17\u001b[0m, in \u001b[0;36m<listcomp>\u001b[0;34m(.0)\u001b[0m\n\u001b[1;32m     16\u001b[0m \u001b[38;5;28;01mdef\u001b[39;00m \u001b[38;5;21mnumber_to_texte\u001b[39m(numbers):\n\u001b[0;32m---> 17\u001b[0m     \u001b[38;5;28;01mreturn\u001b[39;00m \u001b[38;5;124m'\u001b[39m\u001b[38;5;124m'\u001b[39m\u001b[38;5;241m.\u001b[39mjoin([\u001b[43mnumber_to_letter\u001b[49m\u001b[43m(\u001b[49m\u001b[43mnum\u001b[49m\u001b[43m)\u001b[49m \u001b[38;5;28;01mfor\u001b[39;00m num \u001b[38;5;129;01min\u001b[39;00m numbers])\n",
      "Cell \u001b[0;32mIn [139], line 8\u001b[0m, in \u001b[0;36mnumber_to_letter\u001b[0;34m(numbers)\u001b[0m\n\u001b[1;32m      7\u001b[0m \u001b[38;5;28;01mdef\u001b[39;00m \u001b[38;5;21mnumber_to_letter\u001b[39m(numbers):\n\u001b[0;32m----> 8\u001b[0m     \u001b[38;5;28;01mreturn\u001b[39;00m \u001b[38;5;124m'\u001b[39m\u001b[38;5;124m'\u001b[39m\u001b[38;5;241m.\u001b[39mjoin(\u001b[38;5;28mchr\u001b[39m(number \u001b[38;5;241m+\u001b[39m \u001b[38;5;28mord\u001b[39m(\u001b[38;5;124m'\u001b[39m\u001b[38;5;124ma\u001b[39m\u001b[38;5;124m'\u001b[39m)) \u001b[38;5;28;01mfor\u001b[39;00m number \u001b[38;5;129;01min\u001b[39;00m numbers)\n",
      "\u001b[0;31mTypeError\u001b[0m: 'int' object is not iterable"
     ]
    }
   ],
   "source": [
    "text = \"exemple\"\n",
    "print(text)\n",
    "\n",
    "A = Matrix([[1, 3], [5 ,12]])\n",
    "texte_encrypt = encrypt(text, A, k=2)\n",
    "print(\"** Texte chiffré:\", texte_encrypt)\n",
    "\n",
    "print()\n",
    "\n",
    "A_inv = A.inv_mod(26)\n",
    "text_decrypt = decrypt(texte_encrypt, A_inv, k=2)\n",
    "print(\"** Texte déchiffré:\", text_decrypt)"
   ]
  },
  {
   "cell_type": "code",
   "execution_count": null,
   "id": "bf69c266",
   "metadata": {},
   "outputs": [],
   "source": []
  }
 ],
 "metadata": {
  "kernelspec": {
   "display_name": "Python 3 (ipykernel)",
   "language": "python",
   "name": "python3"
  },
  "language_info": {
   "codemirror_mode": {
    "name": "ipython",
    "version": 3
   },
   "file_extension": ".py",
   "mimetype": "text/x-python",
   "name": "python",
   "nbconvert_exporter": "python",
   "pygments_lexer": "ipython3",
   "version": "3.11.2"
  }
 },
 "nbformat": 4,
 "nbformat_minor": 5
}
