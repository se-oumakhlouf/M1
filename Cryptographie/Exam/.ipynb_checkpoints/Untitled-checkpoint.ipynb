{
 "cells": [
  {
   "cell_type": "markdown",
   "id": "e222e83f",
   "metadata": {},
   "source": [
    "## Exercice 1\n",
    "\n",
    "<br>\n",
    "\n",
    "📌 Pourquoi n = 257 (et pas 256) ?\n",
    "\n",
    "    L'alphabet des octets = 0 à 255 → soit 256 valeurs\n",
    "\n",
    "    Mais pour que a ait un inverse mod n, on a besoin que a soit premier avec n\n",
    "\n",
    "    Si n = 256, ce n’est pas un nombre premier → beaucoup de a n’ont pas d’inverse\n",
    "\n",
    "    En prenant n = 257 (qui est premier), tous a avec gcd(a, 257) = 1 ont un inverse\n",
    "\n",
    "    Donc 257 assure que la fonction affine est bijective sur les octets\n",
    "\n",
    "    ✅ 257 est premier → on a 256 inversibles possibles pour a.\n",
    "    \n",
    "<br>\n",
    "\n",
    "🔢 Combien de clés possibles ?\n",
    "\n",
    "    Il faut que gcd(a, 257) == 1 → il y a φ(257) = 256 valeurs possibles pour a\n",
    "\n",
    "    b peut être n’importe quel entier entre 0 et 256 → donc 257 possibilités\n",
    "\n",
    "```py\n",
    "256 (valeurs possibles pour a) × 257 (valeurs pour b) = 65 792 clés possibles\n",
    "\n",
    "```"
   ]
  },
  {
   "cell_type": "code",
   "execution_count": 21,
   "id": "c2945149",
   "metadata": {},
   "outputs": [],
   "source": [
    "from sympy import mod_inverse\n",
    "\n",
    "class Affine:\n",
    "    def __init__(self, a, b, n):\n",
    "        self.a = a\n",
    "        self.b = b\n",
    "        self.n = n\n",
    "        self.a_inv = mod_inverse(a, n)\n",
    "        \n",
    "    def crypt(self, string):\n",
    "        return bytes([(self.a * ord(c) + self.b) % self.n for c in string]).hex().encode()\n",
    "    \n",
    "    def decrypt(self, text):\n",
    "        text = text.decode()\n",
    "        raw = bytes.fromhex(text)\n",
    "        return ''.join(chr((self.a_inv * (y - self.b)) % self.n) for y in raw)\n"
   ]
  },
  {
   "cell_type": "code",
   "execution_count": 24,
   "id": "c3654383",
   "metadata": {},
   "outputs": [
    {
     "name": "stdout",
     "output_type": "stream",
     "text": [
      "b'5d9e51699ebec014e25162'\n",
      "Ça marche !\n"
     ]
    }
   ],
   "source": [
    "A = Affine(17,51,257)\n",
    "crypt = A.crypt('Ça marche !')\n",
    "decrypt = A.decrypt(crypt)\n",
    "print(crypt)\n",
    "print(decrypt)"
   ]
  },
  {
   "cell_type": "code",
   "execution_count": null,
   "id": "77903068",
   "metadata": {},
   "outputs": [],
   "source": []
  },
  {
   "cell_type": "code",
   "execution_count": 38,
   "id": "7ce398cd",
   "metadata": {},
   "outputs": [
    {
     "name": "stdout",
     "output_type": "stream",
     "text": [
      "Trouvé : a=17, b=51\n",
      "Message : Est-ce que ce système est vraiment sûr ?\n"
     ]
    }
   ],
   "source": [
    "from sympy import mod_inverse\n",
    "from itertools import product\n",
    "\n",
    "n = 257\n",
    "cipher_hex = 'c4cfe02dc0e251adf1e251c0e251cf34cfe08c69e251e2cfe05101be9e2569e27ae051cfcebe515e'\n",
    "cipher_bytes = bytes.fromhex(cipher_hex)\n",
    "\n",
    "cipher_ints = list(cipher_bytes)\n",
    "\n",
    "# Trouver tous les a tels que gcd(a, 257) == 1 (i.e. a est inversible mod 257)\n",
    "invertibles = [a for a in range(1, n) if pow(a, -1, n)]\n",
    "\n",
    "for a in invertibles:\n",
    "    a_inv = mod_inverse(a, n)\n",
    "    for b in range(n):\n",
    "        try:\n",
    "            plain = ''.join(chr((a_inv * (y - b)) % n) for y in cipher_ints)\n",
    "            if plain.endswith(\" ?\"):\n",
    "                print(f\"Trouvé : a={a}, b={b}\")\n",
    "                print(\"Message :\", plain)\n",
    "                break\n",
    "        except:\n",
    "            continue"
   ]
  },
  {
   "cell_type": "code",
   "execution_count": null,
   "id": "076bc281",
   "metadata": {},
   "outputs": [],
   "source": []
  },
  {
   "cell_type": "markdown",
   "id": "de9e540e",
   "metadata": {},
   "source": [
    "- La suggestion de l'ingénieur n'est pas une bonne idée, c'est encore un chiffrement affine\n",
    "\n",
    "<br>\n",
    "\n",
    "- Il pense :\n",
    "    - Chaque (a, b) donne 256 * 257 = 65920 clés possibles\n",
    "    - 3 couches -> 65920^3 \n",
    "\n",
    "    Mais en réalité les triples clés se réduisent à un seul (a', b')\n",
    "    \n",
    "    Donc, l'ensemble des chiffrés possibles reste de taille 65920"
   ]
  },
  {
   "cell_type": "code",
   "execution_count": null,
   "id": "110b31f1",
   "metadata": {},
   "outputs": [],
   "source": []
  },
  {
   "cell_type": "markdown",
   "id": "ce936a2b",
   "metadata": {},
   "source": [
    "## Exercice 2 — Groupe des inversibles modulo 2025\n",
    "\n",
    "```python\n",
    "from math import gcd\n",
    "from sympy import crt\n",
    "\n",
    "# === Étape 1 : Nombre d'éléments de G_{2025} ===\n",
    "n = 2025\n",
    "# 2025 = 5^2 * 3^4\n",
    "phi_2025 = (25 - 5) * (81 - 27)  # φ(5^2) * φ(3^4)\n",
    "print(\"Nombre d'inversibles modulo 2025 :\", phi_2025)  # 1080\n",
    "\n",
    "# === Étape 2 : Structure de G_{2025} ===\n",
    "# G_2025 ≅ G_25 × G_81\n",
    "\n",
    "# === Étape 3 : Ordres des éléments de G_25 et G_81 ===\n",
    "def order(x, mod):\n",
    "    for k in range(1, mod + 1):\n",
    "        if pow(x, k, mod) == 1:\n",
    "            return k\n",
    "    return None\n",
    "\n",
    "# G_25\n",
    "mod25 = 25\n",
    "G25 = [x for x in range(1, mod25) if gcd(x, mod25) == 1]\n",
    "orders25 = {x: order(x, mod25) for x in G25}\n",
    "print(\"\\nOrdres dans G_25 :\")\n",
    "print(orders25)\n",
    "\n",
    "# G_81\n",
    "mod81 = 81\n",
    "G81 = [x for x in range(1, mod81) if gcd(x, mod81) == 1]\n",
    "orders81 = {x: order(x, mod81) for x in G81}\n",
    "print(\"\\nOrdres dans G_81 :\")\n",
    "print(orders81)\n",
    "\n",
    "# === Étape 4 : Élément d'ordre maximal dans G_{2025} ===\n",
    "# Ordre max = ppcm(20, 54) = 540\n",
    "from math import lcm\n",
    "\n",
    "target_order = lcm(20, 54)  # 540\n",
    "\n",
    "# Trouver x d'ordre 20 dans G25\n",
    "x_max = next(x for x, o in orders25.items() if o == 20)\n",
    "# Trouver y d'ordre 54 dans G81\n",
    "y_max = next(y for y, o in orders81.items() if o == 54)\n",
    "\n",
    "print(f\"\\nÉlément (x, y) = ({x_max}, {y_max}) a un ordre {target_order} dans G_2025\")\n",
    "\n",
    "# === Étape 5 : Représentation de g mod 2025 via CRT ===\n",
    "g, _ = crt([25, 81], [x_max, y_max])\n",
    "print(\"Représentation de g mod 2025 :\", g)\n"
   ]
  },
  {
   "cell_type": "code",
   "execution_count": null,
   "id": "3e9130af",
   "metadata": {},
   "outputs": [],
   "source": []
  },
  {
   "cell_type": "markdown",
   "id": "5d5c7292",
   "metadata": {},
   "source": [
    "## Exercice 3"
   ]
  },
  {
   "cell_type": "code",
   "execution_count": 43,
   "id": "adaeea84",
   "metadata": {},
   "outputs": [
    {
     "name": "stdout",
     "output_type": "stream",
     "text": [
      "9973 est premier : True\n",
      "11 est un générateur de Z*_9973 : True\n"
     ]
    }
   ],
   "source": [
    "from sympy import isprime, totient, primitive_root\n",
    "\n",
    "p = 9973\n",
    "g = 11\n",
    "\n",
    "# Est-ce que p est premier ?\n",
    "print(\"9973 est premier :\", isprime(p))  # True\n",
    "\n",
    "# Est-ce que 11 est un générateur ?\n",
    "print(\"11 est un générateur de Z*_9973 :\", primitive_root(p) == g)"
   ]
  },
  {
   "cell_type": "code",
   "execution_count": 44,
   "id": "b990ce4f",
   "metadata": {},
   "outputs": [
    {
     "name": "stdout",
     "output_type": "stream",
     "text": [
      "Clé commune : 955\n",
      "Vérification : True\n"
     ]
    }
   ],
   "source": [
    "# Paramètres\n",
    "a = 4096\n",
    "b = 8192\n",
    "\n",
    "# Échange de clés\n",
    "A = pow(g, a, p)  # g^a mod p envoyé à Bob\n",
    "B = pow(g, b, p)  # g^b mod p envoyé à Alice\n",
    "\n",
    "# Clé commune\n",
    "key_Alice = pow(B, a, p)\n",
    "key_Bob   = pow(A, b, p)\n",
    "\n",
    "print(\"Clé commune :\", key_Alice)\n",
    "print(\"Vérification :\", key_Alice == key_Bob)\n"
   ]
  },
  {
   "cell_type": "markdown",
   "id": "946da702",
   "metadata": {},
   "source": [
    "Interception de y = 1985 = 11^x mod 9973\n",
    "\n",
    "Combien de tels x ?\n",
    "\n",
    "Il en existe une infinité dans Z, mais uniquement un dans [0, p - 2] car le groupe (Z/pZ)* a ordre p - 1 = 9972\n",
    "donc x appartient à [0, 9971]"
   ]
  },
  {
   "cell_type": "code",
   "execution_count": 48,
   "id": "6a7c299d",
   "metadata": {},
   "outputs": [
    {
     "name": "stdout",
     "output_type": "stream",
     "text": [
      "6777\n"
     ]
    }
   ],
   "source": [
    "for i in range(1, p):\n",
    "    if pow(g, i, p) == 1985:\n",
    "        print(i)"
   ]
  },
  {
   "cell_type": "code",
   "execution_count": 49,
   "id": "3fe124cc",
   "metadata": {},
   "outputs": [
    {
     "name": "stdout",
     "output_type": "stream",
     "text": [
      "2733\n",
      "6057\n",
      "9381\n"
     ]
    }
   ],
   "source": [
    "for i in range(1, p):\n",
    "    if pow(2, i, p) == 1985:\n",
    "        print(i)"
   ]
  },
  {
   "cell_type": "code",
   "execution_count": 50,
   "id": "46e2ce6d",
   "metadata": {},
   "outputs": [],
   "source": [
    "# Elgamal"
   ]
  },
  {
   "cell_type": "code",
   "execution_count": 51,
   "id": "018e903c",
   "metadata": {},
   "outputs": [],
   "source": [
    "x = 2014\n",
    "g = 11\n",
    "p = 9973"
   ]
  },
  {
   "cell_type": "code",
   "execution_count": 53,
   "id": "48fb3ddd",
   "metadata": {},
   "outputs": [
    {
     "name": "stdout",
     "output_type": "stream",
     "text": [
      "Clé publique: 9915\n"
     ]
    }
   ],
   "source": [
    "y = pow(g, x, p)\n",
    "print(f'Clé publique: {y}')"
   ]
  },
  {
   "cell_type": "code",
   "execution_count": 57,
   "id": "15513fc3",
   "metadata": {},
   "outputs": [],
   "source": [
    "m = 1000\n",
    "k = 997"
   ]
  },
  {
   "cell_type": "code",
   "execution_count": 58,
   "id": "5134758a",
   "metadata": {},
   "outputs": [
    {
     "name": "stdout",
     "output_type": "stream",
     "text": [
      "4672 7552\n"
     ]
    }
   ],
   "source": [
    "c1, c2 = pow(g, k, p), m*pow(y, k, p) % p\n",
    "print(c1, c2)"
   ]
  },
  {
   "cell_type": "code",
   "execution_count": 60,
   "id": "e8e3ea04",
   "metadata": {},
   "outputs": [
    {
     "data": {
      "text/plain": [
       "1000"
      ]
     },
     "execution_count": 60,
     "metadata": {},
     "output_type": "execute_result"
    }
   ],
   "source": [
    "c2 * pow(c1, -x, p) % p # on retrouve bien m"
   ]
  },
  {
   "cell_type": "code",
   "execution_count": null,
   "id": "72e6ca71",
   "metadata": {},
   "outputs": [],
   "source": []
  },
  {
   "cell_type": "code",
   "execution_count": null,
   "id": "57e77a80",
   "metadata": {},
   "outputs": [],
   "source": []
  },
  {
   "cell_type": "code",
   "execution_count": 63,
   "id": "9103746e",
   "metadata": {},
   "outputs": [
    {
     "ename": "AssertionError",
     "evalue": "",
     "output_type": "error",
     "traceback": [
      "\u001b[0;31m---------------------------------------------------------------------------\u001b[0m",
      "\u001b[0;31mAssertionError\u001b[0m                            Traceback (most recent call last)",
      "Cell \u001b[0;32mIn [63], line 13\u001b[0m\n\u001b[1;32m     11\u001b[0m \u001b[38;5;66;03m# Calcul des coefficients u,v\u001b[39;00m\n\u001b[1;32m     12\u001b[0m g, u, v \u001b[38;5;241m=\u001b[39m gcdex(eA, eB)\n\u001b[0;32m---> 13\u001b[0m \u001b[38;5;28;01massert\u001b[39;00m g \u001b[38;5;241m==\u001b[39m \u001b[38;5;241m1\u001b[39m  \u001b[38;5;66;03m# doivent être premiers entre eux\u001b[39;00m\n\u001b[1;32m     15\u001b[0m \u001b[38;5;66;03m# Calcul de m mod n\u001b[39;00m\n\u001b[1;32m     16\u001b[0m \u001b[38;5;28;01mdef\u001b[39;00m \u001b[38;5;21mmod_exp\u001b[39m(base, exp, mod):\n",
      "\u001b[0;31mAssertionError\u001b[0m: "
     ]
    }
   ],
   "source": [
    "# exo 4\n",
    "\n",
    "# Oui, on peut trouver u,v avec l’algorithme d’Euclide étendu puisque eA et eB\n",
    "# sont coprimes (65537 est premier et 257 aussi, donc gcd=1).\n",
    "\n",
    "from sympy import mod_inverse, gcdex\n",
    "\n",
    "# Données\n",
    "n = 44942328371557897693232629769725618340449424473557664318357520289433168951376793301269420039537032984768490972523105225431814138814743207661237908612575797345527702331326154127973247339275267455017925266947859565330300466219511848274105937770404243736776279645977773354774471837951077171852876195897050910997\n",
    "eA = 65537\n",
    "eB = 257\n",
    "cA = 2890175820129140464421271269861698748449229874405706990608996215638222560555743387679966245105557589866543352795483766592568308732472524057696260767984428813519528244685713708244871995498190525412859153072046589353094552419526026840798718154367204358051849492540940629466343393712897862044908783414179376386\n",
    "cB = 43736179885540107207493558622960705928338591136288802324719801974463720249118565070918447174406319292206085924320653916554819421705334735346169416433241964170391709483595944865786545370344786549972427812990059592911322805653924995273059835083164854418981094151177291028305309520045142252292318056474971045813\n",
    "\n",
    "# Calcul des coefficients u,v\n",
    "g, u, v = gcdex(eA, eB)\n",
    "assert g == 1  # doivent être premiers entre eux\n",
    "\n",
    "# Calcul de m mod n\n",
    "def mod_exp(base, exp, mod):\n",
    "    if exp < 0:\n",
    "        base = mod_inverse(base, mod)\n",
    "        exp = -exp\n",
    "    return pow(base, exp, mod)\n",
    "\n",
    "m = (mod_exp(cA, u, n) * mod_exp(cB, v, n)) % n\n",
    "\n",
    "# Conversion en ascii\n",
    "msg_hex = hex(m)[2:]  # retirer '0x'\n",
    "if len(msg_hex) % 2:\n",
    "    msg_hex = '0' + msg_hex  # padding si nécessaire\n",
    "msg_ascii = bytes.fromhex(msg_hex).decode('utf-8', errors='replace')\n",
    "\n",
    "print(msg_ascii)\n"
   ]
  },
  {
   "cell_type": "code",
   "execution_count": null,
   "id": "bc6bc663",
   "metadata": {},
   "outputs": [],
   "source": []
  }
 ],
 "metadata": {
  "kernelspec": {
   "display_name": "Python 3 (ipykernel)",
   "language": "python",
   "name": "python3"
  },
  "language_info": {
   "codemirror_mode": {
    "name": "ipython",
    "version": 3
   },
   "file_extension": ".py",
   "mimetype": "text/x-python",
   "name": "python",
   "nbconvert_exporter": "python",
   "pygments_lexer": "ipython3",
   "version": "3.11.2"
  }
 },
 "nbformat": 4,
 "nbformat_minor": 5
}
