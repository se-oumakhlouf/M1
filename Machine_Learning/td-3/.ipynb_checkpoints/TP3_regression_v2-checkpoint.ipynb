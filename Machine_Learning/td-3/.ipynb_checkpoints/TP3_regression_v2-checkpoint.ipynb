{
 "cells": [
  {
   "cell_type": "markdown",
   "id": "9b58247f-0b15-427d-a0dc-a76a713c48ea",
   "metadata": {},
   "source": [
    "## OUMAKHLOUF Selym\n",
    "\n",
    "# TP 3 : Modèles de Régression"
   ]
  },
  {
   "cell_type": "markdown",
   "id": "f8e14853-a411-4184-ba67-3c09b2614019",
   "metadata": {},
   "source": [
    "**Avant de commencer :** Merci de bien lire le préambule et l'énoncé de ce TP. Ça vous évitera de perdre beaucoup de temps ensuite. "
   ]
  },
  {
   "cell_type": "markdown",
   "id": "ab662174-bc6c-42f2-9caf-e13ffd63326a",
   "metadata": {},
   "source": [
    "**Rendu :** Le rendu doit contenir uniquement le fichier `.ipynb`. Le notebook doit être propre, le plus illustré et le plus commenté possible. "
   ]
  },
  {
   "cell_type": "markdown",
   "id": "edb54692-f4aa-4607-8788-a1c030aeb276",
   "metadata": {},
   "source": [
    "**Librairies :** Ce TP repose sur les librairies standard suivantes : \n",
    "- Numpy version : 1.23.1\n",
    "- Pandas version : 1.4.3\n",
    "- Matplotlib version : 3.5.2\n",
    "- Scikit learn version : 1.1.1\n",
    "\n",
    "<!-- En plus, on dispose d'un fichier `utils_tp3.py` qui contient des fonctions supplémentaires pour vous faciliter la vie. Vous devez mettre ce fichier **dans le même répertoire** que le fichier `.ipynb`. Vous ne devez pas modifier son contenu. Les fonctions présentes dans ce fichier sont directement disponibles grâce à l'appel `from utils import *`. -->\n",
    "\n",
    "Pour vérifier qu'elles sont bien installées dans votre environnement de travail, lancez la cellule suivante. Elle ne doit pas renvoyer d'erreur (un `Warning` n'est en général pas trop embêtant). \n",
    "\n",
    "Pour les numéros _exacts_ de version, ce n'est pas très grave s'il y a une petite différence (par exemple `numpy 1.22` au lieu de `1.23`), mais si vous avez une trop grosse différence (par exemple `sklearn 0.23` au lieu de `sklearn 1.1`), mettez à jour votre librairie. \n",
    "\n",
    "S'il vous manque une librairie (`No module named ...`), vous pouvez l'installer \n",
    "- Soit en utilisant votre gestionnaire d'environnement (p.ex. `conda`). \n",
    "- Soit directement depuis le notebook, en faisant\n",
    "```\n",
    "!pip install nom_de_la_librairie==numero_de_la_version\n",
    "```"
   ]
  },
  {
   "cell_type": "code",
   "execution_count": 1,
   "id": "a8cd512c-2638-4778-9a03-2327db394c9d",
   "metadata": {
    "tags": []
   },
   "outputs": [
    {
     "name": "stdout",
     "output_type": "stream",
     "text": [
      "- Numpy version : 1.24.2\n",
      "- Pandas version : 1.5.3\n",
      "- Matplotlib version : 3.6.3\n",
      "- Scikit learn version : 1.2.1\n"
     ]
    }
   ],
   "source": [
    "%matplotlib inline\n",
    "\n",
    "import numpy as np\n",
    "print(\"- Numpy version :\", np.__version__)\n",
    "import pandas as pd\n",
    "print(\"- Pandas version :\", pd.__version__)\n",
    "import matplotlib.pyplot as plt\n",
    "import matplotlib\n",
    "print(\"- Matplotlib version :\", matplotlib.__version__)\n",
    "\n",
    "import sklearn\n",
    "print(\"- Scikit learn version :\", sklearn.__version__)\n",
    "from sklearn.linear_model import LinearRegression\n",
    "from sklearn.datasets import load_diabetes\n",
    "from sklearn.metrics import mean_squared_error\n",
    "from sklearn.model_selection import train_test_split\n",
    "\n",
    "import utils_tp3 as utils"
   ]
  },
  {
   "cell_type": "markdown",
   "id": "a5a6e5b8-5235-4bed-8adc-396fa40d1dde",
   "metadata": {
    "tags": []
   },
   "source": [
    "# Partie 1 : Regression sur un \"vrai\" dataset"
   ]
  },
  {
   "cell_type": "markdown",
   "id": "66422825-0440-4d34-a0cf-0e2444bfffad",
   "metadata": {},
   "source": [
    "On va s'intéresser dans cette partie à un jeu de données fourni par `scikit-learn`: le `diabeŧ` dataset, dont la documentation est disponible [ici](https://scikit-learn.org/stable/modules/generated/sklearn.datasets.load_diabetes.html#sklearn.datasets.load_diabetes). Il est constitué de 442 observations en dimension 10 : âge, sexe, indice de masse corporel (lié au ratio taille vs poids), et quelques éléments médicaux comme le taux de cholestérol, etc.). \n",
    "\n",
    "**Attention :** les données ont été **normalisées**, une opération que nous verrons à l'occasion et qui permet d'éviter que des ordres de grandeurs trop différents affecte trop le modèle (par exemple l'âge vaut 50 et le taux de glicémine vaut 0.001, ce n'est pas comparable a priori. Là on a tout mis \"à la même échelle\"). \n",
    "\n",
    "L'objectif est de prédire une variable numérique qui décrit l'évolution de la maladie sur un an (si j'ai bien compris, plus c'est élevé moins c'est bon signe). "
   ]
  },
  {
   "cell_type": "markdown",
   "id": "db23a36b-1bae-4d57-b88f-e8c36d3bd2ec",
   "metadata": {},
   "source": [
    "On commence par charger le jeu de données avec `load_diabetes` (fourni par `sklearn`, importé en début de TP). On propose deux formats : un simple tableau `numpy` (pratique pour utiliser `sklearn` ensuite) et un `dataframe` (pratique pour l'exploration etc.). "
   ]
  },
  {
   "cell_type": "code",
   "execution_count": 2,
   "id": "dea54d26-6fb3-4672-8398-5ebf49c022ac",
   "metadata": {},
   "outputs": [],
   "source": [
    "# Version numpy\n",
    "diabetes_X, diabetes_y = load_diabetes(return_X_y=True)\n",
    "\n",
    "# Version pandas\n",
    "df_diabetes_X, df_diabetes_y = load_diabetes(return_X_y=True, as_frame=True)"
   ]
  },
  {
   "cell_type": "code",
   "execution_count": 3,
   "id": "234ee7aa-026f-4e08-916a-bd266eda3ab8",
   "metadata": {},
   "outputs": [
    {
     "data": {
      "text/plain": [
       "0      151.0\n",
       "1       75.0\n",
       "2      141.0\n",
       "3      206.0\n",
       "4      135.0\n",
       "       ...  \n",
       "437    178.0\n",
       "438    104.0\n",
       "439    132.0\n",
       "440    220.0\n",
       "441     57.0\n",
       "Name: target, Length: 442, dtype: float64"
      ]
     },
     "execution_count": 3,
     "metadata": {},
     "output_type": "execute_result"
    }
   ],
   "source": [
    "df_diabetes_y"
   ]
  },
  {
   "cell_type": "markdown",
   "id": "a95c7972-71dc-4ec3-83dc-83c0f08d7439",
   "metadata": {},
   "source": [
    "**Question 1:** Avant d'attaquer la vraie phase d'apprentissage, commencez par faire un peu d'exploratoire avec pandas (donc la variable `df_diabetes_X`)."
   ]
  },
  {
   "cell_type": "markdown",
   "id": "66ae278b",
   "metadata": {},
   "source": [
    "### Informations dans le User-Guide\n",
    "Attribute Information:\n",
    "- age age in years\n",
    "- sex\n",
    "- bmi body mass index\n",
    "- bp average blood pressure\n",
    "- s1 tc, total serum cholesterol\n",
    "- s2 ldl, low-density lipoproteins\n",
    "- s3 hdl, high-density lipoproteins\n",
    "- s4 tch, total cholesterol / HDL\n",
    "- s5 ltg, possibly log of serum triglycerides level\n",
    "- s6 glu, blood sugar level"
   ]
  },
  {
   "cell_type": "code",
   "execution_count": 60,
   "id": "78f7c2e1",
   "metadata": {},
   "outputs": [
    {
     "name": "stdout",
     "output_type": "stream",
     "text": [
      "Shape: (442, 10)\n",
      "\n",
      "Valeures null dans age: 0\n",
      "Valeures null dans sex: 0\n",
      "Valeures null dans bmi: 0\n",
      "Valeures null dans bp: 0\n",
      "Valeures null dans s1: 0\n",
      "Valeures null dans s2: 0\n",
      "Valeures null dans s3: 0\n",
      "Valeures null dans s4: 0\n",
      "Valeures null dans s5: 0\n",
      "Valeures null dans s6: 0\n",
      "\n",
      "Première ligne:\n",
      "         age      sex       bmi        bp        s1        s2        s3  \\\n",
      "0  0.038076  0.05068  0.061696  0.021872 -0.044223 -0.034821 -0.043401   \n",
      "\n",
      "         s4        s5        s6  \n",
      "0 -0.002592  0.019907 -0.017646  \n",
      "\n",
      "Dernière ligne:\n",
      "           age       sex      bmi        bp       s1        s2        s3  \\\n",
      "441 -0.045472 -0.044642 -0.07303 -0.081413  0.08374  0.027809  0.173816   \n",
      "\n",
      "           s4        s5        s6  \n",
      "441 -0.039493 -0.004222  0.003064  \n",
      "\n",
      "Nombres de valeures dans age: 442\n",
      "Nombres de valeures uniques dans age: 58\n",
      "\n",
      "Nombres de valeures dans sex: 442\n",
      "Nombres de valeures uniques dans sex: 2\n",
      "\n",
      "Nombres de valeures dans bmi: 442\n",
      "Nombres de valeures uniques dans bmi: 163\n",
      "\n",
      "Nombres de valeures dans bp: 442\n",
      "Nombres de valeures uniques dans bp: 100\n",
      "\n",
      "Nombres de valeures dans s1: 442\n",
      "Nombres de valeures uniques dans s1: 141\n",
      "\n",
      "Nombres de valeures dans s2: 442\n",
      "Nombres de valeures uniques dans s2: 302\n",
      "\n",
      "Nombres de valeures dans s3: 442\n",
      "Nombres de valeures uniques dans s3: 63\n",
      "\n",
      "Nombres de valeures dans s4: 442\n",
      "Nombres de valeures uniques dans s4: 66\n",
      "\n",
      "Nombres de valeures dans s5: 442\n",
      "Nombres de valeures uniques dans s5: 184\n",
      "\n",
      "Nombres de valeures dans s6: 442\n",
      "Nombres de valeures uniques dans s6: 56\n",
      "\n",
      "Sex: [ 0.05068012 -0.04464164]\n",
      "\n",
      "Corr:\n",
      "           age       sex       bmi        bp        s1        s2        s3  \\\n",
      "age  1.000000  0.173737  0.185085  0.335428  0.260061  0.219243 -0.075181   \n",
      "sex  0.173737  1.000000  0.088161  0.241010  0.035277  0.142637 -0.379090   \n",
      "bmi  0.185085  0.088161  1.000000  0.395411  0.249777  0.261170 -0.366811   \n",
      "bp   0.335428  0.241010  0.395411  1.000000  0.242464  0.185548 -0.178762   \n",
      "s1   0.260061  0.035277  0.249777  0.242464  1.000000  0.896663  0.051519   \n",
      "s2   0.219243  0.142637  0.261170  0.185548  0.896663  1.000000 -0.196455   \n",
      "s3  -0.075181 -0.379090 -0.366811 -0.178762  0.051519 -0.196455  1.000000   \n",
      "s4   0.203841  0.332115  0.413807  0.257650  0.542207  0.659817 -0.738493   \n",
      "s5   0.270774  0.149916  0.446157  0.393480  0.515503  0.318357 -0.398577   \n",
      "s6   0.301731  0.208133  0.388680  0.390430  0.325717  0.290600 -0.273697   \n",
      "\n",
      "           s4        s5        s6  \n",
      "age  0.203841  0.270774  0.301731  \n",
      "sex  0.332115  0.149916  0.208133  \n",
      "bmi  0.413807  0.446157  0.388680  \n",
      "bp   0.257650  0.393480  0.390430  \n",
      "s1   0.542207  0.515503  0.325717  \n",
      "s2   0.659817  0.318357  0.290600  \n",
      "s3  -0.738493 -0.398577 -0.273697  \n",
      "s4   1.000000  0.617859  0.417212  \n",
      "s5   0.617859  1.000000  0.464669  \n",
      "s6   0.417212  0.464669  1.000000  \n"
     ]
    }
   ],
   "source": [
    "print(\"Shape:\", df_diabetes_X.shape)\n",
    "print()\n",
    "for feature in df_diabetes_X.columns:\n",
    "    print(f\"Valeures null dans {feature}: {df_diabetes_X[feature].isnull().sum()}\")\n",
    "    \n",
    "print()    \n",
    "print(f\"Première ligne:\\n {df_diabetes_X.head(1)}\")\n",
    "print()\n",
    "print(f\"Dernière ligne:\\n {df_diabetes_X.tail(1)}\")\n",
    "\n",
    "print()\n",
    "for feature in df_diabetes_X.columns:\n",
    "    print(f\"Nombres de valeures dans {feature}: {len(df_diabetes_X[feature])}\")\n",
    "    print(f\"Nombres de valeures uniques dans {feature}: {len(df_diabetes_X[feature].unique())}\")\n",
    "    print()\n",
    "    \n",
    "print(f\"Sex: {df_diabetes_X['sex'].unique()}\")\n",
    "\n",
    "print()\n",
    "print(f\"Corr:\\n {df_diabetes_X.corr()}\")"
   ]
  },
  {
   "cell_type": "code",
   "execution_count": 70,
   "id": "4aa96af6",
   "metadata": {},
   "outputs": [
    {
     "data": {
      "image/png": "[encoded data removed]",
      "text/plain": [
       "<Figure size 1200x1000 with 12 Axes>"
      ]
     },
     "metadata": {},
     "output_type": "display_data"
    }
   ],
   "source": [
    "df_diabetes_X.hist(figsize=(12, 10), bins=30)\n",
    "plt.suptitle(\"Distribution des Features\")\n",
    "plt.show()"
   ]
  },
  {
   "cell_type": "markdown",
   "id": "034cabc4-e8bf-473c-8396-168a2dfc6f0d",
   "metadata": {},
   "source": [
    "- Taille : 442 x 10\n",
    "- Aucune colonne possède de valeur nulle\n",
    "- 58 ages répartient de manière non homogène\n",
    "- 2 sexes différents\n",
    "- Fortes corrélation entre certaines variables :\n",
    "    * s1 (tc) et s2 (ldl) -> 0.90\n",
    "    * s1 (tc) et s4 (hdl) -> 0.54\n",
    "    * s2 (ldl) et s4 (hdl) -> 0.66\n",
    "    * s4 (hdl) et s5 (ltg) -> 0.62\n",
    "    * s5 (ltg) et s6 (glu) -> 0.46"
   ]
  },
  {
   "cell_type": "markdown",
   "id": "6d803198-06a8-406e-b097-5373e1bd4f8b",
   "metadata": {},
   "source": [
    "---"
   ]
  },
  {
   "cell_type": "markdown",
   "id": "4454eebb-5b90-4b1d-b0af-64f5ecaca922",
   "metadata": {},
   "source": [
    "On va maintenant faire une tâche d'apprentissage (de régression) avec ce dataset. On va rappeler la procédure à suivre."
   ]
  },
  {
   "cell_type": "markdown",
   "id": "41f7983c-55b4-4ee9-a90e-9be76f9adb53",
   "metadata": {},
   "source": [
    "**Question 2:** Séparer votre jeu de données en jeu d'entraînement / validation en utilisant la méthode `train_test_split` de `sklearn` (chargée en début de TP). Pour la doc, c'est [ici](https://scikit-learn.org/stable/modules/generated/sklearn.model_selection.train_test_split.html). \n",
    "\n",
    "Répondez également aux questions suivantes : avec les paramètres par défaut de `train_test_split`, \n",
    "- La séparation est-elle bien aléatoire ? \n",
    "- Quelle est la proportion train/test ? Est-ce réglable ?"
   ]
  },
  {
   "cell_type": "code",
   "execution_count": 74,
   "id": "c8778077-aa62-4563-a264-c0221ac5ad51",
   "metadata": {},
   "outputs": [],
   "source": [
    "x_train, x_test, y_train, y_test = train_test_split(df_diabetes_X, df_diabetes_y)"
   ]
  },
  {
   "cell_type": "markdown",
   "id": "4fa4a5bc-758d-44ac-852a-87cb4496f156",
   "metadata": {},
   "source": [
    "- La séparation est aléatoire\n",
    "- La proportion par défaut est 75% train, 25% test\n",
    "- Les proportions sont réglables"
   ]
  },
  {
   "cell_type": "markdown",
   "id": "86f1ceb7-ad1a-4084-b21d-2536207ba14c",
   "metadata": {},
   "source": [
    "---"
   ]
  },
  {
   "cell_type": "markdown",
   "id": "01667b31-53a0-4f47-a9a3-461cf7bfaacd",
   "metadata": {},
   "source": [
    "On propose de commencer, pour faire simple, par une régression linéaire, en utilisant la classe `LinearRegression` de `sklearn` ([doc](https://scikit-learn.org/stable/modules/generated/sklearn.linear_model.LinearRegression.html)). \n",
    "\n",
    "**Question 3:** Instanciez un modèle de régression linéaire et entrainez-le sur le jeu d'entraînement construit à la question précédente. Vous pouvez regarder les slides du cours ou la documentation de `sklearn` pour avoir la démarche à suivre. "
   ]
  },
  {
   "cell_type": "code",
   "execution_count": null,
   "id": "5667eba6-0d84-4acb-8e1d-0628a3c3464b",
   "metadata": {},
   "outputs": [],
   "source": []
  },
  {
   "cell_type": "markdown",
   "id": "78ef653a-7b99-46ce-88d1-4d26df05dc64",
   "metadata": {},
   "source": [
    "---"
   ]
  },
  {
   "cell_type": "markdown",
   "id": "b9be8cc8-2f8c-4e0c-9a09-ee915aa52ff3",
   "metadata": {},
   "source": [
    "**Question 4:** Déterminer la mse de votre modèle sur le jeu d'entraînement, puis le jeu de test. Commentez les résultats obtenus. "
   ]
  },
  {
   "cell_type": "code",
   "execution_count": null,
   "id": "eb778d0b-49ce-4742-a065-e6852473337b",
   "metadata": {},
   "outputs": [],
   "source": [
    "# Écrivez votre code ici. "
   ]
  },
  {
   "cell_type": "markdown",
   "id": "71df1db2-de1f-428f-a145-315937e64cab",
   "metadata": {},
   "source": [
    "-- Commentez vos résultats ici --"
   ]
  },
  {
   "cell_type": "markdown",
   "id": "7d5a32d2-3d95-42e6-bdbb-1202de2f7046",
   "metadata": {},
   "source": [
    "---"
   ]
  },
  {
   "cell_type": "markdown",
   "id": "5f58fc28-3985-43df-9df8-d8bf1b61a990",
   "metadata": {},
   "source": [
    "Comme vu en cours, pour être vraiment confiant dans la performance de notre modèle, il faut répéter plusieurs fois la méthodologie sus-mentionnée. C'est également utile si on veut pouvoir rapidement évaluer un modèle. Il est donc pratique de regrouper toutes les étapes précédentes en une seule fonction. \n",
    "\n",
    "**Question 5:** Écrire une fonction `test_model(model, X, y, n_repet)` qui : \n",
    "- prend un modèle `model` de sklearn (remarque : les modèles de scikit-learn ont tous les méthodes `fit`, `fit_transform`, etc.)\n",
    "- prend un dataset avec des observations `X` et des labels `y`\n",
    "\n",
    "et qui répète `n_repet` fois les opérations suivantes :\n",
    "\n",
    "- Sépare `X,y` en jeu de train/test\n",
    "- Entraîne `model` sur le jeu d'entraînement\n",
    "- Détermine la _training loss_ et la _test loss_ de `model`. \n",
    "\n",
    "pour ensuite renvoyer la _test loss_ moyenne et l'écart-type sur les répétitions. \n",
    "\n",
    "_Indication:_ Stocker les _test losses_ dans une liste, puis appeler `np.mean(...)` pour avoir la moyenne, et `np.std(...)` pour avoir l'écart-type (_standard deviation_ en anglais). "
   ]
  },
  {
   "cell_type": "code",
   "execution_count": null,
   "id": "799470c3-289a-4c34-8143-978a00eb2f41",
   "metadata": {},
   "outputs": [],
   "source": [
    "# Écrivez votre code ici. \n",
    "\n",
    "def test_model(model, X, y, n_repet):\n",
    "    ... # A COMPLETER"
   ]
  },
  {
   "cell_type": "markdown",
   "id": "e57fe7f4-0da4-4d26-a1fa-a84d6473ee44",
   "metadata": {},
   "source": [
    "---"
   ]
  },
  {
   "cell_type": "markdown",
   "id": "e173a15a-6352-4d91-9061-9c0394520f71",
   "metadata": {},
   "source": [
    "**Question 6:** Tester différents modèles de régression proposés par `sklearn`. La liste de tous les modèles de `sklearn` est disponible [ici](https://scikit-learn.org/stable/supervised_learning.html), et on se concentrera sur les modèles qui ont \"Regression\" dans leur nom, comme par exemple : \n",
    "- [Nearest Neighbors Regression](https://scikit-learn.org/stable/modules/neighbors.html#nearest-neighbors-regression)\n",
    "- [SVM regression](https://scikit-learn.org/stable/modules/svm.html#regression)\n",
    "- [Decision tree regression](https://scikit-learn.org/stable/modules/tree.html#regression)\n",
    "- etc. \n",
    "\n",
    "Vous devez tester au moins deux modèles (autres que la régression linéaire). Pour chaque modèle, vous devez rapidement décrire quels sont ses _hyper-paramètres_ (les paramètres qu'on choisit une fois pour toute **avant** d'entraîner le modèle, comme le $k$ de $k$-means, le `degree` d'une régression polynomiale, etc.), et vous devez tester tester plusieurs valeurs pour l'hyper-paramètre et décrire les résultats obtenus (est-ce qu'on _overfit_, etc.). \n",
    "\n",
    "**Important:** Ce n'est **pas grave** si les modèles que vous avez choisi ont de mauvaises performances. L'objectif ici est d'appliquer la bonne méthodologie, de comprendre ce qu'on fait, et d'en tirer les bonnes conclusions. "
   ]
  },
  {
   "cell_type": "code",
   "execution_count": 20,
   "id": "8b52935f-4c4f-4f23-bdb5-f0a323c30dcc",
   "metadata": {},
   "outputs": [],
   "source": [
    "# Écrivez votre code ici"
   ]
  },
  {
   "cell_type": "markdown",
   "id": "bcc45f9e-b2b1-4025-8f39-e5bb7b0ab583",
   "metadata": {},
   "source": [
    "-- Commentez ici --"
   ]
  },
  {
   "cell_type": "code",
   "execution_count": 21,
   "id": "6e1e1038-116a-46d4-8de2-60ae587bb83a",
   "metadata": {},
   "outputs": [],
   "source": [
    "# Encore du code ici...!"
   ]
  },
  {
   "cell_type": "markdown",
   "id": "2fca5b6e-63ce-46e0-91e3-2f7e19c60ba1",
   "metadata": {},
   "source": [
    "-- Et surtout des commentaires...! --"
   ]
  },
  {
   "cell_type": "markdown",
   "id": "d91f6e55-940f-480e-b3f8-83701b6d9470",
   "metadata": {
    "tags": []
   },
   "source": [
    "# Partie 2 : Régressions linéaire et polynomiale"
   ]
  },
  {
   "cell_type": "markdown",
   "id": "cf84fc33-bd9f-4991-a50c-3e0612d5f628",
   "metadata": {},
   "source": [
    "## 1. Premier exemple : un jeu en 1D"
   ]
  },
  {
   "cell_type": "markdown",
   "id": "2b5a26e1-d75f-4015-9176-f2a9c0748b0c",
   "metadata": {},
   "source": [
    "Dans ce premier exemple, nous allons générer un petit jeu de données en 1D, sur lequel nous allons effectuer une régression linéaire. On rappelle qu'en une dimension, si on a des observations $x_i \\in \\mathbb{R}$ et des labels $y_i \\in \\mathbb{R}$, et qu'on cherche un paramètre $\\theta \\in \\mathbb{R}$ optimisant la relation \n",
    "\n",
    "$$ y \\simeq \\theta \\cdot x,$$\n",
    "\n",
    "alors le meilleur $\\theta$ possible, au sens de la perte MSE, est donné par \n",
    "\n",
    "$$\\theta^* = \\frac{\\sum_{i=1}^n x_i y_i}{\\sum_{i=1}^n x_i^2}.$$\n",
    "\n",
    "Pour ne pas perdre la main, on va manipuler nos données sous la forme de `DataFrame` du module `pandas`. "
   ]
  },
  {
   "cell_type": "code",
   "execution_count": null,
   "id": "4583180f-9ae5-4ac8-aecd-fc79863d38a9",
   "metadata": {},
   "outputs": [],
   "source": [
    "# Génère le dataset sous la forme d'un DataFrame\n",
    "df = utils.gen_1d_linear_regression_samples(n_samples=50)\n",
    "# Affiche les points du dataset\n",
    "utils.plot_1d_regression_samples(df)"
   ]
  },
  {
   "cell_type": "markdown",
   "id": "739213f5-bf1f-4d4e-bdd5-1582c3847b97",
   "metadata": {},
   "source": [
    "----"
   ]
  },
  {
   "cell_type": "markdown",
   "id": "3bedbf53-080e-4e82-b268-6067dd4940ff",
   "metadata": {},
   "source": [
    "**Question 1:** Déterminer la valeur du $\\theta$ optimal. Afficher la prédiction de votre modèle grâce à l'option `theta=theta_opt` de `plot_1d_regression_samples`."
   ]
  },
  {
   "cell_type": "code",
   "execution_count": null,
   "id": "9c5c816e-067e-4de3-a0ca-49cdf6245e92",
   "metadata": {},
   "outputs": [],
   "source": [
    "theta_opt = ...  # A COMPLETER"
   ]
  },
  {
   "cell_type": "code",
   "execution_count": null,
   "id": "ad17b69f-5ef8-4475-b7e3-fbd907b0f42c",
   "metadata": {},
   "outputs": [],
   "source": [
    "utils.plot_1d_regression_samples(df, theta=theta_opt)"
   ]
  },
  {
   "cell_type": "markdown",
   "id": "0a16a9d2-f9be-4a2f-a5ff-9fe06aefe857",
   "metadata": {},
   "source": [
    "---"
   ]
  },
  {
   "cell_type": "markdown",
   "id": "fa00966b-c73f-4592-991a-8149e8f936e5",
   "metadata": {},
   "source": [
    "**Question 2:** Déterminer la MSE réalisée par votre modèle sur ce jeu d'entraînement. \n",
    "\n",
    "On rappelle qu'il s'agit de calculer \n",
    "\n",
    "$$L(\\theta) = \\sum_{i=1}^n (\\theta x_i - y_i)^2.$$"
   ]
  },
  {
   "cell_type": "code",
   "execution_count": null,
   "id": "a473b8af-c394-461a-b832-c081fc4823c0",
   "metadata": {},
   "outputs": [],
   "source": [
    "mse = ... # A COMPLETER"
   ]
  },
  {
   "cell_type": "markdown",
   "id": "a4e0f0a4-bcd4-4cf1-8608-093ca0ecba38",
   "metadata": {},
   "source": [
    "---"
   ]
  },
  {
   "cell_type": "markdown",
   "id": "a1432799-8f27-49f1-8b37-57a6596ef43d",
   "metadata": {},
   "source": [
    "On rappelle que pour vérifier que notre modèle de régression est _vraiment_ pertinent, il faut qu'il réalise une bonne MSE sur le jeu d'entraînement, mais aussi sur un jeu de validation (ou test). Pour ça, on va générer un nouveau `DataFrame` avec des données qui _suivent la même distribution_, et évaluer la performance (mse) de notre modèle avec le `theta_opt` calculé. "
   ]
  },
  {
   "cell_type": "code",
   "execution_count": null,
   "id": "10e18b05-9e2a-43e0-92a9-7630435a9892",
   "metadata": {},
   "outputs": [],
   "source": [
    "df_test = utils.gen_1d_linear_regression_samples(n_samples=50)"
   ]
  },
  {
   "cell_type": "markdown",
   "id": "36c047fd-3e11-46ae-852e-bbae0cda49af",
   "metadata": {},
   "source": [
    "---"
   ]
  },
  {
   "cell_type": "markdown",
   "id": "29988609-af46-4efd-8ed1-a7cd30dd388e",
   "metadata": {},
   "source": [
    "**Question 3:** Déterminer la MSE du modèle sur ce jeu de validation. Commenter le résultat obtenu."
   ]
  },
  {
   "cell_type": "code",
   "execution_count": null,
   "id": "9521cac3-ba67-45a8-9e96-e653affc0501",
   "metadata": {},
   "outputs": [],
   "source": [
    "mse_test = ... # A COMPLETER"
   ]
  },
  {
   "cell_type": "markdown",
   "id": "ad01a67b-ca7c-4912-91db-5a2d7fd722d2",
   "metadata": {},
   "source": [
    "-- Écrivez vos commentaires ici. --"
   ]
  },
  {
   "cell_type": "markdown",
   "id": "0a92875b-b4a1-44f5-83d0-e9dcd6420b54",
   "metadata": {},
   "source": [
    "---"
   ]
  },
  {
   "cell_type": "markdown",
   "id": "a3800a03-7334-4fe5-bdb0-b00a9cbb2b26",
   "metadata": {},
   "source": [
    "On va maintenant considérer un second jeu de données. Ce jeu suit une relation de la forme \n",
    "\n",
    "$$y \\simeq a x + b,$$\n",
    "\n",
    "où $\\theta = (a,b)$ sont les paramètres à déterminer. \n",
    "\n",
    "À proprement parler, il ne s'agit plus d'un problème de régression linéaire, mais de _régression affine_ (même si tout le monde appelle ça une régression linéaire quand même). "
   ]
  },
  {
   "cell_type": "code",
   "execution_count": null,
   "id": "a3f3d872-902a-4a81-a948-55013a8e57fd",
   "metadata": {},
   "outputs": [],
   "source": [
    "df2 = utils.gen_1d_linear_regression_samples(n_samples=50, b=3)\n",
    "utils.plot_1d_regression_samples(df2)"
   ]
  },
  {
   "cell_type": "markdown",
   "id": "dd9ee160-be2d-4e63-9aca-c2753ab24785",
   "metadata": {},
   "source": [
    "---"
   ]
  },
  {
   "cell_type": "markdown",
   "id": "8dc17078-8805-404a-99c5-13673714a598",
   "metadata": {},
   "source": [
    "**Question 4:** La formule $$\\theta^* = \\frac{\\sum x_i y_i}{\\sum x_i^2}$$ est-elle toujours d'actualité dans ce modèle ? Pourquoi ?"
   ]
  },
  {
   "cell_type": "code",
   "execution_count": null,
   "id": "679a2569-c03f-4b7a-b2ca-edacca46b5d1",
   "metadata": {},
   "outputs": [],
   "source": [
    "# Écrivez du code ici pour faire des tests"
   ]
  },
  {
   "cell_type": "markdown",
   "id": "217d4b4b-1431-49f3-9d43-d434020c17bf",
   "metadata": {},
   "source": [
    "-- Écrivez des commentaires ici --"
   ]
  },
  {
   "cell_type": "markdown",
   "id": "36976ae2-c908-489e-b7a4-49ecd5618ff1",
   "metadata": {},
   "source": [
    "---"
   ]
  },
  {
   "cell_type": "markdown",
   "id": "b212a875-28cf-4a76-b46a-73a09b58bb7b",
   "metadata": {},
   "source": [
    "On pose $\\hat{x}_i = (x_i, 1) \\in \\mathbb{R}^2$, pour $i = 1,\\dots,n$. On dit parfois que $\\hat{x}_i$ est une observation \"augmentée\" (parce qu'on a augmenté la dimension, de $1$ à $2$, en rajoutant une coordonnée).\n",
    "\n",
    "**Question 5:** Établir (mathématiquement) l'expression de la MSE qu'on cherche à optimiser en fonction des observations  $\\hat{x}_i$, des labels $y_i$, et des paramètres du modèle $a,b$. \n",
    "\n",
    "_Indication:_ On pourra utiliser la notation $\\theta = (a,b)$, et l'écriture produit-scalaire : $\\theta \\cdot \\hat{x_i} = \\begin{pmatrix} a, b \\end{pmatrix} \\begin{pmatrix} x_i \\\\ 1 \\end{pmatrix} = a x_i + b$."
   ]
  },
  {
   "cell_type": "markdown",
   "id": "fe5793bb-da43-478d-8cf2-bbc24e01dac4",
   "metadata": {},
   "source": [
    "-- Écrivez votre réponse ici. --"
   ]
  },
  {
   "cell_type": "markdown",
   "id": "150788ed-ef7b-4735-8ded-54d9e436a436",
   "metadata": {},
   "source": [
    "---"
   ]
  },
  {
   "cell_type": "markdown",
   "id": "63548f25-4f00-4fc5-b789-bb57b4473042",
   "metadata": {},
   "source": [
    "Notre objectif est donc de trouver les paramètres $a^*,b^*$ qui minimisent cette MSE. On admet (bonus: démontrer ce résultat par un calcul de gradient) qu'on les obtient par les relations:\n",
    "\n",
    "$$ a^* = \\frac{\\sum_{i=1}^n (x_i - \\overline{x}) (y_i - \\overline{y})}{\\sum_{i=1}^n (x_i - \\overline{x})^2} $$\n",
    "\n",
    "et\n",
    "\n",
    "$$ b^* = \\overline{y} - a^* \\overline{x} $$\n",
    "\n",
    "où $\\overline{x}$ représente la moyenne des $x_i$, et $\\overline{y}$ représente la moyenne des $y_i$. \n",
    "\n",
    "**Question 6 :** Déterminer numériquement $a^*$ et $b^*$ pour le `DataFrame` considéré. Affichez le modèle grâce à la cellule de code suivante. "
   ]
  },
  {
   "cell_type": "code",
   "execution_count": null,
   "id": "169941a9-edb6-4380-ae08-e338b1519a71",
   "metadata": {},
   "outputs": [],
   "source": [
    "# Écrivez votre code ici."
   ]
  },
  {
   "cell_type": "code",
   "execution_count": null,
   "id": "08709280-75a0-45f0-94fc-f5786886886a",
   "metadata": {},
   "outputs": [],
   "source": [
    "# Pour afficher le modèle obtenu\n",
    "utils.plot_1d_regression_samples(df2, theta=...)  # A COMPLETER"
   ]
  },
  {
   "cell_type": "markdown",
   "id": "e3c963e1-d6f8-406a-a45b-8f5a0b177479",
   "metadata": {},
   "source": [
    "---"
   ]
  },
  {
   "cell_type": "markdown",
   "id": "a9b564a7-e387-4ac5-b385-f8d80d586cf5",
   "metadata": {
    "tags": []
   },
   "source": [
    "## 2. Régression linéaire en 2D (et au-delà) grâce à scikit-learn"
   ]
  },
  {
   "cell_type": "markdown",
   "id": "20d10b4f-1ee4-4562-8338-11e0c60e04a3",
   "metadata": {},
   "source": [
    "On va maintenant considérer des modèles linéaires en plus grande dimension, c'est-à-dire qu'on a des observations $x_i \\in \\mathbb{R}^d$ avec $d \\geq 2$, des labels $y_i \\in \\mathbb{R}$, et on cherche une relation de la forme \n",
    "\n",
    "$$y = A X + b$$\n",
    "\n",
    "où \n",
    "$$X = \\begin{pmatrix} x_1[1] & \\dots & x_1[d] \\\\ \\vdots & & \\vdots \\\\ x_n[1] & \\dots & x_n[d] \\end{pmatrix}$$\n",
    "\n",
    "et $A, b$ sont des paramètres qu'on va chercher à optimiser. On rappelle qu'il existe une forme explicite pour déterminer les $A$ et $b$ optimaux (qui minimisent la MSE ; voir cours), on pourrait donc tout coder nous-mêmes. Mais pour simplifier, on va se reposer sur `scikit-learn`. \n",
    "\n",
    "Pour changer, on va maintenant manipuler nos données sous la forme de `np.array`. "
   ]
  },
  {
   "cell_type": "code",
   "execution_count": null,
   "id": "46621330-33e2-4744-9e5f-e3bc2c15c10b",
   "metadata": {},
   "outputs": [],
   "source": [
    "# On définit nos paramètres globaux\n",
    "dim = 2  # dimension dans laquelle vit X\n",
    "n_samples = 200  # le nombre d'observations qu'on va considérer\n",
    "\n",
    "# On fabrique notre matrice A et le paramètre b aléatoirement\n",
    "A = np.random.uniform(low = -1, high = 1, size=(dim,1))\n",
    "b = np.random.uniform(low = -1, high=1, size=(1))\n",
    "\n",
    "# On génère un jeu de données avec X en 2D, 200 points. \n",
    "X, y = utils.gen_nd_dataset(dim=dim, n_samples=n_samples, A=A, b=b)\n",
    "\n",
    "print('Taille de X :', X.shape)"
   ]
  },
  {
   "cell_type": "markdown",
   "id": "717a3c11-38c6-4776-8f91-fdb8cb464926",
   "metadata": {},
   "source": [
    "Comme `X` représente des observations en dimension $2$, c'est un peu plus délicat d'afficher $y$ en fonction de $X$ (bon, on pourrait faire un plot en 3d mais ce n'est pas souvent très élégant). Une méthode est d'utiliser des couleurs."
   ]
  },
  {
   "cell_type": "code",
   "execution_count": null,
   "id": "beadd0f2-4eab-446e-b950-b7deac4d3a41",
   "metadata": {},
   "outputs": [],
   "source": [
    "utils.plot_2d_with_color(X,y)"
   ]
  },
  {
   "cell_type": "markdown",
   "id": "07f1b260-8220-4aaf-b4f3-50ac07425d5f",
   "metadata": {},
   "source": [
    "---"
   ]
  },
  {
   "cell_type": "markdown",
   "id": "a56a6cc7-bea4-4f20-a89b-b959d9012409",
   "metadata": {},
   "source": [
    "**Question 7 :** En utilisant la classe `LinearRegression` dont la documentation est disponible [ici](https://scikit-learn.org/stable/modules/generated/sklearn.linear_model.LinearRegression.html), déterminer les paramètres $A, b$ optimaux en termes de MSE. \n",
    "\n",
    "_Remarque:_ Pour apprendre (rapidement) à se servir des méthodes de `sklearn`, il ne faut pas hésiter à regarder les exemples fournis dans la documentation. "
   ]
  },
  {
   "cell_type": "code",
   "execution_count": null,
   "id": "0270fd0f-5525-4168-8194-c5610b6e3a9f",
   "metadata": {},
   "outputs": [],
   "source": [
    "# Écrivez votre code ici."
   ]
  },
  {
   "cell_type": "markdown",
   "id": "4745c967-7ab8-4980-bfcd-44bab9f1be4b",
   "metadata": {},
   "source": [
    "---"
   ]
  },
  {
   "cell_type": "markdown",
   "id": "ab32efde-3c70-4163-8d1b-b51756685ac6",
   "metadata": {},
   "source": [
    "**Question 8:** En utilisant la méthode `mean_squared_error()` de scikit-learn dont la documentation est disponible [ici](https://scikit-learn.org/stable/modules/generated/sklearn.metrics.mean_squared_error.html#sklearn.metrics.mean_squared_error), évaluer la MSE de votre modèle après son entraînement. "
   ]
  },
  {
   "cell_type": "code",
   "execution_count": null,
   "id": "f5cdfe8f-4ac7-4bdf-bbbe-c59edf8d29da",
   "metadata": {},
   "outputs": [],
   "source": [
    "# Écrivez votre code ici"
   ]
  },
  {
   "cell_type": "markdown",
   "id": "41192985-57b9-4236-8e64-c0e48a25c6b4",
   "metadata": {},
   "source": [
    "---"
   ]
  },
  {
   "cell_type": "markdown",
   "id": "3a24eb9c-86bb-4811-b37e-c02f1a803ce3",
   "metadata": {},
   "source": [
    "On génère maintenant un jeu de données test avec la cellule de code suivante."
   ]
  },
  {
   "cell_type": "code",
   "execution_count": null,
   "id": "c62aa108-b313-42fc-aba4-0c3eec417af6",
   "metadata": {},
   "outputs": [],
   "source": [
    "X_test, y_test = utils.gen_nd_dataset(dim=dim, n_samples=n_samples, A=A, b=b)"
   ]
  },
  {
   "cell_type": "markdown",
   "id": "2bbaef3e-8b29-4ca2-b0d7-bc0d43356699",
   "metadata": {},
   "source": [
    "**Question 9:** Déterminer la MSE de votre modèle sur ce jeu de test. Commenter le résultat obtenu."
   ]
  },
  {
   "cell_type": "code",
   "execution_count": null,
   "id": "a019328d-cae1-4b6e-b851-800a20922e63",
   "metadata": {},
   "outputs": [],
   "source": [
    "# Écrivez votre code ici"
   ]
  },
  {
   "cell_type": "markdown",
   "id": "d8e6ff75-fff5-4094-bfc0-55adfb371c67",
   "metadata": {},
   "source": [
    "-- Écrivez vos commentaires ici --"
   ]
  },
  {
   "cell_type": "markdown",
   "id": "056bfe19-c4c7-4e46-888f-dc32b1057779",
   "metadata": {
    "tags": []
   },
   "source": [
    "# Partie 3 (facultative) : Une descente de gradient"
   ]
  },
  {
   "cell_type": "markdown",
   "id": "34a72b82-660f-4aa0-9b39-ca3a9d33ca2c",
   "metadata": {},
   "source": [
    "Dans le cas des régressions linéaires, où on cherche à estimer des relations du type $y \\simeq AX + b$, on a vu que les paramètres optimaux $A^*,b^*$ sont disponibles sous forme explicite. Ce n'est pas le cas lorsqu'on considère des modèles plus compliqués. \n",
    "\n",
    "Ici, on va considérer un modèle dit « quasi-linéaire », de la forme \n",
    "\n",
    "$$y \\simeq \\log\\left(1 + e^{\\theta x}\\right),$$\n",
    "\n",
    "où, pour simplifier, on va considérer $x \\in \\mathbb{R}, \\theta \\in \\mathbb{R}$. \n",
    "\n",
    "Ainsi, lorsqu'on veut optimiser $\\theta$ de sorte à minimiser la MSE, à partir d'observations $x_1,\\dots, x_n$, on cherche à minimiser la fonction \n",
    "\n",
    "$$ L : \\theta \\mapsto \\frac{1}{2} \\sum_{i=1}^n \\left( \\log\\left(1 + e^{\\theta x_i}\\right) - y_i \\right)^2.$$\n",
    "\n",
    "On peut vérifier que le _gradient_ de cette fonction est donné par\n",
    "\n",
    "$$\\nabla L(\\theta) = \\sum_{i=1}^n \\frac{x_i}{1 + e^{- \\theta x_i}} \\left(\\log\\left(1 + e^{\\theta x_i}\\right) - y_i \\right). $$\n",
    "\n",
    "Ici, il n'est pas évident de déterminer le $\\theta^*$ optimal (ce serait la solution de $\\nabla L(\\theta) = 0$, mais on ne va pas réussir à l'obtenir...). On va donc l'estimer au moyen d'une _descente de gradient_. On rappelle que le gradient $\\nabla L(\\theta)$ correspond à la direction dans laquelle---localement---la MSE $L(\\theta)$ augmente le plus. Donc, logiquement, si on remplace $\\theta$ par $\\theta' = \\theta - \\eta \\nabla L(\\theta)$ pour un certain paramètre $\\eta$ (assez petit), on s'attend à ce que $L(\\theta') < L(\\theta)$. \n",
    "\n",
    "De proche en proche, on va donc pouvoir construire une séquence $\\theta_1,\\theta_2,\\dots$ qui a pour but de **minimiser** la fonction objectif $\\theta \\mapsto L(\\theta)$. "
   ]
  },
  {
   "cell_type": "markdown",
   "id": "47a7c9aa-b88c-4375-a72d-116029d6f5f6",
   "metadata": {},
   "source": [
    "On va donc considérer l'algorithme suivant, dit algorithme de _descente de gradient_ : \n",
    "\n",
    "- On se donne des observations $x_i$ et des labels $y_i$. \n",
    "- On se donne un $\\theta_0$ initial (tiré aléatoirement par exemple). \n",
    "- On se fixe un nombre d'itérations (_epoch_ en anglais) $T$. \n",
    "- Pour $t = 1,\\dots, T$ faire: $\\theta_{t+1} \\leftarrow \\theta_t - \\eta \\nabla L(\\theta_t)$. \n",
    "- On renvoie la séquence $[\\theta_0,\\theta_1,\\dots,\\theta_T]$. "
   ]
  },
  {
   "cell_type": "markdown",
   "id": "0de3732f-70fe-4ba0-8e13-1a871c3178ab",
   "metadata": {},
   "source": [
    "On commence par générer et afficher nos données d'entraînement."
   ]
  },
  {
   "cell_type": "code",
   "execution_count": null,
   "id": "87b123b2-25b6-4028-9a08-42fd76736456",
   "metadata": {},
   "outputs": [],
   "source": [
    "x, y = utils.gen_log_data(n_samples = 100)\n",
    "\n",
    "utils.plot_1d_log_model(x,y)"
   ]
  },
  {
   "cell_type": "markdown",
   "id": "fb194a84-c5d3-45bd-b272-b8ff6b888258",
   "metadata": {},
   "source": [
    "---"
   ]
  },
  {
   "cell_type": "markdown",
   "id": "cda41f1c-a0a4-4848-8285-39bd624658b6",
   "metadata": {},
   "source": [
    "**Question 1:** Définir une fonction `loss(theta, x, y)` qui détermine la valeur de la fonction objectif $L(\\theta)$ pour le jeu d'observations et labels `x,y`.\n",
    "\n",
    "Évaluer cette fonction sur votre jeu d'entraînement le paramètre `theta = 2`."
   ]
  },
  {
   "cell_type": "code",
   "execution_count": null,
   "id": "26fe1a67-e9cc-4de3-9ce3-0e950cc03b52",
   "metadata": {},
   "outputs": [],
   "source": [
    "def loss(theta, x, y):\n",
    "    ... # A COMPLETER\n"
   ]
  },
  {
   "cell_type": "markdown",
   "id": "2c923aaa-2914-4971-8ed0-4e7d413195b9",
   "metadata": {},
   "source": [
    "---"
   ]
  },
  {
   "cell_type": "markdown",
   "id": "098505bf-98bd-49a5-9c19-97d857b80676",
   "metadata": {},
   "source": [
    "**Question 2:** Définir une fonction `grad(theta, x, y)` qui calcule le gradient, en un point `theta` (et pour un jeu d'observations et labels `x,y`) de la fonction objectif $L(\\theta)$. "
   ]
  },
  {
   "cell_type": "code",
   "execution_count": null,
   "id": "9ecb47b9-8dc0-4c47-9832-c564bbb03ee1",
   "metadata": {},
   "outputs": [],
   "source": [
    "def grad(theta, x, y):\n",
    "    ... # A COMPLETER"
   ]
  },
  {
   "cell_type": "markdown",
   "id": "67640e99-16b2-4d76-aa12-96ce45e0fb59",
   "metadata": {},
   "source": [
    "---"
   ]
  },
  {
   "cell_type": "markdown",
   "id": "b5918c95-6a1b-45e4-a2ef-1f46c2fbbe6f",
   "metadata": {},
   "source": [
    "**Question 3:** Implémenter l'algorithme de descente de gradient, sous la forme d'une fonction `grad_descent(theta_init, eta, T, x, y)` qui prend en entrée \n",
    "- `theta_init` : la valeur du paramètre initial $\\theta_0$. \n",
    "- `eta` : le paramètre utilisé dans la descente de gradient (appelé _pas de gradient_ ou _learning rate_).\n",
    "- `T` : le nombre d'itérations qu'on compte effectuer. \n",
    "- `x, y` le jeu de données / observations.\n",
    "\n",
    "Et qui renvoie deux listes : \n",
    "- `list_thetas` : la liste $(\\theta_t)_t$ déterminés au cours de la descente. \n",
    "- `list_losses` : la liste des valeurs $(L(\\theta_t))_t$ de la fonction objectif au cours de la descente. "
   ]
  },
  {
   "cell_type": "code",
   "execution_count": null,
   "id": "c64747f6-44af-41b7-b799-63e8c9c3d32f",
   "metadata": {},
   "outputs": [],
   "source": [
    "# Écrivez votre code ici"
   ]
  },
  {
   "cell_type": "markdown",
   "id": "c5962dce-f1cb-434a-b34c-b0514d355ad4",
   "metadata": {},
   "source": [
    "---"
   ]
  },
  {
   "cell_type": "markdown",
   "id": "a3753700-d9b2-49bc-be5d-31e173d0db88",
   "metadata": {},
   "source": [
    "**Question 4:** Exécuter votre algorithme avec `theta_init = -2`, `eta = 0.001` et `T = 100` (et évidemment les données `x,y` générées ci-dessus). \n",
    "\n",
    "On pourra visualiser les résultats en utilisant la fonction `utils.plot_gd_log_model(list_thetas, list_losses, x, y, loss)`. "
   ]
  },
  {
   "cell_type": "code",
   "execution_count": null,
   "id": "e181d683-3a42-4234-9ca7-1b4fb040ebc6",
   "metadata": {},
   "outputs": [],
   "source": [
    "# Écrivez votre code ici"
   ]
  }
 ],
 "metadata": {
  "kernelspec": {
   "display_name": "Python 3 (ipykernel)",
   "language": "python",
   "name": "python3"
  },
  "language_info": {
   "codemirror_mode": {
    "name": "ipython",
    "version": 3
   },
   "file_extension": ".py",
   "mimetype": "text/x-python",
   "name": "python",
   "nbconvert_exporter": "python",
   "pygments_lexer": "ipython3",
   "version": "3.11.2"
  }
 },
 "nbformat": 4,
 "nbformat_minor": 5
}
