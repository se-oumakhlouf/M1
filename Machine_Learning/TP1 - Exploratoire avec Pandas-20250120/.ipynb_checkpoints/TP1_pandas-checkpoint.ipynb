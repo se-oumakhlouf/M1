{
 "cells": [
  {
   "cell_type": "markdown",
   "id": "9b58247f-0b15-427d-a0dc-a76a713c48ea",
   "metadata": {},
   "source": [
    "# TP 1 : Premiers pas en science des données"
   ]
  },
  {
   "cell_type": "markdown",
   "id": "f8e14853-a411-4184-ba67-3c09b2614019",
   "metadata": {},
   "source": [
    "**Avant de commencer :** Merci de bien lire le préambule et l'énoncé de ce TP. Ça vous évitera de perdre beaucoup de temps ensuite. "
   ]
  },
  {
   "cell_type": "markdown",
   "id": "ab662174-bc6c-42f2-9caf-e13ffd63326a",
   "metadata": {},
   "source": [
    "**Rendu :** Le rendu doit contenir uniquement le fichier `.ipynb`. Le notebook doit être propre, le plus illustré et le plus commenté possible. "
   ]
  },
  {
   "cell_type": "markdown",
   "id": "edb54692-f4aa-4607-8788-a1c030aeb276",
   "metadata": {},
   "source": [
    "**Librairies :** Ce TP repose sur les librairies standard suivantes : \n",
    "- Numpy version: 1.23.1\n",
    "- matplotlib version : 3.5.2\n",
    "- Pandas version: 1.4.3\n",
    "\n",
    "Pour vérifier qu'elles sont bien installées dans votre environnement de travail, lancez la cellule suivante. Elle ne doit pas renvoyer d'erreur (un `Warning` n'est en général pas trop embêtant). \n",
    "\n",
    "S'il vous manque une librairie (`No module named ...`), vous pouvez l'installer \n",
    "- Soit en utilisant votre gestionnaire d'environnement (p.ex. `conda`). \n",
    "- Soit directement depuis le notebook, en faisant\n",
    "```\n",
    "!pip install nom_de_la_librairie==numero_de_la_version\n",
    "```"
   ]
  },
  {
   "cell_type": "code",
   "execution_count": 2,
   "id": "a8cd512c-2638-4778-9a03-2327db394c9d",
   "metadata": {},
   "outputs": [
    {
     "name": "stdout",
     "output_type": "stream",
     "text": [
      "- Numpy version: 1.26.3\n",
      "- matplotlib version : 3.3.4\n",
      "- Pandas version: 1.5.0\n"
     ]
    }
   ],
   "source": [
    "import numpy as np\n",
    "import matplotlib\n",
    "import matplotlib.pyplot as plt\n",
    "import pandas as pd\n",
    "\n",
    "print(\"- Numpy version:\", np.__version__)\n",
    "print(\"- matplotlib version :\", matplotlib.__version__)\n",
    "print(\"- Pandas version:\", pd.__version__)"
   ]
  },
  {
   "cell_type": "markdown",
   "id": "c1ba3f22-299d-4b5e-a7a8-b3b24a136daf",
   "metadata": {},
   "source": [
    "**Objectifs du TP :** Ce TP a pour but de vous faire manipuler quelques outils essentiels en science des données, notamment au travers des librairies `pandas` et `matplotlib`. "
   ]
  },
  {
   "cell_type": "markdown",
   "id": "d6ed1304-9469-4a49-ae89-3ab70fb27c54",
   "metadata": {},
   "source": [
    "## 1. Exploration de la base DVF"
   ]
  },
  {
   "cell_type": "markdown",
   "id": "3719fcc6-b265-43f6-883d-eb1cc19ed86b",
   "metadata": {},
   "source": [
    "Cette partie est consacrée à l'exploration de la base DVF (Demande de Valeur Foncière). C'est une \"vraie\" base de données fournie par le service public et [disponible ici](https://www.data.gouv.fr/fr/datasets/demandes-de-valeurs-foncieres/).\n",
    "\n",
    "Cette base enregistre toutes les transactions immobilières réalisées chaque année en France. Cela concerne les achats-ventes de maisons, d'appartemments, mais aussi de locaux de commerce (magasins, etc.), d'immeubles de bureau, etc. Comme cette base est assez grosse (plus de trois millions d'entrées en 2021) et assez complète (beaucoup d'informations qui ne nous intéressent pas forcément aujourd'hui), on met à disposition pour ce TP une base `dvf_residentiel.csv` qui est une sous-partie de la base `dvf` officielle obtenue de la manière suivante : \n",
    "\n",
    "- On a gardé uniquement les transactions de type `appartement` et `maison`\n",
    "- On a gardé uniquement les transactions _unitaires_, c'est-à-dire où un seul logement est vendu (par opposition à la situation où un gros investisseur achète une résidence entière).\n",
    "- On a gardé uniquement les transactions ayant lieu en France métropolitaine. \n",
    "- On a gardé uniquement les transactions à plus de 10 000 € (on considère les autres comme non-fiables). \n",
    "- On a gardé uniquement les attributs suivants:\n",
    "  - 'code_departement' : type `str`, représentant le numéro de département où a eu lieu la transaction (p.ex. `'75'` pour une transaction à Paris)\n",
    "  - 'surface_reelle_bati' : type `float`, la surface (en m²) de l'habitation.\n",
    "  - 'nombre_pieces_principales' : type `float`, le nombre de pièces de l'habitation (chambre, salon, etc.)\n",
    "  - 'surface_terrain' : type `float`, la surface du terrain (jardin, etc., en m²). `NaN` si pas de terrain.\n",
    "  - 'longitude', 'latitude' : type `float`, les coordonnées GPS de l'habitation.\n",
    "  - 'valeur_fonciere' : la valeur, en €, à laquelle la transaction a été enregistrée chez le notaire. "
   ]
  },
  {
   "cell_type": "markdown",
   "id": "bb5e3d19-5031-4de1-99fa-8e6e1e997545",
   "metadata": {},
   "source": [
    "Chargement de la base de donnée : exécuter la cellule suivante pour charger la base de donnée dans un dataframe. Attention, le fichier `dvf_residentiel.csv` doit être dans le même répertoire que le fichier `.ipynb` sur lequel vous êtes en train de travailler. "
   ]
  },
  {
   "cell_type": "code",
   "execution_count": 3,
   "id": "015087e8-3e5b-431c-a108-d67c081532a1",
   "metadata": {},
   "outputs": [],
   "source": [
    "# On charge la base de données.\n",
    "# L'option dtype={'code_departement':'str'} indique que le code du département doit être traité comme une \n",
    "# chaîne de caractère. Ça permet d'éviter des bugs de typage avec la Corse (20A et 20B)).\n",
    "dvf = pd.read_csv('./dvf_residentiel.csv', dtype={'code_departement':'str'})"
   ]
  },
  {
   "cell_type": "markdown",
   "id": "547143f4-80f5-4a43-9547-1c5e387378b9",
   "metadata": {},
   "source": [
    "On peut maintenant visualiser notre jeu de données en exécurant la cellule suivante :"
   ]
  },
  {
   "cell_type": "code",
   "execution_count": 4,
   "id": "8b1f430f-7edb-4883-ad25-9c5cd209cab6",
   "metadata": {},
   "outputs": [
    {
     "data": {
      "text/html": [
       "<div>\n",
       "<style scoped>\n",
       "    .dataframe tbody tr th:only-of-type {\n",
       "        vertical-align: middle;\n",
       "    }\n",
       "\n",
       "    .dataframe tbody tr th {\n",
       "        vertical-align: top;\n",
       "    }\n",
       "\n",
       "    .dataframe thead th {\n",
       "        text-align: right;\n",
       "    }\n",
       "</style>\n",
       "<table border=\"1\" class=\"dataframe\">\n",
       "  <thead>\n",
       "    <tr style=\"text-align: right;\">\n",
       "      <th></th>\n",
       "      <th>code_departement</th>\n",
       "      <th>surface_reelle_bati</th>\n",
       "      <th>nombre_pieces_principales</th>\n",
       "      <th>surface_terrain</th>\n",
       "      <th>longitude</th>\n",
       "      <th>latitude</th>\n",
       "      <th>valeur_fonciere</th>\n",
       "    </tr>\n",
       "  </thead>\n",
       "  <tbody>\n",
       "    <tr>\n",
       "      <th>0</th>\n",
       "      <td>1</td>\n",
       "      <td>97.0</td>\n",
       "      <td>5.0</td>\n",
       "      <td>2410.0</td>\n",
       "      <td>5.386094</td>\n",
       "      <td>46.327140</td>\n",
       "      <td>185000.0</td>\n",
       "    </tr>\n",
       "    <tr>\n",
       "      <th>1</th>\n",
       "      <td>1</td>\n",
       "      <td>88.0</td>\n",
       "      <td>4.0</td>\n",
       "      <td>866.0</td>\n",
       "      <td>5.157688</td>\n",
       "      <td>46.200988</td>\n",
       "      <td>204332.0</td>\n",
       "    </tr>\n",
       "    <tr>\n",
       "      <th>2</th>\n",
       "      <td>1</td>\n",
       "      <td>168.0</td>\n",
       "      <td>5.0</td>\n",
       "      <td>1426.0</td>\n",
       "      <td>5.273260</td>\n",
       "      <td>46.156334</td>\n",
       "      <td>320000.0</td>\n",
       "    </tr>\n",
       "    <tr>\n",
       "      <th>3</th>\n",
       "      <td>1</td>\n",
       "      <td>71.0</td>\n",
       "      <td>3.0</td>\n",
       "      <td>NaN</td>\n",
       "      <td>5.200117</td>\n",
       "      <td>46.210292</td>\n",
       "      <td>176000.0</td>\n",
       "    </tr>\n",
       "    <tr>\n",
       "      <th>4</th>\n",
       "      <td>1</td>\n",
       "      <td>96.0</td>\n",
       "      <td>3.0</td>\n",
       "      <td>NaN</td>\n",
       "      <td>5.108604</td>\n",
       "      <td>46.244066</td>\n",
       "      <td>226700.0</td>\n",
       "    </tr>\n",
       "    <tr>\n",
       "      <th>...</th>\n",
       "      <td>...</td>\n",
       "      <td>...</td>\n",
       "      <td>...</td>\n",
       "      <td>...</td>\n",
       "      <td>...</td>\n",
       "      <td>...</td>\n",
       "      <td>...</td>\n",
       "    </tr>\n",
       "    <tr>\n",
       "      <th>714934</th>\n",
       "      <td>75</td>\n",
       "      <td>58.0</td>\n",
       "      <td>2.0</td>\n",
       "      <td>NaN</td>\n",
       "      <td>2.354883</td>\n",
       "      <td>48.852709</td>\n",
       "      <td>1550000.0</td>\n",
       "    </tr>\n",
       "    <tr>\n",
       "      <th>714935</th>\n",
       "      <td>75</td>\n",
       "      <td>15.0</td>\n",
       "      <td>1.0</td>\n",
       "      <td>NaN</td>\n",
       "      <td>2.345464</td>\n",
       "      <td>48.867430</td>\n",
       "      <td>190000.0</td>\n",
       "    </tr>\n",
       "    <tr>\n",
       "      <th>714936</th>\n",
       "      <td>75</td>\n",
       "      <td>15.0</td>\n",
       "      <td>1.0</td>\n",
       "      <td>NaN</td>\n",
       "      <td>2.350035</td>\n",
       "      <td>48.868906</td>\n",
       "      <td>230000.0</td>\n",
       "    </tr>\n",
       "    <tr>\n",
       "      <th>714937</th>\n",
       "      <td>75</td>\n",
       "      <td>30.0</td>\n",
       "      <td>2.0</td>\n",
       "      <td>NaN</td>\n",
       "      <td>2.367712</td>\n",
       "      <td>48.854200</td>\n",
       "      <td>383000.0</td>\n",
       "    </tr>\n",
       "    <tr>\n",
       "      <th>714938</th>\n",
       "      <td>75</td>\n",
       "      <td>37.0</td>\n",
       "      <td>2.0</td>\n",
       "      <td>NaN</td>\n",
       "      <td>2.350774</td>\n",
       "      <td>48.868450</td>\n",
       "      <td>260000.0</td>\n",
       "    </tr>\n",
       "  </tbody>\n",
       "</table>\n",
       "<p>714939 rows × 7 columns</p>\n",
       "</div>"
      ],
      "text/plain": [
       "       code_departement  surface_reelle_bati  nombre_pieces_principales  \\\n",
       "0                     1                 97.0                        5.0   \n",
       "1                     1                 88.0                        4.0   \n",
       "2                     1                168.0                        5.0   \n",
       "3                     1                 71.0                        3.0   \n",
       "4                     1                 96.0                        3.0   \n",
       "...                 ...                  ...                        ...   \n",
       "714934               75                 58.0                        2.0   \n",
       "714935               75                 15.0                        1.0   \n",
       "714936               75                 15.0                        1.0   \n",
       "714937               75                 30.0                        2.0   \n",
       "714938               75                 37.0                        2.0   \n",
       "\n",
       "        surface_terrain  longitude   latitude  valeur_fonciere  \n",
       "0                2410.0   5.386094  46.327140         185000.0  \n",
       "1                 866.0   5.157688  46.200988         204332.0  \n",
       "2                1426.0   5.273260  46.156334         320000.0  \n",
       "3                   NaN   5.200117  46.210292         176000.0  \n",
       "4                   NaN   5.108604  46.244066         226700.0  \n",
       "...                 ...        ...        ...              ...  \n",
       "714934              NaN   2.354883  48.852709        1550000.0  \n",
       "714935              NaN   2.345464  48.867430         190000.0  \n",
       "714936              NaN   2.350035  48.868906         230000.0  \n",
       "714937              NaN   2.367712  48.854200         383000.0  \n",
       "714938              NaN   2.350774  48.868450         260000.0  \n",
       "\n",
       "[714939 rows x 7 columns]"
      ]
     },
     "execution_count": 4,
     "metadata": {},
     "output_type": "execute_result"
    }
   ],
   "source": [
    "dvf"
   ]
  },
  {
   "cell_type": "markdown",
   "id": "1d12a7a1-1730-4ecc-b19a-8aab6daad3e3",
   "metadata": {},
   "source": [
    "---"
   ]
  },
  {
   "cell_type": "markdown",
   "id": "8dfbf8f4-28ff-4f10-9af1-d46fe72483f2",
   "metadata": {},
   "source": [
    "**Question 1 :** Combien d'observations contient cette base de données ? De quelle dimension sont nos données ?"
   ]
  },
  {
   "cell_type": "markdown",
   "id": "600472e3-1719-4858-9a32-6dcbce34df90",
   "metadata": {},
   "source": [
    "Cette base de données contient 714 939 observations de données de dimension 7"
   ]
  },
  {
   "cell_type": "markdown",
   "id": "067939ad-0166-4e60-bd4d-5f89a578360d",
   "metadata": {},
   "source": [
    "---"
   ]
  },
  {
   "cell_type": "markdown",
   "id": "36db9452-8ddc-40d9-ad12-9ab97395c8ff",
   "metadata": {},
   "source": [
    "**Question 2 :** En utilisant les méthodes `.describe()` et `.value_counts()` dont les documentations sont disponibles [ici](https://pandas.pydata.org/docs/reference/api/pandas.DataFrame.describe.html) et [là](https://pandas.pydata.org/docs/reference/api/pandas.Series.value_counts.html), répondre aux questions suivantes : \n",
    "\n",
    "- (a) Quelle a été le montant de la transaction la plus élevée de l'année 2021 ? \n",
    "- (b) Combien de pièces avaient, en moyenne, les logements vendus au cours de cette année ? \n",
    "- (c) Dans quel département y a-t-il eu le plus de transactions ? Le moins de transactions ?\n",
    "\n",
    "_Remarque:_ Pour un meilleur affichage avec la méthode `.describe()`, on pourra ajouter `.apply(lambda x: format(x,'f'))`. Par exemple : `dvf['longitude'].describe().apply(lambda x: format(x,'f'))`"
   ]
  },
  {
   "cell_type": "code",
   "execution_count": 29,
   "id": "325fdf0a-f0fc-4c8c-81f4-d29be1b2760b",
   "metadata": {},
   "outputs": [
    {
     "data": {
      "text/plain": [
       "count      714939.000000\n",
       "mean       239577.480374\n",
       "std        338594.168717\n",
       "min         10000.580000\n",
       "25%        110000.000000\n",
       "50%        178350.000000\n",
       "75%        285000.000000\n",
       "max      89899536.000000\n",
       "Name: valeur_fonciere, dtype: object"
      ]
     },
     "execution_count": 29,
     "metadata": {},
     "output_type": "execute_result"
    }
   ],
   "source": [
    "dvf['valeur_fonciere'].describe().apply(lambda x: format(x, 'f'))"
   ]
  },
  {
   "cell_type": "markdown",
   "id": "8511e2c9-ccc5-498c-b5f2-b56ea95320bd",
   "metadata": {},
   "source": [
    "a - En applicant la fonction describe sur la 'valeur_fonciere' on observe que la transaction la plus élevée en 2021 est de 89 899 536 € (*max*)"
   ]
  },
  {
   "cell_type": "code",
   "execution_count": 30,
   "id": "quality-connection",
   "metadata": {},
   "outputs": [
    {
     "data": {
      "text/plain": [
       "count    714930.000000\n",
       "mean          3.500116\n",
       "std           1.516200\n",
       "min           0.000000\n",
       "25%           2.000000\n",
       "50%           3.000000\n",
       "75%           4.000000\n",
       "max          70.000000\n",
       "Name: nombre_pieces_principales, dtype: object"
      ]
     },
     "execution_count": 30,
     "metadata": {},
     "output_type": "execute_result"
    }
   ],
   "source": [
    "dvf['nombre_pieces_principales'].describe().apply(lambda x: format(x, 'f'))"
   ]
  },
  {
   "cell_type": "markdown",
   "id": "formal-lindsay",
   "metadata": {},
   "source": [
    "b - Les logements vendus avaient en moyenne **3.50 pièces donc 3 pièces** (*ligne mean*)"
   ]
  },
  {
   "cell_type": "code",
   "execution_count": 38,
   "id": "yellow-customs",
   "metadata": {},
   "outputs": [
    {
     "data": {
      "text/plain": [
       "59    35206\n",
       "75    31799\n",
       "33    24942\n",
       "44    23521\n",
       "6     22739\n",
       "      ...  \n",
       "5      1098\n",
       "46      732\n",
       "7       680\n",
       "2B      540\n",
       "48      489\n",
       "Name: code_departement, Length: 93, dtype: int64"
      ]
     },
     "execution_count": 38,
     "metadata": {},
     "output_type": "execute_result"
    }
   ],
   "source": [
    "dvf['code_departement'].value_counts()"
   ]
  },
  {
   "cell_type": "markdown",
   "id": "vietnamese-pierre",
   "metadata": {},
   "source": [
    " c - Le département avec le moins de transations est le 48, et celui avec le plus de transactions est le 59"
   ]
  },
  {
   "cell_type": "markdown",
   "id": "c3a8dda9-5000-46a9-8651-8f11d7b0e2fe",
   "metadata": {},
   "source": [
    "---"
   ]
  },
  {
   "cell_type": "markdown",
   "id": "248c52e1-0ea3-47f3-81e0-632a61cb5174",
   "metadata": {},
   "source": [
    "**Question 3 :** En utilisant la méthode `.loc[]` dont la documentation est disponible [ici](https://pandas.pydata.org/docs/reference/api/pandas.DataFrame.loc.html), déterminer \n",
    "\n",
    "- (a) la valeur moyenne d'une transaction à Paris (code_departement=='75'). \n",
    "- (b) la valeur moyenne d'une transaction dans les Bouches-du-Rhône (code_departement=='13')."
   ]
  },
  {
   "cell_type": "code",
   "execution_count": 45,
   "id": "507d3645-9f68-4f1b-b40a-f855ca7dd675",
   "metadata": {},
   "outputs": [
    {
     "data": {
      "text/html": [
       "<div>\n",
       "<style scoped>\n",
       "    .dataframe tbody tr th:only-of-type {\n",
       "        vertical-align: middle;\n",
       "    }\n",
       "\n",
       "    .dataframe tbody tr th {\n",
       "        vertical-align: top;\n",
       "    }\n",
       "\n",
       "    .dataframe thead th {\n",
       "        text-align: right;\n",
       "    }\n",
       "</style>\n",
       "<table border=\"1\" class=\"dataframe\">\n",
       "  <thead>\n",
       "    <tr style=\"text-align: right;\">\n",
       "      <th></th>\n",
       "      <th>surface_reelle_bati</th>\n",
       "      <th>nombre_pieces_principales</th>\n",
       "      <th>surface_terrain</th>\n",
       "      <th>longitude</th>\n",
       "      <th>latitude</th>\n",
       "      <th>valeur_fonciere</th>\n",
       "    </tr>\n",
       "  </thead>\n",
       "  <tbody>\n",
       "    <tr>\n",
       "      <th>count</th>\n",
       "      <td>31799.000000</td>\n",
       "      <td>31799.000000</td>\n",
       "      <td>162.000000</td>\n",
       "      <td>31799.000000</td>\n",
       "      <td>31799.000000</td>\n",
       "      <td>3.179900e+04</td>\n",
       "    </tr>\n",
       "    <tr>\n",
       "      <th>mean</th>\n",
       "      <td>54.599358</td>\n",
       "      <td>2.447247</td>\n",
       "      <td>198.413580</td>\n",
       "      <td>2.340450</td>\n",
       "      <td>48.862180</td>\n",
       "      <td>6.360189e+05</td>\n",
       "    </tr>\n",
       "    <tr>\n",
       "      <th>std</th>\n",
       "      <td>41.516518</td>\n",
       "      <td>1.320648</td>\n",
       "      <td>191.325343</td>\n",
       "      <td>0.037915</td>\n",
       "      <td>0.020013</td>\n",
       "      <td>8.492222e+05</td>\n",
       "    </tr>\n",
       "    <tr>\n",
       "      <th>min</th>\n",
       "      <td>2.000000</td>\n",
       "      <td>0.000000</td>\n",
       "      <td>31.000000</td>\n",
       "      <td>2.255896</td>\n",
       "      <td>48.818759</td>\n",
       "      <td>1.010000e+04</td>\n",
       "    </tr>\n",
       "    <tr>\n",
       "      <th>25%</th>\n",
       "      <td>28.000000</td>\n",
       "      <td>1.000000</td>\n",
       "      <td>81.750000</td>\n",
       "      <td>2.310701</td>\n",
       "      <td>48.845545</td>\n",
       "      <td>2.850000e+05</td>\n",
       "    </tr>\n",
       "    <tr>\n",
       "      <th>50%</th>\n",
       "      <td>44.000000</td>\n",
       "      <td>2.000000</td>\n",
       "      <td>137.500000</td>\n",
       "      <td>2.343545</td>\n",
       "      <td>48.862570</td>\n",
       "      <td>4.500000e+05</td>\n",
       "    </tr>\n",
       "    <tr>\n",
       "      <th>75%</th>\n",
       "      <td>69.000000</td>\n",
       "      <td>3.000000</td>\n",
       "      <td>221.000000</td>\n",
       "      <td>2.371576</td>\n",
       "      <td>48.879911</td>\n",
       "      <td>7.400000e+05</td>\n",
       "    </tr>\n",
       "    <tr>\n",
       "      <th>max</th>\n",
       "      <td>1561.000000</td>\n",
       "      <td>23.000000</td>\n",
       "      <td>1167.000000</td>\n",
       "      <td>2.412825</td>\n",
       "      <td>48.900565</td>\n",
       "      <td>6.780000e+07</td>\n",
       "    </tr>\n",
       "  </tbody>\n",
       "</table>\n",
       "</div>"
      ],
      "text/plain": [
       "       surface_reelle_bati  nombre_pieces_principales  surface_terrain  \\\n",
       "count         31799.000000               31799.000000       162.000000   \n",
       "mean             54.599358                   2.447247       198.413580   \n",
       "std              41.516518                   1.320648       191.325343   \n",
       "min               2.000000                   0.000000        31.000000   \n",
       "25%              28.000000                   1.000000        81.750000   \n",
       "50%              44.000000                   2.000000       137.500000   \n",
       "75%              69.000000                   3.000000       221.000000   \n",
       "max            1561.000000                  23.000000      1167.000000   \n",
       "\n",
       "          longitude      latitude  valeur_fonciere  \n",
       "count  31799.000000  31799.000000     3.179900e+04  \n",
       "mean       2.340450     48.862180     6.360189e+05  \n",
       "std        0.037915      0.020013     8.492222e+05  \n",
       "min        2.255896     48.818759     1.010000e+04  \n",
       "25%        2.310701     48.845545     2.850000e+05  \n",
       "50%        2.343545     48.862570     4.500000e+05  \n",
       "75%        2.371576     48.879911     7.400000e+05  \n",
       "max        2.412825     48.900565     6.780000e+07  "
      ]
     },
     "execution_count": 45,
     "metadata": {},
     "output_type": "execute_result"
    }
   ],
   "source": [
    "dvf.loc[dvf['code_departement'] == '75'].describe()"
   ]
  },
  {
   "cell_type": "markdown",
   "id": "c5c3a941-a489-47d6-8748-65f261ee5e35",
   "metadata": {},
   "source": [
    "a - La valeur moyenne d'une transation à Paris est de 636 018,90 €"
   ]
  },
  {
   "cell_type": "code",
   "execution_count": 46,
   "id": "lonely-handle",
   "metadata": {},
   "outputs": [
    {
     "data": {
      "text/html": [
       "<div>\n",
       "<style scoped>\n",
       "    .dataframe tbody tr th:only-of-type {\n",
       "        vertical-align: middle;\n",
       "    }\n",
       "\n",
       "    .dataframe tbody tr th {\n",
       "        vertical-align: top;\n",
       "    }\n",
       "\n",
       "    .dataframe thead th {\n",
       "        text-align: right;\n",
       "    }\n",
       "</style>\n",
       "<table border=\"1\" class=\"dataframe\">\n",
       "  <thead>\n",
       "    <tr style=\"text-align: right;\">\n",
       "      <th></th>\n",
       "      <th>surface_reelle_bati</th>\n",
       "      <th>nombre_pieces_principales</th>\n",
       "      <th>surface_terrain</th>\n",
       "      <th>longitude</th>\n",
       "      <th>latitude</th>\n",
       "      <th>valeur_fonciere</th>\n",
       "    </tr>\n",
       "  </thead>\n",
       "  <tbody>\n",
       "    <tr>\n",
       "      <th>count</th>\n",
       "      <td>14748.000000</td>\n",
       "      <td>14748.000000</td>\n",
       "      <td>5717.000000</td>\n",
       "      <td>14748.000000</td>\n",
       "      <td>14748.000000</td>\n",
       "      <td>1.474800e+04</td>\n",
       "    </tr>\n",
       "    <tr>\n",
       "      <th>mean</th>\n",
       "      <td>75.620830</td>\n",
       "      <td>3.322620</td>\n",
       "      <td>609.288088</td>\n",
       "      <td>5.233208</td>\n",
       "      <td>43.484908</td>\n",
       "      <td>2.734523e+05</td>\n",
       "    </tr>\n",
       "    <tr>\n",
       "      <th>std</th>\n",
       "      <td>37.074826</td>\n",
       "      <td>1.336333</td>\n",
       "      <td>4937.955890</td>\n",
       "      <td>0.256193</td>\n",
       "      <td>0.161354</td>\n",
       "      <td>2.542091e+05</td>\n",
       "    </tr>\n",
       "    <tr>\n",
       "      <th>min</th>\n",
       "      <td>1.000000</td>\n",
       "      <td>0.000000</td>\n",
       "      <td>5.000000</td>\n",
       "      <td>4.394665</td>\n",
       "      <td>43.169162</td>\n",
       "      <td>1.100000e+04</td>\n",
       "    </tr>\n",
       "    <tr>\n",
       "      <th>25%</th>\n",
       "      <td>52.000000</td>\n",
       "      <td>2.000000</td>\n",
       "      <td>196.000000</td>\n",
       "      <td>5.054523</td>\n",
       "      <td>43.344888</td>\n",
       "      <td>1.400000e+05</td>\n",
       "    </tr>\n",
       "    <tr>\n",
       "      <th>50%</th>\n",
       "      <td>71.000000</td>\n",
       "      <td>3.000000</td>\n",
       "      <td>422.000000</td>\n",
       "      <td>5.327533</td>\n",
       "      <td>43.468352</td>\n",
       "      <td>2.234750e+05</td>\n",
       "    </tr>\n",
       "    <tr>\n",
       "      <th>75%</th>\n",
       "      <td>91.000000</td>\n",
       "      <td>4.000000</td>\n",
       "      <td>665.000000</td>\n",
       "      <td>5.423245</td>\n",
       "      <td>43.591437</td>\n",
       "      <td>3.373250e+05</td>\n",
       "    </tr>\n",
       "    <tr>\n",
       "      <th>max</th>\n",
       "      <td>655.000000</td>\n",
       "      <td>32.000000</td>\n",
       "      <td>369359.000000</td>\n",
       "      <td>5.728913</td>\n",
       "      <td>43.908485</td>\n",
       "      <td>9.779465e+06</td>\n",
       "    </tr>\n",
       "  </tbody>\n",
       "</table>\n",
       "</div>"
      ],
      "text/plain": [
       "       surface_reelle_bati  nombre_pieces_principales  surface_terrain  \\\n",
       "count         14748.000000               14748.000000      5717.000000   \n",
       "mean             75.620830                   3.322620       609.288088   \n",
       "std              37.074826                   1.336333      4937.955890   \n",
       "min               1.000000                   0.000000         5.000000   \n",
       "25%              52.000000                   2.000000       196.000000   \n",
       "50%              71.000000                   3.000000       422.000000   \n",
       "75%              91.000000                   4.000000       665.000000   \n",
       "max             655.000000                  32.000000    369359.000000   \n",
       "\n",
       "          longitude      latitude  valeur_fonciere  \n",
       "count  14748.000000  14748.000000     1.474800e+04  \n",
       "mean       5.233208     43.484908     2.734523e+05  \n",
       "std        0.256193      0.161354     2.542091e+05  \n",
       "min        4.394665     43.169162     1.100000e+04  \n",
       "25%        5.054523     43.344888     1.400000e+05  \n",
       "50%        5.327533     43.468352     2.234750e+05  \n",
       "75%        5.423245     43.591437     3.373250e+05  \n",
       "max        5.728913     43.908485     9.779465e+06  "
      ]
     },
     "execution_count": 46,
     "metadata": {},
     "output_type": "execute_result"
    }
   ],
   "source": [
    "dvf.loc[dvf['code_departement'] == '13'].describe()"
   ]
  },
  {
   "cell_type": "markdown",
   "id": "graduate-september",
   "metadata": {},
   "source": [
    "b - La valeur moyenne d'une transation dans les Bouches du Rhône est de 273 452,30€"
   ]
  },
  {
   "cell_type": "markdown",
   "id": "603264f2-87ea-4882-a33e-ba6bf7fcb923",
   "metadata": {},
   "source": [
    "---"
   ]
  },
  {
   "cell_type": "markdown",
   "id": "5a58be2f-2b9b-47e8-a83c-c05df0820c87",
   "metadata": {},
   "source": [
    "**Question 4 :** Faisons maintenant un peu de visualisation. En utilisant la méthode `.hist()` dont la documentation est disponible [ici](https://pandas.pydata.org/docs/reference/api/pandas.DataFrame.hist.html), afficher la distribution des valeurs pour les attributs suivants : 'surface_reelle_bati', 'nombre_pieces_principales', 'surface_terrain', et 'valeur_fonciere'. \n",
    "\n",
    "On choisira un nombre de `bins` adapté. \n",
    "\n",
    "Quel problème remarquez-vous avec les valeurs foncières et les surfaces de terrain ? Trouvez une solution pour améliorer la visualisation."
   ]
  },
  {
   "cell_type": "code",
   "execution_count": 167,
   "id": "5395b5ce-3a53-465b-ac16-5a7f42c291df",
   "metadata": {},
   "outputs": [
    {
     "data": {
      "text/plain": [
       "<AxesSubplot:>"
      ]
     },
     "execution_count": 167,
     "metadata": {},
     "output_type": "execute_result"
    },
    {
     "data": {
      "image/png": "[encoded data removed]",
      "text/plain": [
       "<Figure size 432x288 with 1 Axes>"
      ]
     },
     "metadata": {
      "needs_background": "light"
     },
     "output_type": "display_data"
    }
   ],
   "source": [
    "dvf['nombre_pieces_principales'].hist(bins=100)"
   ]
  },
  {
   "cell_type": "code",
   "execution_count": 120,
   "id": "sacred-superior",
   "metadata": {},
   "outputs": [
    {
     "data": {
      "text/plain": [
       "<AxesSubplot:>"
      ]
     },
     "execution_count": 120,
     "metadata": {},
     "output_type": "execute_result"
    },
    {
     "data": {
      "image/png": "[encoded data removed]",
      "text/plain": [
       "<Figure size 432x288 with 1 Axes>"
      ]
     },
     "metadata": {
      "needs_background": "light"
     },
     "output_type": "display_data"
    }
   ],
   "source": [
    "dvf['surface_reelle_bati'].hist(bins=500)"
   ]
  },
  {
   "cell_type": "code",
   "execution_count": 208,
   "id": "continuing-baghdad",
   "metadata": {},
   "outputs": [
    {
     "data": {
      "text/plain": [
       "array([[<AxesSubplot:title={'center':'surface_terrain'}>]], dtype=object)"
      ]
     },
     "execution_count": 208,
     "metadata": {},
     "output_type": "execute_result"
    },
    {
     "data": {
      "image/png": "[encoded data removed]",
      "text/plain": [
       "<Figure size 432x288 with 1 Axes>"
      ]
     },
     "metadata": {
      "needs_background": "light"
     },
     "output_type": "display_data"
    }
   ],
   "source": [
    "dvf.loc[dvf['surface_terrain'] <= 5000].hist(column='surface_terrain', bins=100)"
   ]
  },
  {
   "cell_type": "code",
   "execution_count": 209,
   "id": "successful-elephant",
   "metadata": {},
   "outputs": [
    {
     "data": {
      "text/plain": [
       "count    370617.000000\n",
       "mean        538.464501\n",
       "std        1054.551756\n",
       "min           1.000000\n",
       "25%         216.000000\n",
       "50%         420.000000\n",
       "75%         680.000000\n",
       "max      369359.000000\n",
       "Name: surface_terrain, dtype: object"
      ]
     },
     "execution_count": 209,
     "metadata": {},
     "output_type": "execute_result"
    },
    {
     "data": {
      "image/png": "[encoded data removed]",
      "text/plain": [
       "<Figure size 432x288 with 1 Axes>"
      ]
     },
     "metadata": {
      "needs_background": "light"
     },
     "output_type": "display_data"
    }
   ],
   "source": [
    "dvf.loc[dvf['surface_terrain'] > 10000].hist(column='surface_terrain', bins=50)\n",
    "dvf['surface_terrain'].describe().apply(lambda x: format(x, 'f'))"
   ]
  },
  {
   "cell_type": "code",
   "execution_count": 210,
   "id": "composite-trouble",
   "metadata": {},
   "outputs": [
    {
     "data": {
      "text/plain": [
       "array([[<AxesSubplot:title={'center':'valeur_fonciere'}>]], dtype=object)"
      ]
     },
     "execution_count": 210,
     "metadata": {},
     "output_type": "execute_result"
    },
    {
     "data": {
      "image/png": "[encoded data removed]",
      "text/plain": [
       "<Figure size 432x288 with 1 Axes>"
      ]
     },
     "metadata": {
      "needs_background": "light"
     },
     "output_type": "display_data"
    }
   ],
   "source": [
    "dvf.loc[dvf['valeur_fonciere'] <= 1_000_000].hist(column='valeur_fonciere', bins=100)"
   ]
  },
  {
   "cell_type": "code",
   "execution_count": 220,
   "id": "former-retirement",
   "metadata": {},
   "outputs": [
    {
     "data": {
      "text/plain": [
       "array([[<AxesSubplot:title={'center':'valeur_fonciere'}>]], dtype=object)"
      ]
     },
     "execution_count": 220,
     "metadata": {},
     "output_type": "execute_result"
    },
    {
     "data": {
      "image/png": "[encoded data removed]",
      "text/plain": [
       "<Figure size 432x288 with 1 Axes>"
      ]
     },
     "metadata": {
      "needs_background": "light"
     },
     "output_type": "display_data"
    }
   ],
   "source": [
    "dvf.loc[dvf['valeur_fonciere'] > 10_000_000].hist(column='valeur_fonciere', bins=100)"
   ]
  },
  {
   "cell_type": "markdown",
   "id": "32ade969-bdb7-442e-9f8e-e8de72c814cb",
   "metadata": {},
   "source": [
    "Pour la surface de terrain, on sait que 75% des valeurs sont entre 1.0 et 680.0 alors que le max est de 370 000. Lorsque l'on essaye de mettre toutes les valeurs dans le même histogramme, on ne voit pas grand chose car l'interval de valeur sur l'axe des x est trop grand par rapport à nos valeurs. J'ai donc décidé de séparer en deux histogrammes, un premier avec les valeurs entre 1.0 et 5000 et un second pour les valeurs entre 10000 et le max\n",
    "\n",
    "C'est le même principe pour la valeur foncière, 75% entre 10 000€ et 285 000€ alors que le max est à 89 899 536€.\n",
    "J'ai donc fait un histogramme pour un prix allant de 10 000€ à 1 000 000€ et un second de 10 000 000 au max.\n",
    "\n",
    "Les valeurs pour séparer les plages des histogrammes ont été choisis en augmentant peu à peu jusqu'à trouvé une limite où l'on obtient la majorité des valeurs dans le premier histogramme sans avoir un intervalle de valeurs trop grands sur l'axe des x"
   ]
  },
  {
   "cell_type": "markdown",
   "id": "4bd1ee7e-d51e-4fcd-aa4b-43e2e74c5fc8",
   "metadata": {},
   "source": [
    "---"
   ]
  },
  {
   "cell_type": "markdown",
   "id": "6dc00326-4045-4ecd-955a-4e39d4f467e6",
   "metadata": {},
   "source": [
    "**Question 5 :** Compléter le morceau de code suivant pour afficher (grâce au géo-codage) les transactions supérieures à 1 000 000 €. Commentez le résultat obtenu. "
   ]
  },
  {
   "cell_type": "code",
   "execution_count": 215,
   "id": "c1358564-0fd0-4eb3-91fd-b768e210ab64",
   "metadata": {},
   "outputs": [
    {
     "data": {
      "text/plain": [
       "[Text(0.5, 1.0, 'Prix immobilier France'),\n",
       " Text(0.5, 0, 'longitude'),\n",
       " Text(0, 0.5, 'latitude')]"
      ]
     },
     "execution_count": 215,
     "metadata": {},
     "output_type": "execute_result"
    },
    {
     "data": {
      "image/png": "[encoded data removed]",
      "text/plain": [
       "<Figure size 432x288 with 1 Axes>"
      ]
     },
     "metadata": {
      "needs_background": "light"
     },
     "output_type": "display_data"
    }
   ],
   "source": [
    "#  A COMPLETER\n",
    "fig, ax = plt.subplots()\n",
    "\n",
    "z = ax.scatter(data = dvf.loc[dvf['valeur_fonciere'] > 1_000_000], \n",
    "               x='longitude', y='latitude', \n",
    "               alpha=0.5)\n",
    "\n",
    "ax.set(title='Prix immobilier France', xlabel='longitude', ylabel='latitude')"
   ]
  },
  {
   "cell_type": "markdown",
   "id": "ba617240-8e63-4abc-b0cc-2db18a9bdc8b",
   "metadata": {},
   "source": [
    "On observe qu'une majorité des mobiliers les plus chères vendus en 2021 se trouvent dans Paris et dans les Bouches du Rhônes"
   ]
  },
  {
   "cell_type": "markdown",
   "id": "d858f4a0-fd85-457f-8a98-a0e5a44f8fa1",
   "metadata": {},
   "source": [
    "---"
   ]
  },
  {
   "cell_type": "markdown",
   "id": "0af9745d-1bc3-4413-9472-9400fb79db05",
   "metadata": {},
   "source": [
    "**Question 6 :** Créez dans le dataFrame `dvf` une nouvelle variable 'prix_m2' qui stocke le prix au mètre carré d'un logement, où on divise le prix du logement (valeur_fonciere) par sa surface (surface_reelle_bati). \n",
    "\n",
    "Remarque : on ne tient pas compte de la superficie du terrain ici."
   ]
  },
  {
   "cell_type": "code",
   "execution_count": 221,
   "id": "0bfa24b2-f460-4f92-8401-2fee0d97184d",
   "metadata": {},
   "outputs": [
    {
     "data": {
      "text/html": [
       "<div>\n",
       "<style scoped>\n",
       "    .dataframe tbody tr th:only-of-type {\n",
       "        vertical-align: middle;\n",
       "    }\n",
       "\n",
       "    .dataframe tbody tr th {\n",
       "        vertical-align: top;\n",
       "    }\n",
       "\n",
       "    .dataframe thead th {\n",
       "        text-align: right;\n",
       "    }\n",
       "</style>\n",
       "<table border=\"1\" class=\"dataframe\">\n",
       "  <thead>\n",
       "    <tr style=\"text-align: right;\">\n",
       "      <th></th>\n",
       "      <th>code_departement</th>\n",
       "      <th>surface_reelle_bati</th>\n",
       "      <th>nombre_pieces_principales</th>\n",
       "      <th>surface_terrain</th>\n",
       "      <th>longitude</th>\n",
       "      <th>latitude</th>\n",
       "      <th>valeur_fonciere</th>\n",
       "      <th>prix_m2</th>\n",
       "    </tr>\n",
       "  </thead>\n",
       "  <tbody>\n",
       "    <tr>\n",
       "      <th>0</th>\n",
       "      <td>1</td>\n",
       "      <td>97.0</td>\n",
       "      <td>5.0</td>\n",
       "      <td>2410.0</td>\n",
       "      <td>5.386094</td>\n",
       "      <td>46.327140</td>\n",
       "      <td>185000.0</td>\n",
       "      <td>1907.216495</td>\n",
       "    </tr>\n",
       "    <tr>\n",
       "      <th>1</th>\n",
       "      <td>1</td>\n",
       "      <td>88.0</td>\n",
       "      <td>4.0</td>\n",
       "      <td>866.0</td>\n",
       "      <td>5.157688</td>\n",
       "      <td>46.200988</td>\n",
       "      <td>204332.0</td>\n",
       "      <td>2321.954545</td>\n",
       "    </tr>\n",
       "    <tr>\n",
       "      <th>2</th>\n",
       "      <td>1</td>\n",
       "      <td>168.0</td>\n",
       "      <td>5.0</td>\n",
       "      <td>1426.0</td>\n",
       "      <td>5.273260</td>\n",
       "      <td>46.156334</td>\n",
       "      <td>320000.0</td>\n",
       "      <td>1904.761905</td>\n",
       "    </tr>\n",
       "    <tr>\n",
       "      <th>3</th>\n",
       "      <td>1</td>\n",
       "      <td>71.0</td>\n",
       "      <td>3.0</td>\n",
       "      <td>NaN</td>\n",
       "      <td>5.200117</td>\n",
       "      <td>46.210292</td>\n",
       "      <td>176000.0</td>\n",
       "      <td>2478.873239</td>\n",
       "    </tr>\n",
       "    <tr>\n",
       "      <th>4</th>\n",
       "      <td>1</td>\n",
       "      <td>96.0</td>\n",
       "      <td>3.0</td>\n",
       "      <td>NaN</td>\n",
       "      <td>5.108604</td>\n",
       "      <td>46.244066</td>\n",
       "      <td>226700.0</td>\n",
       "      <td>2361.458333</td>\n",
       "    </tr>\n",
       "    <tr>\n",
       "      <th>...</th>\n",
       "      <td>...</td>\n",
       "      <td>...</td>\n",
       "      <td>...</td>\n",
       "      <td>...</td>\n",
       "      <td>...</td>\n",
       "      <td>...</td>\n",
       "      <td>...</td>\n",
       "      <td>...</td>\n",
       "    </tr>\n",
       "    <tr>\n",
       "      <th>714934</th>\n",
       "      <td>75</td>\n",
       "      <td>58.0</td>\n",
       "      <td>2.0</td>\n",
       "      <td>NaN</td>\n",
       "      <td>2.354883</td>\n",
       "      <td>48.852709</td>\n",
       "      <td>1550000.0</td>\n",
       "      <td>26724.137931</td>\n",
       "    </tr>\n",
       "    <tr>\n",
       "      <th>714935</th>\n",
       "      <td>75</td>\n",
       "      <td>15.0</td>\n",
       "      <td>1.0</td>\n",
       "      <td>NaN</td>\n",
       "      <td>2.345464</td>\n",
       "      <td>48.867430</td>\n",
       "      <td>190000.0</td>\n",
       "      <td>12666.666667</td>\n",
       "    </tr>\n",
       "    <tr>\n",
       "      <th>714936</th>\n",
       "      <td>75</td>\n",
       "      <td>15.0</td>\n",
       "      <td>1.0</td>\n",
       "      <td>NaN</td>\n",
       "      <td>2.350035</td>\n",
       "      <td>48.868906</td>\n",
       "      <td>230000.0</td>\n",
       "      <td>15333.333333</td>\n",
       "    </tr>\n",
       "    <tr>\n",
       "      <th>714937</th>\n",
       "      <td>75</td>\n",
       "      <td>30.0</td>\n",
       "      <td>2.0</td>\n",
       "      <td>NaN</td>\n",
       "      <td>2.367712</td>\n",
       "      <td>48.854200</td>\n",
       "      <td>383000.0</td>\n",
       "      <td>12766.666667</td>\n",
       "    </tr>\n",
       "    <tr>\n",
       "      <th>714938</th>\n",
       "      <td>75</td>\n",
       "      <td>37.0</td>\n",
       "      <td>2.0</td>\n",
       "      <td>NaN</td>\n",
       "      <td>2.350774</td>\n",
       "      <td>48.868450</td>\n",
       "      <td>260000.0</td>\n",
       "      <td>7027.027027</td>\n",
       "    </tr>\n",
       "  </tbody>\n",
       "</table>\n",
       "<p>714939 rows × 8 columns</p>\n",
       "</div>"
      ],
      "text/plain": [
       "       code_departement  surface_reelle_bati  nombre_pieces_principales  \\\n",
       "0                     1                 97.0                        5.0   \n",
       "1                     1                 88.0                        4.0   \n",
       "2                     1                168.0                        5.0   \n",
       "3                     1                 71.0                        3.0   \n",
       "4                     1                 96.0                        3.0   \n",
       "...                 ...                  ...                        ...   \n",
       "714934               75                 58.0                        2.0   \n",
       "714935               75                 15.0                        1.0   \n",
       "714936               75                 15.0                        1.0   \n",
       "714937               75                 30.0                        2.0   \n",
       "714938               75                 37.0                        2.0   \n",
       "\n",
       "        surface_terrain  longitude   latitude  valeur_fonciere       prix_m2  \n",
       "0                2410.0   5.386094  46.327140         185000.0   1907.216495  \n",
       "1                 866.0   5.157688  46.200988         204332.0   2321.954545  \n",
       "2                1426.0   5.273260  46.156334         320000.0   1904.761905  \n",
       "3                   NaN   5.200117  46.210292         176000.0   2478.873239  \n",
       "4                   NaN   5.108604  46.244066         226700.0   2361.458333  \n",
       "...                 ...        ...        ...              ...           ...  \n",
       "714934              NaN   2.354883  48.852709        1550000.0  26724.137931  \n",
       "714935              NaN   2.345464  48.867430         190000.0  12666.666667  \n",
       "714936              NaN   2.350035  48.868906         230000.0  15333.333333  \n",
       "714937              NaN   2.367712  48.854200         383000.0  12766.666667  \n",
       "714938              NaN   2.350774  48.868450         260000.0   7027.027027  \n",
       "\n",
       "[714939 rows x 8 columns]"
      ]
     },
     "execution_count": 221,
     "metadata": {},
     "output_type": "execute_result"
    }
   ],
   "source": [
    "dvf['prix_m2'] = dvf['valeur_fonciere'] / dvf['surface_reelle_bati']\n",
    "dvf"
   ]
  },
  {
   "cell_type": "markdown",
   "id": "c0d5e5fd-d1e3-4d49-b451-160ce89b1b9d",
   "metadata": {},
   "source": [
    "---"
   ]
  },
  {
   "cell_type": "markdown",
   "id": "a9fe2a24-af18-42c2-8231-1d3599f62f93",
   "metadata": {},
   "source": [
    "**Question 7 :** En déduire le prix moyen au m2 à Paris et dans les Bouches-du-Rhône en 2021."
   ]
  },
  {
   "cell_type": "code",
   "execution_count": null,
   "id": "9c24b9bc-cb8e-4b7c-8706-14e06474149a",
   "metadata": {},
   "outputs": [],
   "source": [
    "# Écrivez votre code ici"
   ]
  },
  {
   "cell_type": "markdown",
   "id": "26263095-9936-4733-8cb3-ba5f88ba1c03",
   "metadata": {},
   "source": [
    "-- Écrivez vos commentaires ici --"
   ]
  },
  {
   "cell_type": "markdown",
   "id": "f35c087d-d4a4-480f-8cd0-b30e1eea0c89",
   "metadata": {},
   "source": [
    "---"
   ]
  },
  {
   "cell_type": "markdown",
   "id": "4c733c02-41f3-4dd5-8d7b-3a991d1e5568",
   "metadata": {},
   "source": [
    "**Question 8 :** En utilisant les méthodes `.isna()` et `.notna()` documentées [ici](https://pandas.pydata.org/docs/reference/api/pandas.DataFrame.isna.html) et [là](https://pandas.pydata.org/docs/reference/api/pandas.DataFrame.notna.html#pandas.DataFrame.notna), déterminer la différence de prix au m2 entre les logements disposant d'un terrain et ceux n'en disposant pas dans le Vaucluse ('code_departement'=='84') et un autre département de votre choix."
   ]
  },
  {
   "cell_type": "code",
   "execution_count": null,
   "id": "7729e388-ad83-4609-8fb5-846c6b0d2fac",
   "metadata": {},
   "outputs": [],
   "source": [
    "# Écrivez votre code ici"
   ]
  },
  {
   "cell_type": "markdown",
   "id": "b6f1d746-7937-4a37-8765-ce83d456b8dc",
   "metadata": {},
   "source": [
    "-- Écrivez vos commentaires ici --"
   ]
  },
  {
   "cell_type": "markdown",
   "id": "c3bd90d5-f248-497a-9f69-869c43a55270",
   "metadata": {},
   "source": [
    "---"
   ]
  },
  {
   "cell_type": "markdown",
   "id": "52c9bace-d6b7-4c7e-9596-7cf56a5d5c90",
   "metadata": {},
   "source": [
    "**Question 9 :** Déterminer le département dans lequel, en moyenne, les logements vendus ont le plus de pièces principales.\n",
    "\n",
    "_Indication :_ On pourra utiliser la méthode `.unique()` documentée [ici](https://pandas.pydata.org/docs/reference/api/pandas.Series.unique.html). "
   ]
  },
  {
   "cell_type": "code",
   "execution_count": null,
   "id": "fb87000b-a2eb-4624-a51b-ca3966bbc0a8",
   "metadata": {},
   "outputs": [],
   "source": [
    "# Écrivez votre code ici"
   ]
  },
  {
   "cell_type": "markdown",
   "id": "a34f82a3-3fe7-4fb1-bad8-75ce4233237f",
   "metadata": {},
   "source": [
    "-- Écrivez vos commentaires ici --"
   ]
  },
  {
   "cell_type": "markdown",
   "id": "678ee645-70a5-45fc-ab1d-2b40e1488c9f",
   "metadata": {},
   "source": [
    "---"
   ]
  },
  {
   "cell_type": "markdown",
   "id": "6a9e9513-b882-47ec-b60e-5b9eac91ccf3",
   "metadata": {},
   "source": [
    "Faisons maintenant un peu de statistiques (avec les outils pratiques fourni par `pandas`). "
   ]
  },
  {
   "cell_type": "markdown",
   "id": "d1d2ff7d-b0ee-4b51-a0da-bf2fcd581c28",
   "metadata": {},
   "source": [
    "**Question 10 :** En utilisant la méthode `.corr()` documentée [ici](https://pandas.pydata.org/docs/reference/api/pandas.DataFrame.corr.html), déterminer quelles sont les variables les plus corrélées au prix ('valeur_fonciere') du logement."
   ]
  },
  {
   "cell_type": "code",
   "execution_count": null,
   "id": "83c11395-3273-4e50-aae1-1e0e11f07eec",
   "metadata": {},
   "outputs": [],
   "source": [
    "# Écrire votre code ici"
   ]
  },
  {
   "cell_type": "markdown",
   "id": "f94c8bae-fc3d-454c-b3b1-3f597d93fde5",
   "metadata": {},
   "source": [
    "-- Écrire vos commentaires ici --"
   ]
  },
  {
   "cell_type": "markdown",
   "id": "e1ac83f2-e4e8-4b6f-ba9b-35138ac42aac",
   "metadata": {},
   "source": [
    "---"
   ]
  },
  {
   "cell_type": "markdown",
   "id": "1cf469f1-9662-4ec8-9b3e-8a5a5cefc82b",
   "metadata": {},
   "source": [
    "## Partie 2 : Projet exploratoire"
   ]
  },
  {
   "cell_type": "markdown",
   "id": "299fb8be-5620-4dfc-bf14-bca51414e839",
   "metadata": {
    "tags": []
   },
   "source": [
    "On travaille avec le dataset `earnings` évoqué ce matin en cours, disponible sous le nom `earnings.csv` et qu'on peut également télécharger [ici](https://www.kaggle.com/datasets/mukeshmanral/employ-earnings-data?select=batch2_jobID_00B80TR.csv). \n",
    "\n",
    "Ce dataset (en anglais) présente les salaires d'un million d'américains en fonction de divers paramètres : années d'expériences (`yearsExperience`), secteur d'activité (`industry`), filière choisie à l'université ('major'), etc. \n",
    "\n",
    "On vous demande d'explorer ce dataset, de tester des fonctionnalités `pandas`, de faire des remarques sur l'organisation des données, de la visualisation... \n",
    "\n",
    "Il n'y a pas de consigne spécifique : plus vous en faites, mieux ce sera !\n",
    "\n",
    "Quelques pistes néanmoins (vous n'êtes pas obligé de faire exactement ça, c'est juste pour donner des idées) : \n",
    "- Que remarquez vous sur la distribution des années d'expérience ? sur la représentation des secteurs d'activité ? Qu'en déduisez-vous sur ce jeu de données ? \n",
    "- Y a-t-il des données aberrantes ? \n",
    "- Si on cherche à maximiser son salaire, quelle 'major' faut-il choisir ? \n",
    "- (Plus technique) Quelle est, en moyenne, l'évolution relative de salaire qu'on peut espérer chaque année ? \n",
    "    - Note : évolution relative = (année_n+1 - année_n) / année_n ; par exemple si je suis passé de 100 à 110 de salaire, j'ai eu une évolution relative de (110 - 100)/100 = 0.1 = 10%. \n",
    "    \n",
    "    \n",
    "Mais le plus important est de faire preuve de curiosité avec les différentes variables (et les outils mis à disposition). "
   ]
  },
  {
   "cell_type": "code",
   "execution_count": null,
   "id": "ce4ffd5e-7ae2-48f0-8566-74a3e4290e59",
   "metadata": {},
   "outputs": [],
   "source": []
  }
 ],
 "metadata": {
  "kernelspec": {
   "display_name": "Python 3",
   "language": "python",
   "name": "python3"
  },
  "language_info": {
   "codemirror_mode": {
    "name": "ipython",
    "version": 3
   },
   "file_extension": ".py",
   "mimetype": "text/x-python",
   "name": "python",
   "nbconvert_exporter": "python",
   "pygments_lexer": "ipython3",
   "version": "3.9.2"
  }
 },
 "nbformat": 4,
 "nbformat_minor": 5
}
