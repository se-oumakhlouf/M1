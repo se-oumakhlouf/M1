{
 "cells": [
  {
   "cell_type": "markdown",
   "id": "9b58247f-0b15-427d-a0dc-a76a713c48ea",
   "metadata": {},
   "source": [
    "# TP 1 : Premiers pas en science des données"
   ]
  },
  {
   "cell_type": "markdown",
   "id": "f8e14853-a411-4184-ba67-3c09b2614019",
   "metadata": {},
   "source": [
    "**Avant de commencer :** Merci de bien lire le préambule et l'énoncé de ce TP. Ça vous évitera de perdre beaucoup de temps ensuite. "
   ]
  },
  {
   "cell_type": "markdown",
   "id": "ab662174-bc6c-42f2-9caf-e13ffd63326a",
   "metadata": {},
   "source": [
    "**Rendu :** Le rendu doit contenir uniquement le fichier `.ipynb`. Le notebook doit être propre, le plus illustré et le plus commenté possible. "
   ]
  },
  {
   "cell_type": "markdown",
   "id": "edb54692-f4aa-4607-8788-a1c030aeb276",
   "metadata": {},
   "source": [
    "**Librairies :** Ce TP repose sur les librairies standard suivantes : \n",
    "- Numpy version: 1.23.1\n",
    "- matplotlib version : 3.5.2\n",
    "- Pandas version: 1.4.3\n",
    "\n",
    "Pour vérifier qu'elles sont bien installées dans votre environnement de travail, lancez la cellule suivante. Elle ne doit pas renvoyer d'erreur (un `Warning` n'est en général pas trop embêtant). \n",
    "\n",
    "S'il vous manque une librairie (`No module named ...`), vous pouvez l'installer \n",
    "- Soit en utilisant votre gestionnaire d'environnement (p.ex. `conda`). \n",
    "- Soit directement depuis le notebook, en faisant\n",
    "```\n",
    "!pip install nom_de_la_librairie==numero_de_la_version\n",
    "```"
   ]
  },
  {
   "cell_type": "code",
   "execution_count": 1,
   "id": "a8cd512c-2638-4778-9a03-2327db394c9d",
   "metadata": {},
   "outputs": [
    {
     "name": "stdout",
     "output_type": "stream",
     "text": [
      "- Numpy version: 1.24.2\n",
      "- matplotlib version : 3.6.3\n",
      "- Pandas version: 1.5.3\n"
     ]
    }
   ],
   "source": [
    "import numpy as np\n",
    "import matplotlib\n",
    "import matplotlib.pyplot as plt\n",
    "import pandas as pd\n",
    "\n",
    "print(\"- Numpy version:\", np.__version__)\n",
    "print(\"- matplotlib version :\", matplotlib.__version__)\n",
    "print(\"- Pandas version:\", pd.__version__)"
   ]
  },
  {
   "cell_type": "markdown",
   "id": "c1ba3f22-299d-4b5e-a7a8-b3b24a136daf",
   "metadata": {},
   "source": [
    "**Objectifs du TP :** Ce TP a pour but de vous faire manipuler quelques outils essentiels en science des données, notamment au travers des librairies `pandas` et `matplotlib`. "
   ]
  },
  {
   "cell_type": "markdown",
   "id": "d6ed1304-9469-4a49-ae89-3ab70fb27c54",
   "metadata": {},
   "source": [
    "## 1. Exploration de la base DVF"
   ]
  },
  {
   "cell_type": "markdown",
   "id": "3719fcc6-b265-43f6-883d-eb1cc19ed86b",
   "metadata": {},
   "source": [
    "Cette partie est consacrée à l'exploration de la base DVF (Demande de Valeur Foncière). C'est une \"vraie\" base de données fournie par le service public et [disponible ici](https://www.data.gouv.fr/fr/datasets/demandes-de-valeurs-foncieres/).\n",
    "\n",
    "Cette base enregistre toutes les transactions immobilières réalisées chaque année en France. Cela concerne les achats-ventes de maisons, d'appartemments, mais aussi de locaux de commerce (magasins, etc.), d'immeubles de bureau, etc. Comme cette base est assez grosse (plus de trois millions d'entrées en 2021) et assez complète (beaucoup d'informations qui ne nous intéressent pas forcément aujourd'hui), on met à disposition pour ce TP une base `dvf_residentiel.csv` qui est une sous-partie de la base `dvf` officielle obtenue de la manière suivante : \n",
    "\n",
    "- On a gardé uniquement les transactions de type `appartement` et `maison`\n",
    "- On a gardé uniquement les transactions _unitaires_, c'est-à-dire où un seul logement est vendu (par opposition à la situation où un gros investisseur achète une résidence entière).\n",
    "- On a gardé uniquement les transactions ayant lieu en France métropolitaine. \n",
    "- On a gardé uniquement les transactions à plus de 10 000 € (on considère les autres comme non-fiables). \n",
    "- On a gardé uniquement les attributs suivants:\n",
    "  - 'code_departement' : type `str`, représentant le numéro de département où a eu lieu la transaction (p.ex. `'75'` pour une transaction à Paris)\n",
    "  - 'surface_reelle_bati' : type `float`, la surface (en m²) de l'habitation.\n",
    "  - 'nombre_pieces_principales' : type `float`, le nombre de pièces de l'habitation (chambre, salon, etc.)\n",
    "  - 'surface_terrain' : type `float`, la surface du terrain (jardin, etc., en m²). `NaN` si pas de terrain.\n",
    "  - 'longitude', 'latitude' : type `float`, les coordonnées GPS de l'habitation.\n",
    "  - 'valeur_fonciere' : la valeur, en €, à laquelle la transaction a été enregistrée chez le notaire. "
   ]
  },
  {
   "cell_type": "markdown",
   "id": "bb5e3d19-5031-4de1-99fa-8e6e1e997545",
   "metadata": {},
   "source": [
    "Chargement de la base de donnée : exécuter la cellule suivante pour charger la base de donnée dans un dataframe. Attention, le fichier `dvf_residentiel.csv` doit être dans le même répertoire que le fichier `.ipynb` sur lequel vous êtes en train de travailler. "
   ]
  },
  {
   "cell_type": "code",
   "execution_count": 2,
   "id": "015087e8-3e5b-431c-a108-d67c081532a1",
   "metadata": {},
   "outputs": [],
   "source": [
    "# On charge la base de données.\n",
    "# L'option dtype={'code_departement':'str'} indique que le code du département doit être traité comme une \n",
    "# chaîne de caractère. Ça permet d'éviter des bugs de typage avec la Corse (20A et 20B)).\n",
    "dvf = pd.read_csv('./dvf_residentiel.csv', dtype={'code_departement':'str'})"
   ]
  },
  {
   "cell_type": "markdown",
   "id": "547143f4-80f5-4a43-9547-1c5e387378b9",
   "metadata": {},
   "source": [
    "On peut maintenant visualiser notre jeu de données en exécurant la cellule suivante :"
   ]
  },
  {
   "cell_type": "code",
   "execution_count": 4,
   "id": "8b1f430f-7edb-4883-ad25-9c5cd209cab6",
   "metadata": {},
   "outputs": [
    {
     "data": {
      "text/html": [
       "<div>\n",
       "<style scoped>\n",
       "    .dataframe tbody tr th:only-of-type {\n",
       "        vertical-align: middle;\n",
       "    }\n",
       "\n",
       "    .dataframe tbody tr th {\n",
       "        vertical-align: top;\n",
       "    }\n",
       "\n",
       "    .dataframe thead th {\n",
       "        text-align: right;\n",
       "    }\n",
       "</style>\n",
       "<table border=\"1\" class=\"dataframe\">\n",
       "  <thead>\n",
       "    <tr style=\"text-align: right;\">\n",
       "      <th></th>\n",
       "      <th>code_departement</th>\n",
       "      <th>surface_reelle_bati</th>\n",
       "      <th>nombre_pieces_principales</th>\n",
       "      <th>surface_terrain</th>\n",
       "      <th>longitude</th>\n",
       "      <th>latitude</th>\n",
       "      <th>valeur_fonciere</th>\n",
       "    </tr>\n",
       "  </thead>\n",
       "  <tbody>\n",
       "    <tr>\n",
       "      <th>0</th>\n",
       "      <td>1</td>\n",
       "      <td>97.0</td>\n",
       "      <td>5.0</td>\n",
       "      <td>2410.0</td>\n",
       "      <td>5.386094</td>\n",
       "      <td>46.327140</td>\n",
       "      <td>185000.0</td>\n",
       "    </tr>\n",
       "    <tr>\n",
       "      <th>1</th>\n",
       "      <td>1</td>\n",
       "      <td>88.0</td>\n",
       "      <td>4.0</td>\n",
       "      <td>866.0</td>\n",
       "      <td>5.157688</td>\n",
       "      <td>46.200988</td>\n",
       "      <td>204332.0</td>\n",
       "    </tr>\n",
       "    <tr>\n",
       "      <th>2</th>\n",
       "      <td>1</td>\n",
       "      <td>168.0</td>\n",
       "      <td>5.0</td>\n",
       "      <td>1426.0</td>\n",
       "      <td>5.273260</td>\n",
       "      <td>46.156334</td>\n",
       "      <td>320000.0</td>\n",
       "    </tr>\n",
       "    <tr>\n",
       "      <th>3</th>\n",
       "      <td>1</td>\n",
       "      <td>71.0</td>\n",
       "      <td>3.0</td>\n",
       "      <td>NaN</td>\n",
       "      <td>5.200117</td>\n",
       "      <td>46.210292</td>\n",
       "      <td>176000.0</td>\n",
       "    </tr>\n",
       "    <tr>\n",
       "      <th>4</th>\n",
       "      <td>1</td>\n",
       "      <td>96.0</td>\n",
       "      <td>3.0</td>\n",
       "      <td>NaN</td>\n",
       "      <td>5.108604</td>\n",
       "      <td>46.244066</td>\n",
       "      <td>226700.0</td>\n",
       "    </tr>\n",
       "    <tr>\n",
       "      <th>...</th>\n",
       "      <td>...</td>\n",
       "      <td>...</td>\n",
       "      <td>...</td>\n",
       "      <td>...</td>\n",
       "      <td>...</td>\n",
       "      <td>...</td>\n",
       "      <td>...</td>\n",
       "    </tr>\n",
       "    <tr>\n",
       "      <th>714934</th>\n",
       "      <td>75</td>\n",
       "      <td>58.0</td>\n",
       "      <td>2.0</td>\n",
       "      <td>NaN</td>\n",
       "      <td>2.354883</td>\n",
       "      <td>48.852709</td>\n",
       "      <td>1550000.0</td>\n",
       "    </tr>\n",
       "    <tr>\n",
       "      <th>714935</th>\n",
       "      <td>75</td>\n",
       "      <td>15.0</td>\n",
       "      <td>1.0</td>\n",
       "      <td>NaN</td>\n",
       "      <td>2.345464</td>\n",
       "      <td>48.867430</td>\n",
       "      <td>190000.0</td>\n",
       "    </tr>\n",
       "    <tr>\n",
       "      <th>714936</th>\n",
       "      <td>75</td>\n",
       "      <td>15.0</td>\n",
       "      <td>1.0</td>\n",
       "      <td>NaN</td>\n",
       "      <td>2.350035</td>\n",
       "      <td>48.868906</td>\n",
       "      <td>230000.0</td>\n",
       "    </tr>\n",
       "    <tr>\n",
       "      <th>714937</th>\n",
       "      <td>75</td>\n",
       "      <td>30.0</td>\n",
       "      <td>2.0</td>\n",
       "      <td>NaN</td>\n",
       "      <td>2.367712</td>\n",
       "      <td>48.854200</td>\n",
       "      <td>383000.0</td>\n",
       "    </tr>\n",
       "    <tr>\n",
       "      <th>714938</th>\n",
       "      <td>75</td>\n",
       "      <td>37.0</td>\n",
       "      <td>2.0</td>\n",
       "      <td>NaN</td>\n",
       "      <td>2.350774</td>\n",
       "      <td>48.868450</td>\n",
       "      <td>260000.0</td>\n",
       "    </tr>\n",
       "  </tbody>\n",
       "</table>\n",
       "<p>714939 rows × 7 columns</p>\n",
       "</div>"
      ],
      "text/plain": [
       "       code_departement  surface_reelle_bati  nombre_pieces_principales  \\\n",
       "0                     1                 97.0                        5.0   \n",
       "1                     1                 88.0                        4.0   \n",
       "2                     1                168.0                        5.0   \n",
       "3                     1                 71.0                        3.0   \n",
       "4                     1                 96.0                        3.0   \n",
       "...                 ...                  ...                        ...   \n",
       "714934               75                 58.0                        2.0   \n",
       "714935               75                 15.0                        1.0   \n",
       "714936               75                 15.0                        1.0   \n",
       "714937               75                 30.0                        2.0   \n",
       "714938               75                 37.0                        2.0   \n",
       "\n",
       "        surface_terrain  longitude   latitude  valeur_fonciere  \n",
       "0                2410.0   5.386094  46.327140         185000.0  \n",
       "1                 866.0   5.157688  46.200988         204332.0  \n",
       "2                1426.0   5.273260  46.156334         320000.0  \n",
       "3                   NaN   5.200117  46.210292         176000.0  \n",
       "4                   NaN   5.108604  46.244066         226700.0  \n",
       "...                 ...        ...        ...              ...  \n",
       "714934              NaN   2.354883  48.852709        1550000.0  \n",
       "714935              NaN   2.345464  48.867430         190000.0  \n",
       "714936              NaN   2.350035  48.868906         230000.0  \n",
       "714937              NaN   2.367712  48.854200         383000.0  \n",
       "714938              NaN   2.350774  48.868450         260000.0  \n",
       "\n",
       "[714939 rows x 7 columns]"
      ]
     },
     "execution_count": 4,
     "metadata": {},
     "output_type": "execute_result"
    }
   ],
   "source": [
    "dvf"
   ]
  },
  {
   "cell_type": "markdown",
   "id": "1d12a7a1-1730-4ecc-b19a-8aab6daad3e3",
   "metadata": {},
   "source": [
    "---"
   ]
  },
  {
   "cell_type": "markdown",
   "id": "8dfbf8f4-28ff-4f10-9af1-d46fe72483f2",
   "metadata": {},
   "source": [
    "**Question 1 :** Combien d'observations contient cette base de données ? De quelle dimension sont nos données ?"
   ]
  },
  {
   "cell_type": "markdown",
   "id": "600472e3-1719-4858-9a32-6dcbce34df90",
   "metadata": {},
   "source": [
    "Cette base de données contient 714 939 observations de données de dimension 7"
   ]
  },
  {
   "cell_type": "markdown",
   "id": "067939ad-0166-4e60-bd4d-5f89a578360d",
   "metadata": {},
   "source": [
    "---"
   ]
  },
  {
   "cell_type": "markdown",
   "id": "36db9452-8ddc-40d9-ad12-9ab97395c8ff",
   "metadata": {},
   "source": [
    "**Question 2 :** En utilisant les méthodes `.describe()` et `.value_counts()` dont les documentations sont disponibles [ici](https://pandas.pydata.org/docs/reference/api/pandas.DataFrame.describe.html) et [là](https://pandas.pydata.org/docs/reference/api/pandas.Series.value_counts.html), répondre aux questions suivantes : \n",
    "\n",
    "- (a) Quelle a été le montant de la transaction la plus élevée de l'année 2021 ? \n",
    "- (b) Combien de pièces avaient, en moyenne, les logements vendus au cours de cette année ? \n",
    "- (c) Dans quel département y a-t-il eu le plus de transactions ? Le moins de transactions ?\n",
    "\n",
    "_Remarque:_ Pour un meilleur affichage avec la méthode `.describe()`, on pourra ajouter `.apply(lambda x: format(x,'f'))`. Par exemple : `dvf['longitude'].describe().apply(lambda x: format(x,'f'))`"
   ]
  },
  {
   "cell_type": "code",
   "execution_count": 5,
   "id": "325fdf0a-f0fc-4c8c-81f4-d29be1b2760b",
   "metadata": {},
   "outputs": [
    {
     "data": {
      "text/plain": [
       "count      714939.000000\n",
       "mean       239577.480374\n",
       "std        338594.168717\n",
       "min         10000.580000\n",
       "25%        110000.000000\n",
       "50%        178350.000000\n",
       "75%        285000.000000\n",
       "max      89899536.000000\n",
       "Name: valeur_fonciere, dtype: object"
      ]
     },
     "execution_count": 5,
     "metadata": {},
     "output_type": "execute_result"
    }
   ],
   "source": [
    "dvf['valeur_fonciere'].describe().apply(lambda x: format(x, 'f'))"
   ]
  },
  {
   "cell_type": "markdown",
   "id": "8511e2c9-ccc5-498c-b5f2-b56ea95320bd",
   "metadata": {},
   "source": [
    "a - En applicant la fonction describe sur la 'valeur_fonciere' on observe que la transaction la plus élevée en 2021 est de 89 899 536 € (*max*)"
   ]
  },
  {
   "cell_type": "code",
   "execution_count": 6,
   "id": "quality-connection",
   "metadata": {},
   "outputs": [
    {
     "data": {
      "text/plain": [
       "count    714930.000000\n",
       "mean          3.500116\n",
       "std           1.516200\n",
       "min           0.000000\n",
       "25%           2.000000\n",
       "50%           3.000000\n",
       "75%           4.000000\n",
       "max          70.000000\n",
       "Name: nombre_pieces_principales, dtype: object"
      ]
     },
     "execution_count": 6,
     "metadata": {},
     "output_type": "execute_result"
    }
   ],
   "source": [
    "dvf['nombre_pieces_principales'].describe().apply(lambda x: format(x, 'f'))"
   ]
  },
  {
   "cell_type": "markdown",
   "id": "formal-lindsay",
   "metadata": {},
   "source": [
    "b - Les logements vendus avaient en moyenne **3.50 pièces donc 3 pièces** (*ligne mean*)"
   ]
  },
  {
   "cell_type": "code",
   "execution_count": 7,
   "id": "yellow-customs",
   "metadata": {},
   "outputs": [
    {
     "data": {
      "text/plain": [
       "59    35206\n",
       "75    31799\n",
       "33    24942\n",
       "44    23521\n",
       "6     22739\n",
       "      ...  \n",
       "5      1098\n",
       "46      732\n",
       "7       680\n",
       "2B      540\n",
       "48      489\n",
       "Name: code_departement, Length: 93, dtype: int64"
      ]
     },
     "execution_count": 7,
     "metadata": {},
     "output_type": "execute_result"
    }
   ],
   "source": [
    "dvf['code_departement'].value_counts()"
   ]
  },
  {
   "cell_type": "markdown",
   "id": "vietnamese-pierre",
   "metadata": {},
   "source": [
    " c - Le département avec le moins de transations est le 48, et celui avec le plus de transactions est le 59"
   ]
  },
  {
   "cell_type": "markdown",
   "id": "c3a8dda9-5000-46a9-8651-8f11d7b0e2fe",
   "metadata": {},
   "source": [
    "---"
   ]
  },
  {
   "cell_type": "markdown",
   "id": "248c52e1-0ea3-47f3-81e0-632a61cb5174",
   "metadata": {},
   "source": [
    "**Question 3 :** En utilisant la méthode `.loc[]` dont la documentation est disponible [ici](https://pandas.pydata.org/docs/reference/api/pandas.DataFrame.loc.html), déterminer \n",
    "\n",
    "- (a) la valeur moyenne d'une transaction à Paris (code_departement=='75'). \n",
    "- (b) la valeur moyenne d'une transaction dans les Bouches-du-Rhône (code_departement=='13')."
   ]
  },
  {
   "cell_type": "code",
   "execution_count": 8,
   "id": "507d3645-9f68-4f1b-b40a-f855ca7dd675",
   "metadata": {},
   "outputs": [
    {
     "data": {
      "text/html": [
       "<div>\n",
       "<style scoped>\n",
       "    .dataframe tbody tr th:only-of-type {\n",
       "        vertical-align: middle;\n",
       "    }\n",
       "\n",
       "    .dataframe tbody tr th {\n",
       "        vertical-align: top;\n",
       "    }\n",
       "\n",
       "    .dataframe thead th {\n",
       "        text-align: right;\n",
       "    }\n",
       "</style>\n",
       "<table border=\"1\" class=\"dataframe\">\n",
       "  <thead>\n",
       "    <tr style=\"text-align: right;\">\n",
       "      <th></th>\n",
       "      <th>surface_reelle_bati</th>\n",
       "      <th>nombre_pieces_principales</th>\n",
       "      <th>surface_terrain</th>\n",
       "      <th>longitude</th>\n",
       "      <th>latitude</th>\n",
       "      <th>valeur_fonciere</th>\n",
       "    </tr>\n",
       "  </thead>\n",
       "  <tbody>\n",
       "    <tr>\n",
       "      <th>count</th>\n",
       "      <td>31799.000000</td>\n",
       "      <td>31799.000000</td>\n",
       "      <td>162.000000</td>\n",
       "      <td>31799.000000</td>\n",
       "      <td>31799.000000</td>\n",
       "      <td>3.179900e+04</td>\n",
       "    </tr>\n",
       "    <tr>\n",
       "      <th>mean</th>\n",
       "      <td>54.599358</td>\n",
       "      <td>2.447247</td>\n",
       "      <td>198.413580</td>\n",
       "      <td>2.340450</td>\n",
       "      <td>48.862180</td>\n",
       "      <td>6.360189e+05</td>\n",
       "    </tr>\n",
       "    <tr>\n",
       "      <th>std</th>\n",
       "      <td>41.516518</td>\n",
       "      <td>1.320648</td>\n",
       "      <td>191.325343</td>\n",
       "      <td>0.037915</td>\n",
       "      <td>0.020013</td>\n",
       "      <td>8.492222e+05</td>\n",
       "    </tr>\n",
       "    <tr>\n",
       "      <th>min</th>\n",
       "      <td>2.000000</td>\n",
       "      <td>0.000000</td>\n",
       "      <td>31.000000</td>\n",
       "      <td>2.255896</td>\n",
       "      <td>48.818759</td>\n",
       "      <td>1.010000e+04</td>\n",
       "    </tr>\n",
       "    <tr>\n",
       "      <th>25%</th>\n",
       "      <td>28.000000</td>\n",
       "      <td>1.000000</td>\n",
       "      <td>81.750000</td>\n",
       "      <td>2.310701</td>\n",
       "      <td>48.845545</td>\n",
       "      <td>2.850000e+05</td>\n",
       "    </tr>\n",
       "    <tr>\n",
       "      <th>50%</th>\n",
       "      <td>44.000000</td>\n",
       "      <td>2.000000</td>\n",
       "      <td>137.500000</td>\n",
       "      <td>2.343545</td>\n",
       "      <td>48.862570</td>\n",
       "      <td>4.500000e+05</td>\n",
       "    </tr>\n",
       "    <tr>\n",
       "      <th>75%</th>\n",
       "      <td>69.000000</td>\n",
       "      <td>3.000000</td>\n",
       "      <td>221.000000</td>\n",
       "      <td>2.371576</td>\n",
       "      <td>48.879911</td>\n",
       "      <td>7.400000e+05</td>\n",
       "    </tr>\n",
       "    <tr>\n",
       "      <th>max</th>\n",
       "      <td>1561.000000</td>\n",
       "      <td>23.000000</td>\n",
       "      <td>1167.000000</td>\n",
       "      <td>2.412825</td>\n",
       "      <td>48.900565</td>\n",
       "      <td>6.780000e+07</td>\n",
       "    </tr>\n",
       "  </tbody>\n",
       "</table>\n",
       "</div>"
      ],
      "text/plain": [
       "       surface_reelle_bati  nombre_pieces_principales  surface_terrain  \\\n",
       "count         31799.000000               31799.000000       162.000000   \n",
       "mean             54.599358                   2.447247       198.413580   \n",
       "std              41.516518                   1.320648       191.325343   \n",
       "min               2.000000                   0.000000        31.000000   \n",
       "25%              28.000000                   1.000000        81.750000   \n",
       "50%              44.000000                   2.000000       137.500000   \n",
       "75%              69.000000                   3.000000       221.000000   \n",
       "max            1561.000000                  23.000000      1167.000000   \n",
       "\n",
       "          longitude      latitude  valeur_fonciere  \n",
       "count  31799.000000  31799.000000     3.179900e+04  \n",
       "mean       2.340450     48.862180     6.360189e+05  \n",
       "std        0.037915      0.020013     8.492222e+05  \n",
       "min        2.255896     48.818759     1.010000e+04  \n",
       "25%        2.310701     48.845545     2.850000e+05  \n",
       "50%        2.343545     48.862570     4.500000e+05  \n",
       "75%        2.371576     48.879911     7.400000e+05  \n",
       "max        2.412825     48.900565     6.780000e+07  "
      ]
     },
     "execution_count": 8,
     "metadata": {},
     "output_type": "execute_result"
    }
   ],
   "source": [
    "dvf.loc[dvf['code_departement'] == '75'].describe()"
   ]
  },
  {
   "cell_type": "markdown",
   "id": "c5c3a941-a489-47d6-8748-65f261ee5e35",
   "metadata": {},
   "source": [
    "a - La valeur moyenne d'une transation à Paris est de 636 018,90 €"
   ]
  },
  {
   "cell_type": "code",
   "execution_count": 9,
   "id": "lonely-handle",
   "metadata": {},
   "outputs": [
    {
     "data": {
      "text/html": [
       "<div>\n",
       "<style scoped>\n",
       "    .dataframe tbody tr th:only-of-type {\n",
       "        vertical-align: middle;\n",
       "    }\n",
       "\n",
       "    .dataframe tbody tr th {\n",
       "        vertical-align: top;\n",
       "    }\n",
       "\n",
       "    .dataframe thead th {\n",
       "        text-align: right;\n",
       "    }\n",
       "</style>\n",
       "<table border=\"1\" class=\"dataframe\">\n",
       "  <thead>\n",
       "    <tr style=\"text-align: right;\">\n",
       "      <th></th>\n",
       "      <th>surface_reelle_bati</th>\n",
       "      <th>nombre_pieces_principales</th>\n",
       "      <th>surface_terrain</th>\n",
       "      <th>longitude</th>\n",
       "      <th>latitude</th>\n",
       "      <th>valeur_fonciere</th>\n",
       "    </tr>\n",
       "  </thead>\n",
       "  <tbody>\n",
       "    <tr>\n",
       "      <th>count</th>\n",
       "      <td>14748.000000</td>\n",
       "      <td>14748.000000</td>\n",
       "      <td>5717.000000</td>\n",
       "      <td>14748.000000</td>\n",
       "      <td>14748.000000</td>\n",
       "      <td>1.474800e+04</td>\n",
       "    </tr>\n",
       "    <tr>\n",
       "      <th>mean</th>\n",
       "      <td>75.620830</td>\n",
       "      <td>3.322620</td>\n",
       "      <td>609.288088</td>\n",
       "      <td>5.233208</td>\n",
       "      <td>43.484908</td>\n",
       "      <td>2.734523e+05</td>\n",
       "    </tr>\n",
       "    <tr>\n",
       "      <th>std</th>\n",
       "      <td>37.074826</td>\n",
       "      <td>1.336333</td>\n",
       "      <td>4937.955890</td>\n",
       "      <td>0.256193</td>\n",
       "      <td>0.161354</td>\n",
       "      <td>2.542091e+05</td>\n",
       "    </tr>\n",
       "    <tr>\n",
       "      <th>min</th>\n",
       "      <td>1.000000</td>\n",
       "      <td>0.000000</td>\n",
       "      <td>5.000000</td>\n",
       "      <td>4.394665</td>\n",
       "      <td>43.169162</td>\n",
       "      <td>1.100000e+04</td>\n",
       "    </tr>\n",
       "    <tr>\n",
       "      <th>25%</th>\n",
       "      <td>52.000000</td>\n",
       "      <td>2.000000</td>\n",
       "      <td>196.000000</td>\n",
       "      <td>5.054523</td>\n",
       "      <td>43.344888</td>\n",
       "      <td>1.400000e+05</td>\n",
       "    </tr>\n",
       "    <tr>\n",
       "      <th>50%</th>\n",
       "      <td>71.000000</td>\n",
       "      <td>3.000000</td>\n",
       "      <td>422.000000</td>\n",
       "      <td>5.327533</td>\n",
       "      <td>43.468352</td>\n",
       "      <td>2.234750e+05</td>\n",
       "    </tr>\n",
       "    <tr>\n",
       "      <th>75%</th>\n",
       "      <td>91.000000</td>\n",
       "      <td>4.000000</td>\n",
       "      <td>665.000000</td>\n",
       "      <td>5.423245</td>\n",
       "      <td>43.591437</td>\n",
       "      <td>3.373250e+05</td>\n",
       "    </tr>\n",
       "    <tr>\n",
       "      <th>max</th>\n",
       "      <td>655.000000</td>\n",
       "      <td>32.000000</td>\n",
       "      <td>369359.000000</td>\n",
       "      <td>5.728913</td>\n",
       "      <td>43.908485</td>\n",
       "      <td>9.779465e+06</td>\n",
       "    </tr>\n",
       "  </tbody>\n",
       "</table>\n",
       "</div>"
      ],
      "text/plain": [
       "       surface_reelle_bati  nombre_pieces_principales  surface_terrain  \\\n",
       "count         14748.000000               14748.000000      5717.000000   \n",
       "mean             75.620830                   3.322620       609.288088   \n",
       "std              37.074826                   1.336333      4937.955890   \n",
       "min               1.000000                   0.000000         5.000000   \n",
       "25%              52.000000                   2.000000       196.000000   \n",
       "50%              71.000000                   3.000000       422.000000   \n",
       "75%              91.000000                   4.000000       665.000000   \n",
       "max             655.000000                  32.000000    369359.000000   \n",
       "\n",
       "          longitude      latitude  valeur_fonciere  \n",
       "count  14748.000000  14748.000000     1.474800e+04  \n",
       "mean       5.233208     43.484908     2.734523e+05  \n",
       "std        0.256193      0.161354     2.542091e+05  \n",
       "min        4.394665     43.169162     1.100000e+04  \n",
       "25%        5.054523     43.344888     1.400000e+05  \n",
       "50%        5.327533     43.468352     2.234750e+05  \n",
       "75%        5.423245     43.591437     3.373250e+05  \n",
       "max        5.728913     43.908485     9.779465e+06  "
      ]
     },
     "execution_count": 9,
     "metadata": {},
     "output_type": "execute_result"
    }
   ],
   "source": [
    "dvf.loc[dvf['code_departement'] == '13'].describe()"
   ]
  },
  {
   "cell_type": "markdown",
   "id": "graduate-september",
   "metadata": {},
   "source": [
    "b - La valeur moyenne d'une transation dans les Bouches du Rhône est de 273 452,30€"
   ]
  },
  {
   "cell_type": "markdown",
   "id": "603264f2-87ea-4882-a33e-ba6bf7fcb923",
   "metadata": {},
   "source": [
    "---"
   ]
  },
  {
   "cell_type": "markdown",
   "id": "5a58be2f-2b9b-47e8-a83c-c05df0820c87",
   "metadata": {},
   "source": [
    "**Question 4 :** Faisons maintenant un peu de visualisation. En utilisant la méthode `.hist()` dont la documentation est disponible [ici](https://pandas.pydata.org/docs/reference/api/pandas.DataFrame.hist.html), afficher la distribution des valeurs pour les attributs suivants : 'surface_reelle_bati', 'nombre_pieces_principales', 'surface_terrain', et 'valeur_fonciere'. \n",
    "\n",
    "On choisira un nombre de `bins` adapté. \n",
    "\n",
    "Quel problème remarquez-vous avec les valeurs foncières et les surfaces de terrain ? Trouvez une solution pour améliorer la visualisation."
   ]
  },
  {
   "cell_type": "code",
   "execution_count": 137,
   "id": "5395b5ce-3a53-465b-ac16-5a7f42c291df",
   "metadata": {},
   "outputs": [
    {
     "data": {
      "image/png": "[encoded data removed]",
      "text/plain": [
       "<Figure size 640x480 with 1 Axes>"
      ]
     },
     "metadata": {},
     "output_type": "display_data"
    }
   ],
   "source": [
    "dvf['nombre_pieces_principales'].hist(bins=100)\n",
    "plt.show()"
   ]
  },
  {
   "cell_type": "code",
   "execution_count": 138,
   "id": "sacred-superior",
   "metadata": {},
   "outputs": [
    {
     "data": {
      "image/png": "[encoded data removed]",
      "text/plain": [
       "<Figure size 640x480 with 1 Axes>"
      ]
     },
     "metadata": {},
     "output_type": "display_data"
    }
   ],
   "source": [
    "dvf['surface_reelle_bati'].hist(bins=500)\n",
    "plt.show()"
   ]
  },
  {
   "cell_type": "code",
   "execution_count": 139,
   "id": "continuing-baghdad",
   "metadata": {},
   "outputs": [
    {
     "data": {
      "image/png": "[encoded data removed]",
      "text/plain": [
       "<Figure size 640x480 with 1 Axes>"
      ]
     },
     "metadata": {},
     "output_type": "display_data"
    }
   ],
   "source": [
    "dvf.loc[dvf['surface_terrain'] <= 5000].hist(column='surface_terrain', bins=100)\n",
    "plt.show()"
   ]
  },
  {
   "cell_type": "code",
   "execution_count": 141,
   "id": "successful-elephant",
   "metadata": {},
   "outputs": [
    {
     "data": {
      "text/plain": [
       "count    370617.000000\n",
       "mean        538.464501\n",
       "std        1054.551756\n",
       "min           1.000000\n",
       "25%         216.000000\n",
       "50%         420.000000\n",
       "75%         680.000000\n",
       "max      369359.000000\n",
       "Name: surface_terrain, dtype: object"
      ]
     },
     "execution_count": 141,
     "metadata": {},
     "output_type": "execute_result"
    },
    {
     "data": {
      "image/png": "[encoded data removed]",
      "text/plain": [
       "<Figure size 640x480 with 1 Axes>"
      ]
     },
     "metadata": {},
     "output_type": "display_data"
    }
   ],
   "source": [
    "dvf.loc[dvf['surface_terrain'] > 10000].hist(column='surface_terrain', bins=50)\n",
    "dvf['surface_terrain'].describe().apply(lambda x: format(x, 'f'))"
   ]
  },
  {
   "cell_type": "code",
   "execution_count": 142,
   "id": "composite-trouble",
   "metadata": {},
   "outputs": [
    {
     "data": {
      "image/png": "[encoded data removed]",
      "text/plain": [
       "<Figure size 640x480 with 1 Axes>"
      ]
     },
     "metadata": {},
     "output_type": "display_data"
    }
   ],
   "source": [
    "dvf.loc[dvf['valeur_fonciere'] <= 1_000_000].hist(column='valeur_fonciere', bins=100)\n",
    "plt.show()"
   ]
  },
  {
   "cell_type": "code",
   "execution_count": 143,
   "id": "former-retirement",
   "metadata": {},
   "outputs": [
    {
     "data": {
      "image/png": "[encoded data removed]",
      "text/plain": [
       "<Figure size 640x480 with 1 Axes>"
      ]
     },
     "metadata": {},
     "output_type": "display_data"
    }
   ],
   "source": [
    "dvf.loc[dvf['valeur_fonciere'] > 10_000_000].hist(column='valeur_fonciere', bins=100)\n",
    "plt.show()"
   ]
  },
  {
   "cell_type": "markdown",
   "id": "32ade969-bdb7-442e-9f8e-e8de72c814cb",
   "metadata": {},
   "source": [
    "Pour la surface de terrain, on sait que 75% des valeurs sont entre 1.0 et 680.0 alors que le max est de 370 000. Lorsque l'on essaye de mettre toutes les valeurs dans le même histogramme, on ne voit pas grand chose car l'interval de valeur sur l'axe des x est trop grand par rapport à nos valeurs. J'ai donc décidé de séparer en deux histogrammes, un premier avec les valeurs entre 1.0 et 5000 et un second pour les valeurs entre 10000 et le max\n",
    "\n",
    "C'est le même principe pour la valeur foncière, 75% entre 10 000€ et 285 000€ alors que le max est à 89 899 536€.\n",
    "J'ai donc fait un histogramme pour un prix allant de 10 000€ à 1 000 000€ et un second de 10 000 000 au max.\n",
    "\n",
    "Les valeurs pour séparer les plages des histogrammes ont été choisis en augmentant peu à peu jusqu'à trouvé une limite où l'on obtient la majorité des valeurs dans le premier histogramme sans avoir un intervalle de valeurs trop grands sur l'axe des x"
   ]
  },
  {
   "cell_type": "markdown",
   "id": "4bd1ee7e-d51e-4fcd-aa4b-43e2e74c5fc8",
   "metadata": {},
   "source": [
    "---"
   ]
  },
  {
   "cell_type": "markdown",
   "id": "6dc00326-4045-4ecd-955a-4e39d4f467e6",
   "metadata": {},
   "source": [
    "**Question 5 :** Compléter le morceau de code suivant pour afficher (grâce au géo-codage) les transactions supérieures à 1 000 000 €. Commentez le résultat obtenu. "
   ]
  },
  {
   "cell_type": "code",
   "execution_count": 144,
   "id": "c1358564-0fd0-4eb3-91fd-b768e210ab64",
   "metadata": {},
   "outputs": [
    {
     "data": {
      "image/png": "[encoded data removed]",
      "text/plain": [
       "<Figure size 640x480 with 1 Axes>"
      ]
     },
     "metadata": {},
     "output_type": "display_data"
    }
   ],
   "source": [
    "#  A COMPLETER\n",
    "fig, ax = plt.subplots()\n",
    "\n",
    "z = ax.scatter(data = dvf.loc[dvf['valeur_fonciere'] > 1_000_000], \n",
    "               x='longitude', y='latitude', \n",
    "               alpha=0.5)\n",
    "\n",
    "ax.set(title='Prix immobilier France', xlabel='longitude', ylabel='latitude')\n",
    "plt.show()"
   ]
  },
  {
   "cell_type": "markdown",
   "id": "ba617240-8e63-4abc-b0cc-2db18a9bdc8b",
   "metadata": {},
   "source": [
    "On observe qu'une majorité des mobiliers les plus chères vendus en 2021 se trouvent dans Paris et dans les Bouches du Rhônes"
   ]
  },
  {
   "cell_type": "markdown",
   "id": "d858f4a0-fd85-457f-8a98-a0e5a44f8fa1",
   "metadata": {},
   "source": [
    "---"
   ]
  },
  {
   "cell_type": "markdown",
   "id": "0af9745d-1bc3-4413-9472-9400fb79db05",
   "metadata": {},
   "source": [
    "**Question 6 :** Créez dans le dataFrame `dvf` une nouvelle variable 'prix_m2' qui stocke le prix au mètre carré d'un logement, où on divise le prix du logement (valeur_fonciere) par sa surface (surface_reelle_bati). \n",
    "\n",
    "Remarque : on ne tient pas compte de la superficie du terrain ici."
   ]
  },
  {
   "cell_type": "code",
   "execution_count": 22,
   "id": "0bfa24b2-f460-4f92-8401-2fee0d97184d",
   "metadata": {},
   "outputs": [
    {
     "data": {
      "text/html": [
       "<div>\n",
       "<style scoped>\n",
       "    .dataframe tbody tr th:only-of-type {\n",
       "        vertical-align: middle;\n",
       "    }\n",
       "\n",
       "    .dataframe tbody tr th {\n",
       "        vertical-align: top;\n",
       "    }\n",
       "\n",
       "    .dataframe thead th {\n",
       "        text-align: right;\n",
       "    }\n",
       "</style>\n",
       "<table border=\"1\" class=\"dataframe\">\n",
       "  <thead>\n",
       "    <tr style=\"text-align: right;\">\n",
       "      <th></th>\n",
       "      <th>code_departement</th>\n",
       "      <th>surface_reelle_bati</th>\n",
       "      <th>nombre_pieces_principales</th>\n",
       "      <th>surface_terrain</th>\n",
       "      <th>longitude</th>\n",
       "      <th>latitude</th>\n",
       "      <th>valeur_fonciere</th>\n",
       "      <th>prix_m2</th>\n",
       "    </tr>\n",
       "  </thead>\n",
       "  <tbody>\n",
       "    <tr>\n",
       "      <th>0</th>\n",
       "      <td>1</td>\n",
       "      <td>97.0</td>\n",
       "      <td>5.0</td>\n",
       "      <td>2410.0</td>\n",
       "      <td>5.386094</td>\n",
       "      <td>46.327140</td>\n",
       "      <td>185000.0</td>\n",
       "      <td>1907.216495</td>\n",
       "    </tr>\n",
       "    <tr>\n",
       "      <th>1</th>\n",
       "      <td>1</td>\n",
       "      <td>88.0</td>\n",
       "      <td>4.0</td>\n",
       "      <td>866.0</td>\n",
       "      <td>5.157688</td>\n",
       "      <td>46.200988</td>\n",
       "      <td>204332.0</td>\n",
       "      <td>2321.954545</td>\n",
       "    </tr>\n",
       "    <tr>\n",
       "      <th>2</th>\n",
       "      <td>1</td>\n",
       "      <td>168.0</td>\n",
       "      <td>5.0</td>\n",
       "      <td>1426.0</td>\n",
       "      <td>5.273260</td>\n",
       "      <td>46.156334</td>\n",
       "      <td>320000.0</td>\n",
       "      <td>1904.761905</td>\n",
       "    </tr>\n",
       "    <tr>\n",
       "      <th>3</th>\n",
       "      <td>1</td>\n",
       "      <td>71.0</td>\n",
       "      <td>3.0</td>\n",
       "      <td>NaN</td>\n",
       "      <td>5.200117</td>\n",
       "      <td>46.210292</td>\n",
       "      <td>176000.0</td>\n",
       "      <td>2478.873239</td>\n",
       "    </tr>\n",
       "    <tr>\n",
       "      <th>4</th>\n",
       "      <td>1</td>\n",
       "      <td>96.0</td>\n",
       "      <td>3.0</td>\n",
       "      <td>NaN</td>\n",
       "      <td>5.108604</td>\n",
       "      <td>46.244066</td>\n",
       "      <td>226700.0</td>\n",
       "      <td>2361.458333</td>\n",
       "    </tr>\n",
       "    <tr>\n",
       "      <th>...</th>\n",
       "      <td>...</td>\n",
       "      <td>...</td>\n",
       "      <td>...</td>\n",
       "      <td>...</td>\n",
       "      <td>...</td>\n",
       "      <td>...</td>\n",
       "      <td>...</td>\n",
       "      <td>...</td>\n",
       "    </tr>\n",
       "    <tr>\n",
       "      <th>714934</th>\n",
       "      <td>75</td>\n",
       "      <td>58.0</td>\n",
       "      <td>2.0</td>\n",
       "      <td>NaN</td>\n",
       "      <td>2.354883</td>\n",
       "      <td>48.852709</td>\n",
       "      <td>1550000.0</td>\n",
       "      <td>26724.137931</td>\n",
       "    </tr>\n",
       "    <tr>\n",
       "      <th>714935</th>\n",
       "      <td>75</td>\n",
       "      <td>15.0</td>\n",
       "      <td>1.0</td>\n",
       "      <td>NaN</td>\n",
       "      <td>2.345464</td>\n",
       "      <td>48.867430</td>\n",
       "      <td>190000.0</td>\n",
       "      <td>12666.666667</td>\n",
       "    </tr>\n",
       "    <tr>\n",
       "      <th>714936</th>\n",
       "      <td>75</td>\n",
       "      <td>15.0</td>\n",
       "      <td>1.0</td>\n",
       "      <td>NaN</td>\n",
       "      <td>2.350035</td>\n",
       "      <td>48.868906</td>\n",
       "      <td>230000.0</td>\n",
       "      <td>15333.333333</td>\n",
       "    </tr>\n",
       "    <tr>\n",
       "      <th>714937</th>\n",
       "      <td>75</td>\n",
       "      <td>30.0</td>\n",
       "      <td>2.0</td>\n",
       "      <td>NaN</td>\n",
       "      <td>2.367712</td>\n",
       "      <td>48.854200</td>\n",
       "      <td>383000.0</td>\n",
       "      <td>12766.666667</td>\n",
       "    </tr>\n",
       "    <tr>\n",
       "      <th>714938</th>\n",
       "      <td>75</td>\n",
       "      <td>37.0</td>\n",
       "      <td>2.0</td>\n",
       "      <td>NaN</td>\n",
       "      <td>2.350774</td>\n",
       "      <td>48.868450</td>\n",
       "      <td>260000.0</td>\n",
       "      <td>7027.027027</td>\n",
       "    </tr>\n",
       "  </tbody>\n",
       "</table>\n",
       "<p>714939 rows × 8 columns</p>\n",
       "</div>"
      ],
      "text/plain": [
       "       code_departement  surface_reelle_bati  nombre_pieces_principales  \\\n",
       "0                     1                 97.0                        5.0   \n",
       "1                     1                 88.0                        4.0   \n",
       "2                     1                168.0                        5.0   \n",
       "3                     1                 71.0                        3.0   \n",
       "4                     1                 96.0                        3.0   \n",
       "...                 ...                  ...                        ...   \n",
       "714934               75                 58.0                        2.0   \n",
       "714935               75                 15.0                        1.0   \n",
       "714936               75                 15.0                        1.0   \n",
       "714937               75                 30.0                        2.0   \n",
       "714938               75                 37.0                        2.0   \n",
       "\n",
       "        surface_terrain  longitude   latitude  valeur_fonciere       prix_m2  \n",
       "0                2410.0   5.386094  46.327140         185000.0   1907.216495  \n",
       "1                 866.0   5.157688  46.200988         204332.0   2321.954545  \n",
       "2                1426.0   5.273260  46.156334         320000.0   1904.761905  \n",
       "3                   NaN   5.200117  46.210292         176000.0   2478.873239  \n",
       "4                   NaN   5.108604  46.244066         226700.0   2361.458333  \n",
       "...                 ...        ...        ...              ...           ...  \n",
       "714934              NaN   2.354883  48.852709        1550000.0  26724.137931  \n",
       "714935              NaN   2.345464  48.867430         190000.0  12666.666667  \n",
       "714936              NaN   2.350035  48.868906         230000.0  15333.333333  \n",
       "714937              NaN   2.367712  48.854200         383000.0  12766.666667  \n",
       "714938              NaN   2.350774  48.868450         260000.0   7027.027027  \n",
       "\n",
       "[714939 rows x 8 columns]"
      ]
     },
     "execution_count": 22,
     "metadata": {},
     "output_type": "execute_result"
    }
   ],
   "source": [
    "dvf['prix_m2'] = dvf['valeur_fonciere'] / dvf['surface_reelle_bati']\n",
    "dvf"
   ]
  },
  {
   "cell_type": "markdown",
   "id": "c0d5e5fd-d1e3-4d49-b451-160ce89b1b9d",
   "metadata": {},
   "source": [
    "---"
   ]
  },
  {
   "cell_type": "markdown",
   "id": "a9fe2a24-af18-42c2-8231-1d3599f62f93",
   "metadata": {},
   "source": [
    "**Question 7 :** En déduire le prix moyen au m2 à Paris et dans les Bouches-du-Rhône en 2021."
   ]
  },
  {
   "cell_type": "code",
   "execution_count": 87,
   "id": "9c24b9bc-cb8e-4b7c-8706-14e06474149a",
   "metadata": {},
   "outputs": [
    {
     "name": "stdout",
     "output_type": "stream",
     "text": [
      "Paris :  11410.823021693295\n",
      "BDR :  3621.25757990797\n",
      "Prix moyen au m2 à Paris et dans les bouches-du-Rhône :  3730.647239633244\n"
     ]
    }
   ],
   "source": [
    "Paris = dvf[dvf['code_departement'] == '75']['prix_m2'].describe()\n",
    "print(\"Paris : \", Paris['mean'])\n",
    "\n",
    "BDR = dvf[dvf['code_departement'] == '13']['prix_m2'].describe()\n",
    "print(\"BDR : \", BDR['mean'])\n",
    "\n",
    "P_B = dvf[dvf['code_departement'].isin(['73', '13'])]['prix_m2'].describe()\n",
    "print(\"Prix moyen au m2 à Paris et dans les bouches-du-Rhône : \", P_B['mean'])"
   ]
  },
  {
   "cell_type": "markdown",
   "id": "26263095-9936-4733-8cb3-ba5f88ba1c03",
   "metadata": {},
   "source": [
    "Le prix moyen au m² à **Paris** est de **11 411€**\n",
    "\n",
    "Dans les **Bouches-du-Rhône** le prix moyen est de **3 621€**\n",
    "\n",
    "Enfin le prix moyen au m² de tous les logements vendus à **Paris et dans les Bouches-du-Rhône** en 2021 est de **3 731€**"
   ]
  },
  {
   "cell_type": "markdown",
   "id": "f35c087d-d4a4-480f-8cd0-b30e1eea0c89",
   "metadata": {},
   "source": [
    "---"
   ]
  },
  {
   "cell_type": "markdown",
   "id": "4c733c02-41f3-4dd5-8d7b-3a991d1e5568",
   "metadata": {},
   "source": [
    "**Question 8 :** En utilisant les méthodes `.isna()` et `.notna()` documentées [ici](https://pandas.pydata.org/docs/reference/api/pandas.DataFrame.isna.html) et [là](https://pandas.pydata.org/docs/reference/api/pandas.DataFrame.notna.html#pandas.DataFrame.notna), déterminer la différence de prix au m2 entre les logements disposant d'un terrain et ceux n'en disposant pas dans le Vaucluse ('code_departement'=='84') et un autre département de votre choix."
   ]
  },
  {
   "cell_type": "code",
   "execution_count": 89,
   "id": "7729e388-ad83-4609-8fb5-846c6b0d2fac",
   "metadata": {},
   "outputs": [
    {
     "name": "stdout",
     "output_type": "stream",
     "text": [
      "Prix moyen m² logement avec terrain dans le Vaucluse : 2906€\n",
      "Prix moyen m² logement sans terrain dans le Vaucluse : 2273€\n",
      "Surcoût moyen pour un terrain dans le Vaucluse : 633€\n",
      "\n",
      "Prix moyen m² logement avec terrain dans Paris : 48302€\n",
      "Prix moyen m² logement sans terrain dans Paris : 11221€\n",
      "Surcoût moyen pour un terrain dans Paris : 37081€\n"
     ]
    }
   ],
   "source": [
    "terrain_Vaucluse = dvf[(dvf['surface_terrain'].notna()) & (dvf['code_departement'] == '84')]['prix_m2'].describe()\n",
    "print(f\"Prix moyen m² logement avec terrain dans le Vaucluse : {int(terrain_Vaucluse['mean'])}€\")\n",
    "\n",
    "not_terrain_Vaucluse = dvf[(dvf['surface_terrain'].isna()) & (dvf['code_departement'] == '84')]['prix_m2'].describe()\n",
    "print(f\"Prix moyen m² logement sans terrain dans le Vaucluse : {int(not_terrain_Vaucluse['mean'])}€\")\n",
    "\n",
    "print(f\"Surcoût moyen pour un terrain dans le Vaucluse : {int(terrain_Vaucluse['mean']) - int(not_terrain_Vaucluse['mean'])}€\")\n",
    "print()\n",
    "\n",
    "terrain_Paris = dvf[(dvf['surface_terrain'].notna()) & (dvf['code_departement'] == '75')]['prix_m2'].describe()\n",
    "print(f\"Prix moyen m² logement avec terrain dans Paris : {int(terrain_Paris['mean'])}€\")\n",
    "\n",
    "not_terrain_Paris = dvf[(dvf['surface_terrain'].isna()) & (dvf['code_departement'] == '75')]['prix_m2'].describe()\n",
    "print(f\"Prix moyen m² logement sans terrain dans Paris : {int(not_terrain_Paris['mean'])}€\")\n",
    "\n",
    "print(f\"Surcoût moyen pour un terrain dans Paris : {int(terrain_Paris['mean']) - int(not_terrain_Paris['mean'])}€\")"
   ]
  },
  {
   "cell_type": "markdown",
   "id": "b6f1d746-7937-4a37-8765-ce83d456b8dc",
   "metadata": {},
   "source": [
    "Dans le Vaucluse le prix moyen d'un m² pour un logement avec terrain est de **2906€**, ce qui représente une différence de **633€** par rapport au logement sans terrain du Vaucluse (-> **2273€**)\n",
    "\n",
    "En revanche, dans Paris le prix moyen d'un m² pour un logement avec terrain est de **48 302€**, et pour un logement sans terrain est de **11 221€**.\n",
    "\n",
    "Le m² d'un logement avec terrain est **4** fois plus chère qu'un logement sans terrain dans Paris"
   ]
  },
  {
   "cell_type": "markdown",
   "id": "c3bd90d5-f248-497a-9f69-869c43a55270",
   "metadata": {},
   "source": [
    "---"
   ]
  },
  {
   "cell_type": "markdown",
   "id": "52c9bace-d6b7-4c7e-9596-7cf56a5d5c90",
   "metadata": {},
   "source": [
    "**Question 9 :** Déterminer le département dans lequel, en moyenne, les logements vendus ont le plus de pièces principales.\n",
    "\n",
    "_Indication :_ On pourra utiliser la méthode `.unique()` documentée [ici](https://pandas.pydata.org/docs/reference/api/pandas.Series.unique.html). "
   ]
  },
  {
   "cell_type": "code",
   "execution_count": 128,
   "id": "fb87000b-a2eb-4624-a51b-ca3966bbc0a8",
   "metadata": {},
   "outputs": [
    {
     "name": "stdout",
     "output_type": "stream",
     "text": [
      "moyenne max : 4 pièces dans le departement n°2\n"
     ]
    }
   ],
   "source": [
    "departements = dvf['code_departement'].unique()\n",
    "moyenne_max = 0\n",
    "departement_code = -1\n",
    "for departement in departements :\n",
    "    \n",
    "    moyenne = dvf[dvf['code_departement'] == departement]['nombre_pieces_principales'].mean()\n",
    "    if (moyenne > moyenne_max) :\n",
    "        moyenne_max = moyenne\n",
    "        departement_code = departement\n",
    "    \n",
    "print(f\"moyenne max : {int(moyenne_max)} pièces dans le departement n°{departement_code}\")"
   ]
  },
  {
   "cell_type": "markdown",
   "id": "a34f82a3-3fe7-4fb1-bad8-75ce4233237f",
   "metadata": {},
   "source": [
    "Le département vendant les logements avec le plus de pièces principales en moyenne est le **2 (Aisne)** avec une moyenne de **4 pièces** (principales) par logement"
   ]
  },
  {
   "cell_type": "markdown",
   "id": "678ee645-70a5-45fc-ab1d-2b40e1488c9f",
   "metadata": {},
   "source": [
    "---"
   ]
  },
  {
   "cell_type": "markdown",
   "id": "6a9e9513-b882-47ec-b60e-5b9eac91ccf3",
   "metadata": {},
   "source": [
    "Faisons maintenant un peu de statistiques (avec les outils pratiques fourni par `pandas`). "
   ]
  },
  {
   "cell_type": "markdown",
   "id": "d1d2ff7d-b0ee-4b51-a0da-bf2fcd581c28",
   "metadata": {},
   "source": [
    "**Question 10 :** En utilisant la méthode `.corr()` documentée [ici](https://pandas.pydata.org/docs/reference/api/pandas.DataFrame.corr.html), déterminer quelles sont les variables les plus corrélées au prix ('valeur_fonciere') du logement."
   ]
  },
  {
   "cell_type": "code",
   "execution_count": 136,
   "id": "83c11395-3273-4e50-aae1-1e0e11f07eec",
   "metadata": {},
   "outputs": [
    {
     "data": {
      "text/html": [
       "<div>\n",
       "<style scoped>\n",
       "    .dataframe tbody tr th:only-of-type {\n",
       "        vertical-align: middle;\n",
       "    }\n",
       "\n",
       "    .dataframe tbody tr th {\n",
       "        vertical-align: top;\n",
       "    }\n",
       "\n",
       "    .dataframe thead th {\n",
       "        text-align: right;\n",
       "    }\n",
       "</style>\n",
       "<table border=\"1\" class=\"dataframe\">\n",
       "  <thead>\n",
       "    <tr style=\"text-align: right;\">\n",
       "      <th></th>\n",
       "      <th>surface_reelle_bati</th>\n",
       "      <th>nombre_pieces_principales</th>\n",
       "      <th>surface_terrain</th>\n",
       "      <th>longitude</th>\n",
       "      <th>latitude</th>\n",
       "      <th>valeur_fonciere</th>\n",
       "      <th>prix_m2</th>\n",
       "    </tr>\n",
       "  </thead>\n",
       "  <tbody>\n",
       "    <tr>\n",
       "      <th>surface_reelle_bati</th>\n",
       "      <td>1.000000</td>\n",
       "      <td>0.794636</td>\n",
       "      <td>0.124024</td>\n",
       "      <td>-0.071561</td>\n",
       "      <td>0.028351</td>\n",
       "      <td>0.271967</td>\n",
       "      <td>-0.129897</td>\n",
       "    </tr>\n",
       "    <tr>\n",
       "      <th>nombre_pieces_principales</th>\n",
       "      <td>0.794636</td>\n",
       "      <td>1.000000</td>\n",
       "      <td>0.063415</td>\n",
       "      <td>-0.081566</td>\n",
       "      <td>0.085763</td>\n",
       "      <td>0.199987</td>\n",
       "      <td>-0.130730</td>\n",
       "    </tr>\n",
       "    <tr>\n",
       "      <th>surface_terrain</th>\n",
       "      <td>0.124024</td>\n",
       "      <td>0.063415</td>\n",
       "      <td>1.000000</td>\n",
       "      <td>-0.014024</td>\n",
       "      <td>-0.050821</td>\n",
       "      <td>0.097210</td>\n",
       "      <td>0.068509</td>\n",
       "    </tr>\n",
       "    <tr>\n",
       "      <th>longitude</th>\n",
       "      <td>-0.071561</td>\n",
       "      <td>-0.081566</td>\n",
       "      <td>-0.014024</td>\n",
       "      <td>1.000000</td>\n",
       "      <td>-0.220488</td>\n",
       "      <td>0.011849</td>\n",
       "      <td>0.031755</td>\n",
       "    </tr>\n",
       "    <tr>\n",
       "      <th>latitude</th>\n",
       "      <td>0.028351</td>\n",
       "      <td>0.085763</td>\n",
       "      <td>-0.050821</td>\n",
       "      <td>-0.220488</td>\n",
       "      <td>1.000000</td>\n",
       "      <td>0.045157</td>\n",
       "      <td>0.052704</td>\n",
       "    </tr>\n",
       "    <tr>\n",
       "      <th>valeur_fonciere</th>\n",
       "      <td>0.271967</td>\n",
       "      <td>0.199987</td>\n",
       "      <td>0.097210</td>\n",
       "      <td>0.011849</td>\n",
       "      <td>0.045157</td>\n",
       "      <td>1.000000</td>\n",
       "      <td>0.750812</td>\n",
       "    </tr>\n",
       "    <tr>\n",
       "      <th>prix_m2</th>\n",
       "      <td>-0.129897</td>\n",
       "      <td>-0.130730</td>\n",
       "      <td>0.068509</td>\n",
       "      <td>0.031755</td>\n",
       "      <td>0.052704</td>\n",
       "      <td>0.750812</td>\n",
       "      <td>1.000000</td>\n",
       "    </tr>\n",
       "  </tbody>\n",
       "</table>\n",
       "</div>"
      ],
      "text/plain": [
       "                           surface_reelle_bati  nombre_pieces_principales  \\\n",
       "surface_reelle_bati                   1.000000                   0.794636   \n",
       "nombre_pieces_principales             0.794636                   1.000000   \n",
       "surface_terrain                       0.124024                   0.063415   \n",
       "longitude                            -0.071561                  -0.081566   \n",
       "latitude                              0.028351                   0.085763   \n",
       "valeur_fonciere                       0.271967                   0.199987   \n",
       "prix_m2                              -0.129897                  -0.130730   \n",
       "\n",
       "                           surface_terrain  longitude  latitude  \\\n",
       "surface_reelle_bati               0.124024  -0.071561  0.028351   \n",
       "nombre_pieces_principales         0.063415  -0.081566  0.085763   \n",
       "surface_terrain                   1.000000  -0.014024 -0.050821   \n",
       "longitude                        -0.014024   1.000000 -0.220488   \n",
       "latitude                         -0.050821  -0.220488  1.000000   \n",
       "valeur_fonciere                   0.097210   0.011849  0.045157   \n",
       "prix_m2                           0.068509   0.031755  0.052704   \n",
       "\n",
       "                           valeur_fonciere   prix_m2  \n",
       "surface_reelle_bati               0.271967 -0.129897  \n",
       "nombre_pieces_principales         0.199987 -0.130730  \n",
       "surface_terrain                   0.097210  0.068509  \n",
       "longitude                         0.011849  0.031755  \n",
       "latitude                          0.045157  0.052704  \n",
       "valeur_fonciere                   1.000000  0.750812  \n",
       "prix_m2                           0.750812  1.000000  "
      ]
     },
     "execution_count": 136,
     "metadata": {},
     "output_type": "execute_result"
    }
   ],
   "source": [
    "dvf.corr(numeric_only=True)"
   ]
  },
  {
   "cell_type": "markdown",
   "id": "f94c8bae-fc3d-454c-b3b1-3f597d93fde5",
   "metadata": {},
   "source": [
    "Valeur foncière - **prix m²** : La valeur foncière semble être fortement influencé par le prix au m² avec une corrélation de 0.75\n",
    "\n",
    "Valeur foncière - **surface reelle batiment / nombre pièces principales** : La valeur foncière semble être un peu influencé par la surface (0.27) et le nombre de pieces (0.20). Une plus grande surface ou un plus grand nombre de pièces augmentent généralement la valeur foncière, mais moins significativement par le prix au m²\n",
    "\n",
    "Valeur foncière - **surface terrain / longitude / latitude** : La valeur foncière ne semble pas avoir de réelle corrélation avec la surface terrain, la longitude et la latitude."
   ]
  },
  {
   "cell_type": "markdown",
   "id": "e1ac83f2-e4e8-4b6f-ba9b-35138ac42aac",
   "metadata": {},
   "source": [
    "---"
   ]
  },
  {
   "cell_type": "markdown",
   "id": "1cf469f1-9662-4ec8-9b3e-8a5a5cefc82b",
   "metadata": {},
   "source": [
    "## Partie 2 : Projet exploratoire"
   ]
  },
  {
   "cell_type": "markdown",
   "id": "299fb8be-5620-4dfc-bf14-bca51414e839",
   "metadata": {
    "tags": []
   },
   "source": [
    "On travaille avec le dataset `earnings` évoqué ce matin en cours, disponible sous le nom `earnings.csv` et qu'on peut également télécharger [ici](https://www.kaggle.com/datasets/mukeshmanral/employ-earnings-data?select=batch2_jobID_00B80TR.csv). \n",
    "\n",
    "Ce dataset (en anglais) présente les salaires d'un million d'américains en fonction de divers paramètres : années d'expériences (`yearsExperience`), secteur d'activité (`industry`), filière choisie à l'université ('major'), etc. \n",
    "\n",
    "On vous demande d'explorer ce dataset, de tester des fonctionnalités `pandas`, de faire des remarques sur l'organisation des données, de la visualisation... \n",
    "\n",
    "Il n'y a pas de consigne spécifique : plus vous en faites, mieux ce sera !\n",
    "\n",
    "Quelques pistes néanmoins (vous n'êtes pas obligé de faire exactement ça, c'est juste pour donner des idées) : \n",
    "- Que remarquez vous sur la distribution des années d'expérience ? sur la représentation des secteurs d'activité ? Qu'en déduisez-vous sur ce jeu de données ? \n",
    "- Y a-t-il des données aberrantes ? \n",
    "- Si on cherche à maximiser son salaire, quelle 'major' faut-il choisir ? \n",
    "- (Plus technique) Quelle est, en moyenne, l'évolution relative de salaire qu'on peut espérer chaque année ? \n",
    "    - Note : évolution relative = (année_n+1 - année_n) / année_n ; par exemple si je suis passé de 100 à 110 de salaire, j'ai eu une évolution relative de (110 - 100)/100 = 0.1 = 10%. \n",
    "    \n",
    "    \n",
    "Mais le plus important est de faire preuve de curiosité avec les différentes variables (et les outils mis à disposition). "
   ]
  },
  {
   "cell_type": "code",
   "execution_count": 145,
   "id": "ce4ffd5e-7ae2-48f0-8566-74a3e4290e59",
   "metadata": {},
   "outputs": [],
   "source": [
    "earnings = pd.read_csv('./earnings.csv')"
   ]
  },
  {
   "cell_type": "code",
   "execution_count": 146,
   "id": "7ec1122a",
   "metadata": {},
   "outputs": [
    {
     "data": {
      "text/html": [
       "<div>\n",
       "<style scoped>\n",
       "    .dataframe tbody tr th:only-of-type {\n",
       "        vertical-align: middle;\n",
       "    }\n",
       "\n",
       "    .dataframe tbody tr th {\n",
       "        vertical-align: top;\n",
       "    }\n",
       "\n",
       "    .dataframe thead th {\n",
       "        text-align: right;\n",
       "    }\n",
       "</style>\n",
       "<table border=\"1\" class=\"dataframe\">\n",
       "  <thead>\n",
       "    <tr style=\"text-align: right;\">\n",
       "      <th></th>\n",
       "      <th>companyId</th>\n",
       "      <th>jobType</th>\n",
       "      <th>degree</th>\n",
       "      <th>major</th>\n",
       "      <th>industry</th>\n",
       "      <th>yearsExperience</th>\n",
       "      <th>milesFromMetropolis</th>\n",
       "      <th>salary</th>\n",
       "    </tr>\n",
       "  </thead>\n",
       "  <tbody>\n",
       "    <tr>\n",
       "      <th>0</th>\n",
       "      <td>COMP37</td>\n",
       "      <td>CFO</td>\n",
       "      <td>MASTERS</td>\n",
       "      <td>MATH</td>\n",
       "      <td>HEALTH</td>\n",
       "      <td>10</td>\n",
       "      <td>83</td>\n",
       "      <td>130</td>\n",
       "    </tr>\n",
       "    <tr>\n",
       "      <th>1</th>\n",
       "      <td>COMP19</td>\n",
       "      <td>CEO</td>\n",
       "      <td>HIGH_SCHOOL</td>\n",
       "      <td>NONE</td>\n",
       "      <td>WEB</td>\n",
       "      <td>3</td>\n",
       "      <td>73</td>\n",
       "      <td>101</td>\n",
       "    </tr>\n",
       "    <tr>\n",
       "      <th>2</th>\n",
       "      <td>COMP52</td>\n",
       "      <td>VICE_PRESIDENT</td>\n",
       "      <td>DOCTORAL</td>\n",
       "      <td>PHYSICS</td>\n",
       "      <td>HEALTH</td>\n",
       "      <td>10</td>\n",
       "      <td>38</td>\n",
       "      <td>137</td>\n",
       "    </tr>\n",
       "    <tr>\n",
       "      <th>3</th>\n",
       "      <td>COMP38</td>\n",
       "      <td>MANAGER</td>\n",
       "      <td>DOCTORAL</td>\n",
       "      <td>CHEMISTRY</td>\n",
       "      <td>AUTO</td>\n",
       "      <td>8</td>\n",
       "      <td>17</td>\n",
       "      <td>142</td>\n",
       "    </tr>\n",
       "    <tr>\n",
       "      <th>4</th>\n",
       "      <td>COMP7</td>\n",
       "      <td>VICE_PRESIDENT</td>\n",
       "      <td>BACHELORS</td>\n",
       "      <td>PHYSICS</td>\n",
       "      <td>FINANCE</td>\n",
       "      <td>8</td>\n",
       "      <td>16</td>\n",
       "      <td>163</td>\n",
       "    </tr>\n",
       "    <tr>\n",
       "      <th>...</th>\n",
       "      <td>...</td>\n",
       "      <td>...</td>\n",
       "      <td>...</td>\n",
       "      <td>...</td>\n",
       "      <td>...</td>\n",
       "      <td>...</td>\n",
       "      <td>...</td>\n",
       "      <td>...</td>\n",
       "    </tr>\n",
       "    <tr>\n",
       "      <th>999995</th>\n",
       "      <td>COMP56</td>\n",
       "      <td>VICE_PRESIDENT</td>\n",
       "      <td>BACHELORS</td>\n",
       "      <td>CHEMISTRY</td>\n",
       "      <td>HEALTH</td>\n",
       "      <td>19</td>\n",
       "      <td>94</td>\n",
       "      <td>88</td>\n",
       "    </tr>\n",
       "    <tr>\n",
       "      <th>999996</th>\n",
       "      <td>COMP24</td>\n",
       "      <td>CTO</td>\n",
       "      <td>HIGH_SCHOOL</td>\n",
       "      <td>NONE</td>\n",
       "      <td>FINANCE</td>\n",
       "      <td>12</td>\n",
       "      <td>35</td>\n",
       "      <td>160</td>\n",
       "    </tr>\n",
       "    <tr>\n",
       "      <th>999997</th>\n",
       "      <td>COMP23</td>\n",
       "      <td>JUNIOR</td>\n",
       "      <td>HIGH_SCHOOL</td>\n",
       "      <td>NONE</td>\n",
       "      <td>EDUCATION</td>\n",
       "      <td>16</td>\n",
       "      <td>81</td>\n",
       "      <td>64</td>\n",
       "    </tr>\n",
       "    <tr>\n",
       "      <th>999998</th>\n",
       "      <td>COMP3</td>\n",
       "      <td>CFO</td>\n",
       "      <td>MASTERS</td>\n",
       "      <td>NONE</td>\n",
       "      <td>HEALTH</td>\n",
       "      <td>6</td>\n",
       "      <td>5</td>\n",
       "      <td>149</td>\n",
       "    </tr>\n",
       "    <tr>\n",
       "      <th>999999</th>\n",
       "      <td>COMP59</td>\n",
       "      <td>JUNIOR</td>\n",
       "      <td>BACHELORS</td>\n",
       "      <td>NONE</td>\n",
       "      <td>EDUCATION</td>\n",
       "      <td>20</td>\n",
       "      <td>11</td>\n",
       "      <td>88</td>\n",
       "    </tr>\n",
       "  </tbody>\n",
       "</table>\n",
       "<p>1000000 rows × 8 columns</p>\n",
       "</div>"
      ],
      "text/plain": [
       "       companyId         jobType       degree      major   industry  \\\n",
       "0         COMP37             CFO      MASTERS       MATH     HEALTH   \n",
       "1         COMP19             CEO  HIGH_SCHOOL       NONE        WEB   \n",
       "2         COMP52  VICE_PRESIDENT     DOCTORAL    PHYSICS     HEALTH   \n",
       "3         COMP38         MANAGER     DOCTORAL  CHEMISTRY       AUTO   \n",
       "4          COMP7  VICE_PRESIDENT    BACHELORS    PHYSICS    FINANCE   \n",
       "...          ...             ...          ...        ...        ...   \n",
       "999995    COMP56  VICE_PRESIDENT    BACHELORS  CHEMISTRY     HEALTH   \n",
       "999996    COMP24             CTO  HIGH_SCHOOL       NONE    FINANCE   \n",
       "999997    COMP23          JUNIOR  HIGH_SCHOOL       NONE  EDUCATION   \n",
       "999998     COMP3             CFO      MASTERS       NONE     HEALTH   \n",
       "999999    COMP59          JUNIOR    BACHELORS       NONE  EDUCATION   \n",
       "\n",
       "        yearsExperience  milesFromMetropolis  salary  \n",
       "0                    10                   83     130  \n",
       "1                     3                   73     101  \n",
       "2                    10                   38     137  \n",
       "3                     8                   17     142  \n",
       "4                     8                   16     163  \n",
       "...                 ...                  ...     ...  \n",
       "999995               19                   94      88  \n",
       "999996               12                   35     160  \n",
       "999997               16                   81      64  \n",
       "999998                6                    5     149  \n",
       "999999               20                   11      88  \n",
       "\n",
       "[1000000 rows x 8 columns]"
      ]
     },
     "execution_count": 146,
     "metadata": {},
     "output_type": "execute_result"
    }
   ],
   "source": [
    "earnings"
   ]
  },
  {
   "cell_type": "code",
   "execution_count": 196,
   "id": "d19fc651",
   "metadata": {},
   "outputs": [
    {
     "name": "stdout",
     "output_type": "stream",
     "text": [
      "Salaire moyen des CFO : $ 135K\n",
      "\tSalaire médian : $ 132K\n",
      "\n",
      "Salaire moyen des CEO : $ 145K\n",
      "\tSalaire médian : $ 142K\n",
      "\n",
      "Salaire moyen des VICE_PRESIDENT : $ 125K\n",
      "\tSalaire médian : $ 122K\n",
      "\n",
      "Salaire moyen des MANAGER : $ 115K\n",
      "\tSalaire médian : $ 112K\n",
      "\n",
      "Salaire moyen des JUNIOR : $ 95K\n",
      "\tSalaire médian : $ 92K\n",
      "\n",
      "Salaire moyen des JANITOR : $ 70K\n",
      "\tSalaire médian : $ 68K\n",
      "\n",
      "Salaire moyen des CTO : $ 135K\n",
      "\tSalaire médian : $ 132K\n",
      "\n",
      "Salaire moyen des SENIOR : $ 105K\n",
      "\tSalaire médian : $ 102K\n",
      "\n"
     ]
    }
   ],
   "source": [
    "# Salaire moyen et médian par rapport au JobType\n",
    "jobs = earnings['jobType'].unique()\n",
    "\n",
    "for job in jobs:\n",
    "    salaire = earnings[earnings['jobType'] == job]['salary'].describe()\n",
    "    print(f\"Salaire moyen des {job} : $ {int(salaire['mean'])}K\\n\\tSalaire médian : $ {int(salaire['50%'])}K\\n\")"
   ]
  },
  {
   "cell_type": "code",
   "execution_count": 197,
   "id": "a760ce1c",
   "metadata": {},
   "outputs": [
    {
     "name": "stdout",
     "output_type": "stream",
     "text": [
      "Années d'expérience moyen des CFO : 11\n",
      "Années d'expérience moyen des CEO : 11\n",
      "Années d'expérience moyen des VICE_PRESIDENT : 11\n",
      "Années d'expérience moyen des MANAGER : 11\n",
      "Années d'expérience moyen des JUNIOR : 11\n",
      "Années d'expérience moyen des JANITOR : 11\n",
      "Années d'expérience moyen des CTO : 12\n",
      "Années d'expérience moyen des SENIOR : 11\n"
     ]
    }
   ],
   "source": [
    "# Année d'experience par rapport au JobType\n",
    "jobs = earnings['jobType'].unique()\n",
    "\n",
    "for job in jobs:\n",
    "    experience = earnings[earnings['jobType'] == job]['yearsExperience'].describe()\n",
    "    print(f\"Années d'expérience moyen des {job} : {int(experience['mean'])}\")\n",
    "    \n",
    "# Une moyenne de 11 ans d'expérience pour chaque poste"
   ]
  },
  {
   "cell_type": "code",
   "execution_count": 198,
   "id": "516c1828",
   "metadata": {},
   "outputs": [
    {
     "data": {
      "text/plain": [
       "SENIOR            125886\n",
       "VICE_PRESIDENT    125235\n",
       "MANAGER           125121\n",
       "CTO               125046\n",
       "JANITOR           124971\n",
       "CEO               124778\n",
       "JUNIOR            124594\n",
       "CFO               124369\n",
       "Name: jobType, dtype: int64"
      ]
     },
     "execution_count": 198,
     "metadata": {},
     "output_type": "execute_result"
    }
   ],
   "source": [
    "# répartition des types de postes\n",
    "earnings['jobType'].value_counts()\n",
    "# 125 000 par type de poste"
   ]
  },
  {
   "cell_type": "markdown",
   "id": "305536ae",
   "metadata": {},
   "source": [
    "**Ce jeu de données est une simulation, chaque type d'emploi à une moyenne de 11 ans d'expériences, 125 000 employés**"
   ]
  },
  {
   "cell_type": "code",
   "execution_count": 224,
   "id": "f1e4cfe3",
   "metadata": {},
   "outputs": [
    {
     "name": "stdout",
     "output_type": "stream",
     "text": [
      "Distance = 0, Salaire = $ 135K\n",
      "Distance = 1, Salaire = $ 135K\n",
      "Distance = 2, Salaire = $ 134K\n",
      "Distance = 4, Salaire = $ 134K\n",
      "Distance = 3, Salaire = $ 134K\n",
      "Distance = 5, Salaire = $ 133K\n",
      "Distance = 6, Salaire = $ 133K\n",
      "Distance = 7, Salaire = $ 133K\n",
      "Distance = 8, Salaire = $ 132K\n",
      "Distance = 9, Salaire = $ 132K\n",
      "Distance = 10, Salaire = $ 131K\n",
      "Distance = 11, Salaire = $ 131K\n",
      "Distance = 12, Salaire = $ 130K\n",
      "Distance = 13, Salaire = $ 130K\n",
      "Distance = 14, Salaire = $ 130K\n",
      "Distance = 16, Salaire = $ 129K\n",
      "Distance = 15, Salaire = $ 129K\n",
      "Distance = 17, Salaire = $ 129K\n",
      "Distance = 18, Salaire = $ 128K\n",
      "Distance = 19, Salaire = $ 128K\n",
      "Distance = 20, Salaire = $ 127K\n",
      "Distance = 21, Salaire = $ 126K\n",
      "Distance = 22, Salaire = $ 126K\n",
      "Distance = 24, Salaire = $ 126K\n",
      "Distance = 23, Salaire = $ 126K\n",
      "Distance = 25, Salaire = $ 126K\n",
      "Distance = 26, Salaire = $ 125K\n",
      "Distance = 27, Salaire = $ 125K\n",
      "Distance = 28, Salaire = $ 124K\n",
      "Distance = 30, Salaire = $ 124K\n",
      "Distance = 29, Salaire = $ 124K\n",
      "Distance = 31, Salaire = $ 123K\n",
      "Distance = 33, Salaire = $ 122K\n",
      "Distance = 32, Salaire = $ 122K\n",
      "Distance = 34, Salaire = $ 122K\n",
      "Distance = 37, Salaire = $ 121K\n",
      "Distance = 35, Salaire = $ 121K\n",
      "Distance = 39, Salaire = $ 120K\n",
      "Distance = 36, Salaire = $ 120K\n",
      "Distance = 38, Salaire = $ 120K\n",
      "Distance = 42, Salaire = $ 120K\n",
      "Distance = 43, Salaire = $ 119K\n",
      "Distance = 41, Salaire = $ 119K\n",
      "Distance = 40, Salaire = $ 119K\n",
      "Distance = 44, Salaire = $ 118K\n",
      "Distance = 45, Salaire = $ 117K\n",
      "Distance = 46, Salaire = $ 117K\n",
      "Distance = 47, Salaire = $ 116K\n",
      "Distance = 48, Salaire = $ 116K\n",
      "Distance = 49, Salaire = $ 116K\n",
      "Distance = 50, Salaire = $ 115K\n",
      "Distance = 51, Salaire = $ 114K\n",
      "Distance = 52, Salaire = $ 114K\n",
      "Distance = 53, Salaire = $ 114K\n",
      "Distance = 54, Salaire = $ 114K\n",
      "Distance = 55, Salaire = $ 113K\n",
      "Distance = 56, Salaire = $ 113K\n",
      "Distance = 58, Salaire = $ 112K\n",
      "Distance = 57, Salaire = $ 112K\n",
      "Distance = 59, Salaire = $ 111K\n",
      "Distance = 60, Salaire = $ 111K\n",
      "Distance = 61, Salaire = $ 111K\n",
      "Distance = 62, Salaire = $ 111K\n",
      "Distance = 63, Salaire = $ 110K\n",
      "Distance = 64, Salaire = $ 110K\n",
      "Distance = 66, Salaire = $ 110K\n",
      "Distance = 65, Salaire = $ 109K\n",
      "Distance = 67, Salaire = $ 108K\n",
      "Distance = 68, Salaire = $ 108K\n",
      "Distance = 70, Salaire = $ 108K\n",
      "Distance = 71, Salaire = $ 107K\n",
      "Distance = 69, Salaire = $ 107K\n",
      "Distance = 72, Salaire = $ 107K\n",
      "Distance = 74, Salaire = $ 106K\n",
      "Distance = 73, Salaire = $ 106K\n",
      "Distance = 75, Salaire = $ 106K\n",
      "Distance = 76, Salaire = $ 105K\n",
      "Distance = 77, Salaire = $ 104K\n",
      "Distance = 79, Salaire = $ 104K\n",
      "Distance = 78, Salaire = $ 104K\n",
      "Distance = 80, Salaire = $ 104K\n",
      "Distance = 81, Salaire = $ 103K\n",
      "Distance = 82, Salaire = $ 103K\n",
      "Distance = 83, Salaire = $ 102K\n",
      "Distance = 84, Salaire = $ 102K\n",
      "Distance = 85, Salaire = $ 101K\n",
      "Distance = 87, Salaire = $ 101K\n",
      "Distance = 86, Salaire = $ 101K\n",
      "Distance = 88, Salaire = $ 100K\n",
      "Distance = 89, Salaire = $ 100K\n",
      "Distance = 91, Salaire = $ 99K\n",
      "Distance = 90, Salaire = $ 99K\n",
      "Distance = 92, Salaire = $ 99K\n",
      "Distance = 93, Salaire = $ 98K\n",
      "Distance = 94, Salaire = $ 98K\n",
      "Distance = 95, Salaire = $ 98K\n",
      "Distance = 97, Salaire = $ 97K\n",
      "Distance = 96, Salaire = $ 97K\n",
      "Distance = 98, Salaire = $ 97K\n",
      "Distance = 99, Salaire = $ 95K\n"
     ]
    }
   ],
   "source": [
    "miles = earnings['milesFromMetropolis'].unique()\n",
    "miles_salary = []\n",
    "\n",
    "for distance in miles:\n",
    "    salary = earnings[earnings['milesFromMetropolis'] == distance]['salary'].describe()\n",
    "    miles_salary.append((distance, salary['mean']))\n",
    "    \n",
    "# Salaire par rapport à la distance\n",
    "sort = sorted(miles_salary, key=lambda x: x[1], reverse=True)\n",
    "for distance, salaire in sort:\n",
    "    print(f\"Distance = {distance}, Salaire = $ {int(salaire)}K\")"
   ]
  },
  {
   "cell_type": "markdown",
   "id": "68405a98",
   "metadata": {},
   "source": [
    "**On se doute que la distance n'a pas d'impact sur le salaire**"
   ]
  },
  {
   "cell_type": "code",
   "execution_count": 225,
   "id": "17455544",
   "metadata": {},
   "outputs": [
    {
     "data": {
      "text/html": [
       "<div>\n",
       "<style scoped>\n",
       "    .dataframe tbody tr th:only-of-type {\n",
       "        vertical-align: middle;\n",
       "    }\n",
       "\n",
       "    .dataframe tbody tr th {\n",
       "        vertical-align: top;\n",
       "    }\n",
       "\n",
       "    .dataframe thead th {\n",
       "        text-align: right;\n",
       "    }\n",
       "</style>\n",
       "<table border=\"1\" class=\"dataframe\">\n",
       "  <thead>\n",
       "    <tr style=\"text-align: right;\">\n",
       "      <th></th>\n",
       "      <th>yearsExperience</th>\n",
       "      <th>milesFromMetropolis</th>\n",
       "      <th>salary</th>\n",
       "    </tr>\n",
       "  </thead>\n",
       "  <tbody>\n",
       "    <tr>\n",
       "      <th>count</th>\n",
       "      <td>5.00000</td>\n",
       "      <td>5.000000</td>\n",
       "      <td>5.0</td>\n",
       "    </tr>\n",
       "    <tr>\n",
       "      <th>mean</th>\n",
       "      <td>7.80000</td>\n",
       "      <td>25.400000</td>\n",
       "      <td>0.0</td>\n",
       "    </tr>\n",
       "    <tr>\n",
       "      <th>std</th>\n",
       "      <td>6.83374</td>\n",
       "      <td>21.938551</td>\n",
       "      <td>0.0</td>\n",
       "    </tr>\n",
       "    <tr>\n",
       "      <th>min</th>\n",
       "      <td>1.00000</td>\n",
       "      <td>6.000000</td>\n",
       "      <td>0.0</td>\n",
       "    </tr>\n",
       "    <tr>\n",
       "      <th>25%</th>\n",
       "      <td>3.00000</td>\n",
       "      <td>7.000000</td>\n",
       "      <td>0.0</td>\n",
       "    </tr>\n",
       "    <tr>\n",
       "      <th>50%</th>\n",
       "      <td>6.00000</td>\n",
       "      <td>25.000000</td>\n",
       "      <td>0.0</td>\n",
       "    </tr>\n",
       "    <tr>\n",
       "      <th>75%</th>\n",
       "      <td>11.00000</td>\n",
       "      <td>29.000000</td>\n",
       "      <td>0.0</td>\n",
       "    </tr>\n",
       "    <tr>\n",
       "      <th>max</th>\n",
       "      <td>18.00000</td>\n",
       "      <td>60.000000</td>\n",
       "      <td>0.0</td>\n",
       "    </tr>\n",
       "  </tbody>\n",
       "</table>\n",
       "</div>"
      ],
      "text/plain": [
       "       yearsExperience  milesFromMetropolis  salary\n",
       "count          5.00000             5.000000     5.0\n",
       "mean           7.80000            25.400000     0.0\n",
       "std            6.83374            21.938551     0.0\n",
       "min            1.00000             6.000000     0.0\n",
       "25%            3.00000             7.000000     0.0\n",
       "50%            6.00000            25.000000     0.0\n",
       "75%           11.00000            29.000000     0.0\n",
       "max           18.00000            60.000000     0.0"
      ]
     },
     "execution_count": 225,
     "metadata": {},
     "output_type": "execute_result"
    }
   ],
   "source": [
    "earnings[earnings['salary'] == 0].describe()"
   ]
  },
  {
   "cell_type": "code",
   "execution_count": 222,
   "id": "d6bef8ff",
   "metadata": {},
   "outputs": [
    {
     "data": {
      "text/html": [
       "<div>\n",
       "<style scoped>\n",
       "    .dataframe tbody tr th:only-of-type {\n",
       "        vertical-align: middle;\n",
       "    }\n",
       "\n",
       "    .dataframe tbody tr th {\n",
       "        vertical-align: top;\n",
       "    }\n",
       "\n",
       "    .dataframe thead th {\n",
       "        text-align: right;\n",
       "    }\n",
       "</style>\n",
       "<table border=\"1\" class=\"dataframe\">\n",
       "  <thead>\n",
       "    <tr style=\"text-align: right;\">\n",
       "      <th></th>\n",
       "      <th>yearsExperience</th>\n",
       "      <th>milesFromMetropolis</th>\n",
       "      <th>salary</th>\n",
       "    </tr>\n",
       "  </thead>\n",
       "  <tbody>\n",
       "    <tr>\n",
       "      <th>count</th>\n",
       "      <td>39839.0</td>\n",
       "      <td>39839.000000</td>\n",
       "      <td>39839.000000</td>\n",
       "    </tr>\n",
       "    <tr>\n",
       "      <th>mean</th>\n",
       "      <td>0.0</td>\n",
       "      <td>49.718617</td>\n",
       "      <td>91.873541</td>\n",
       "    </tr>\n",
       "    <tr>\n",
       "      <th>std</th>\n",
       "      <td>0.0</td>\n",
       "      <td>28.855886</td>\n",
       "      <td>32.383526</td>\n",
       "    </tr>\n",
       "    <tr>\n",
       "      <th>min</th>\n",
       "      <td>0.0</td>\n",
       "      <td>0.000000</td>\n",
       "      <td>17.000000</td>\n",
       "    </tr>\n",
       "    <tr>\n",
       "      <th>25%</th>\n",
       "      <td>0.0</td>\n",
       "      <td>25.000000</td>\n",
       "      <td>69.000000</td>\n",
       "    </tr>\n",
       "    <tr>\n",
       "      <th>50%</th>\n",
       "      <td>0.0</td>\n",
       "      <td>50.000000</td>\n",
       "      <td>91.000000</td>\n",
       "    </tr>\n",
       "    <tr>\n",
       "      <th>75%</th>\n",
       "      <td>0.0</td>\n",
       "      <td>75.000000</td>\n",
       "      <td>113.500000</td>\n",
       "    </tr>\n",
       "    <tr>\n",
       "      <th>max</th>\n",
       "      <td>0.0</td>\n",
       "      <td>99.000000</td>\n",
       "      <td>227.000000</td>\n",
       "    </tr>\n",
       "  </tbody>\n",
       "</table>\n",
       "</div>"
      ],
      "text/plain": [
       "       yearsExperience  milesFromMetropolis        salary\n",
       "count          39839.0         39839.000000  39839.000000\n",
       "mean               0.0            49.718617     91.873541\n",
       "std                0.0            28.855886     32.383526\n",
       "min                0.0             0.000000     17.000000\n",
       "25%                0.0            25.000000     69.000000\n",
       "50%                0.0            50.000000     91.000000\n",
       "75%                0.0            75.000000    113.500000\n",
       "max                0.0            99.000000    227.000000"
      ]
     },
     "execution_count": 222,
     "metadata": {},
     "output_type": "execute_result"
    }
   ],
   "source": [
    "earnings[earnings['yearsExperience'] == 0].describe()"
   ]
  },
  {
   "cell_type": "markdown",
   "id": "c349fdc2",
   "metadata": {},
   "source": [
    "**On a des données qui ne font pas de sens, des employés avec aucune année d'expérience avec un salaire de $ 227 000**"
   ]
  },
  {
   "cell_type": "markdown",
   "id": "a96519a6",
   "metadata": {},
   "source": [
    "**Une personne avec 18 ans d'expériences qui gagne $ 0**"
   ]
  },
  {
   "cell_type": "code",
   "execution_count": 243,
   "id": "e4b9118b",
   "metadata": {},
   "outputs": [
    {
     "name": "stdout",
     "output_type": "stream",
     "text": [
      "Major = ENGINEERING, Salaire moyen = $ 138K\n",
      "Major = BUSINESS, Salaire moyen = $ 135K\n",
      "Major = MATH, Salaire moyen = $ 133K\n",
      "Major = COMPSCI, Salaire moyen = $ 132K\n",
      "Major = PHYSICS, Salaire moyen = $ 130K\n",
      "Major = CHEMISTRY, Salaire moyen = $ 129K\n",
      "Major = BIOLOGY, Salaire moyen = $ 127K\n",
      "Major = LITERATURE, Salaire moyen = $ 124K\n",
      "Major = NONE, Salaire moyen = $ 102K\n"
     ]
    }
   ],
   "source": [
    "majors = earnings['major'].unique()\n",
    "majors_salary = []\n",
    "\n",
    "for major in majors :\n",
    "    salaire = earnings[earnings['major'] == major]['salary'].describe()['mean']\n",
    "    majors_salary.append((major, int(salaire)))\n",
    "    \n",
    "sort = sorted(majors_salary, key=lambda x: x[1], reverse=True)\n",
    "for major, salary in sort :\n",
    "    print(f\"Major = {major}, Salaire moyen = $ {salary}K\")"
   ]
  },
  {
   "cell_type": "markdown",
   "id": "2ee208c9",
   "metadata": {},
   "source": [
    "**On remarque les personnes ayant étudié l'ENGINEERING ont le meilleur salaire moyen**"
   ]
  },
  {
   "cell_type": "code",
   "execution_count": 244,
   "id": "b3e94602",
   "metadata": {},
   "outputs": [
    {
     "name": "stdout",
     "output_type": "stream",
     "text": [
      "Niveau d'étude = MASTERS, Salaire moyen = $ 98K\n",
      "Niveau d'étude = HIGH_SCHOOL, Salaire moyen = $ 98K\n",
      "Niveau d'étude = DOCTORAL, Salaire moyen = $ 98K\n",
      "Niveau d'étude = BACHELORS, Salaire moyen = $ 98K\n",
      "Niveau d'étude = NONE, Salaire moyen = $ 98K\n"
     ]
    }
   ],
   "source": [
    "degrees = earnings['degree'].unique()\n",
    "degree_salary = []\n",
    "\n",
    "for degree in degrees :\n",
    "    salaire = earnings[earnings['degree'] == major]['salary'].describe()['mean']\n",
    "    degree_salary.append((degree, int(salaire)))\n",
    "    \n",
    "sort = sorted(degree_salary, key=lambda x: x[1], reverse=True)\n",
    "for degree, salary in sort :\n",
    "    print(f\"Niveau d'étude = {degree}, Salaire moyen = $ {salary}K\")"
   ]
  },
  {
   "cell_type": "markdown",
   "id": "f1016566",
   "metadata": {},
   "source": [
    "**Le niveau d'étude n'a pas l'air d'avoir d'impact sur le salaire moyen**"
   ]
  },
  {
   "cell_type": "code",
   "execution_count": 254,
   "id": "0d4a03bc",
   "metadata": {},
   "outputs": [
    {
     "name": "stdout",
     "output_type": "stream",
     "text": [
      "Type d'entreprise = FINANCE, Salaire moyen = $ 130K\n",
      "Type d'entreprise = OIL, Salaire moyen = $ 130K\n",
      "Type d'entreprise = WEB, Salaire moyen = $ 121K\n",
      "Type d'entreprise = HEALTH, Salaire moyen = $ 115K\n",
      "Type d'entreprise = AUTO, Salaire moyen = $ 109K\n",
      "Type d'entreprise = SERVICE, Salaire moyen = $ 104K\n",
      "Type d'entreprise = EDUCATION, Salaire moyen = $ 99K\n"
     ]
    }
   ],
   "source": [
    "industries = earnings['industry'].unique()\n",
    "industries_salary = []\n",
    "\n",
    "for industry in industries :\n",
    "    salaire = earnings[earnings['industry'] == industry]['salary'].describe()['mean']\n",
    "    industries_salary.append((industry, int(salaire)))\n",
    "    \n",
    "sort = sorted(industries_salary, key=lambda x: x[1], reverse=True)\n",
    "for industry, salary in sort :\n",
    "    print(f\"Type d'entreprise = {industry}, Salaire moyen = $ {salary}K\")"
   ]
  },
  {
   "cell_type": "markdown",
   "id": "7f766cf0",
   "metadata": {},
   "source": [
    "**OIL et FINANCE propose un salaire moyen supérieur**"
   ]
  },
  {
   "cell_type": "code",
   "execution_count": 255,
   "id": "f6209105",
   "metadata": {},
   "outputs": [
    {
     "name": "stdout",
     "output_type": "stream",
     "text": [
      "Type : HEALTH, Salaire médian : 114.0\n",
      "Type : WEB, Salaire médian : 119.0\n",
      "Type : AUTO, Salaire médian : 108.0\n",
      "Type : FINANCE, Salaire médian : 128.0\n",
      "Type : EDUCATION, Salaire médian : 98.0\n",
      "Type : OIL, Salaire médian : 128.0\n",
      "Type : SERVICE, Salaire médian : 103.0\n"
     ]
    }
   ],
   "source": [
    "for industry in industries :\n",
    "    salaire = earnings[earnings['industry'] == industry]['salary'].describe()\n",
    "    print(f\"Type : {industry}, Salaire médian : {salaire['50%']}\")"
   ]
  },
  {
   "cell_type": "code",
   "execution_count": 262,
   "id": "f64a4577",
   "metadata": {},
   "outputs": [
    {
     "data": {
      "image/png": "[encoded data removed]",
      "text/plain": [
       "<Figure size 640x480 with 1 Axes>"
      ]
     },
     "metadata": {},
     "output_type": "display_data"
    }
   ],
   "source": [
    "earnings['salary'].hist(bins=100)\n",
    "plt.show()"
   ]
  },
  {
   "cell_type": "code",
   "execution_count": 273,
   "id": "e5793c7e",
   "metadata": {},
   "outputs": [
    {
     "data": {
      "text/html": [
       "<div>\n",
       "<style scoped>\n",
       "    .dataframe tbody tr th:only-of-type {\n",
       "        vertical-align: middle;\n",
       "    }\n",
       "\n",
       "    .dataframe tbody tr th {\n",
       "        vertical-align: top;\n",
       "    }\n",
       "\n",
       "    .dataframe thead th {\n",
       "        text-align: right;\n",
       "    }\n",
       "</style>\n",
       "<table border=\"1\" class=\"dataframe\">\n",
       "  <thead>\n",
       "    <tr style=\"text-align: right;\">\n",
       "      <th></th>\n",
       "      <th>yearsExperience</th>\n",
       "      <th>milesFromMetropolis</th>\n",
       "      <th>salary</th>\n",
       "    </tr>\n",
       "  </thead>\n",
       "  <tbody>\n",
       "    <tr>\n",
       "      <th>yearsExperience</th>\n",
       "      <td>1.000000</td>\n",
       "      <td>0.000673</td>\n",
       "      <td>0.375013</td>\n",
       "    </tr>\n",
       "    <tr>\n",
       "      <th>milesFromMetropolis</th>\n",
       "      <td>0.000673</td>\n",
       "      <td>1.000000</td>\n",
       "      <td>-0.297666</td>\n",
       "    </tr>\n",
       "    <tr>\n",
       "      <th>salary</th>\n",
       "      <td>0.375013</td>\n",
       "      <td>-0.297666</td>\n",
       "      <td>1.000000</td>\n",
       "    </tr>\n",
       "  </tbody>\n",
       "</table>\n",
       "</div>"
      ],
      "text/plain": [
       "                     yearsExperience  milesFromMetropolis    salary\n",
       "yearsExperience             1.000000             0.000673  0.375013\n",
       "milesFromMetropolis         0.000673             1.000000 -0.297666\n",
       "salary                      0.375013            -0.297666  1.000000"
      ]
     },
     "execution_count": 273,
     "metadata": {},
     "output_type": "execute_result"
    }
   ],
   "source": [
    "earnings.corr(numeric_only=True)"
   ]
  },
  {
   "cell_type": "markdown",
   "id": "54a976af",
   "metadata": {},
   "source": [
    "**Les années d'expériences ont un impact modéré sur le salaire**"
   ]
  },
  {
   "cell_type": "code",
   "execution_count": null,
   "id": "362f6fdf",
   "metadata": {},
   "outputs": [],
   "source": []
  }
 ],
 "metadata": {
  "kernelspec": {
   "display_name": "Python 3 (ipykernel)",
   "language": "python",
   "name": "python3"
  },
  "language_info": {
   "codemirror_mode": {
    "name": "ipython",
    "version": 3
   },
   "file_extension": ".py",
   "mimetype": "text/x-python",
   "name": "python",
   "nbconvert_exporter": "python",
   "pygments_lexer": "ipython3",
   "version": "3.11.2"
  }
 },
 "nbformat": 4,
 "nbformat_minor": 5
}
