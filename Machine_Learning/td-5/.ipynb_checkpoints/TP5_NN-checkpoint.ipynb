{
 "cells": [
  {
   "cell_type": "markdown",
   "id": "9b58247f-0b15-427d-a0dc-a76a713c48ea",
   "metadata": {},
   "source": [
    "# TP 5 : Réseaux de Neurones en tensorflow"
   ]
  },
  {
   "cell_type": "markdown",
   "id": "f8e14853-a411-4184-ba67-3c09b2614019",
   "metadata": {},
   "source": [
    "**Avant de commencer :** Merci de bien lire le préambule et l'énoncé de ce TP. Ça vous évitera de perdre beaucoup de temps ensuite. "
   ]
  },
  {
   "cell_type": "markdown",
   "id": "ab662174-bc6c-42f2-9caf-e13ffd63326a",
   "metadata": {},
   "source": [
    "**Rendu :** Ce TP doit être déposé sur elearning. Le rendu doit contenir uniquement le fichier `.ipynb`. Le notebook doit être propre, le plus illustré et le plus commenté possible. "
   ]
  },
  {
   "cell_type": "markdown",
   "id": "edb54692-f4aa-4607-8788-a1c030aeb276",
   "metadata": {},
   "source": [
    "**Librairies :** Ce TP repose sur les librairies standard suivantes :\n",
    "- Version numpy : 1.23.1\n",
    "- Version matplotlib : 3.5.2\n",
    "- Version tensorflow : 2.8.2\n",
    "\n",
    "Pour vérifier qu'elles sont bien installées dans votre environnement de travail, lancez la cellule suivante. Elle ne doit pas renvoyer d'erreur (un `Warning` n'est en général pas trop embêtant). \n",
    "\n",
    "Pour les numéros _exacts_ de version, ce n'est pas très grave s'il y a une petite différence (par exemple `numpy 1.22` au lieu de `1.23`), mais si vous avez une trop grosse différence (par exemple `sklearn 0.23` au lieu de `sklearn 1.1`), mettez à jour votre librairie. \n",
    "\n",
    "S'il vous manque une librairie (`No module named ...`), vous pouvez l'installer \n",
    "- Soit en utilisant votre gestionnaire d'environnement (p.ex. `conda`). \n",
    "- Soit directement depuis le notebook, en faisant\n",
    "```\n",
    "!pip install nom_de_la_librairie==numero_de_la_version\n",
    "```\n",
    "\n",
    "**Attention :** Pour installer tensorflow, vous pouvez _a priori_ faire `pip install tensorflow`, mais en cas de doute, vous pouvez regarder [la doc d'installation](https://www.tensorflow.org/install/pip?hl=fr).\n",
    "\n",
    "Pour `tensorflow`, assurez-vous de bien avoir la version `2.` (la suite ne devrait pas avoir trop d'importance). \n",
    "\n",
    "Note : la première fois que vous lancer `import tensorflow as tf`, ça peut prendre assez longtemps (des choses sont compilées en C en arrière plan). "
   ]
  },
  {
   "cell_type": "code",
   "execution_count": null,
   "id": "a8cd512c-2638-4778-9a03-2327db394c9d",
   "metadata": {},
   "outputs": [],
   "source": [
    "import numpy as np\n",
    "import matplotlib\n",
    "import matplotlib.pyplot as plt\n",
    "\n",
    "import tensorflow as tf\n",
    "\n",
    "from utils_tp5 import *\n",
    "\n",
    "print(\"Version numpy :\", np.__version__)\n",
    "print(\"Version matplotlib :\", matplotlib.__version__)\n",
    "print(\"Version tensorflow :\", tf.__version__)"
   ]
  },
  {
   "cell_type": "markdown",
   "id": "de4b8573-914b-4888-8b92-43c12e472d96",
   "metadata": {},
   "source": [
    "## Partie 1 : premiers modèles en tensorflow"
   ]
  },
  {
   "cell_type": "markdown",
   "id": "e8e89394-7836-48d0-bad5-e0529a65ab6f",
   "metadata": {},
   "source": [
    "Le but de cette partie est de vous faire créer des modèles simples en `tensorflow` et en `pytorch`, les deux librairies de références en _Deep Learning_, et de mettre en place les routines pour entraîner de tels modèles en fonction des deux librairies. "
   ]
  },
  {
   "cell_type": "markdown",
   "id": "5ee62243-64cd-4c00-a446-600a5c5e48e4",
   "metadata": {},
   "source": [
    "### Jeux de données"
   ]
  },
  {
   "cell_type": "markdown",
   "id": "033118da-e87f-42f4-82dc-b6bfed929069",
   "metadata": {},
   "source": [
    "On commence par se fabriquer deux jeux de données sur lesquels on testera nos modèles de Deep Learning : un jeu de régression, et un jeu de classification. Les fonctions pour faire ça sont dans un fichier `utils_tp5.py` que vous n'êtes pas obligés d'ouvrir. "
   ]
  },
  {
   "cell_type": "code",
   "execution_count": null,
   "id": "c748c46f-19f1-4f89-b165-d5eae75156a6",
   "metadata": {},
   "outputs": [],
   "source": [
    "x_reg_train, y_reg_train, x_reg_test, y_reg_test = generate_regression_task()\n",
    "x_classif_train, y_classif_train, x_classif_test, y_classif_test = generate_classification_task()"
   ]
  },
  {
   "cell_type": "markdown",
   "id": "5d3fd1fe-99e6-4e3d-ad30-fd21f72eb350",
   "metadata": {},
   "source": [
    "On visualise ça. "
   ]
  },
  {
   "cell_type": "code",
   "execution_count": null,
   "id": "6bc48b9d-86e5-47d9-bbbf-e02721563723",
   "metadata": {},
   "outputs": [],
   "source": [
    "fig, axs = plt.subplots(1, 2, figsize=(20, 6))\n",
    "\n",
    "ax = axs[0]\n",
    "\n",
    "ax.scatter(x_reg_train, y_reg_train, marker='x')\n",
    "ax.set_xlabel(\"Observations\")\n",
    "ax.set_ylabel(\"Labels\")\n",
    "ax.set_title(\"Jeu de régression\", fontsize=18)\n",
    "ax.grid()\n",
    "\n",
    "ax = axs[1]\n",
    "ax.scatter(x_classif_train[:,0], x_classif_train[:,1], c=y_classif_train, alpha=0.8)\n",
    "ax.set_title(\"Jeu de classification\", fontsize=18)\n",
    "ax.grid()"
   ]
  },
  {
   "cell_type": "markdown",
   "id": "77a5af49-085b-4f56-b11d-f3fed85d0a8d",
   "metadata": {
    "tags": []
   },
   "source": [
    "### Régression en tensorflow"
   ]
  },
  {
   "cell_type": "markdown",
   "id": "c2d84d9b-1bd6-4f91-9fd9-1f798db8a911",
   "metadata": {},
   "source": [
    "**Question 1: Construction du modèle.** Remplir le code suivant pour créer un modèle `tensorflow` pour le jeu de classification de la manière suivante : \n",
    "\n",
    "- Le modèle prend les entrées du jeu de régression (1D) et utilise un fully-connected (`Dense`) pour les plonger en dimension 3, avec une activation `relu`\n",
    "- Le modèle fait une autre couche qui va de la dimension 3 à a dimension 5, avec une `relu` encore. \n",
    "- Le modèle remet ensuite les données en dimension 1 (la dimension des labels), avec une activation `linear` (ce qui revient à prendre $\\sigma = \\mathrm{id}$). \n",
    "\n",
    "_Indications:_ On utilisera la syntaxe \n",
    "```\n",
    "tf.keras.layers.Dense(units, activation)\n",
    "```\n",
    "où `units` et la dimension de _sortie_ du layer, et `activation` est le choix de la fonction d'activation $\\sigma$, qui peut valoir `'relu'`, `'sigmoid'` ou `'softmax'` par exemple. \n",
    "\n",
    "Pour le premier layer, on ajoutera le paramètre `input_shape = (1,)`, pour préciser que l'entrée du modèle sera en 1D (attention, la syntaxe est un peu pénible : `tensorflow` demande un itérable (une liste, un tuple, etc.), donc on est obligé de mettre `(1,)` et pas simplement `1`). "
   ]
  },
  {
   "cell_type": "code",
   "execution_count": null,
   "id": "7fec63b3-c9eb-41a7-813e-37b67088776f",
   "metadata": {},
   "outputs": [],
   "source": [
    "model = tf.keras.models.Sequential([\n",
    "    ...,   # mettez ici le premier layer\n",
    "    ...,   # ici le second layer\n",
    "    ...,   # ici le troisième et dernier layer. \n",
    "])"
   ]
  },
  {
   "cell_type": "markdown",
   "id": "29f535d5-2dbf-4837-9eee-8b3a7d631ece",
   "metadata": {},
   "source": [
    "---"
   ]
  },
  {
   "cell_type": "markdown",
   "id": "436608e5-c6f5-4337-b1d6-32884e2ac2a5",
   "metadata": {},
   "source": [
    "**Compilation du modèle.** Avant exécution, les modèles tensorflow doivent être \"compilés\", grâce à la méthode `model.compile(optimizer, loss, metrics)`. On va alors préciser \n",
    "- `optimizer` : le choix de l'algorithme d'optimisation. On prendra `'adam'`, un grand classique pour faire une déscente de gradient stochastique\n",
    "- `loss` : le choix de la _loss function_. On prendra la _mean squared error_ (mse), qu'on peut fixer en mettant le paramètre `loss` à `'mse'`.\n",
    "- `metrics` : la quantité qui nous intéresse. On prendra ici aussi la `'mse'` (voir la partie sur la classification pour comprendre la différence). "
   ]
  },
  {
   "cell_type": "code",
   "execution_count": null,
   "id": "f4ab5aae-10b7-4682-aebd-15bfd75dcef2",
   "metadata": {},
   "outputs": [],
   "source": [
    "model.compile(\n",
    "    optimizer='adam', \n",
    "    loss='mse', \n",
    "    metrics=['mse']\n",
    ")"
   ]
  },
  {
   "cell_type": "markdown",
   "id": "cb74c1a2-ff24-4d9a-9500-432a81a989ce",
   "metadata": {},
   "source": [
    "**Question 2: Résumé du modèle.** Après avoir lancé la cellule précédente (compilation du modèle), appeler la méthode `model.summary()` pour répondre aux questions suivantes : \n",
    "- Combien votre modèle a-t-il de paramètres ? \n",
    "- Justifier ce nombre par le calcul."
   ]
  },
  {
   "cell_type": "code",
   "execution_count": null,
   "id": "94c09e97-df28-442b-893c-41c0b5484e97",
   "metadata": {},
   "outputs": [],
   "source": [
    "# Écrivez votre code ici"
   ]
  },
  {
   "cell_type": "markdown",
   "id": "3adc97e7-8ff8-4c91-83bd-c0eaabb8653e",
   "metadata": {},
   "source": [
    "-- Écrivez vos commentaires ici --"
   ]
  },
  {
   "cell_type": "markdown",
   "id": "07207a91-e1a9-425e-a7b2-cd99dfa60fdc",
   "metadata": {},
   "source": [
    "**Question 4 : Entraîner le modèle.** En utilisant la méthode `model.fit` dont la doc est disponible [ici](https://www.tensorflow.org/api_docs/python/tf/keras/Model), entraîner le modèle sur votre jeu de régression. On rappelle que `epochs` indique le nombre de parcours _complet_ du jeu de données que vous voulez faire lors de votre Descente de Gradient Stochastique (par batch). \n",
    "\n",
    "On prendra 5 epochs pour commencer. "
   ]
  },
  {
   "cell_type": "code",
   "execution_count": null,
   "id": "8c9a7eb8-2b11-438b-abd8-f72f60c030d4",
   "metadata": {},
   "outputs": [],
   "source": [
    "# Écrivez votre code ici"
   ]
  },
  {
   "cell_type": "markdown",
   "id": "01a2183b-66c5-4963-bc58-ca14a72353ea",
   "metadata": {},
   "source": [
    "---"
   ]
  },
  {
   "cell_type": "markdown",
   "id": "5a96212d-4862-4ee3-86f2-895b6bb63494",
   "metadata": {},
   "source": [
    "**Question 5: Évaluer le modèle.** Tester la performance de votre model avec la méthode `model.evaluate(x_test, y_test)`. On ajoutera comme paramètre à la méthode, `verbose = 2` (qui permet d'avoir directement + de renseignements). \n",
    "\n",
    "Commentez brièvement les résultats obtenus. "
   ]
  },
  {
   "cell_type": "code",
   "execution_count": null,
   "id": "9b158148-cd6c-4384-936e-f6c7264e4da1",
   "metadata": {},
   "outputs": [],
   "source": [
    "# Écrivez votre code ici"
   ]
  },
  {
   "cell_type": "markdown",
   "id": "e253c912-c7d2-4272-bb5a-29a9f9e838d5",
   "metadata": {},
   "source": [
    "-- Écrivez vos commentaires ici --"
   ]
  },
  {
   "cell_type": "markdown",
   "id": "b6cb00ee-ab4d-457b-94a0-daa4fd4bee0d",
   "metadata": {},
   "source": [
    "---"
   ]
  },
  {
   "cell_type": "markdown",
   "id": "a2e09f71-658f-4ca3-8b99-c9da45bf5f0c",
   "metadata": {},
   "source": [
    "**Visualiser le modèle.** Comme on est en basse dimension (observations et labels de dimension 1), on peut visualiser \"globalement\" les prédictions que ferait notre modèle en générant \"toutes\" les observations possibles en 1D susceptibles de nous intéresser. \n",
    "\n",
    "Concrètement, on va échantillonner l'intervalle $[0, 4]$ (raisonnable vues nos observations), puis on regarde les prédictions du modèle avec `model.predict(x)`. \n",
    "\n",
    "**Question 6:** Exécutez le code suivant puis commentez le résultat obtenu. "
   ]
  },
  {
   "cell_type": "code",
   "execution_count": null,
   "id": "d11123af-f5e8-4aee-a769-597213a32efd",
   "metadata": {},
   "outputs": [],
   "source": [
    "t = np.linspace(0, 4, 10000)  # on fabrique \"tout\" l'intervalle\n",
    "\n",
    "pred = model.predict(t)\n",
    "\n",
    "fig, ax = plt.subplots()\n",
    "ax.plot(t, pred, c='red', label='predictions', linewidth = 3)\n",
    "ax.scatter(x_reg_train, y_reg_train, marker='x', label='train set', c='blue')\n",
    "ax.scatter(x_reg_test, y_reg_test, marker='x', label='test set', c='orange')\n",
    "ax.legend()\n",
    "ax.grid()"
   ]
  },
  {
   "cell_type": "markdown",
   "id": "bbdb2c46-a745-4037-aa81-2f7e5a800b7f",
   "metadata": {},
   "source": [
    "-- Écrivez vos commentaires ici --"
   ]
  },
  {
   "cell_type": "markdown",
   "id": "0152144a-87ab-4d4c-b381-3aa3f3f3de5c",
   "metadata": {},
   "source": [
    "---"
   ]
  },
  {
   "cell_type": "markdown",
   "id": "7f9f4c35-6d21-4e23-babf-07b6e1b8d156",
   "metadata": {},
   "source": [
    "**Question 7:** Relancer l'entraînement du modèle en faisant + d'epochs, et (en faisant un copier-coller) relancez le code de la cellule précédente pour visualiser notre modèle \"mieux entraîné\". \n",
    "\n",
    "Commentez le résultat obtenu.\n",
    "\n",
    "_Remarque:_ Un point assez pratique avec `tensorflow` et qu'on peut simplement \"reprendre\" l'entraînement en relançant `model.fit(..., epoch=...)`: l'objet `model` est conservé, donc si vous lancez deux fois la cellule `model.fit(..., epoch = 5)`, c'est comme si vous aviez fait 10 epochs. Par contre, si vous relancez `model = ...` (ou si vous redémarrez votre notebook), vous remettez le modèle à 0 bien entendu. \n",
    "\n",
    "_Remarque 2:_ Il se peut que votre modèle \"stagne\" près de la fonction nulle. Dans ce cas, relancez-le \"depuis 0\". "
   ]
  },
  {
   "cell_type": "code",
   "execution_count": null,
   "id": "6607aecc-258d-4dc6-b9ca-6296c53f4ab4",
   "metadata": {},
   "outputs": [],
   "source": [
    "# Écrivez votre code ici"
   ]
  },
  {
   "cell_type": "markdown",
   "id": "e55b5d8e-2799-4de6-82d8-69db34493e9b",
   "metadata": {},
   "source": [
    "-- Écrivez vos commentaires ici --"
   ]
  },
  {
   "cell_type": "markdown",
   "id": "dea3868a-bcee-4492-8001-48081754d784",
   "metadata": {},
   "source": [
    "---"
   ]
  },
  {
   "cell_type": "markdown",
   "id": "efebfcfd-819c-499b-91d4-e5e8bcefa371",
   "metadata": {},
   "source": [
    "_A priori_, votre modèle est toujours assez mauvais. Ce n'était donc pas une question de nombre d'epochs, mais véritablement d'expressivité du modèle : notre réseau est trop simple. \n",
    "\n",
    "**Question 8;** Fabriquer un nouveau réseau de neurones (appelez-le par exemple `model2`) similaire au précédent, mais en augmentant son expressivité via : \n",
    "- plus de neurones dans les layers intermédiaires\n",
    "- plus de layers intermédiaires\n",
    "- augmenter le nombre d'epochs si besoin\n",
    "\n",
    "Reprendre ensuite les questions précédentes, en particulier :\n",
    "- Décrire le nombre de paramètres de votre nouveau modèle,\n",
    "- Entraîner votre modèle, d'abord pour seulement quelqus epochs, puis + si nécessaire\n",
    "- Visualisez votre modèle. \n",
    "\n",
    "Commentez les résultats que vous obtenez au cours de vos essais. \n",
    "\n",
    "**Objectif :** avoir une training **et** une test _mse_ $< 0.05$. \n",
    "\n",
    "**Consigne supplémentaire :** N'hésitez pas à forcer un peu sur les paramètres, **mais** votre réseau doit obligatoirement prendre **moins de 5 minutes pour s'entraîner** (appel de `model.fit`) sur un CPU de laptop ordinaire. "
   ]
  },
  {
   "cell_type": "code",
   "execution_count": null,
   "id": "1b2e3008-df8d-4648-aff9-da84db260b45",
   "metadata": {},
   "outputs": [],
   "source": [
    "# Écrivez votre code ici"
   ]
  },
  {
   "cell_type": "code",
   "execution_count": null,
   "id": "2024adef-9fcd-470c-8c7c-63c767900ab9",
   "metadata": {},
   "outputs": [],
   "source": [
    "model2.evaluate(x_reg_test, y_reg_test)"
   ]
  },
  {
   "cell_type": "markdown",
   "id": "fb668efe-9d1b-49b6-827a-a3f03cf57b63",
   "metadata": {},
   "source": [
    "---"
   ]
  },
  {
   "cell_type": "markdown",
   "id": "083eb1f1-fdd9-47fb-9f39-b66b7998e751",
   "metadata": {},
   "source": [
    "### Classification en tensorflow"
   ]
  },
  {
   "cell_type": "markdown",
   "id": "ea119fcb-e8e8-4c08-b23a-3799fbcf049a",
   "metadata": {},
   "source": [
    "On passe maintenant à la classification. Le principe reste le même que pour la régression, avec trois différences : \n",
    "- En classification, on utilise comme `loss` (la fonction qu'on veut minimiser) l'entropie croisée, mais comme `metrics` (la valeur qu'on interprête / qu'on veut communiquer) l'`accuracy` (proportion de prédictions correctes). On utilisera ici `loss = tf.keras.losses.SparseCategoricalCrossentropy()`\n",
    "- Pour pouvoir utiliser l'entropie croisée, il faut en théorie utiliser le _one-hot_encoding_ des labels. En réalité, `tensorflow` gère cela automatiquement avec la  `SparseCategoricalCrossentropy()`. \n",
    "- Lorsqu'on appelle `model.predict(x)`, on récupère _une distribution de probabilité sur l'ensemble des classes_ (donc un vecteur de taille `nombre_de_classes`). Pour récuperer une \"vraie\" prédiction, il faut faire `np.argmax(model.predict(x), axis=1)` (qui permet de sélectionner la classe qui a la plus haute probabilité estimée par le modèle). "
   ]
  },
  {
   "cell_type": "markdown",
   "id": "21b45db9-489d-4f43-8dc8-689fdcaac13a",
   "metadata": {},
   "source": [
    "**Question 1:** Initialiser un réseau de neurone avec seulement deux layers : \n",
    "- Le premier envoie les observations en dimension 10, avec une activation `sigmoid`\n",
    "- Le deuxième envoie les observation en dimension 3, avec une activation `softmax`. "
   ]
  },
  {
   "cell_type": "code",
   "execution_count": null,
   "id": "88af990b-a1a0-406b-bd91-f22f9ba9b273",
   "metadata": {},
   "outputs": [],
   "source": [
    "# Écrivez votre code ici"
   ]
  },
  {
   "cell_type": "markdown",
   "id": "465fc56e-b89c-49cd-b1ed-11ffa98c6aa0",
   "metadata": {},
   "source": [
    "---"
   ]
  },
  {
   "cell_type": "markdown",
   "id": "abcc87ba-0920-41ad-a4eb-400612609e85",
   "metadata": {},
   "source": [
    "**Question 2:** Pourquoi a-t-on pris une dimension de 3 pour la sortie du deuxième (et dernier) layer ? Pourquoi a-t-on pris l'activation `softmax` ?"
   ]
  },
  {
   "cell_type": "markdown",
   "id": "076cf202-bfe8-4443-91ef-b4a050b8648e",
   "metadata": {},
   "source": [
    "-- Écrivez vos commentaires ici --"
   ]
  },
  {
   "cell_type": "markdown",
   "id": "9230720d-29be-4214-acf9-9fbc19d93e95",
   "metadata": {},
   "source": [
    "---"
   ]
  },
  {
   "cell_type": "markdown",
   "id": "add5a634-1b23-48f6-8537-99fcb71607e8",
   "metadata": {},
   "source": [
    "**Question 3:** Compilez votre modèle. On prendra toujours `'adam'` comme `optimizer`, mais on prendra comme indiqué la `SparseCategoricalCrossentropy()` comme `loss`, et `['accuracy']` comme `metrics`."
   ]
  },
  {
   "cell_type": "code",
   "execution_count": null,
   "id": "6cd2f8a0-d12c-472a-a6d3-956994351841",
   "metadata": {},
   "outputs": [],
   "source": [
    "# Écrivez votre code ici"
   ]
  },
  {
   "cell_type": "markdown",
   "id": "d7a5724f-5777-450e-8f02-c6a46b7ed74b",
   "metadata": {},
   "source": [
    "---"
   ]
  },
  {
   "cell_type": "markdown",
   "id": "efb60a4f-7e89-4463-8fa7-20aaa1649b15",
   "metadata": {},
   "source": [
    "**Question 4:** Entraînez votre modèle sur 5 epochs, évaluez son score (sur le jeu de test), et commentez vos résultats. On fournit notamment une cellule de code pour visualiser l'ensemble des prédictions sur une grille $[-15, 15]\\times[-5,5]$ de votre modèle après entraînement. "
   ]
  },
  {
   "cell_type": "code",
   "execution_count": null,
   "id": "28f82d1c-1c74-4367-bed3-053c5bd7e6c5",
   "metadata": {},
   "outputs": [],
   "source": [
    "# Écrivez votre code ici"
   ]
  },
  {
   "cell_type": "code",
   "execution_count": null,
   "id": "8fea6c14-0811-490a-a30a-94b39e1f99e2",
   "metadata": {},
   "outputs": [],
   "source": [
    "x = np.linspace(-5, 5, 100)\n",
    "y = np.linspace(-15, 15, 100)\n",
    "grid = np.array(np.meshgrid(x,y)).reshape(2, 10000).T  # On fabrique une grille sur laquelle on va tester notre modèle\n",
    "pred_proba = model.predict(grid)  # on évalue notre modèle sur la grille --> donne des probabilité d'appartenance\n",
    "predictions = np.argmax(pred_proba, axis=-1)  # On récupère nos prédictions sous forme de classes\n",
    "\n",
    "fig, ax = plt.subplots(figsize=(8, 8))\n",
    "ax.scatter(grid[:,0], grid[:,1], c=predictions, alpha = 0.1)\n",
    "ax.scatter(x_classif_train[:,0], x_classif_train[:,1], c=y_classif_train, marker='o', edgecolor='k', label=\"train set\")\n",
    "ax.set_title(\"Prédictions du modèle (ombre) vs données d'entraînement\")"
   ]
  },
  {
   "cell_type": "markdown",
   "id": "bedd2e06-1146-4641-b8c3-b04872791e8e",
   "metadata": {},
   "source": [
    "---"
   ]
  },
  {
   "cell_type": "markdown",
   "id": "a8246a4d-9f10-46ed-bca6-dd5956c1701e",
   "metadata": {},
   "source": [
    "**Question 5:** Essayer d'améliorer votre score (train et test !) avec un modèle plus raffiné. Attention à l'_overfiting_!\n",
    "\n",
    "Objectif : accuracy $> 94\\%$ sur train et test. "
   ]
  },
  {
   "cell_type": "code",
   "execution_count": null,
   "id": "ba31c546-f6a8-4a9b-ac22-de28649f4511",
   "metadata": {},
   "outputs": [],
   "source": [
    "# Écrivez votre code ici"
   ]
  },
  {
   "cell_type": "markdown",
   "id": "4ba8bfe2-56e8-48a8-a3de-fbcbffe06f7f",
   "metadata": {},
   "source": [
    "---"
   ]
  },
  {
   "cell_type": "markdown",
   "id": "fc6eeba1-e0d6-45c9-80dc-1b3ad7c7f4bd",
   "metadata": {},
   "source": [
    "## Partie 2 : Le jeu CIFAR10 et les réseaux convolutionnels"
   ]
  },
  {
   "cell_type": "markdown",
   "id": "d859c770-65da-4ca1-8f98-b0d488f949ea",
   "metadata": {},
   "source": [
    "On va maintenant tester de nouvelles architectures sur un classique des jeux de données : le jeu `CIFAR10`. C'est un jeu de données représentant des images (attention il est un peu volumineux, essayez d'avoir un peu de place sur votre machine avant de lancer la cellule de code suivant qui le téléchargera). \n",
    "\n",
    "Les images ont $32 \\times 32$ pixels et troix canaux de couleur (Rouge, Bleu, Vert) qui prennent des valuers entre $0$ et $255$, et qu'on va normaliser à $[0,1]$ pour simplifier. \n",
    "\n",
    "Ces images sont réparties dans 10 classes, dont les noms sont stockés dans la liste `noms_classes` ci-dessous :"
   ]
  },
  {
   "cell_type": "code",
   "execution_count": null,
   "id": "3ec43ffb-dba5-4b09-8044-f7e8dab51c9c",
   "metadata": {},
   "outputs": [],
   "source": [
    "noms_classes = ['avion', 'voiture', 'oiseau', 'chat', 'cerf',\n",
    "               'chien', 'grenouille', 'cheval', 'bateau', 'camion']\n"
   ]
  },
  {
   "cell_type": "code",
   "execution_count": null,
   "id": "1e5241af-155d-4365-a3e9-4212e90a6de8",
   "metadata": {},
   "outputs": [],
   "source": [
    "(x_train, y_train), (x_test, y_test) = tf.keras.datasets.cifar10.load_data()\n",
    "\n",
    "x_train, x_test = x_train / 255.0, x_test / 255.0"
   ]
  },
  {
   "cell_type": "code",
   "execution_count": null,
   "id": "4760a2fd-5bae-434c-ab11-5c6bee9ed2b9",
   "metadata": {},
   "outputs": [],
   "source": [
    "num = 0  # vous pouvez essayer d'autres num\n",
    "image = x_train[num]\n",
    "label = y_train[num]\n",
    "plt.imshow(image, cmap='Greys')\n",
    "plt.title('Image de %s' %noms_classes[label[0]], fontsize=24)"
   ]
  },
  {
   "cell_type": "markdown",
   "id": "eec89865-ed0f-454e-9670-6afc7b33f3d6",
   "metadata": {},
   "source": [
    "**Question 1:** En quelle dimension sont nos données ? "
   ]
  },
  {
   "cell_type": "markdown",
   "id": "b2ecd6d0-21e3-46cb-8f41-4ce7b285ece4",
   "metadata": {},
   "source": [
    "-- Écrivez votre réponse ici --"
   ]
  },
  {
   "cell_type": "markdown",
   "id": "69617875-9fc8-4fc9-af6a-2e493a51a392",
   "metadata": {},
   "source": [
    "---"
   ]
  },
  {
   "cell_type": "markdown",
   "id": "3db4bff7-48bf-45d4-8f53-6c9d0a55f7ff",
   "metadata": {},
   "source": [
    "**Question 2:** En reprenant le code de la Partie précédente, instanciez, entraînez puis évaluez un modèle fully-connected sur ce jeu de données.\n",
    "\n",
    "**Important :** Le premier layer sera `tf.keras.layers.flatten()`, qui permet simplement de passer d'une image $32 \\times 32 \\times 3$ à un vecteur \"ligne\" (le type d'entrée que demande `tensorflow`). Le dernier avec une sortie de taille 10 (nombre de classes). \n",
    "\n",
    "Ne vous acharnez pas trop : avec un jeu de données difficile comme celui-ci, on se fixe dans un premier temps un objectif de $> 35\\%$ de train **et** test accuracy. \n",
    "\n",
    "\n",
    "_Remarque :_ Comme le jeu de donnée est nettement plus gros, on peut généralement faire moins d'epochs (car 1 epoch ==> plus d'étapes de SGD à batch size fixée). Par contre les epochs seront plus longues. Commencez par en faire un petit nombre ($< 5$) pour voir ce que ça donne sur votre machine. \n",
    "\n",
    "_Remarque 2:_ Attention à l'overfiting ! En grande dimension, c'est très facile d'_overfit_. "
   ]
  },
  {
   "cell_type": "code",
   "execution_count": null,
   "id": "40e60c97-25c1-4c5f-b5ab-23c653aa81f9",
   "metadata": {},
   "outputs": [],
   "source": [
    "# Écrivez votre code ici"
   ]
  },
  {
   "cell_type": "markdown",
   "id": "cc2e6dc0-bb68-4dd1-80ab-5a024fef2581",
   "metadata": {},
   "source": [
    "---"
   ]
  },
  {
   "cell_type": "markdown",
   "id": "d2bfafcc-583a-4d48-b5d8-c5dae0758bd1",
   "metadata": {},
   "source": [
    "**Question 3:** Combien votre modèle a-t-il de paramètres ?"
   ]
  },
  {
   "cell_type": "code",
   "execution_count": null,
   "id": "d2e80403-11f7-429a-8cd5-f39730cdd30e",
   "metadata": {},
   "outputs": [],
   "source": [
    "# Écrivez votre code ici"
   ]
  },
  {
   "cell_type": "markdown",
   "id": "5e2f5227-e86a-422c-8465-9c70027ec994",
   "metadata": {},
   "source": [
    "--- "
   ]
  },
  {
   "cell_type": "markdown",
   "id": "e1a89b20-d44c-4bd5-973c-90d592b7b4ea",
   "metadata": {},
   "source": [
    "L'espace des _images naturelles_ (les \"vraies\" images qu'on est susceptible de voir dans la vie de tous les jours) est trop compliqué pour être appris avec un réseau de neurones aussi élémentaire, qui traite chaque pixel (et chaque canal de couleur !) de manière totalement indépendante. On va donc se reposer sur un [layer _convolutionnel_](https://www.tensorflow.org/api_docs/python/tf/keras/layers/Conv2D).\n",
    "\n",
    "On y accède via :\n",
    "\n",
    "```\n",
    "tf.keras.layers.Conv2D(filters, kernel_size, activation, input_shape)\n",
    "```\n",
    "\n",
    "où `filters` représente le nombre de filtres (nombre de matrices $A$ vu en cours) qu'on veut apprendre en parallèle, `kernel_size` représente la taille de ces filtres, `activation` est la fonction d'activation (mêmes choix que précédemment), et `input_shape` (utile pour le premier layer uniquement) permet de spécifier la taille des images (nombre de pixel x nombre de pixel x nombre de canaux).\n",
    "\n",
    "On utilisera aussi le layer `tf.keras.layers.MaxPooling2D((n,n))` qui découpe l'image en patch de taille `n x n` (où `n` est un paramètre que vous choisissez) "
   ]
  },
  {
   "cell_type": "markdown",
   "id": "efc9cf0a-eae7-4895-b19b-0815af549dde",
   "metadata": {
    "tags": []
   },
   "source": [
    "---"
   ]
  },
  {
   "cell_type": "markdown",
   "id": "5102ff1d-5c12-4fef-a323-9d8274a7ba44",
   "metadata": {},
   "source": [
    "**Question 4:** Instancier un réseau avec les layers suivants : \n",
    "- Le premier est un layer convolutionnel avec 16 filtres de taille `(3,3)`, une activation `'relu'`, et on précisera l'`input_shape`. \n",
    "- Le second est un `MaxPooling2D` avec `n=2`. \n",
    "- Le troisième est un layer convolutionnel avec 32 filtres de taille `(3,3)` et une activation `'relu'`. \n",
    "- Le quatrième est un layer `Flatten()` pour récupérer des vecteurs ligne.\n",
    "- Le dernier est un layer `Dense` avec une sortie de taille 10, et une activation `'softmax'`. "
   ]
  },
  {
   "cell_type": "code",
   "execution_count": null,
   "id": "6b82d2ca-61bb-4275-8889-b536ebd67e79",
   "metadata": {},
   "outputs": [],
   "source": [
    "# Écrivez votre code ici"
   ]
  },
  {
   "cell_type": "markdown",
   "id": "67bdd535-2bdf-4c2e-aeca-675a737915e2",
   "metadata": {},
   "source": [
    "---"
   ]
  },
  {
   "cell_type": "markdown",
   "id": "74f462a6-7133-444d-a2f4-7f2d31e59712",
   "metadata": {},
   "source": [
    "**Quesiton 5:** Compiler ce modèle, puis indiquer son nombre de paramètres. "
   ]
  },
  {
   "cell_type": "code",
   "execution_count": null,
   "id": "13b54f28-3e30-4745-9b8e-e2ceb22013b9",
   "metadata": {},
   "outputs": [],
   "source": [
    "# Écrivez votre code ici"
   ]
  },
  {
   "cell_type": "markdown",
   "id": "6cf36126-378a-4b77-ad0e-dd58e76670f2",
   "metadata": {},
   "source": [
    "---"
   ]
  },
  {
   "cell_type": "markdown",
   "id": "065a2308-e1db-43d8-a61f-d7b53d79f31c",
   "metadata": {},
   "source": [
    "**Question 6:** Entraînez et évaluez ce modèle sur le jeu de données `CIFAR10` en faisant 5 epochs. À quelle train et test accuracy arrivez-vous ? "
   ]
  },
  {
   "cell_type": "code",
   "execution_count": null,
   "id": "9842b001-5486-4886-b1f9-797dc81c74b6",
   "metadata": {},
   "outputs": [],
   "source": [
    "# Écrivez votre code ici. "
   ]
  },
  {
   "cell_type": "markdown",
   "id": "86fd92a4-a148-40cc-b881-f3a448b3a0e6",
   "metadata": {},
   "source": [
    "---"
   ]
  },
  {
   "cell_type": "markdown",
   "id": "b721add0-b139-4094-893e-0a72075595e8",
   "metadata": {},
   "source": [
    "**Question 7: (facultatif)** Améliorez ce modèle. Quelques points de repère : \n",
    "- Au dessus de $70\\%$ : correct.\n",
    "- Au dessus de $80\\%$ : vraiment bien\n",
    "- Au dessus de $85\\%$ : très très bien\n",
    "- Au dessus de $90\\%$ : excellent, c'est plutôt un score qu'on atteint avec des méthodes plus sophistiquées d'habitude (comme les [ResNet](https://en.wikipedia.org/wiki/Residual_neural_network)). \n",
    "- Au dessus de $95\\%$ : Hallucinant, ce sont des scores de modèles très récents de haut vol. \n",
    "- Au dessus de $99,2\\%$ : nouveau record du monde !\n",
    "- $100\\%$ : Très douteux, sachant que [certains labels sont **faux**](https://franky07724-57962.medium.com/once-upon-a-time-in-cifar-10-c26bb056b4ce) (0.3% semble-t-il). "
   ]
  },
  {
   "cell_type": "code",
   "execution_count": null,
   "id": "cca66e9c-541f-4f99-a6bb-1fa7a01f0d35",
   "metadata": {},
   "outputs": [],
   "source": [
    "# Écrivez votre code ici"
   ]
  }
 ],
 "metadata": {
  "kernelspec": {
   "display_name": "Python 3 (ipykernel)",
   "language": "python",
   "name": "python3"
  },
  "language_info": {
   "codemirror_mode": {
    "name": "ipython",
    "version": 3
   },
   "file_extension": ".py",
   "mimetype": "text/x-python",
   "name": "python",
   "nbconvert_exporter": "python",
   "pygments_lexer": "ipython3",
   "version": "3.11.2"
  }
 },
 "nbformat": 4,
 "nbformat_minor": 5
}
